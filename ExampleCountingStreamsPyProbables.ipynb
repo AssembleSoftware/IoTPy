{
 "cells": [
  {
   "cell_type": "code",
   "execution_count": 1,
   "id": "11c1052e",
   "metadata": {},
   "outputs": [],
   "source": [
    "\"\"\"\n",
    "This code uses PyProbables:\n",
    "https://pyprobables.readthedocs.io/en/latest/index.html\n",
    "Install PyProbables to use this code.\n",
    "\n",
    "This code is a straightforward application of the HeavyHitters class in\n",
    "PyProbables. The heavy hitters (estimates of most frequent elements) in the\n",
    "input stream are output.\n",
    "\n",
    "\"\"\"\n",
    "from probables import HeavyHitters\n",
    "\n",
    "def f(element, heavy_hitters_object):\n",
    "    \"\"\"\n",
    "    Parameters\n",
    "    ----------\n",
    "    element: str\n",
    "        An element of in_stream is the string version of a\n",
    "        method call to a heavy_hitters object. For example\n",
    "        'add' for the method add, and 'heavy_hitters' for\n",
    "        the method heavy_hitters.\n",
    "    heavy_hitters_object: HeavyHitters\n",
    "        An instance of HeavyHitters.\n",
    "    \"\"\"\n",
    "\n",
    "    if element == 'heavy_hitters':\n",
    "        print ('heavy hitters')\n",
    "        print (heavy_hitters_object.heavy_hitters)\n",
    "    else:\n",
    "        # element must be ('add', object)\n",
    "        function_name, obj = element\n",
    "        if function_name == 'add':\n",
    "            heavy_hitters_object.add(obj)\n",
    "        else:\n",
    "            raise ValueError"
   ]
  },
  {
   "cell_type": "code",
   "execution_count": 2,
   "id": "eb946988",
   "metadata": {},
   "outputs": [],
   "source": [
    "#---------------------------------------------------------------------\n",
    "#      TESTS\n",
    "#---------------------------------------------------------------------\n",
    "def test_heavy_hitters_stream():\n",
    "    from stream import Stream, run\n",
    "    from example_operators import single_item\n",
    "    heavy_hitters_object = HeavyHitters(num_hitters=2, width=2, depth=2)\n",
    "\n",
    "    # Declare streams\n",
    "    x = Stream('input_stream')\n",
    "    # Create agents\n",
    "    single_item(in_stream=x, func=f,\n",
    "                    heavy_hitters_object=heavy_hitters_object)\n",
    "\n",
    "    # Put data into stream and run\n",
    "    x.extend([('add', 'a'), ('add', 'a'), ('add', 'a'), ('add', 'b'),\n",
    "              ('add', 'c'), ('add', 'c'), ('add', 'c'),\n",
    "              ('heavy_hitters'),\n",
    "              ('add', 'a'), ('add', 'b'), ('add', 'c'), ('add', 'a'),\n",
    "              ('heavy_hitters'),\n",
    "              ('add', 'b'), ('add', 'c'), ('add', 'b'), ('add', 'b', ),\n",
    "              ('heavy_hitters'),\n",
    "              ('add', 'b'), ('add', 'b'), ('add', 'b'), ('add', 'b',),\n",
    "              ('add', 'b'), ('add', 'b'), ('add', 'b'), ('add', 'b', ),\n",
    "              ('heavy_hitters'),\n",
    "              ('add', 'd'), ('add', 'd'), ('add', 'd'), ('add', 'd'),\n",
    "              ('add', 'd'), ('add', 'd'), ('add', 'd'), ('add', 'd'),\n",
    "              ('add', 'd'), ('add', 'd'), ('add', 'd'), ('add', 'd'),\n",
    "              ('heavy_hitters')\n",
    "                  ])\n",
    "    run()"
   ]
  },
  {
   "cell_type": "code",
   "execution_count": 3,
   "id": "f7636a29",
   "metadata": {},
   "outputs": [
    {
     "name": "stdout",
     "output_type": "stream",
     "text": [
      "heavy hitters\n",
      "{'a': 3, 'c': 6}\n",
      "heavy hitters\n",
      "{'a': 9, 'c': 8}\n",
      "heavy hitters\n",
      "{'a': 9, 'c': 10}\n",
      "heavy hitters\n",
      "{'c': 10, 'b': 13}\n",
      "heavy hitters\n",
      "{'b': 13, 'd': 25}\n"
     ]
    }
   ],
   "source": [
    "test_heavy_hitters_stream()"
   ]
  }
 ],
 "metadata": {
  "kernelspec": {
   "display_name": "Python 3 (ipykernel)",
   "language": "python",
   "name": "python3"
  },
  "language_info": {
   "codemirror_mode": {
    "name": "ipython",
    "version": 3
   },
   "file_extension": ".py",
   "mimetype": "text/x-python",
   "name": "python",
   "nbconvert_exporter": "python",
   "pygments_lexer": "ipython3",
   "version": "3.10.2"
  }
 },
 "nbformat": 4,
 "nbformat_minor": 5
}

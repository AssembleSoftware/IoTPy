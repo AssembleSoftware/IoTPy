{
 "cells": [
  {
   "cell_type": "markdown",
   "metadata": {},
   "source": [
    "# Signal Processing Examples"
   ]
  },
  {
   "cell_type": "code",
   "execution_count": 1,
   "metadata": {},
   "outputs": [],
   "source": [
    "import numpy as np\n",
    "from stream import StreamArray, run\n",
    "from example_operators import sliding_window"
   ]
  },
  {
   "cell_type": "code",
   "execution_count": 2,
   "metadata": {},
   "outputs": [],
   "source": [
    "# GENERATE WAVE FOR TESTING\n",
    "\n",
    "def generate_trignometric_wave(\n",
    "        func, frequency, max_amplitude,\n",
    "        phase_shift, sample_rate, time_duration):\n",
    "    num_samples = int(time_duration * sample_rate)\n",
    "    time_sequence = np.linspace(0, time_duration, num_samples, endpoint=False)\n",
    "    return max_amplitude*func(2*np.pi*(frequency*time_sequence) + phase_shift)"
   ]
  },
  {
   "cell_type": "code",
   "execution_count": 3,
   "metadata": {},
   "outputs": [],
   "source": [
    "# GENERATE WAVE FOR TESTING\n",
    "\n",
    "def generate_sine_wave(\n",
    "        frequency, max_amplitude, phase_shift,\n",
    "        sample_rate, time_duration):\n",
    "    return generate_trignometric_wave(\n",
    "        np.sin, frequency, max_amplitude, phase_shift,\n",
    "        sample_rate, time_duration)"
   ]
  },
  {
   "cell_type": "code",
   "execution_count": 4,
   "metadata": {},
   "outputs": [],
   "source": [
    "# GENERATE WAVE FOR TESTING\n",
    "\n",
    "def generate_cosine_wave(\n",
    "        frequency, max_amplitude, phase_shift,\n",
    "        sample_rate, time_duration):\n",
    "    return generate_trignometric_wave(\n",
    "        np.cos, frequency, max_amplitude, phase_shift,\n",
    "        sample_rate, time_duration)"
   ]
  },
  {
   "cell_type": "code",
   "execution_count": 5,
   "metadata": {},
   "outputs": [],
   "source": [
    "# GENERATE WAVE FOR TESTING\n",
    "\n",
    "def generate_square_wave(\n",
    "        frequency, max_amplitude,\n",
    "        phase_shift, sample_rate, time_duration):\n",
    "    num_samples = time_duration * sample_rate\n",
    "    time_sequence = np.linspace(0, time_duration, num_samples, endpoint=False)\n",
    "    def func(v):\n",
    "        return - np.sign((v - v.astype(int)) - 0.45)\n",
    "    return max_amplitude*func(frequency*time_sequence + phase_shift)"
   ]
  },
  {
   "cell_type": "code",
   "execution_count": 6,
   "metadata": {},
   "outputs": [],
   "source": [
    "class Filter(object):\n",
    "    \"\"\"\n",
    "    The base class of filters that filter input streams to\n",
    "    produce output streams.\n",
    "    Uses a, b parameters from scipy.signal or other libraries.\n",
    "\n",
    "    Parameters\n",
    "    ----------\n",
    "    a, b: list of float\n",
    "      Parameters that define a filter.\n",
    "      For a Finite Impulse Response filter, a is None.\n",
    "\n",
    "    Attributes\n",
    "    ----------\n",
    "    N: int\n",
    "      the length of b\n",
    "    x: array of float\n",
    "      The N most recent values of the input stream.\n",
    "      x[0] is the most recent value. For example if\n",
    "      the current value of in_stream is:\n",
    "      in_stream[j-N+1, ... j] then\n",
    "      x[k] = in_stream[j - k]\n",
    "      x is initialized to 0.\n",
    "    y: array of float\n",
    "      The N most recent values of the output stream.\n",
    "      Initialized to 0.\n",
    "      y and x have the same structure.\n",
    "\n",
    "    \"\"\"\n",
    "    def __init__(self, b, a=None):\n",
    "        self.b = np.array(b)\n",
    "        if a is not None:\n",
    "            self.a = np.array(a)\n",
    "        self.N = len(b)\n",
    "        self.x = np.zeros(self.N)\n",
    "        self.y = np.zeros(self.N)\n",
    "\n",
    "    def filter_element(self, element):\n",
    "        \"\"\"\n",
    "        This is the standard filter calculation.\n",
    "        The formula depends on the type of filter.\n",
    "        The formula must be entered for the subclass\n",
    "        derived from the base Filter class.\n",
    "\n",
    "        Parameters\n",
    "        ----------\n",
    "        element: float or int\n",
    "          The next element of the stream.\n",
    "          \n",
    "        Returns\n",
    "        -------\n",
    "          The next element of the output stream.\n",
    "        \"\"\"\n",
    "        pass"
   ]
  },
  {
   "cell_type": "code",
   "execution_count": 7,
   "metadata": {},
   "outputs": [],
   "source": [
    "# BANDPASS FIR (FINITE IMPULSE RESPONSE) FILTER.\n",
    "\n",
    "class BP_FIR(Filter):\n",
    "    \"\"\"\n",
    "    Bandpass FIR (Finite Impulse Response) Filter.\n",
    "\n",
    "    Parameters\n",
    "    ----------\n",
    "       b: float or int\n",
    "          Filter parameters obtained from scipy.signal.butter\n",
    "          or other sources.\n",
    "          Filter parameters are a, b. For this filter a is None.\n",
    "\n",
    "    \"\"\"\n",
    "    def __init__(self, b):\n",
    "        Filter.__init__(self, b)\n",
    "\n",
    "    def filter_element(self, element):\n",
    "        \"\"\"\n",
    "        Parameter\n",
    "        ---------\n",
    "        element: an element of the input stream\n",
    "        \n",
    "        Returns\n",
    "        -------\n",
    "            float: the next element of the output stream.\n",
    "        \n",
    "        Uses a standard formula for FIR filters.\n",
    "        x is an array of the most recent values of the input stream.\n",
    "        x is specified in the parent class: Filter\n",
    "\n",
    "        \"\"\"\n",
    "        # Shift x to the right by 1 to make x[0] empty\n",
    "        self.x[1:] = self.x[:- 1]\n",
    "        self.x[0] = element\n",
    "        return np.sum(self.b * self.x)"
   ]
  },
  {
   "cell_type": "code",
   "execution_count": 8,
   "metadata": {},
   "outputs": [],
   "source": [
    "class BP_IIR(Filter):\n",
    "    \"\"\"\n",
    "    Bandpass IIR (Infinite Impulse Response) Filter.\n",
    "\n",
    "    Parameters\n",
    "    ----------\n",
    "       b, a: float or int\n",
    "          Filter parameters obtained from scipy.signal.butter\n",
    "          or other sources.\n",
    "\n",
    "    \"\"\"\n",
    "    def __init__(self, b, a):\n",
    "        Filter.__init__(self, b, a)\n",
    "\n",
    "    def filter_element(self, element, **kwargs):\n",
    "        \"\"\"\n",
    "        Parameter\n",
    "        ---------\n",
    "        element: element of the input stream\n",
    "        \n",
    "        Returns\n",
    "        -------\n",
    "            float: the output sequence is the dsp filter of\n",
    "                   the input stream.\n",
    "        \n",
    "        Uses a standard formula for IIR filters.\n",
    "        Shifts x, y to the right by 1 to accomodate\n",
    "        new entry for input x, and then updates y[0].\n",
    "\n",
    "        \"\"\"\n",
    "        # Insert a new value -- element --- into x[0].\n",
    "        # First shift x to the right by 1 to make x[0] empty.\n",
    "        self.x[1:] = self.x[:- 1]\n",
    "        self.x[0] = element\n",
    "        \n",
    "        # Insert a new value into y[0].\n",
    "        # First shift y to the right by 1 to make y[0] empty.\n",
    "        self.y[1:] = self.y[:-1]\n",
    "        # Compute new value for y[0]\n",
    "        self.y[0] = self.b[0] * self.x[0]\n",
    "        self.y[0] += sum(self.b[1:]*self.x[1:] -\n",
    "                         self.a[1:]*self.y[1:])\n",
    "        return self.y[0]"
   ]
  },
  {
   "cell_type": "code",
   "execution_count": 9,
   "metadata": {},
   "outputs": [],
   "source": [
    "# See scipy.signal for a library of filters.\n",
    "from scipy.signal import butter, firwin\n",
    "def butter_bandpass(lowcut, highcut, fs, order=2):\n",
    "    \"\"\"\n",
    "    Returns filter parameters b, a given input parameters.\n",
    "    Butterworth IIR filter.\n",
    "    butter() is from scipy.signal\n",
    "\n",
    "    \"\"\"\n",
    "    lowcut, highcut = lowcut*2.0/fs, highcut*2.0/fs\n",
    "    b, a = butter(order, [lowcut, highcut], btype='band')\n",
    "    return b, a"
   ]
  },
  {
   "cell_type": "code",
   "execution_count": 10,
   "metadata": {},
   "outputs": [],
   "source": [
    "def fir_bandpass(lowcut, highcut, fs):\n",
    "    \"\"\"\n",
    "    Returns filter parameters b given input parameters.\n",
    "    FIR filter.\n",
    "    firwin() is from scipy.signal\n",
    "\n",
    "    \"\"\"\n",
    "    lowcut, highcut =lowcut*2.0/fs, highcut*2.0/fs\n",
    "    b =  firwin(\n",
    "        numtaps=201, cutoff = [lowcut, highcut],\n",
    "        window='blackmanharris', pass_zero=False)\n",
    "    return b "
   ]
  },
  {
   "cell_type": "code",
   "execution_count": 11,
   "metadata": {},
   "outputs": [],
   "source": [
    "# SET PARAMETERS OF FILTER\n",
    "# fs: sample rate\n",
    "# order: order of the filter\n",
    "# lowcut, highcut: lower and upper thresholds of a bandpass\n",
    "# filter.\n",
    "fs, order, lowcut, highcut = 50.0, 4, 1.0, 4.0"
   ]
  },
  {
   "cell_type": "code",
   "execution_count": 12,
   "metadata": {},
   "outputs": [],
   "source": [
    "# SPECIFY WAVEFORM PARAMETERS\n",
    "low_frequency=0.1,\n",
    "medium_frequency = 2.0\n",
    "high_frequency = 10.0\n",
    "max_amplitude=1.0, \n",
    "phase_shift=0.0, \n",
    "sample_rate=fs,\n",
    "time_duration=10.0\n",
    "\n",
    "# GENERATE WAVEFORMS LOW, MEDIUM, HIGH FREQUENCY AND\n",
    "# SUM OF WAVEFORMS.\n",
    "wave_data_low_frequency = generate_sine_wave(\n",
    "    low_frequency, max_amplitude, phase_shift,\n",
    "    fs, time_duration)\n",
    "wave_data_medium_frequency = generate_sine_wave(\n",
    "    medium_frequency, max_amplitude, phase_shift,\n",
    "    fs, time_duration)\n",
    "wave_data_high_frequency = generate_sine_wave(\n",
    "    high_frequency, max_amplitude, phase_shift,\n",
    "    fs, time_duration)\n",
    "wave_data_total = (wave_data_low_frequency +\n",
    "                   wave_data_medium_frequency +\n",
    "                   wave_data_high_frequency)"
   ]
  },
  {
   "cell_type": "code",
   "execution_count": 13,
   "metadata": {},
   "outputs": [],
   "source": [
    "# TEST BANDPASS IIR FILTER\n",
    "\n",
    "from example_operators import single_item\n",
    "\n",
    "import matplotlib.pyplot as plt\n",
    "%matplotlib inline\n",
    "\n",
    "x = StreamArray('x')\n",
    "y = StreamArray('y')\n",
    "\n",
    "# Create bandpass filter \n",
    "b, a = butter_bandpass(lowcut, highcut, fs, order)\n",
    "filter_object = BP_IIR(b, a)\n",
    "\n",
    "def func(element, out_stream):\n",
    "    v = filter_object.filter_element(element)\n",
    "    out_stream.append(v)\n",
    "    \n",
    "# Create agent\n",
    "single_item(in_stream=x, func=func, out_stream=y)\n",
    "#BP_IIR(b, a).filter_stream(in_stream=x, out_stream=y)\n",
    "x.extend(wave_data_total)\n",
    "run()"
   ]
  },
  {
   "cell_type": "code",
   "execution_count": 14,
   "metadata": {},
   "outputs": [
    {
     "name": "stdout",
     "output_type": "stream",
     "text": [
      "500\n"
     ]
    },
    {
     "data": {
      "image/png": "[encoded data removed]",
      "text/plain": [
       "<Figure size 432x288 with 1 Axes>"
      ]
     },
     "metadata": {
      "needs_background": "light"
     },
     "output_type": "display_data"
    }
   ],
   "source": [
    "# LOOK AT INPUT WAVEFORM\n",
    "print(len(x.recent_values()))\n",
    "plt.plot(x.recent_values()[25:75])\n",
    "plt.show()"
   ]
  },
  {
   "cell_type": "code",
   "execution_count": 15,
   "metadata": {},
   "outputs": [
    {
     "name": "stdout",
     "output_type": "stream",
     "text": [
      "500\n"
     ]
    },
    {
     "data": {
      "image/png": "[encoded data removed]",
      "text/plain": [
       "<Figure size 432x288 with 1 Axes>"
      ]
     },
     "metadata": {
      "needs_background": "light"
     },
     "output_type": "display_data"
    }
   ],
   "source": [
    "# LOOK AT FILTERED WAVEFORM\n",
    "\n",
    "print (len(y.recent_values()))\n",
    "plt.plot(y.recent_values()[25:75])\n",
    "plt.show()"
   ]
  },
  {
   "cell_type": "code",
   "execution_count": 16,
   "metadata": {},
   "outputs": [],
   "source": [
    "# WINDOW_DOT_PRODUCT\n",
    "\n",
    "# Create agent with input stream, output stream, and \n",
    "# keyword argument, multiplicand_vector.\n",
    "# Elements of the output stream are dot products of window and multiplicand_vector.\n",
    "# window is from a sliding window that slides forward with a step_size of 1.\n",
    "# The length of window is set to that of multiplicand_vector.\n",
    "\n",
    "class WindowDotProduct(object):\n",
    "    def __init__(self, in_stream, out_stream, multiplicand_vector):\n",
    "        self.in_stream = in_stream\n",
    "        self.out_stream = out_stream\n",
    "        self.multiplicand_vector = multiplicand_vector\n",
    "        # Create the agent\n",
    "        sliding_window(in_stream=self.in_stream,\n",
    "                       window_size=len(self.multiplicand_vector), step_size=1,\n",
    "                       func=self.func)\n",
    "                       \n",
    "    # The callback function\n",
    "    def func(self, window):\n",
    "        self.out_stream.append(np.dot(window, self.multiplicand_vector))"
   ]
  },
  {
   "cell_type": "code",
   "execution_count": 17,
   "metadata": {},
   "outputs": [],
   "source": [
    "# TEST BANDPASS FIR FILTER\n",
    "\n",
    "def bandpass_FIR(in_stream, out_stream, b):\n",
    "    \"\"\"\n",
    "    Creates an agent that executes a\n",
    "    FIR (Finite Impulse Response) filter of\n",
    "    in_stream to produce out_stream using\n",
    "    filter parameter b.\n",
    "    Parameters\n",
    "    ----------\n",
    "       in_stream: Stream\n",
    "       out_stream: Stream\n",
    "       b: array\n",
    "    Note\n",
    "    ----\n",
    "    out_stream[n] = sum over k in [0, M] of b[k]*in_stream[n-k]\n",
    "    Therefore, setting k to M-k:\n",
    "    out_stream[n] = sum over k in [0, M] of b[M-k]*in_stream[n-M+k]\n",
    "    So, out_stream[n] is the dot product of the reverse of b and\n",
    "    the in_stream window consisting of: in_stream[n-M]... in_stream[M].\n",
    "\n",
    "    \"\"\"\n",
    "    # Instantiate an instantiate of the WindowDotProduct class.\n",
    "    WindowDotProduct(in_stream, out_stream, multiplicand_vector=np.flip(b))"
   ]
  },
  {
   "cell_type": "code",
   "execution_count": 18,
   "metadata": {},
   "outputs": [],
   "source": [
    "x = StreamArray('x')\n",
    "y = StreamArray('y')\n",
    "\n",
    "b = fir_bandpass(lowcut, highcut, fs)\n",
    "bandpass_FIR(in_stream=x, out_stream=y, b=b)\n",
    "\n",
    "x.extend(wave_data_total)\n",
    "run()"
   ]
  },
  {
   "cell_type": "code",
   "execution_count": 19,
   "metadata": {},
   "outputs": [
    {
     "data": {
      "image/png": "[encoded data removed]",
      "text/plain": [
       "<Figure size 432x288 with 1 Axes>"
      ]
     },
     "metadata": {
      "needs_background": "light"
     },
     "output_type": "display_data"
    }
   ],
   "source": [
    "# LOOK AT FILTERED WAVEFORM\n",
    "plt.plot(y.recent_values()[25:75])\n",
    "plt.show()"
   ]
  }
 ],
 "metadata": {
  "kernelspec": {
   "display_name": "Python 3 (ipykernel)",
   "language": "python",
   "name": "python3"
  },
  "language_info": {
   "codemirror_mode": {
    "name": "ipython",
    "version": 3
   },
   "file_extension": ".py",
   "mimetype": "text/x-python",
   "name": "python",
   "nbconvert_exporter": "python",
   "pygments_lexer": "ipython3",
   "version": "3.10.2"
  }
 },
 "nbformat": 4,
 "nbformat_minor": 2
}

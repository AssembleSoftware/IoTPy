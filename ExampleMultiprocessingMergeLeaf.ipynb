{
 "cells": [
  {
   "cell_type": "markdown",
   "id": "5980fac4",
   "metadata": {},
   "source": [
    "# ExampleMultiprocessingMergeLeaf\n",
    "\n",
    "This file contains the target function for a leaf proces in <b>ExampleMultiprocessingMerge</b>. The leaf process represents a process that gets data from a sensor or some other external source. In this code the external source is a random number generator.\n",
    "\n",
    "The leaf process does not use IoTPy other than to import <b>ExternalStream</b>. (If you prefer, you can implement the simple code that implements <b>ExternalStream</b>  --- see <b>Stream.py</b> --- rather than import it.)\n",
    "\n",
    "The process appends random numbers to the external stream, <b>stream_to_root</b>. The process also prints the random numbers.\n",
    "\n",
    "This process does not <b><i>read</i></b> external streams (though it writes them). Also, this process does not use <b>streams<b> (though it uses ExternalStream). So, we don't have to specify the input queue for the process, and we don't have to start the scheduler for this process; however, it's fine if you do.\n",
    "\n",
    "(You must specify the input queue for the process and start its scheduler if it reads an external stream or it imports stream from <b>Stream</b>.)\n"
   ]
  },
  {
   "cell_type": "code",
   "execution_count": null,
   "id": "2ffbe7ee",
   "metadata": {},
   "outputs": [],
   "source": [
    "from stream import ExternalStream\n",
    "import random\n",
    "\n",
    "def process_target_leaf(num_messages, dict_queues, stream_name,\n",
    "                            random_start, random_end):\n",
    "    \"\"\"\n",
    "    Send num_messages random integers in the range\n",
    "    [random_start: random_end] on the external stream with\n",
    "    name stream_name and queue dict_queues['q_root'].\n",
    "\n",
    "    \"\"\"\n",
    "    # stream_to_root is an external stream from a leaf process\n",
    "    # to the root process\n",
    "    stream_to_root = ExternalStream(\n",
    "        name=stream_name, queue=dict_queues['q_root'])\n",
    "\n",
    "    for i in range(num_messages):\n",
    "        stream_item = random.randrange(random_start, random_end)\n",
    "        print (stream_name, stream_item)\n",
    "        stream_to_root.append(stream_item)"
   ]
  }
 ],
 "metadata": {
  "kernelspec": {
   "display_name": "Python 3 (ipykernel)",
   "language": "python",
   "name": "python3"
  },
  "language_info": {
   "codemirror_mode": {
    "name": "ipython",
    "version": 3
   },
   "file_extension": ".py",
   "mimetype": "text/x-python",
   "name": "python",
   "nbconvert_exporter": "python",
   "pygments_lexer": "ipython3",
   "version": "3.10.2"
  }
 },
 "nbformat": 4,
 "nbformat_minor": 5
}

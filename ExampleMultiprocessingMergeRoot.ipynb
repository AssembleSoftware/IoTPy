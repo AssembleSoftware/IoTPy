{
 "cells": [
  {
   "cell_type": "markdown",
   "id": "e1da3a24",
   "metadata": {},
   "source": [
    "# Example Multiprocessing Merge Root\n",
    "\n",
    "This file contains the target function for the process <b>ExampleMultiprocessMergeRoot</b>. This process imports <b>Stream</b> and it also reads a stream which is an external stream of another (<b>ExampleMultiprocessMergeLeaf</b>) process. So, we have to specify its input queue (see Step 1) and start the scheduler (see Step 6). The remaining steps (Steps: 2, 3, 4, 5) specify streams, callback functions and agents, just as in any application that uses a single process rather than multiprocessing."
   ]
  },
  {
   "cell_type": "code",
   "execution_count": 1,
   "id": "a58bf668",
   "metadata": {},
   "outputs": [],
   "source": [
    "from stream import Stream\n",
    "from example_operators import join_synch\n",
    "\n",
    "class Count(object):\n",
    "    def __init__(self, n):\n",
    "        self.n = n\n",
    "\n",
    "def process_target_merge(dict_queues):\n",
    "    \n",
    "    #-------------------------------------------\n",
    "    # 1. SPECIFY INPUT QUEUES FOR THE PROCESSES\n",
    "    #-------------------------------------------\n",
    "    # Specify that the input stream for THIS process\n",
    "    # is dict_queues['q_root']\n",
    "    Stream.scheduler.input_queue = dict_queues['q_root']\n",
    "    \n",
    "    #-------------------------------------------\n",
    "    # 2. SPECIFY STREAMS IN THIS PROCESS\n",
    "    #-------------------------------------------\n",
    "    x, y = Stream('x'), Stream('y')\n",
    "    \n",
    "    #-------------------------------------------\n",
    "    # 3. SPECIFY EXTERNAL STREAMS \n",
    "    #-------------------------------------------\n",
    "    # This process does not modify external streams.\n",
    "    \n",
    "    #-------------------------------------------\n",
    "    # 4. SPECIFY CALLBACK FUNCTIONS IN THIS PROCESS\n",
    "    #-------------------------------------------\n",
    "    def callback(alist, count):\n",
    "        print ('merge ', sum(alist))\n",
    "        count.n -= 1\n",
    "        if count.n <= 0:\n",
    "            Stream.scheduler.halted = True\n",
    "        \n",
    "    #-------------------------------------------\n",
    "    # 5. SPECIFY AGENTS IN THIS PROCESS\n",
    "    #-------------------------------------------\n",
    "    join_synch(in_streams=[x, y], func=callback, count=Count(4))\n",
    "    \n",
    "    #-------------------------------------------\n",
    "    # 6. START SCHEDULER AND THUS START THIS PROCESS\n",
    "    #-------------------------------------------\n",
    "    Stream.scheduler.start()"
   ]
  }
 ],
 "metadata": {
  "kernelspec": {
   "display_name": "Python 3 (ipykernel)",
   "language": "python",
   "name": "python3"
  },
  "language_info": {
   "codemirror_mode": {
    "name": "ipython",
    "version": 3
   },
   "file_extension": ".py",
   "mimetype": "text/x-python",
   "name": "python",
   "nbconvert_exporter": "python",
   "pygments_lexer": "ipython3",
   "version": "3.10.2"
  }
 },
 "nbformat": 4,
 "nbformat_minor": 5
}

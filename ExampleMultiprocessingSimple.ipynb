{
 "cells": [
  {
   "cell_type": "code",
   "execution_count": 1,
   "id": "390ad30b",
   "metadata": {},
   "outputs": [
    {
     "name": "stdout",
     "output_type": "stream",
     "text": [
      "message received by process y  2\n",
      "message received by process y  4\n",
      "message received by process y  6\n",
      "message received by process x  1\n",
      "message received by process x  3\n",
      "message received by process x  5\n",
      "message received by process x  7\n",
      "HALTING\n"
     ]
    }
   ],
   "source": [
    "import multiprocessing as mp\n",
    "\n",
    "# import files containing target functions of \n",
    "# processes x, y.\n",
    "# The target functions are in separate files because of\n",
    "# features of iPython and Jupyter notebooks.\n",
    "import example_multiprocessing_simple_process_x\n",
    "import example_multiprocessing_simple_process_y\n",
    "\n",
    "# q_x is the input queue for process x\n",
    "# q_y is the input queue for process y\n",
    "# put the queues into a dict that is passed to processes x, y.\n",
    "# Don't pass queues directly to external files.\n",
    "q_x, q_y = mp.Queue(), mp.Queue()\n",
    "dict_queues = {'x': q_x, 'y': q_y}\n",
    "\n",
    "# Create processes x and y\n",
    "process_x = mp.Process(\n",
    "    target=\\\n",
    "    example_multiprocessing_simple_process_x.process_target_x,\n",
    "    args=(dict_queues,),\n",
    "    name='process_x')\n",
    "\n",
    "process_y = mp.Process(\n",
    "    target=\\\n",
    "    example_multiprocessing_simple_process_y.process_target_y,\n",
    "    args=(dict_queues,),\n",
    "    name='process_y')\n",
    "\n",
    "# Start; join; terminate processes x and y\n",
    "process_x.daemon = True\n",
    "process_y.daemon = True\n",
    "\n",
    "process_x.start()\n",
    "process_y.start()\n",
    "\n",
    "process_x.join()\n",
    "process_y.join()\n",
    "    \n",
    "process_x.terminate()\n",
    "process_y.terminate()"
   ]
  }
 ],
 "metadata": {
  "kernelspec": {
   "display_name": "Python 3 (ipykernel)",
   "language": "python",
   "name": "python3"
  },
  "language_info": {
   "codemirror_mode": {
    "name": "ipython",
    "version": 3
   },
   "file_extension": ".py",
   "mimetype": "text/x-python",
   "name": "python",
   "nbconvert_exporter": "python",
   "pygments_lexer": "ipython3",
   "version": "3.10.2"
  }
 },
 "nbformat": 4,
 "nbformat_minor": 5
}

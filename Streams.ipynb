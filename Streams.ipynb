{
 "cells": [
  {
   "cell_type": "markdown",
   "id": "bb8142f3",
   "metadata": {},
   "source": [
    "# Streams"
   ]
  },
  {
   "cell_type": "markdown",
   "id": "5718a3f3",
   "metadata": {},
   "source": [
    "A **Stream** is a list of arbitrary length which can be modified only by either appending an item to the tail of the list or extending the stream with a list of items. A **StreamArray** is a NumPy array of arbitrary length to which rows can be appended at the end.\n",
    "\n",
    "## Creating a Stream\n",
    "\n",
    "*s = Stream(name=‘temperature’, initial_value=[20, 21, 22])*\n",
    "\n",
    "creates a stream with the specified name and initial value. Both the name and initial value can be omitted.\n",
    "The default initial value is the empty stream.\n",
    "\n",
    "## Appending an element to a Stream\n",
    "You append an element to a Stream in the same way as for a list.\n",
    "\n",
    "<b>Example:</b>\n",
    "\n",
    "*s.append(23)* \n",
    "    appends the value 23 to the tail of stream *s*.\n",
    "\n",
    "## Extending a Stream with a list of elements\n",
    "You can extend a stream in the same way that you extend a list. \n",
    "\n",
    "\n",
    "<b>Example</b>:\n",
    "\n",
    "*s.extend([24, 25])* extends stream *s* with the elements of the list [24, 25] appended to its tail."
   ]
  },
  {
   "cell_type": "markdown",
   "id": "7f7682b0",
   "metadata": {},
   "source": [
    "# Examples\n",
    "While you are testing the system you call the function *run()* to execute a single step in processing the stream. We will discuss how to start non-terminating stream applications later.\n",
    "\n",
    "**s.print_recent()** prints the most recent values of stream **s**."
   ]
  },
  {
   "cell_type": "code",
   "execution_count": 1,
   "id": "109ed862",
   "metadata": {},
   "outputs": [
    {
     "name": "stdout",
     "output_type": "stream",
     "text": [
      "Stream.scheduler.register_stream\n",
      "name  temperature\n",
      "temperature  = [20, 21, 22, 23, 24, 25]\n"
     ]
    }
   ],
   "source": [
    "import sys\n",
    "sys.path.append(\"../\")\n",
    "\n",
    "from stream import Stream, run\n",
    "\n",
    "def example():\n",
    "    # Declare and initialize a stream\n",
    "    s = Stream(name='temperature', initial_value=[20, 21, 22])\n",
    "    # Append an item --- 23 --- to stream s.\n",
    "    s.append(23)\n",
    "    # Extend stream s with the list [24, 25]\n",
    "    s.extend([24, 25])\n",
    "\n",
    "    # run a step\n",
    "    run()\n",
    "    s.print_recent()\n",
    "\n",
    "example()"
   ]
  },
  {
   "cell_type": "markdown",
   "id": "d265bd09",
   "metadata": {},
   "source": [
    "# StreamArray\n",
    "The statement:\n",
    "\n",
    "*s = StreamArray(name='s', dimension=3, dtype=int)*\n",
    "\n",
    "creates a stream *s* where *s[n]* is a NumPy array consisting of an unbounded number of rows and 3 (i.e. dimension) columns and where the elements of the array are of type *int*. An item appended to this stream must be an array consisting of 3 integers; appending such a 3-element array appends a single row containing the 3 integers to the tail of s."
   ]
  },
  {
   "cell_type": "markdown",
   "id": "6c62fa7b",
   "metadata": {},
   "source": [
    "The parameters of **StreamArray** are: **name, dimension, dtype, initial_value,** and **num_in_memory**\n",
    "\n",
    "1. **name** is optional and is a string. The default is ‘no_name’.\n",
    "\n",
    "2. **dimension** is optional and is the dimension of elements of the stream array. The default is 0.\n",
    "\n",
    "3. **dtype** is optional and is the type of the rows of the stream array. The default is float.\n",
    "\n",
    "4. **initial_value** is optional and is the initial value of the stream array. The default is None.\n",
    "\n",
    "1. **num_in_memory** is optional and can be ignored for the time being. It is used for memory management."
   ]
  },
  {
   "cell_type": "markdown",
   "id": "6861206d",
   "metadata": {},
   "source": [
    "## StreamArray with dimension = 0\n",
    "\n",
    "The **dimension** parameter can be a non-negative integer or a tuple or list. If dimension is 0 then each element of the stream array belongs to type dtype. In this case, think of the stream array as a 1-D array of unbounded length with elements of type dtype. \n",
    "\n",
    "For example:\n",
    "\n",
    "*t = StreamArray()*\n",
    "\n",
    "makes *t* a stream array where *t* is effectively an array of unbounded size where each element of *t* is a float."
   ]
  },
  {
   "cell_type": "markdown",
   "id": "db6e5bfb",
   "metadata": {},
   "source": [
    "## StreamArray where dimension is a positive integer\n",
    "\n",
    "If **dimension** is a positive integer then each element of the stream is a 1-D array whose length is **dimension**. For example:\n",
    "\n",
    "*u = StreamArray(name='pressure', dimension=2, dtype=float)*\n",
    "\n",
    "makes *u* a stream array called pressure. Think of *u* as an array with an unbounded number of rows where each row of *u* is an array consisting of 2 floats.\n"
   ]
  },
  {
   "cell_type": "markdown",
   "id": "53754055",
   "metadata": {},
   "source": [
    "## StreamArray where dimension is a tuple or list\n",
    "\n",
    "**dimension** can be a tuple or list. Each element of the tuple must be a positive integer. Think of the stream array as having an unbounded number of rows where each row is an N-dimensional array where N is the length of the tuple. The lengths of the N-dimensional array are given by the tuple. For example, \n",
    "\n",
    "*v = StreamArray(dimension=(3,4), dtype=int)*\n",
    "\n",
    "makes *v* a stream array where each row of *v* is a 3 x 4 array of integers."
   ]
  },
  {
   "cell_type": "markdown",
   "id": "facda81b",
   "metadata": {},
   "source": [
    "## append or extend a StreamArray\n",
    "\n",
    "You can append or extend a **StreamArray** in the same way that you do a **Stream.** Ensure that the types of the arrays that you are appending or extending match the types of the **StreamArray**."
   ]
  },
  {
   "cell_type": "markdown",
   "id": "5e887819",
   "metadata": {},
   "source": [
    "## Example of StreamArray with default dimension of 0"
   ]
  },
  {
   "cell_type": "code",
   "execution_count": 2,
   "id": "968ed5ab",
   "metadata": {},
   "outputs": [
    {
     "name": "stdout",
     "output_type": "stream",
     "text": [
      "t  = [1.]\n",
      "s  = [1]\n",
      "t  = [1. 2.]\n",
      "s  = [1 2]\n"
     ]
    }
   ],
   "source": [
    "import numpy as np\n",
    "from stream import StreamArray, run\n",
    "\n",
    "def example():\n",
    "    t = StreamArray(name='t')\n",
    "    s = StreamArray(name='s', dtype=int)\n",
    "    t.append(np.array(1.0))\n",
    "    s.append(np.array(1))\n",
    "    \n",
    "    # run a step and print\n",
    "    run()\n",
    "    t.print_recent()\n",
    "    s.print_recent()\n",
    "    \n",
    "    # run a step and print\n",
    "    t.append(np.array(2.0))\n",
    "    s.append(np.array(2))\n",
    "    run()\n",
    "    t.print_recent()\n",
    "    s.print_recent()\n",
    "\n",
    "\n",
    "example()"
   ]
  },
  {
   "cell_type": "markdown",
   "id": "a87fcd5c",
   "metadata": {},
   "source": [
    "## Example of StreamArray of int when dimension is a positive integer\n",
    "### StreamArray of int"
   ]
  },
  {
   "cell_type": "code",
   "execution_count": 3,
   "id": "85797db5",
   "metadata": {},
   "outputs": [
    {
     "name": "stdout",
     "output_type": "stream",
     "text": [
      "temperatures  = [[0 0 0]]\n",
      "temperatures  = [[0 0 0]\n",
      " [1 2 3]]\n"
     ]
    }
   ],
   "source": [
    "def example():\n",
    "    s = StreamArray(name='temperatures', dimension=3, dtype=int)\n",
    "    \n",
    "    s.append(np.zeros(3, dtype=int))\n",
    "    \n",
    "    # run a step and print\n",
    "    run()\n",
    "    s.print_recent()\n",
    "    \n",
    "    s.append(np.array([1, 2, 3]))\n",
    "    # run a step and print\n",
    "    run()\n",
    "    s.print_recent()\n",
    "\n",
    "example()"
   ]
  },
  {
   "cell_type": "markdown",
   "id": "4daf8f03",
   "metadata": {},
   "source": [
    "## Example of StreamArray of float when dimension is a positive integer\n",
    "### StreamArray of float"
   ]
  },
  {
   "cell_type": "code",
   "execution_count": 4,
   "id": "7885a3f3",
   "metadata": {},
   "outputs": [
    {
     "name": "stdout",
     "output_type": "stream",
     "text": [
      "pressure  = [[0. 0. 0.]]\n",
      "pressure  = [[0. 0. 0.]\n",
      " [1. 2. 3.]]\n"
     ]
    }
   ],
   "source": [
    "def example():\n",
    "    u = StreamArray(name='pressure', dimension=3, dtype=float)\n",
    "    \n",
    "    u.append(np.array([0.0, 0.0, 0.0]))\n",
    "    \n",
    "    # run a step and print\n",
    "    run()\n",
    "    u.print_recent()\n",
    "    \n",
    "    u.append(np.array([1.0, 2.0, 3.0]))\n",
    "    \n",
    "    # run a step and print\n",
    "    run()\n",
    "    u.print_recent()\n",
    "\n",
    "example()"
   ]
  },
  {
   "cell_type": "markdown",
   "id": "00636bef",
   "metadata": {},
   "source": [
    "## Example of StreamArray when dimension is a tuple"
   ]
  },
  {
   "cell_type": "code",
   "execution_count": 5,
   "id": "b6d15a1d",
   "metadata": {},
   "outputs": [
    {
     "name": "stdout",
     "output_type": "stream",
     "text": [
      "prices  = [[[ 0  1  2  3]\n",
      "  [ 4  5  6  7]\n",
      "  [ 8  9 10 11]]]\n",
      "prices  = [[[ 0  1  2  3]\n",
      "  [ 4  5  6  7]\n",
      "  [ 8  9 10 11]]\n",
      "\n",
      " [[12 13 14 15]\n",
      "  [16 17 18 19]\n",
      "  [20 21 22 23]]]\n"
     ]
    }
   ],
   "source": [
    "def example():\n",
    "    v = StreamArray(name=\"prices\", dimension=(3,4), dtype=int)\n",
    "    # Each element of v is a numpy array with 3 rows and 4 columns\n",
    "    \n",
    "    v.append(np.array([\n",
    "        [0, 1, 2, 3],\n",
    "        [4, 5, 6, 7],\n",
    "        [8, 9, 10, 11]]))\n",
    "    \n",
    "    # run a step and print\n",
    "    run()\n",
    "    v.print_recent()\n",
    "    \n",
    "    v.append(np.array([\n",
    "        [12, 13, 14, 15],\n",
    "        [16, 17, 18, 19],\n",
    "        [20, 21, 22, 23]]))\n",
    "    \n",
    "    # run a step and print\n",
    "    run()\n",
    "    v.print_recent()\n",
    "\n",
    "example()"
   ]
  },
  {
   "cell_type": "markdown",
   "id": "fbbb3e85",
   "metadata": {},
   "source": [
    "# Extending StreamArray\n"
   ]
  },
  {
   "cell_type": "markdown",
   "id": "fb6467d5",
   "metadata": {},
   "source": [
    "## Example: Extend StreamArray of float with dimension of 0\n",
    "### Extend the StreamArray with a linear numpy array of the same type"
   ]
  },
  {
   "cell_type": "code",
   "execution_count": 6,
   "id": "ad24ccb5",
   "metadata": {},
   "outputs": [
    {
     "name": "stdout",
     "output_type": "stream",
     "text": [
      "t  = [1. 2.]\n",
      "t  = [1. 2. 3. 4.]\n"
     ]
    }
   ],
   "source": [
    "def example():\n",
    "    # default dtype is float and default dimension is 0\n",
    "    t = StreamArray(name='t')\n",
    "    t.extend(np.array([1.0, 2.0]))\n",
    "    \n",
    "    # run a step and print\n",
    "    run()\n",
    "    t.print_recent()\n",
    "    \n",
    "    t.extend(np.array([3.0, 4.0]))\n",
    "    \n",
    "    # run a step and print\n",
    "    run()\n",
    "    t.print_recent()\n",
    "\n",
    "\n",
    "example()"
   ]
  },
  {
   "cell_type": "markdown",
   "id": "d3d84d79",
   "metadata": {},
   "source": [
    "## Example: Extend StreamArray when dimension is a positive integer\n",
    "### StreamArray of int\n",
    "\n",
    "You can extend a **StreamArray** by an array consisting of multiple rows where the dimensions of rows of the array and the **StreamArray** are identical."
   ]
  },
  {
   "cell_type": "code",
   "execution_count": 7,
   "id": "93ee4a86",
   "metadata": {},
   "outputs": [
    {
     "name": "stdout",
     "output_type": "stream",
     "text": [
      "temperatures  = [[0 1 2]\n",
      " [3 4 5]]\n",
      "temperatures  = [[ 0  1  2]\n",
      " [ 3  4  5]\n",
      " [ 6  7  8]\n",
      " [ 9 10 11]\n",
      " [12 13 14]]\n"
     ]
    }
   ],
   "source": [
    "def example():\n",
    "    s = StreamArray(name='temperatures', dimension=3, dtype=int)\n",
    "    # Extend s with a numpy array with an arbitrary (positive) number\n",
    "    # of rows and 3 columns\n",
    "    \n",
    "    s.extend(np.array(\n",
    "        [[0, 1, 2],\n",
    "        [3, 4, 5]]\n",
    "    ))\n",
    "    \n",
    "    # run a step and print\n",
    "    run()\n",
    "    s.print_recent()\n",
    "\n",
    "    \n",
    "    s.extend(np.array(\n",
    "        [[6, 7, 8],\n",
    "        [9, 10, 11],\n",
    "        [12, 13, 14]]\n",
    "    ))\n",
    "    \n",
    "    # run a step and print\n",
    "    run()\n",
    "    s.print_recent()\n",
    "             \n",
    "example()\n",
    "\n"
   ]
  },
  {
   "cell_type": "markdown",
   "id": "6a2a73a8",
   "metadata": {},
   "source": [
    "## Example: Extend StreamArray where dimension is a tuple\n",
    "\n",
    "Extend the StreamArray with a numpy array with an arbitrary (positive) number of rows and where each row is a numpy array with the specified dimensions."
   ]
  },
  {
   "cell_type": "code",
   "execution_count": 8,
   "id": "c6582e9d",
   "metadata": {},
   "outputs": [
    {
     "name": "stdout",
     "output_type": "stream",
     "text": [
      "prices  = [[[12 13 14 15]\n",
      "  [16 17 18 19]\n",
      "  [20 21 22 23]]\n",
      "\n",
      " [[24 25 26 27]\n",
      "  [28 29 30 31]\n",
      "  [32 33 34 35]]]\n",
      "prices  = [[[12 13 14 15]\n",
      "  [16 17 18 19]\n",
      "  [20 21 22 23]]\n",
      "\n",
      " [[24 25 26 27]\n",
      "  [28 29 30 31]\n",
      "  [32 33 34 35]]\n",
      "\n",
      " [[12 13 14 15]\n",
      "  [16 17 18 19]\n",
      "  [20 21 22 23]]]\n"
     ]
    }
   ],
   "source": [
    "def example():\n",
    "    v = StreamArray(name=\"prices\", dimension=(3,4), dtype=int)\n",
    "    # Extend v with a numpy array with an arbitrary positive number\n",
    "    # of rows and where each row is an array with dimension (3, 4)\n",
    "    \n",
    "    # Example: extend v with a numpy array with 2 rows, and where\n",
    "    # each row is a numpy array with dimension (3, 4)\n",
    "    v.extend(np.array([\n",
    "        [[12, 13, 14, 15],[16, 17, 18, 19], [20, 21, 22, 23]],\n",
    "        [[24, 25, 26, 27], [28, 29, 30, 31], [32, 33, 34, 35]]]))\n",
    "    \n",
    "    # run a step and print\n",
    "    run()\n",
    "    v.print_recent()\n",
    "    \n",
    "    # Example: append v with a numpy array with dimension (3, 4)\n",
    "    v.append(np.array([\n",
    "        [12, 13, 14, 15],\n",
    "        [16, 17, 18, 19],\n",
    "        [20, 21, 22, 23]]))\n",
    "    \n",
    "    # run a step and print\n",
    "    run()\n",
    "    v.print_recent()\n",
    "\n",
    "example()"
   ]
  },
  {
   "cell_type": "markdown",
   "id": "4da0db88",
   "metadata": {},
   "source": [
    "# StreamArray with user-defined types\n",
    "\n",
    "\n",
    "An example of a user-defined type is:\n",
    "\n",
    "*txyz_dtype = np.dtype([('time','int'), ('data', '3float')])*\n",
    "\n",
    "An example of an object, *c*, of this type is created by:\n",
    "\n",
    "*c = np.array((1, [0.0, 1.0, 2.0]), dtype=txyz_dtype)*\n",
    "\n",
    "Then, *c[‘time’]* has type *np.array(1)*, and *c['data']* has type *np.array([ 0.0,  1.0,  2.0]*"
   ]
  },
  {
   "cell_type": "markdown",
   "id": "f0e16a74",
   "metadata": {},
   "source": [
    "## Creating a StreamArray with user-defined types\n",
    "\n",
    "*y = StreamArray(dimension=0, dtype=txyz_dtype)*\n",
    "\n",
    "creates a stream array, *y*, whose elements are of type *txyz_dtype*. Think of *y* as an array with an arbitrary number of rows where each row is an array of type *txyz_dtype*.\n",
    "\n",
    "### Examples of appending and extending a StreamArray with user-defined types"
   ]
  },
  {
   "cell_type": "code",
   "execution_count": 9,
   "id": "93d7196c",
   "metadata": {},
   "outputs": [
    {
     "name": "stdout",
     "output_type": "stream",
     "text": [
      "y  = [(1, [0., 1., 2.])]\n",
      "y  = [(1, [0., 1., 2.]) (2, [3., 4., 5.]) (3, [6., 7., 8.])]\n"
     ]
    }
   ],
   "source": [
    "def example():\n",
    "    \n",
    "    txyz_dtype = np.dtype([('time','int'), ('data', '3float')])\n",
    "    \n",
    "    y = StreamArray(name='y', dimension=0, dtype=txyz_dtype)\n",
    "    \n",
    "    y.append(\n",
    "        np.array((1, [0.0, 1.0, 2.0]), dtype=txyz_dtype)\n",
    "    )\n",
    "    \n",
    "    # run a step and print\n",
    "    run()\n",
    "    y.print_recent()\n",
    "    \n",
    "    y.extend(\n",
    "        np.array([\n",
    "            (2, [3., 4., 5.]), \n",
    "            (3, [6., 7., 8.])], \n",
    "            dtype=txyz_dtype)\n",
    "    )\n",
    "    \n",
    "    # run a step and print\n",
    "    run()\n",
    "    y.print_recent()\n",
    "\n",
    "example()"
   ]
  },
  {
   "cell_type": "markdown",
   "id": "4b9ecd3a",
   "metadata": {},
   "source": [
    "# Part of a Stream in Memory\n",
    "\n",
    "Associated with a stream **s** is a list **s.recent**, and nonnegative integers **s.offset** and **s.stop.** \n",
    "\n",
    "The entire stream may not be stored in main memory. The part of stream **s** that is stored in main memory is **s.recent** which contains the most recent elements of stream **s** starting with index **s.offset**. Therefore, **s.recent** is the list consisting of the tail end of stream **s**.\n",
    "\n",
    "**s.stop** is the length of list **s.recent**.\n",
    "So, the length, **len(s)**, of stream **s** is **s.offset + s.stop**, and,\n",
    "<br>\n",
    "---\n",
    "for **0 <= j < s.stop: s.recent[j] = s.[s.offset + j]**.\n",
    "\n",
    "---\n",
    "\n",
    "Elements of stream **s** with indices less than **s.offset** are either stored in files or discarded depending on implementation parameters.\n",
    "\n",
    "\n",
    "In the diagram below **s.offset** is **N**, and **s.stop** is **M**.\n",
    "\n"
   ]
  },
  {
   "attachments": {
    "IoTPy_s.recent.001.jpeg": {
     "image/jpeg": "[encoded data removed]"
    }
   },
   "cell_type": "markdown",
   "id": "996fe385",
   "metadata": {},
   "source": [
    "![IoTPy_s.recent.001.jpeg](attachment:IoTPy_s.recent.001.jpeg)"
   ]
  },
  {
   "cell_type": "markdown",
   "id": "6df2f14c",
   "metadata": {},
   "source": [
    "For a stream **s** a function can read a list the slice **s.recent[0 : s.stop]** of stream **s**. The slice **s.recent[0 : s.stop]** is the same as **s[s.offest : s.offset + s.stop]**. \n",
    "\n",
    "For example, suppose **s.offset = 2** and **len(s) = 5**, and **s.stop = len(s) - s.offset = 3**. \n",
    "\n",
    "Then **s[2 : 5] = s.recent[0 : 3]**.\n",
    "\n",
    "Next look at subscribers to streams how they operate on streams."
   ]
  }
 ],
 "metadata": {
  "kernelspec": {
   "display_name": "Python 3 (ipykernel)",
   "language": "python",
   "name": "python3"
  },
  "language_info": {
   "codemirror_mode": {
    "name": "ipython",
    "version": 3
   },
   "file_extension": ".py",
   "mimetype": "text/x-python",
   "name": "python",
   "nbconvert_exporter": "python",
   "pygments_lexer": "ipython3",
   "version": "3.10.2"
  }
 },
 "nbformat": 4,
 "nbformat_minor": 5
}

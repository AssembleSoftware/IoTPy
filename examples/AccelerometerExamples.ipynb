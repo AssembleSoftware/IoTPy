{
 "cells": [
  {
   "cell_type": "markdown",
   "id": "640ae73f",
   "metadata": {},
   "source": [
    "# Sensor Computation Examples\n",
    "\n",
    "This notebook has functions that are frequently used with sensor applications."
   ]
  },
  {
   "cell_type": "markdown",
   "id": "cb8f27da",
   "metadata": {},
   "source": [
    "## Example: Subtract the mean from a stream\n",
    "\n",
    "The output stream is the input stream after subtracting the mean of the input stream. The mean of the input stream is computed over a window whose size is specified as a parameter.\n",
    "\n",
    "The output stream values are meaningful only after it has output window_size elements. Before that the computation is in start-up mode."
   ]
  },
  {
   "cell_type": "code",
   "execution_count": 1,
   "id": "e4a84b07",
   "metadata": {},
   "outputs": [],
   "source": [
    "import os\n",
    "import sys\n",
    "sys.path.append(\"../\")\n",
    "\n",
    "import math\n",
    "import numpy as np\n",
    "\n",
    "# op, merge, source, sink are in agent_types\n",
    "from IoTPy.core.stream import Stream, run\n",
    "from IoTPy.agent_types.op import map_window\n",
    "from IoTPy.helper_functions.recent_values import recent_values\n",
    "\n",
    "#----------------------------------------------------\n",
    "# Agent that subtracts the mean in a stream\n",
    "#----------------------------------------------------    \n",
    "def subtract_mean(in_stream, out_stream, window_size):\n",
    "    \"\"\"\n",
    "    Parameters\n",
    "    ----------\n",
    "    in_stream: Stream\n",
    "       Stream of floats.\n",
    "    out_stream: Stream\n",
    "       Stream of floats\n",
    "       The out_stream is the in_stream with the mean subtracted.\n",
    "       So, the mean of the out_stream will be approximately 0.0.\n",
    "    window_size: int\n",
    "       positive value\n",
    "       The size of the window on which the mean is calculated.\n",
    "       The larger the window_size the more accurate is the subtraction\n",
    "       of the mean, but also the slower the computation.\n",
    "\n",
    "    \"\"\"\n",
    "    def f(window):\n",
    "        \"\"\"\n",
    "        Parameters\n",
    "        ----------\n",
    "        window: list\n",
    "           list of elements of a stream.\n",
    "        \"\"\"\n",
    "        return window[-1] - np.mean(window)\n",
    "\n",
    "    # Wrap function to create an agent.\n",
    "    map_window(\n",
    "        func=f, in_stream=in_stream, out_stream=out_stream,\n",
    "        window_size=window_size, step_size=1)\n",
    "    "
   ]
  },
  {
   "cell_type": "code",
   "execution_count": 2,
   "id": "fa0f5302",
   "metadata": {},
   "outputs": [
    {
     "name": "stdout",
     "output_type": "stream",
     "text": [
      "recent values of stream y are\n",
      "[1.5, 1.5, 1.5, 1.5, 1.5, 1.5, 1.5, 1.5, 1.5]\n"
     ]
    }
   ],
   "source": [
    "def example_subtract_mean():\n",
    "    x, y = Stream(), Stream()\n",
    "    subtract_mean(in_stream=x, out_stream=y, window_size=4)\n",
    "    \n",
    "    # Execute a step\n",
    "    x.extend(list(range(12)))\n",
    "    run()\n",
    "    print ('recent values of stream y are')\n",
    "    print (recent_values(y))\n",
    "\n",
    "example_subtract_mean()"
   ]
  },
  {
   "cell_type": "code",
   "execution_count": 3,
   "id": "0e449452",
   "metadata": {},
   "outputs": [],
   "source": [
    "from IoTPy.agent_types.merge import zip_map\n",
    "\n",
    "#----------------------------------------------------\n",
    "# Agent that computes the magnitude of a vector\n",
    "#----------------------------------------------------   \n",
    "def magnitude_of_vector(in_streams, out_stream):\n",
    "    \"\"\"\n",
    "    Parameters\n",
    "    ----------\n",
    "     in_streams: list of Stream\n",
    "       Each component stream in the list is a stream of floats.\n",
    "       The component streams are the streams of values of the\n",
    "       coordinates of a vector. If there are input streams for\n",
    "       x, y, z then the n-th element of the output stream is\n",
    "       the mangitude of the vector [x[n], y[n], z[n]]\n",
    "    out_stream: Stream\n",
    "       Stream of floats\n",
    "       The out_stream is the stream of magnitudes of the values.\n",
    "\n",
    "    \"\"\"\n",
    "    def magnitude(coordinates):\n",
    "        \"\"\"\n",
    "        Parameters\n",
    "        ----------\n",
    "        coordinates: list\n",
    "           list of coordinates of a vector\n",
    "\n",
    "        Returns\n",
    "        -------\n",
    "           float\n",
    "           The magnitude of the vector\n",
    "\n",
    "        \"\"\"\n",
    "        v = np.array(coordinates)\n",
    "        return np.sqrt(v.dot(v))\n",
    "    \n",
    "    # Merge the input streams of each coordinate to create an output strema\n",
    "    # of magnitudes.\n",
    "    zip_map(func=magnitude, in_streams=in_streams, out_stream=out_stream)"
   ]
  },
  {
   "cell_type": "code",
   "execution_count": 4,
   "id": "12995ab1",
   "metadata": {},
   "outputs": [
    {
     "name": "stdout",
     "output_type": "stream",
     "text": [
      "recent values of magnitude_stream are\n",
      "[5.0, 10.0, 15.0]\n"
     ]
    }
   ],
   "source": [
    "def example_magnitude_of_vector():\n",
    "    x, y= Stream(), Stream()\n",
    "    magnitude_stream = Stream()\n",
    "    magnitude_of_vector(in_streams=[x, y], out_stream=magnitude_stream)\n",
    "    \n",
    "    # Execute a step\n",
    "    x.extend([3, 6, 9])\n",
    "    y.extend([4, 8, 12])\n",
    "    run()\n",
    "    print ('recent values of magnitude_stream are')\n",
    "    print (recent_values(magnitude_stream))\n",
    "\n",
    "example_magnitude_of_vector()"
   ]
  }
 ],
 "metadata": {
  "kernelspec": {
   "display_name": "Python 3 (ipykernel)",
   "language": "python",
   "name": "python3"
  },
  "language_info": {
   "codemirror_mode": {
    "name": "ipython",
    "version": 3
   },
   "file_extension": ".py",
   "mimetype": "text/x-python",
   "name": "python",
   "nbconvert_exporter": "python",
   "pygments_lexer": "ipython3",
   "version": "3.10.2"
  }
 },
 "nbformat": 4,
 "nbformat_minor": 5
}

{
 "cells": [
  {
   "cell_type": "markdown",
   "metadata": {},
   "source": [
    "# Example of MQTT Publisher\n",
    "We will use multiple implementations of message queues including <b>RabbitMQ/pika</b> and <b>MQTT</b>. This notebook is an illustration of publishing or sending a stream using <i>MQTT</i>. See https://pypi.org/project/paho-mqtt/ and a very helpful tutorial: http://www.steves-internet-guide.com/publishing-messages-mqtt-client/\n",
    "<br>\n",
    "<br>\n",
    "Here is the most basic code to connect a sending stream to an MQTT publisher and an MQTT subsciber to a receiving stream. You can optimize the connection using ideas in the above tutorial.\n",
    "<br>\n",
    "<br>\n",
    "The publisher and subscriber communicate through a specified topic and host. In this example, the data consists of a list of lists, and each sublist of data is published separately after which the sender pauses. In this notebook, <i>host</i> is 'localhost'. You should specify your own host computer.\n",
    "<br>\n",
    "<br>\n",
    "Note: Run the notebook <i>ExampleMQTT_Subscriber</i> first. Then run this notebook: <i>ExampleMQTT_Publisher</i>. You should see the data that you published using this notebook printed in the notebook <i>ExampleMQTT_Subscriber</i>."
   ]
  },
  {
   "cell_type": "code",
   "execution_count": 1,
   "metadata": {},
   "outputs": [],
   "source": [
    "import time\n",
    "import json\n",
    "import threading\n",
    "\n",
    "import sys\n",
    "sys.path.append(\"../\")\n",
    "from IoTPy.agent_types.sink import sink_element\n",
    "from IoTPy.core.stream import Stream"
   ]
  },
  {
   "cell_type": "code",
   "execution_count": 2,
   "metadata": {},
   "outputs": [],
   "source": [
    "def on_connect(client, userdata, flags, rc):\n",
    "    if rc==0: client.connected_flag=True\n",
    "    else: print(\"Bad connection! Returned code = \", rc)"
   ]
  },
  {
   "cell_type": "code",
   "execution_count": 3,
   "metadata": {},
   "outputs": [],
   "source": [
    "class MQTT_Publisher(object):\n",
    "    def __init__(self, client_id='test_client', topic='topic', host='localhost'):\n",
    "        self.client_id = client_id\n",
    "        self.topic = topic\n",
    "        self.host = host\n",
    "        self.client = mqtt.Client(client_id)\n",
    "        self.client.connected_flag = False\n",
    "        self.client.connect(host)\n",
    "        self.time_waiting_for_connection = 1.0\n",
    "        self.n_tries_for_connection = 5\n",
    "        self.client.on_connect = on_connect\n",
    "        self.client.loop_start()\n",
    "        # Wait for the connection to succeed.\n",
    "        n_tries = 0\n",
    "        while not self.client.connected_flag:\n",
    "            time.sleep(self.time_waiting_for_connection)\n",
    "            n_tries += 1\n",
    "            if n_tries > self.n_tries_for_connection:\n",
    "                break\n",
    "        if n_tries > self.n_tries_for_connection:\n",
    "            print ('Unsuccessful connecting')\n",
    "        print ('Publisher connected!')\n",
    "    def close(self):\n",
    "        self.client.loop_stop()\n",
    "        self.client.disconnect()\n",
    "    def publish(self, stream):\n",
    "        def publish_element(element):\n",
    "            # rc, mid are return code, message id.\n",
    "            rc, mid = self.client.publish(self.topic, json.dumps(element), qos=1)\n",
    "        sink_element(func=publish_element, in_stream=stream, name='MQTT Agent')"
   ]
  },
  {
   "cell_type": "code",
   "execution_count": 4,
   "metadata": {},
   "outputs": [],
   "source": [
    "from IoTPy.helper_functions.print_stream import print_stream\n",
    "from IoTPy.core.stream import Stream, run\n",
    "from IoTPy.concurrency.MQTT_Publisher import MQTT_Publisher\n",
    "# multicore imports\n",
    "from IoTPy.concurrency.multicore import get_processes_and_procs\n",
    "from IoTPy.concurrency.multicore import terminate_stream\n",
    "from IoTPy.concurrency.multicore import extend_stream"
   ]
  },
  {
   "cell_type": "code",
   "execution_count": 5,
   "metadata": {},
   "outputs": [],
   "source": [
    "def mqtt_publisher_test(DATA_TO_PUBLISH):\n",
    "    # Step 0: Define agent functions and source threads\n",
    "    # Step 0.0: Define agent functions.\n",
    "    # This is the agent for the process called mqtt_publish_process.\n",
    "    def mqtt_publish_agent(in_streams, out_streams):\n",
    "        MQTT_Publisher(topic='topic', host='localhost').publish(in_streams[0])\n",
    "\n",
    "    # Step 0.1: Define source threads.\n",
    "    # This thread puts the data into the stream called 'mqtt_publish_stream'\n",
    "    # and then terminates the stream.\n",
    "    def thread_target_source(procs):\n",
    "        for sublist in DATA_TO_PUBLISH:\n",
    "            extend_stream(procs, sublist, stream_name='mqtt_publish_stream')\n",
    "            time.sleep(0.1)\n",
    "        # Finished. So, put '_finished' in the source stream and terminate it.\n",
    "        extend_stream(procs, data=['_finished'], stream_name='mqtt_publish_stream')\n",
    "        terminate_stream(procs, stream_name='mqtt_publish_stream')\n",
    "\n",
    "    # Step 1: multicore_specification of streams and processes.\n",
    "    # Specify Streams: list of pairs (stream_name, stream_type).\n",
    "    # Specify Processes: name, agent function, \n",
    "    #       lists of inputs and outputs and sources, and additional arguments.\n",
    "    multicore_specification = [\n",
    "        # Streams\n",
    "        [('mqtt_publish_stream', 'x')],\n",
    "        # Processes\n",
    "        [{'name': 'mqtt_publish_process', 'agent': mqtt_publish_agent,\n",
    "          'inputs':['mqtt_publish_stream'], 'sources': ['mqtt_publish_stream']}]]\n",
    "\n",
    "    # Step 2: Create processes.\n",
    "    processes, procs = get_processes_and_procs(multicore_specification)\n",
    "\n",
    "    # Step 3: Create threads (if any)\n",
    "    thread_0 = threading.Thread(target=thread_target_source, args=(procs,))\n",
    "\n",
    "    # Step 4: Specify which process each thread runs in.\n",
    "    # thread_0 runs in the process called 'p1'\n",
    "    procs['mqtt_publish_process'].threads = [thread_0]\n",
    "\n",
    "    # Step 5: Start, join and terminate processes.\n",
    "    for process in processes: process.start()\n",
    "    for process in processes: process.join()\n",
    "    for process in processes: process.terminate()"
   ]
  },
  {
   "cell_type": "code",
   "execution_count": 6,
   "metadata": {},
   "outputs": [
    {
     "name": "stdout",
     "output_type": "stream",
     "text": [
      "Publisher connected!\n"
     ]
    }
   ],
   "source": [
    "DATA_TO_PUBLISH = [['a', 0], [['c', 'd'], {'e':0, 'f':1}], [list(range(4))]]\n",
    "mqtt_publisher_test(DATA_TO_PUBLISH)"
   ]
  }
 ],
 "metadata": {
  "kernelspec": {
   "display_name": "Python 3",
   "language": "python",
   "name": "python3"
  },
  "language_info": {
   "codemirror_mode": {
    "name": "ipython",
    "version": 3
   },
   "file_extension": ".py",
   "mimetype": "text/x-python",
   "name": "python",
   "nbconvert_exporter": "python",
   "pygments_lexer": "ipython3",
   "version": "3.7.3"
  }
 },
 "nbformat": 4,
 "nbformat_minor": 2
}

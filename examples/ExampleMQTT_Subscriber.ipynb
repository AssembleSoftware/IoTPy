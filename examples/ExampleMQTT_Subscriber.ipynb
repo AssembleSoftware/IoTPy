{
 "cells": [
  {
   "cell_type": "markdown",
   "metadata": {},
   "source": [
    "# Example MQTT Subscriber"
   ]
  },
  {
   "cell_type": "code",
   "execution_count": 1,
   "metadata": {},
   "outputs": [],
   "source": [
    "#!/usr/bin/env python\n",
    "import json\n",
    "import time\n",
    "import paho.mqtt.client as mqtt\n",
    "# For this program you have to install mqtt. See\n",
    "# http://www.steves-internet-guide.com/into-mqtt-python-client/\n",
    "#  You can:      pip install paho-mqtt\n",
    "\n",
    "import sys\n",
    "sys.path.append(\"../\")\n",
    "from IoTPy.concurrency.multicore import terminate_stream\n",
    "from IoTPy.concurrency.multicore import extend_stream"
   ]
  },
  {
   "cell_type": "code",
   "execution_count": 2,
   "metadata": {},
   "outputs": [],
   "source": [
    "def on_connect(client, userdata, flags, rc):\n",
    "    if rc==0: client.connected_flag=True\n",
    "    else: print(\"Bad connection! Returned code = \", rc)"
   ]
  },
  {
   "cell_type": "code",
   "execution_count": 3,
   "metadata": {},
   "outputs": [],
   "source": [
    "def start_callback_thread(procs, stream_name, topic, host, client_id=None):\n",
    "    \"\"\"\n",
    "    This function starts a callback thread called by MQTT\n",
    "    when a message arrives. The function puts the message\n",
    "    into the stream called stream_name.\n",
    "\n",
    "    Parameters\n",
    "    ----------\n",
    "    procs: list of process metadata obtained from\n",
    "           get_processes_and_procs(multicore_specification)\n",
    "           from IoTPy.concurrency.multicore\n",
    "    stream_name: str\n",
    "           The name of a stream which receives these MQTT\n",
    "           messages.\n",
    "    topic: str\n",
    "           The topic to which this stream subscribes\n",
    "    host: The ip address or 'localhost' of the host to which\n",
    "          this stream subscribes.\n",
    "\n",
    "    \"\"\"\n",
    "    def on_message(client, userdata, msg):\n",
    "        data = json.loads(\n",
    "            str(msg.payload.decode(\"utf-8\",\"ignore\")))\n",
    "        if data == '_finished':\n",
    "            # Received a '_finished' message indicating that the \n",
    "            # thread should terminate, and no further messages will\n",
    "            # be arriving on this stream.\n",
    "            terminate_stream(procs, stream_name)\n",
    "            # Terminate the callback thread.\n",
    "            sys.exit()\n",
    "        else:\n",
    "            extend_stream(procs, [data], stream_name)\n",
    "\n",
    "    # Create the client\n",
    "    client = mqtt.Client(client_id)\n",
    "    client.connected_flag = False\n",
    "    client.connect(host)\n",
    "    client.on_connect = on_connect\n",
    "    client.on_message = on_message\n",
    "    client.loop_start()\n",
    "\n",
    "    # Wait for the connection to succeed.\n",
    "    N_MAX_TRIES = 10\n",
    "    TIME_BETWEEN_TRIES = 0.5\n",
    "    TIME_WAIT_FOR_PUBLISHER = 4\n",
    "\n",
    "    # Wait for connection to succeed as indicated\n",
    "    # by client.connected_flag\n",
    "    n_tries = 0\n",
    "    while not client.connected_flag:\n",
    "        time.sleep(TIME_BETWEEN_TRIES)\n",
    "        n_tries += 1\n",
    "        if n_tries > N_MAX_TRIES:\n",
    "            break\n",
    "\n",
    "    if n_tries <= N_MAX_TRIES:\n",
    "        # This client has connected successfully.\n",
    "        # Subscribe to the topic\n",
    "        client.subscribe(topic, qos=1)\n",
    "        # Wait for the MQTT Publisher to start publishing.\n",
    "        time.sleep(TIME_WAIT_FOR_PUBLISHER)\n",
    "    else:\n",
    "        # This client was unable to subscribe.\n",
    "        # Log or print this information\n",
    "        print ('Client unable to subscribe.')"
   ]
  },
  {
   "cell_type": "code",
   "execution_count": 4,
   "metadata": {},
   "outputs": [],
   "source": [
    "from IoTPy.helper_functions.print_stream import print_stream\n",
    "from IoTPy.concurrency.multicore import get_processes_and_procs\n",
    "from IoTPy.concurrency.multicore import terminate_stream\n",
    "from IoTPy.concurrency.multicore import extend_stream"
   ]
  },
  {
   "cell_type": "code",
   "execution_count": 5,
   "metadata": {},
   "outputs": [],
   "source": [
    "def mqtt_subscriber_test():\n",
    "    \"\"\"\n",
    "    This function shows how to use MQTT to receive a\n",
    "    stream that was sent using MQTT_Publisher.\n",
    "\n",
    "    The mqtt_receive_agent prints its single input stream.\n",
    "    The function start_callback_thread starts a thread\n",
    "    which receives JSON input (see 'body in callback) from\n",
    "    MQTT and puts the data into a stream called\n",
    "    'mqtt_receive_stream'.\n",
    "\n",
    "    Note that start_callback_thread is a function that\n",
    "    starts a thread; it is not a thread or a thread target.\n",
    "\n",
    "    For efficiency, the publisher publishes segments of a\n",
    "    stream as opposed to sending each single element separately.\n",
    "\n",
    "    \"\"\"\n",
    "    # Step 0: Define agent functions, source threads \n",
    "    # and actuator threads (if any).\n",
    "\n",
    "    # Step 0.0: Define agent functions.\n",
    "    # This is merely a dummy agent that does nothing other than print.\n",
    "    def mqtt_receive_agent(in_streams, out_streams):\n",
    "        print_stream(in_streams[0], 'mqtt_receive_stream')\n",
    "\n",
    "    # Step 0.1: Define source thread targets (if any).\n",
    "    # qtt_callback_thread imported from MQTT_Subscriber\n",
    "    # This thread is started when processes are started.\n",
    "\n",
    "    # Step 1: multicore_specification of streams and processes.\n",
    "    # Specify Streams: list of pairs (stream_name, stream_type).\n",
    "    # Specify Processes: name, agent function, \n",
    "    #       lists of inputs and outputs, additional arguments.\n",
    "    # The mqtt_receive_stream data type is 'x' for arbitrary.\n",
    "    # If the data type is int use 'i', and use 'f' for float.\n",
    "    multicore_specification = [\n",
    "        # Streams\n",
    "        [('mqtt_receive_stream', 'x')],\n",
    "        # Processes\n",
    "        [{'name': 'mqtt_receive_process', 'agent': mqtt_receive_agent,\n",
    "          'inputs':['mqtt_receive_stream'], 'sources': ['mqtt_receive_stream']}]]\n",
    "\n",
    "    # Step 2: Create processes.\n",
    "    processes, procs = get_processes_and_procs(multicore_specification)\n",
    "\n",
    "    # We skip these steps because we will call start_callback_thread\n",
    "    # to start a thread.\n",
    "    # Step 3: Create threads (if any)\n",
    "    # The function start_callback_thread will start the callback thread.\n",
    "    # Step 4: Specify which process each thread runs in.\n",
    "    # mqtt_callback_thread runs in this (the calling) process.\n",
    "\n",
    "    # Step 5: Start, join and terminate processes.\n",
    "    # Start the mqtt_callback loop thread. The parameters are:\n",
    "    # (0) procs, (1) stream name, (2) the pub/sub topic,\n",
    "    # (3) the host.\n",
    "    start_callback_thread(\n",
    "        procs, 'mqtt_receive_stream', 'topic', 'localhost')\n",
    "    for process in processes: process.start()\n",
    "    for process in processes: process.join()\n",
    "    for process in processes: process.terminate()"
   ]
  },
  {
   "cell_type": "code",
   "execution_count": 6,
   "metadata": {},
   "outputs": [
    {
     "name": "stdout",
     "output_type": "stream",
     "text": [
      "mqtt_receive_stream[0] = a\n",
      "mqtt_receive_stream[1] = 0\n",
      "mqtt_receive_stream[2] = ['c', 'd']\n",
      "mqtt_receive_stream[3] = {'e': 0, 'f': 1}\n",
      "mqtt_receive_stream[4] = [0, 1, 2, 3]\n"
     ]
    }
   ],
   "source": [
    "mqtt_subscriber_test()"
   ]
  }
 ],
 "metadata": {
  "kernelspec": {
   "display_name": "Python 3",
   "language": "python",
   "name": "python3"
  },
  "language_info": {
   "codemirror_mode": {
    "name": "ipython",
    "version": 3
   },
   "file_extension": ".py",
   "mimetype": "text/x-python",
   "name": "python",
   "nbconvert_exporter": "python",
   "pygments_lexer": "ipython3",
   "version": "3.7.3"
  }
 },
 "nbformat": 4,
 "nbformat_minor": 2
}

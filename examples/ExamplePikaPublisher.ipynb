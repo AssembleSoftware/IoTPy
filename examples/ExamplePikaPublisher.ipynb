{
 "cells": [
  {
   "cell_type": "markdown",
   "metadata": {},
   "source": [
    "# Message Queue: RabbitMQ Pika Publisher\n",
    "## Illustrates distributed computing using message queues.\n",
    "\n",
    "We will use multiple implementations of message queues including <b>RabbitMQ/pika</b> and <b>MQTT</b>. This notebook is an illustration of publishing or sending a stream using RabbitMQ.\n",
    "<br>\n",
    "<br>\n",
    "The publisher and subscriber communicate through a specified <i>routing key</i>, <i>exchange</i>, and <i>host</i>. In this example, the data consists of a list of lists, and each sublist of data is published separately after which the sender pauses.\n",
    "<br>\n",
    "<br>\n",
    "<b>Note</b>: Run the notebook <i>ExamplePikaSubscriber</i> first. Then run this notebook: <i>ExamplePikaPublisher</i>. You should see the data that you published using this notebook printed in the notebook <i>ExamplePikaSubscriber</i>.\n"
   ]
  },
  {
   "cell_type": "markdown",
   "metadata": {},
   "source": [
    "# Publishing a Stream: The Central Idea\n",
    "## PikaPublisher(routing_key, exchange, host).publish(stream)\n",
    "The central idea is given by the line above. Next we give an example using threads; you can use the example if you want to publish a stream in an application with multiple processes."
   ]
  },
  {
   "cell_type": "markdown",
   "metadata": {},
   "source": [
    "# An Example"
   ]
  },
  {
   "cell_type": "code",
   "execution_count": 1,
   "metadata": {},
   "outputs": [],
   "source": [
    "import pika\n",
    "import json\n",
    "import time\n",
    "import threading\n",
    "\n",
    "import sys\n",
    "sys.path.append(\"../\")\n",
    "from IoTPy.core.agent import Agent\n",
    "from IoTPy.core.stream import Stream, StreamArray, _no_value, _multivalue, run\n",
    "from IoTPy.agent_types.op import map_element\n",
    "from IoTPy.helper_functions.recent_values import recent_values\n",
    "from IoTPy.helper_functions.print_stream import print_stream\n",
    "# multicore imports\n",
    "from IoTPy.concurrency.multicore import get_processes, get_processes_and_procs\n",
    "from IoTPy.concurrency.multicore import terminate_stream\n",
    "from IoTPy.concurrency.multicore import get_proc_that_inputs_source\n",
    "from IoTPy.concurrency.multicore import extend_stream\n",
    "# Pika imports\n",
    "from IoTPy.concurrency.PikaPublisher import PikaPublisher\n",
    "from IoTPy.concurrency.PikaSubscriber import PikaSubscriber"
   ]
  },
  {
   "cell_type": "code",
   "execution_count": 2,
   "metadata": {},
   "outputs": [],
   "source": [
    "def test_pika_publisher(routing_key, exchange, host, data):\n",
    "    # Step 0: Define agent functions, source threads \n",
    "    # and actuator threads (if any).\n",
    "\n",
    "    # Step 0.0: Define agent functions.\n",
    "\n",
    "    # pika_publisher_agent is the agent for the processor\n",
    "    # called 'pika_publisher_process'.\n",
    "    def pika_publisher_agent(in_streams, out_streams):\n",
    "        # publish in_streams[0] for the specified routing key, exchange, host.\n",
    "        PikaPublisher(\n",
    "            routing_key, exchange, host).publish(in_streams[0])\n",
    "\n",
    "    # Step 0.1: Define source thread targets (if any).\n",
    "    def thread_target_source(procs):\n",
    "        for sublist in data:\n",
    "            extend_stream(procs, data=sublist, stream_name='source')\n",
    "            # Sleep to simulate an external data source.\n",
    "            time.sleep(0.001)\n",
    "        # Put '_finished' on the stream because the stream will not\n",
    "        # be extended. This informs subscriber that stream is finished.\n",
    "        extend_stream(procs, data=['_finished'], stream_name='source')\n",
    "        # Terminate stream because this stream will not be extended.\n",
    "        terminate_stream(procs, stream_name='source')\n",
    "\n",
    "    # Step 1: multicore_specification of streams and processes.\n",
    "    # Specify Streams: list of pairs (stream_name, stream_type).\n",
    "    # Specify Processes: name, agent function, \n",
    "    #       lists of inputs and outputs, additional arguments.\n",
    "    multicore_specification = [\n",
    "        # Streams\n",
    "        [('source', 'x')],\n",
    "        # Processes\n",
    "        [{'name': 'pika_publisher_process', 'agent': pika_publisher_agent, \n",
    "          'inputs':['source'], 'sources': ['source']}]]\n",
    "\n",
    "    # Step 2: Create processes.\n",
    "    processes, procs = get_processes_and_procs(multicore_specification)\n",
    "\n",
    "    # Step 3: Create threads (if any)\n",
    "    thread_0 = threading.Thread(target=thread_target_source, args=(procs,))\n",
    "\n",
    "    # Step 4: Specify which process each thread runs in.\n",
    "    # thread_0 runs in the process called 'p1'\n",
    "    procs['pika_publisher_process'].threads = [thread_0]\n",
    "\n",
    "    # Step 5: Start, join and terminate processes.\n",
    "    for process in processes: process.start()\n",
    "    for process in processes: process.join()\n",
    "    for process in processes: process.terminate()"
   ]
  },
  {
   "cell_type": "code",
   "execution_count": 3,
   "metadata": {},
   "outputs": [],
   "source": [
    "# This is some arbitrary data merely for testing.\n",
    "# Each sublist of data is published separately.\n",
    "data = [[0, 1], ['Hello', 'World'], ['THE', 'END', 'IS', 'NIGH!', '_finished']]\n",
    "    \n",
    "test_pika_publisher(\n",
    "    routing_key='temperature', exchange='publications', host='localhost', \n",
    "    data=data)"
   ]
  }
 ],
 "metadata": {
  "kernelspec": {
   "display_name": "Python 3",
   "language": "python",
   "name": "python3"
  },
  "language_info": {
   "codemirror_mode": {
    "name": "ipython",
    "version": 3
   },
   "file_extension": ".py",
   "mimetype": "text/x-python",
   "name": "python",
   "nbconvert_exporter": "python",
   "pygments_lexer": "ipython3",
   "version": "3.7.3"
  }
 },
 "nbformat": 4,
 "nbformat_minor": 2
}

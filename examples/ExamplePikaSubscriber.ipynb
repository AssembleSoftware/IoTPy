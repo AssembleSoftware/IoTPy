{
 "cells": [
  {
   "cell_type": "markdown",
   "metadata": {},
   "source": [
    "# Message Queue: RabbitMQ Pika Subscriber\n",
    "## Illustrates distributed computing using message queues.\n",
    "\n",
    "We will use multiple implementations of message queues including <b>RabbitMQ/pika</b> and <b>MQTT</b>. This notebook is an illustration of subscribing or receiving a stream using RabbitMQ.\n",
    "<br>\n",
    "<br>\n",
    "The publisher and subscriber communicate through a specified <i>routing key</i>, <i>exchange</i>, and <i>host</i>. In this example, the data consists of a list of lists, and each sublist of data is published separately after which the sender pauses.\n",
    "<br>\n",
    "<br>\n",
    "<b>Note</b>: Run this notebook <i>ExamplePikaSubscriber</i> first. Then run the notebook: <i>ExamplePikaPublisher</i>. You should see the data that you published using the notebook <i>ExamplePikaPublisher</i> printed in this notebook <i>ExamplePikaSubscriber</i>.\n"
   ]
  },
  {
   "cell_type": "markdown",
   "metadata": {},
   "source": [
    "# The Central Idea: Callback extends Stream"
   ]
  },
  {
   "cell_type": "code",
   "execution_count": 1,
   "metadata": {},
   "outputs": [],
   "source": [
    "def callback(ch, method, properties, body):\n",
    "    data=json.loads(body)\n",
    "    if data[-1] == '_finished':\n",
    "        extend_stream(procs, data[:-1], stream_name)\n",
    "        terminate_stream(procs, stream_name)\n",
    "        sys.exit()\n",
    "    else:\n",
    "        extend_stream(procs, data, stream_name)"
   ]
  },
  {
   "cell_type": "markdown",
   "metadata": {},
   "source": [
    "# An Example\n",
    "Next we give an example using threads; you can use the example if you want to subscribe to a stream in an application with multiple processes."
   ]
  },
  {
   "cell_type": "code",
   "execution_count": 2,
   "metadata": {},
   "outputs": [],
   "source": [
    "import pika\n",
    "import json\n",
    "import threading\n",
    "\n",
    "import sys\n",
    "sys.path.append(\"../\")\n",
    "\n",
    "from IoTPy.helper_functions.print_stream import print_stream\n",
    "\n",
    "# multicore imports\n",
    "from IoTPy.concurrency.multicore import get_processes, get_processes_and_procs\n",
    "from IoTPy.concurrency.multicore import terminate_stream\n",
    "from IoTPy.concurrency.multicore import get_proc_that_inputs_source\n",
    "from IoTPy.concurrency.multicore import extend_stream\n",
    "from IoTPy.concurrency.PikaSubscriber import PikaSubscriber"
   ]
  },
  {
   "cell_type": "code",
   "execution_count": 3,
   "metadata": {},
   "outputs": [],
   "source": [
    "def pika_subscriber_test():\n",
    "    \"\"\"\n",
    "    This function shows how to use Pika to receive a\n",
    "    stream that was sent using PikaPublisher.\n",
    "\n",
    "    The pika_receive_agent prints its single input stream.\n",
    "    The pika_callback_thread receives JSON input (see 'body\n",
    "    in callback) from Pika and puts the data into a stream\n",
    "    called 'pika_receive_stream'.\n",
    "\n",
    "    \"\"\"\n",
    "    # Step 0: Define agent functions, source threads \n",
    "    # and actuator threads (if any).\n",
    "\n",
    "    # Step 0.0: Define agent functions.\n",
    "    def pika_receive_agent(in_streams, out_streams):\n",
    "        print_stream(in_streams[0], 'x')\n",
    "\n",
    "    # Step 0.1: Define source thread targets (if any).\n",
    "    def pika_callback_thread_target(procs):\n",
    "        def callback(ch, method, properties, body):\n",
    "            data=json.loads(body)\n",
    "            if data[-1] == '_finished':\n",
    "                # Received a '_finished' message indicating that the \n",
    "                # thread should terminate, and no further messages will\n",
    "                # be arriving on this stream.\n",
    "                # Extend the stream with data excluding'_finished'\n",
    "                extend_stream(procs, data[:-1], stream_name='pika_receive_stream')\n",
    "                terminate_stream(procs, stream_name='pika_receive_stream')\n",
    "                # Terminate the callback thread.\n",
    "                sys.exit()\n",
    "            else:\n",
    "                extend_stream(procs, data, stream_name='pika_receive_stream')\n",
    "        # Declare the Pika subscriber\n",
    "        pika_subscriber = PikaSubscriber(\n",
    "            callback, routing_key='temperature',\n",
    "            exchange='publications', host='localhost')\n",
    "        pika_subscriber.start()\n",
    "\n",
    "    # Step 1: multicore_specification of streams and processes.\n",
    "    # Specify Streams: list of pairs (stream_name, stream_type).\n",
    "    # Specify Processes: name, agent function, \n",
    "    #       lists of inputs and outputs, additional arguments.\n",
    "    # The pika_receive_stream data type is 'x' for arbitrary.\n",
    "    multicore_specification = [\n",
    "        # Streams\n",
    "        [('pika_receive_stream', 'x')],\n",
    "        # Processes\n",
    "        [{'name': 'pika_receive_process', 'agent': pika_receive_agent,\n",
    "          'inputs':['pika_receive_stream'], 'sources': ['pika_receive_stream']}]]\n",
    "\n",
    "    # Step 2: Create processes.\n",
    "    processes, procs = get_processes_and_procs(multicore_specification)\n",
    "\n",
    "    # Step 3: Create threads (if any)\n",
    "    pika_callback_thread = threading.Thread(\n",
    "        target=pika_callback_thread_target, args=(procs,))\n",
    "\n",
    "    # Step 4: Specify which process each thread runs in.\n",
    "    # pika_callback_thread runs in the process called 'pika_receive_process'\n",
    "    procs['pika_receive_process'].threads = [pika_callback_thread]\n",
    "\n",
    "    # Step 5: Start, join and terminate processes.\n",
    "    for process in processes: process.start()\n",
    "    for process in processes: process.join()\n",
    "    for process in processes: process.terminate()"
   ]
  },
  {
   "cell_type": "code",
   "execution_count": 4,
   "metadata": {},
   "outputs": [
    {
     "name": "stdout",
     "output_type": "stream",
     "text": [
      "x[0] = 0\n",
      "x[1] = 1\n",
      "x[2] = Hello\n",
      "x[3] = World\n",
      "x[4] = THE\n",
      "x[5] = END\n",
      "x[6] = IS\n",
      "x[7] = NIGH!\n"
     ]
    }
   ],
   "source": [
    "pika_subscriber_test()"
   ]
  }
 ],
 "metadata": {
  "kernelspec": {
   "display_name": "Python 3",
   "language": "python",
   "name": "python3"
  },
  "language_info": {
   "codemirror_mode": {
    "name": "ipython",
    "version": 3
   },
   "file_extension": ".py",
   "mimetype": "text/x-python",
   "name": "python",
   "nbconvert_exporter": "python",
   "pygments_lexer": "ipython3",
   "version": "3.7.3"
  }
 },
 "nbformat": 4,
 "nbformat_minor": 2
}

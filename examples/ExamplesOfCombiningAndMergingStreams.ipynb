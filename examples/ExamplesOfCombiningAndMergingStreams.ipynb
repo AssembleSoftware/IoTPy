{
 "cells": [
  {
   "cell_type": "markdown",
   "metadata": {},
   "source": [
    "# Combining and Merging Streams"
   ]
  },
  {
   "cell_type": "code",
   "execution_count": 1,
   "metadata": {},
   "outputs": [],
   "source": [
    "import os\n",
    "import sys\n",
    "sys.path.append(\"../\")"
   ]
  },
  {
   "cell_type": "code",
   "execution_count": 2,
   "metadata": {},
   "outputs": [],
   "source": [
    "from IoTPy.core.stream import Stream, run\n",
    "from IoTPy.agent_types.op import map_element\n",
    "from IoTPy.helper_functions.recent_values import recent_values"
   ]
  },
  {
   "cell_type": "markdown",
   "metadata": {},
   "source": [
    "## Combining Streams with Binary Operators\n",
    "For streams x, y, and a binary operator, op:\n",
    "x op y\n",
    "is a stream whose n-th value is x[n] op y[n].\n",
    "\n",
    "The following example illustrates how you can combine streams using binary operators such as + and *.\n",
    "\n",
    "The example after the next one illustrates a functional form for stream definitions."
   ]
  },
  {
   "cell_type": "code",
   "execution_count": 3,
   "metadata": {},
   "outputs": [
    {
     "name": "stdout",
     "output_type": "stream",
     "text": [
      "recent_values of z are:\n",
      "[10, 120, 1400]\n"
     ]
    }
   ],
   "source": [
    "w = Stream('w')\n",
    "x = Stream('x')\n",
    "y = Stream('y')\n",
    "\n",
    "z = (x+y)*w\n",
    "# z[n] = (x[n] + y[n])*w[n]\n",
    "w.extend([1, 10, 100])\n",
    "x.extend(list(range(10, 20, 1)))\n",
    "y.extend(list(range(5)))\n",
    "\n",
    "run()\n",
    "\n",
    "print ('recent_values of z are:')\n",
    "print(recent_values(z))\n"
   ]
  },
  {
   "cell_type": "code",
   "execution_count": 4,
   "metadata": {},
   "outputs": [
    {
     "name": "stdout",
     "output_type": "stream",
     "text": [
      "recent_values of z are:\n",
      "[40, 440, 4800]\n"
     ]
    }
   ],
   "source": [
    "from IoTPy.agent_types.basics import fmap_e\n",
    "\n",
    "# Decorate terminating function to specify non-terminating agent.\n",
    "@fmap_e\n",
    "def f(v): return v+10\n",
    "\n",
    "@fmap_e\n",
    "def g(w): return w * 2\n",
    "\n",
    "w = Stream('w')\n",
    "x = Stream('x')\n",
    "y = Stream('y')\n",
    "\n",
    "z = f(x+y)*g(w)\n",
    "# z[n] = f(x[n]+y[n])*g(w[n])\n",
    "\n",
    "w.extend([1, 10, 100])\n",
    "x.extend(list(range(10, 20, 1)))\n",
    "y.extend(list(range(5)))\n",
    "\n",
    "run()\n",
    "\n",
    "print ('recent_values of z are:')\n",
    "print(recent_values(z))"
   ]
  },
  {
   "cell_type": "markdown",
   "metadata": {},
   "source": [
    "## Examples of zip_stream and zip_map\n",
    "zip_stream is similar to zip except that zip operates on lists and zip_stream operates on streams.\n",
    "\n",
    "zip_map applies a specified function to the lists obtained by zipping streams."
   ]
  },
  {
   "cell_type": "code",
   "execution_count": 5,
   "metadata": {},
   "outputs": [
    {
     "name": "stdout",
     "output_type": "stream",
     "text": [
      "recent values of x are\n",
      "['A', 'B', 'C']\n",
      "recent values of y are\n",
      "[100, 200, 300, 400, 500, 600, 700, 800, 900]\n",
      "recent values of z are\n",
      "[('A', 100), ('B', 200), ('C', 300)]\n"
     ]
    }
   ],
   "source": [
    "from IoTPy.agent_types.merge import zip_stream\n",
    "\n",
    "def example_of_zip_stream():\n",
    "    x = Stream('x')\n",
    "    y = Stream('y')\n",
    "    z = Stream('z')\n",
    "    zip_stream(in_streams=[x,y], out_stream=z)\n",
    "\n",
    "    x.extend(['A', 'B', 'C'])\n",
    "    y.extend(list(range(100, 1000, 100)))\n",
    "    run()\n",
    "\n",
    "    print ('recent values of x are')\n",
    "    print (recent_values(x))\n",
    "    print ('recent values of y are')\n",
    "    print (recent_values(y))\n",
    "    print ('recent values of z are')\n",
    "    print (recent_values(z))\n",
    "\n",
    "example_of_zip_stream()"
   ]
  },
  {
   "cell_type": "code",
   "execution_count": 6,
   "metadata": {},
   "outputs": [
    {
     "name": "stdout",
     "output_type": "stream",
     "text": [
      "recent values of x are\n",
      "[0, 1, 2, 3, 4]\n",
      "recent values of y are\n",
      "[100, 200, 300, 400, 500, 600, 700, 800, 900]\n",
      "recent values of z are\n",
      "[100, 201, 302, 403, 504]\n"
     ]
    }
   ],
   "source": [
    "from IoTPy.agent_types.basics import zip_map\n",
    "\n",
    "def example_of_zip_map():\n",
    "    x = Stream('x')\n",
    "    y = Stream('y')\n",
    "    z = Stream('z')\n",
    "    zip_map(func=sum, in_streams=[x,y], out_stream=z)\n",
    "\n",
    "    x.extend(list(range(5)))\n",
    "    y.extend(list(range(100, 1000, 100)))\n",
    "    run()\n",
    "\n",
    "    print ('recent values of x are')\n",
    "    print (recent_values(x))\n",
    "    print ('recent values of y are')\n",
    "    print (recent_values(y))\n",
    "    print ('recent values of z are')\n",
    "    print (recent_values(z))\n",
    "\n",
    "example_of_zip_map()\n",
    "    "
   ]
  },
  {
   "cell_type": "markdown",
   "metadata": {},
   "source": [
    "## Defining Aggregating Functions on Streams\n",
    "The example below shows how you can create aggregators, such as sum_streams, on streams."
   ]
  },
  {
   "cell_type": "code",
   "execution_count": 7,
   "metadata": {},
   "outputs": [
    {
     "name": "stdout",
     "output_type": "stream",
     "text": [
      "recent values of sum of streams are\n",
      "[6, 33, 24]\n",
      "recent values of medians of streams are\n",
      "[2.0, 9.0, 12.0]\n"
     ]
    }
   ],
   "source": [
    "import numpy as np\n",
    "\n",
    "def merge_function(func, streams):\n",
    "    out_stream = Stream()\n",
    "    zip_map(func, streams, out_stream)\n",
    "    return out_stream\n",
    "\n",
    "def sum_streams(streams): return merge_function(sum, streams)\n",
    "def median_streams(streams): return merge_function(np.median, streams)\n",
    "                                            \n",
    "w = Stream('w')\n",
    "x = Stream('x')\n",
    "y = Stream('y')\n",
    "\n",
    "sums = sum_streams([w,x,y])\n",
    "medians = median_streams([w,x,y])\n",
    "                                            \n",
    "w.extend([4, 8, 12, 16])\n",
    "x.extend([0, 16, -16])\n",
    "y.extend([2, 9, 28, 81, 243])\n",
    "run()\n",
    "\n",
    "print ('recent values of sum of streams are')\n",
    "print (recent_values(sums))\n",
    "print ('recent values of medians of streams are')\n",
    "print (recent_values(medians))"
   ]
  },
  {
   "cell_type": "markdown",
   "metadata": {},
   "source": [
    "## Merging Windows\n",
    "In the example, \n",
    "<br>\n",
    "merge_window(func=f, in_streams=[x,y], out_stream=z, window_size=2, step_size=2)\n",
    "<br>\n",
    "creates windows of window_size and step_size for each of the input streams. Thus the windows for the two input streams are:\n",
    "<br>\n",
    "[x[0], x[1]],  [x[2], x[3]],   [x[4], x[5]], ....\n",
    "<br>\n",
    "[y[0], y[1]],  [y[2], y[3]],   [y[4], y[5]], ....\n",
    "<br>\n",
    "Calls to function f return:\n",
    "<br>\n",
    "max([x[0], x[1]]) - min([y[0], y[1]]),   max([x[2], x[3]]) - min([y[2], y[3]]), ...\n"
   ]
  },
  {
   "cell_type": "code",
   "execution_count": 8,
   "metadata": {},
   "outputs": [
    {
     "name": "stdout",
     "output_type": "stream",
     "text": [
      "recent values of z are\n",
      "[5, -1, -7]\n"
     ]
    }
   ],
   "source": [
    "from IoTPy.agent_types.merge import merge_window\n",
    "def f(two_windows):\n",
    "    first_window, second_window = two_windows\n",
    "    return max(first_window) - min(second_window)\n",
    "\n",
    "x = Stream('x')\n",
    "y = Stream('y')\n",
    "z = Stream('z')\n",
    "\n",
    "merge_window(func=f, in_streams=[x,y], out_stream=z, window_size=2, step_size=2)\n",
    "\n",
    "x.extend(list(range(4, 10, 1)))\n",
    "y.extend(list(range(0, 40, 4)))\n",
    "\n",
    "run()\n",
    "\n",
    "print ('recent values of z are')\n",
    "print (recent_values(z))"
   ]
  },
  {
   "cell_type": "markdown",
   "metadata": {},
   "source": [
    "## Asynchronous Merges\n",
    "merge_asynch(f, in_streams, out_stream)\n",
    "<br>\n",
    "Function f operates on a 2-tuple: an index and a value of an input stream, and f returns a single value which is an element of the output stream.\n",
    "<br>\n",
    "Elements from the input streams arrive asynchronously and nondeterministically at this merge agent. The index identifies the input stream on which the element arrived.\n",
    "<br>\n",
    "<br>\n",
    "In this example, the agent merges streams of Fahrenheit and Celsius temperatures to produce an output stream of Kelvin temperatures. The list of input streams is [Fahrenheit, Celsius], and so the indices associated with Fahrenheit and Celsius are 0 and 1 respectively.\n",
    "<br>\n",
    "To convert Celsius to Kelvin add 273 and to convert Fahrenheit convert to Celsius and then add 273."
   ]
  },
  {
   "cell_type": "code",
   "execution_count": 9,
   "metadata": {
    "scrolled": false
   },
   "outputs": [
    {
     "name": "stdout",
     "output_type": "stream",
     "text": [
      "Temperatures in Kelvin are\n",
      "[273.0, 283.0, 273.0, 283.0, 263.0, 0.0, 373.0]\n"
     ]
    }
   ],
   "source": [
    "from IoTPy.agent_types.merge import merge_asynch\n",
    "\n",
    "Fahrenheit = Stream('Fahrenheit')\n",
    "Celsius = Stream('Celsius')\n",
    "Kelvin = Stream('Kelvin')\n",
    "\n",
    "def convert_to_Kelvin(index_and_temperature):\n",
    "    index, temperature = index_and_temperature\n",
    "    result = 273 + (temperature if index == 1\n",
    "                       else (temperature - 32.0)/1.8)\n",
    "    return result\n",
    "    \n",
    "merge_asynch(func=convert_to_Kelvin, \n",
    "             in_streams=[Fahrenheit, Celsius], out_stream=Kelvin)\n",
    "\n",
    "Fahrenheit.extend([32, 50])\n",
    "Celsius.extend([0.0, 10.0])\n",
    "\n",
    "run()\n",
    "\n",
    "Fahrenheit.extend([14.0])\n",
    "Celsius.extend([-273.0, 100.0])\n",
    "\n",
    "run()\n",
    "\n",
    "print ('Temperatures in Kelvin are')\n",
    "print (recent_values(Kelvin))"
   ]
  },
  {
   "cell_type": "markdown",
   "metadata": {},
   "source": [
    "### blend\n",
    "blend(func, in_streams, out_stream)\n",
    "<br>\n",
    "blend executes func on each element of an in_stream when the element arrives at the agent and puts the result on the out_stream. \n",
    "<br>\n",
    "blend is nondeterministic because different executions of a program may results in elements of input streams arriving at the agent in different orders.\n",
    "<br>\n",
    "blend is similar to merge_asynch except that in blend func operates on an element of any in_stream whereas in merge_asynch func operates on a pair (index, element) where index identifies the input stream.\n",
    "<br>\n",
    "<br>\n",
    "In this example, func doubles its argument. Initially, the only elements to arrive at the agent are [0, 1 2] on stream x, and so the agent puts [0, 2, 4] on the output stream. Then the next elements to arrive at the agent are [3, 4] also on stream x, and so the agent appends [6, 8] to the output. Then the next elements to arrive at the agent are [100, 110, 120] on stream y, and do the agent extends the output with [200, 220, 240]."
   ]
  },
  {
   "cell_type": "code",
   "execution_count": 10,
   "metadata": {},
   "outputs": [
    {
     "name": "stdout",
     "output_type": "stream",
     "text": [
      "[0, 2, 4]\n",
      "[0, 2, 4, 6, 8]\n",
      "[0, 2, 4, 6, 8, 200, 220, 240]\n",
      "[0, 2, 4, 6, 8, 200, 220, 240, 10, 12, 14, 16, 18]\n"
     ]
    }
   ],
   "source": [
    "from IoTPy.agent_types.merge import blend\n",
    "\n",
    "def test_blend():\n",
    "    x = Stream('x')\n",
    "    y = Stream('y')\n",
    "    z = Stream('z')\n",
    "\n",
    "    blend(func=lambda v: 2*v, in_streams=[x,y], out_stream=z)\n",
    "\n",
    "    x.extend(list(range(3)))\n",
    "    run()\n",
    "    print (recent_values(z))\n",
    "\n",
    "    x.extend(list(range(3, 5, 1)))\n",
    "    run()\n",
    "    print (recent_values(z))\n",
    "\n",
    "    y.extend(list(range(100, 130, 10)))\n",
    "    run()\n",
    "    print (recent_values(z))\n",
    "\n",
    "    x.extend(list(range(5, 10, 1)))\n",
    "    run()\n",
    "    print (recent_values(z))\n",
    "\n",
    "test_blend()\n",
    "    \n"
   ]
  },
  {
   "cell_type": "code",
   "execution_count": 11,
   "metadata": {},
   "outputs": [
    {
     "name": "stdout",
     "output_type": "stream",
     "text": [
      "recent values of z are:\n",
      "[False  True False False  True]\n"
     ]
    }
   ],
   "source": [
    "from IoTPy.core.stream import StreamArray\n",
    "from IoTPy.agent_types.merge import merge_list\n",
    "\n",
    "def test_merge_list_with_stream_array():\n",
    "    x = StreamArray()\n",
    "    y = StreamArray()\n",
    "    z = StreamArray(dtype='bool')\n",
    "\n",
    "    # Function that is encapsulated\n",
    "    def f(two_arrays):\n",
    "        x_array, y_array = two_arrays\n",
    "        return x_array > y_array\n",
    "\n",
    "    # Create agent\n",
    "    merge_list(f, [x,y], z)\n",
    "\n",
    "    x.extend(np.array([3.0, 5.0, 7.0, 11.0, 30.0]))\n",
    "    y.extend(np.array([4.0, 3.0, 10.0, 20.0, 25.0, 40.0]))\n",
    "    run()\n",
    "\n",
    "    print('recent values of z are:')\n",
    "    print (recent_values(z))\n",
    "test_merge_list_with_stream_array()"
   ]
  },
  {
   "cell_type": "code",
   "execution_count": 12,
   "metadata": {},
   "outputs": [
    {
     "name": "stdout",
     "output_type": "stream",
     "text": [
      "recent values of z are\n",
      "[[1, ['A', None]], [5, ['B', 'a']], [7, [None, 'b']], [9, ['C', 'c']], [12, ['D', 'd']], [13, ['E', None]]]\n"
     ]
    }
   ],
   "source": [
    "from IoTPy.agent_types.merge import timed_zip\n",
    "\n",
    "def test_timed_zip():\n",
    "    x = Stream('x')\n",
    "    y = Stream('y')\n",
    "    z = Stream('z')\n",
    "\n",
    "    # timed_zip_agent(in_streams=[x,y], out_stream=z, name='a')\n",
    "    timed_zip(in_streams=[x, y], out_stream=z)\n",
    "\n",
    "    x.extend([(1, \"A\"), (5, \"B\"), (9, \"C\"), (12, \"D\"), (13, \"E\")])\n",
    "    y.extend([(5, \"a\"), (7, \"b\"), (9, \"c\"), (12, \"d\"), (14, 'e'), (16, 'f')])\n",
    "\n",
    "    run()\n",
    "\n",
    "    print ('recent values of z are')\n",
    "    print (recent_values(z))\n",
    "\n",
    "test_timed_zip()"
   ]
  },
  {
   "cell_type": "code",
   "execution_count": 13,
   "metadata": {},
   "outputs": [
    {
     "name": "stdout",
     "output_type": "stream",
     "text": [
      "[(0, (0, 'a')), (1, (0, 'b')), (2, (1, 'A')), (5, (1, 'B')), (8, (0, 'e'))]\n"
     ]
    }
   ],
   "source": [
    "from IoTPy.agent_types.merge import timed_mix\n",
    "\n",
    "def test_timed_mix_agents():\n",
    "    x = Stream('x')\n",
    "    y = Stream('y')\n",
    "    z = Stream('z')\n",
    "\n",
    "    timed_mix([x,y], z)\n",
    "\n",
    "    x.append((0, 'a'))\n",
    "    run()\n",
    "    # time=0, value='a', in_stream index is\n",
    "    assert recent_values(z) == [(0, (0, 'a'))]\n",
    "\n",
    "    x.append((1, 'b'))\n",
    "    run()\n",
    "    assert recent_values(z) == [(0, (0, 'a')), (1, (0, 'b'))]\n",
    "\n",
    "    y.append((2, 'A'))\n",
    "    run()\n",
    "    assert recent_values(z) == \\\n",
    "      [(0, (0, 'a')), (1, (0, 'b')), (2, (1, 'A'))]\n",
    "\n",
    "    y.append((5, 'B'))\n",
    "    run()\n",
    "    assert recent_values(z) == \\\n",
    "      [(0, (0, 'a')), (1, (0, 'b')), (2, (1, 'A')), (5, (1, 'B'))]\n",
    "\n",
    "    x.append((3, 'c'))\n",
    "    run()\n",
    "    assert recent_values(z) == \\\n",
    "      [(0, (0, 'a')), (1, (0, 'b')), (2, (1, 'A')), (5, (1, 'B'))]\n",
    "\n",
    "    x.append((4, 'd'))\n",
    "    run()\n",
    "    assert recent_values(z) == \\\n",
    "      [(0, (0, 'a')), (1, (0, 'b')), (2, (1, 'A')), (5, (1, 'B'))]\n",
    "\n",
    "    x.append((8, 'e'))\n",
    "    run()\n",
    "    assert recent_values(z) == \\\n",
    "      [(0, (0, 'a')), (1, (0, 'b')), (2, (1, 'A')), (5, (1, 'B')), (8, (0, 'e'))]\n",
    "    print (recent_values(z))\n",
    "\n",
    "test_timed_mix_agents()"
   ]
  }
 ],
 "metadata": {
  "kernelspec": {
   "display_name": "Python 3",
   "language": "python",
   "name": "python3"
  },
  "language_info": {
   "codemirror_mode": {
    "name": "ipython",
    "version": 3
   },
   "file_extension": ".py",
   "mimetype": "text/x-python",
   "name": "python",
   "nbconvert_exporter": "python",
   "pygments_lexer": "ipython3",
   "version": "3.7.3"
  }
 },
 "nbformat": 4,
 "nbformat_minor": 2
}

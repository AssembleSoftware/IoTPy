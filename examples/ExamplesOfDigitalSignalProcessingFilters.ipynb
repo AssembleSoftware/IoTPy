{
 "cells": [
  {
   "cell_type": "markdown",
   "metadata": {},
   "source": [
    "# Signal Processing Examples"
   ]
  },
  {
   "cell_type": "code",
   "execution_count": 1,
   "metadata": {},
   "outputs": [],
   "source": [
    "import numpy as np\n",
    "import sys\n",
    "sys.path.append(\"../\")\n",
    "from IoTPy.core.stream import Stream, StreamArray, run\n",
    "from IoTPy.agent_types.op import map_window\n",
    "from IoTPy.helper_functions.recent_values import recent_values"
   ]
  },
  {
   "cell_type": "code",
   "execution_count": 2,
   "metadata": {},
   "outputs": [],
   "source": [
    "def generate_trignometric_wave(\n",
    "        func, frequency, max_amplitude,\n",
    "        phase_shift, sample_rate, time_duration):\n",
    "    num_samples = int(time_duration * sample_rate)\n",
    "    time_sequence = np.linspace(0, time_duration, num_samples, endpoint=False)\n",
    "    return max_amplitude*func(2*np.pi*(frequency*time_sequence) + phase_shift)"
   ]
  },
  {
   "cell_type": "code",
   "execution_count": 3,
   "metadata": {},
   "outputs": [],
   "source": [
    "def generate_sine_wave(\n",
    "        frequency, max_amplitude, phase_shift,\n",
    "        sample_rate, time_duration):\n",
    "    return generate_trignometric_wave(\n",
    "        np.sin, frequency, max_amplitude, phase_shift,\n",
    "        sample_rate, time_duration)"
   ]
  },
  {
   "cell_type": "code",
   "execution_count": 4,
   "metadata": {},
   "outputs": [],
   "source": [
    "def generate_cosine_wave(\n",
    "        frequency, max_amplitude, phase_shift,\n",
    "        sample_rate, time_duration):\n",
    "    return generate_trignometric_wave(\n",
    "        np.cos, frequency, max_amplitude, phase_shift,\n",
    "        sample_rate, time_duration)"
   ]
  },
  {
   "cell_type": "code",
   "execution_count": 5,
   "metadata": {},
   "outputs": [],
   "source": [
    "def generate_square_wave(\n",
    "        frequency, max_amplitude,\n",
    "        phase_shift, sample_rate, time_duration):\n",
    "    num_samples = time_duration * sample_rate\n",
    "    time_sequence = np.linspace(0, time_duration, num_samples, endpoint=False)\n",
    "    def func(v):\n",
    "        return - np.sign((v - v.astype(int)) - 0.45)\n",
    "    return max_amplitude*func(frequency*time_sequence + phase_shift)"
   ]
  },
  {
   "cell_type": "code",
   "execution_count": 6,
   "metadata": {},
   "outputs": [],
   "source": [
    "from IoTPy.agent_types.op import map_element\n",
    "class Filter(object):\n",
    "    \"\"\"\n",
    "    The base class of filters that filter input streams to\n",
    "    produc output streams.\n",
    "    Uses a, b parameters from scipy.signal or other libraries.\n",
    "\n",
    "    Parameters\n",
    "    ----------\n",
    "    a, b: list of float\n",
    "      Parameters that define a filter.\n",
    "      For a Finite Impulse Response filter, a is None.\n",
    "\n",
    "    Attributes\n",
    "    ----------\n",
    "    N: int\n",
    "      the length of b\n",
    "    x: array of float\n",
    "      The N most recent values of the input stream.\n",
    "      x[0] is the most recent value. For example if\n",
    "      the current value of in_stream is:\n",
    "      in_stream[j-N+1, ... j] then\n",
    "      x[k] = in_stream[j - k]\n",
    "      x is initialized to 0.\n",
    "    y: array of float\n",
    "      The N most recent values of the output stream.\n",
    "      Initialized to 0.\n",
    "      y and x have the same structure.\n",
    "\n",
    "    \"\"\"\n",
    "    def __init__(self, b, a=None):\n",
    "        self.b = np.array(b)\n",
    "        if a is not None:\n",
    "            self.a = np.array(a)\n",
    "        self.N = len(b)\n",
    "        self.x = np.zeros(self.N)\n",
    "        self.y = np.zeros(self.N)\n",
    "\n",
    "    def filter_element(self, element):\n",
    "        \"\"\"\n",
    "        This is the standard filter calculation.\n",
    "        The formula depends on the type of filter.\n",
    "        The formula must be entered for the subclass\n",
    "        derived from the base Filter class.\n",
    "\n",
    "        Parameters\n",
    "        ----------\n",
    "        element: float or int\n",
    "          The next element of the stream.\n",
    "        \"\"\"\n",
    "        pass\n",
    "\n",
    "    def filter_stream(self, in_stream, out_stream):\n",
    "        \"\"\"\n",
    "        Filters the input stream to get the output stream using\n",
    "        the function filter_element.\n",
    "\n",
    "        \"\"\"\n",
    "        map_element(self.filter_element, in_stream, out_stream)"
   ]
  },
  {
   "cell_type": "code",
   "execution_count": 7,
   "metadata": {},
   "outputs": [],
   "source": [
    "class BP_FIR(Filter):\n",
    "    \"\"\"\n",
    "    Bandpass FIR (Finite Impulse Response) Filter.\n",
    "\n",
    "    Parameters\n",
    "    ----------\n",
    "       b: float or int\n",
    "          Filter parameters obtained from scipy.signal.butter\n",
    "          or other sources.\n",
    "\n",
    "    \"\"\"\n",
    "    def __init__(self, b):\n",
    "        Filter.__init__(self, b)\n",
    "\n",
    "    def filter_element(self, element):\n",
    "        \"\"\"\n",
    "        Uses a standard formula for FIR filters.\n",
    "        Shifts x, y to the right by 1 to accomodate\n",
    "        new entry for input x, and compute output.\n",
    "\n",
    "        \"\"\"\n",
    "        # Accomodate new entry, element, in input\n",
    "        # stream x.\n",
    "        self.x[1:] = self.x[:- 1]\n",
    "        self.x[0] = element\n",
    "        return np.sum(self.b * self.x)"
   ]
  },
  {
   "cell_type": "code",
   "execution_count": 8,
   "metadata": {},
   "outputs": [],
   "source": [
    "class BP_IIR(Filter):\n",
    "    \"\"\"\n",
    "    Bandpass IIR (Infinite Impulse Response) Filter.\n",
    "\n",
    "    Parameters\n",
    "    ----------\n",
    "       a, b: float or int\n",
    "          Filter parameters obtained from scipy.signal.butter\n",
    "          or other sources.\n",
    "\n",
    "    \"\"\"\n",
    "    def __init__(self, b, a):\n",
    "        Filter.__init__(self, b, a)\n",
    "\n",
    "    def filter_element(self, element):\n",
    "        \"\"\"\n",
    "        Uses a standard formula for IIR filters.\n",
    "        Shifts x, y to the right by 1 to accomodate\n",
    "        new entry for input x, and then updates y[0].\n",
    "\n",
    "        \"\"\"\n",
    "        # Insert a new value -- element --- into x.\n",
    "        # First shift x to the right by 1.\n",
    "        self.x[1:] = self.x[:- 1]\n",
    "        self.x[0] = element\n",
    "        \n",
    "        # Insert a new value into y.\n",
    "        # First shift y to the right by 1.\n",
    "        self.y[1:] = self.y[:-1]\n",
    "        # Compute new value for y[0]\n",
    "        self.y[0] = self.b[0] * self.x[0]\n",
    "        self.y[0] += sum(self.b[1:]*self.x[1:] -\n",
    "                         self.a[1:]*self.y[1:])\n",
    "        return self.y[0]"
   ]
  },
  {
   "cell_type": "code",
   "execution_count": 9,
   "metadata": {},
   "outputs": [],
   "source": [
    "# See scipy.signal for a library of filters.\n",
    "from scipy.signal import butter, firwin\n",
    "def butter_bandpass(lowcut, highcut, fs, order=2):\n",
    "    \"\"\"\n",
    "    Butterworth IIR filter.\n",
    "    butter() is from scipy.signal\n",
    "\n",
    "    \"\"\"\n",
    "    lowcut, highcut = lowcut*2.0/fs, highcut*2.0/fs\n",
    "    b, a = butter(order, [lowcut, highcut], btype='band')\n",
    "    return b, a"
   ]
  },
  {
   "cell_type": "code",
   "execution_count": 10,
   "metadata": {},
   "outputs": [],
   "source": [
    "def fir_bandpass(lowcut, highcut, fs):\n",
    "    \"\"\"\n",
    "    FIR filter.\n",
    "    firwin() is from scipy.signal\n",
    "\n",
    "    \"\"\"\n",
    "    lowcut, highcut =lowcut*2.0/fs, highcut*2.0/fs\n",
    "    b =  firwin(\n",
    "        numtaps=201, cutoff = [lowcut, highcut],\n",
    "        window='blackmanharris', pass_zero=False)\n",
    "    return b "
   ]
  },
  {
   "cell_type": "code",
   "execution_count": 11,
   "metadata": {},
   "outputs": [],
   "source": [
    "# SET PARAMETERS\n",
    "# fs: sample rate\n",
    "# order: order of the filter\n",
    "# lowcut, highcut: lower and upper thresholds of a bandpass\n",
    "# filter.\n",
    "fs, order, lowcut, highcut = 50.0, 4, 1.0, 4.0"
   ]
  },
  {
   "cell_type": "code",
   "execution_count": 12,
   "metadata": {},
   "outputs": [],
   "source": [
    "low_frequency=0.1,\n",
    "medium_frequency = 2.0\n",
    "high_frequency = 10.0\n",
    "max_amplitude=1.0, \n",
    "phase_shift=0.0, \n",
    "sample_rate=fs,\n",
    "time_duration=10.0\n",
    "\n",
    "wave_data_low_frequency = generate_sine_wave(\n",
    "    low_frequency, max_amplitude, phase_shift,\n",
    "    fs, time_duration)\n",
    "wave_data_medium_frequency = generate_sine_wave(\n",
    "    medium_frequency, max_amplitude, phase_shift,\n",
    "    fs, time_duration)\n",
    "wave_data_high_frequency = generate_sine_wave(\n",
    "    high_frequency, max_amplitude, phase_shift,\n",
    "    fs, time_duration)\n",
    "wave_data_total = (wave_data_low_frequency +\n",
    "                   wave_data_medium_frequency +\n",
    "                   wave_data_high_frequency)"
   ]
  },
  {
   "cell_type": "code",
   "execution_count": 13,
   "metadata": {},
   "outputs": [],
   "source": [
    "import matplotlib.pyplot as plt\n",
    "%matplotlib inline\n",
    "\n",
    "x = StreamArray('x')\n",
    "y = StreamArray('y')\n",
    "# Create bandpass filter \n",
    "b, a = butter_bandpass(lowcut, highcut, fs, order)\n",
    "BP_IIR(b, a).filter_stream(in_stream=x, out_stream=y)\n",
    "x.extend(wave_data_total)\n",
    "run()"
   ]
  },
  {
   "cell_type": "code",
   "execution_count": 14,
   "metadata": {},
   "outputs": [
    {
     "name": "stdout",
     "output_type": "stream",
     "text": [
      "500\n"
     ]
    },
    {
     "data": {
      "image/png": "[encoded data removed]",
      "text/plain": [
       "<Figure size 432x288 with 1 Axes>"
      ]
     },
     "metadata": {
      "needs_background": "light"
     },
     "output_type": "display_data"
    }
   ],
   "source": [
    "print(len(recent_values(x)))\n",
    "plt.plot(recent_values(x)[25:75])\n",
    "plt.show()"
   ]
  },
  {
   "cell_type": "code",
   "execution_count": 15,
   "metadata": {},
   "outputs": [
    {
     "name": "stdout",
     "output_type": "stream",
     "text": [
      "500\n"
     ]
    },
    {
     "data": {
      "image/png": "[encoded data removed]",
      "text/plain": [
       "<Figure size 432x288 with 1 Axes>"
      ]
     },
     "metadata": {
      "needs_background": "light"
     },
     "output_type": "display_data"
    }
   ],
   "source": [
    "print (len(recent_values(y)))\n",
    "plt.plot(recent_values(y)[25:75])\n",
    "plt.show()"
   ]
  },
  {
   "cell_type": "code",
   "execution_count": 16,
   "metadata": {},
   "outputs": [],
   "source": [
    "def window_dot_product(in_stream, out_stream, multiplicand_vector, step_size=1):\n",
    "    def f(window, multiplicand_vector): return np.dot(window, multiplicand_vector)\n",
    "    map_window(f, in_stream, out_stream,\n",
    "               len(multiplicand_vector), step_size, multiplicand_vector=multiplicand_vector)"
   ]
  },
  {
   "cell_type": "code",
   "execution_count": 17,
   "metadata": {},
   "outputs": [],
   "source": [
    "def bandpass_FIR(in_stream, out_stream, b):\n",
    "    \"\"\"\n",
    "    Creates an agent that executes a\n",
    "    FIR (Finite Impulse Response) filter of\n",
    "    in_stream to produce out_stream using\n",
    "    filter parameter b.\n",
    "    Parameters\n",
    "    ----------\n",
    "       in_stream: Stream\n",
    "       out_stream: Stream\n",
    "       b: array\n",
    "    Note\n",
    "    ----\n",
    "    out_stream[n] = sum over k in [0, M] of b[k]*in_stream[n-k]\n",
    "    Therefore, setting k to M-k:\n",
    "    out_stream[n] = sum over k in [0, M] of b[M-k]*in_stream[n-M+k]\n",
    "    So, out_stream[n] is the dot product of the reverse of b and\n",
    "    the in_stream window consisting of: in_stream[n-M]... in_stream[M].\n",
    "\n",
    "    \"\"\"\n",
    "    window_dot_product(in_stream, out_stream, multiplicand_vector=np.flip(b))"
   ]
  },
  {
   "cell_type": "code",
   "execution_count": 18,
   "metadata": {},
   "outputs": [],
   "source": [
    "x = StreamArray('x')\n",
    "y = StreamArray('y')\n",
    "\n",
    "b = fir_bandpass(lowcut, highcut, fs)\n",
    "bandpass_FIR(in_stream=x, out_stream=y, b=b)\n",
    "\n",
    "x.extend(wave_data_total)\n",
    "run()"
   ]
  },
  {
   "cell_type": "code",
   "execution_count": 19,
   "metadata": {},
   "outputs": [
    {
     "data": {
      "image/png": "[encoded data removed]",
      "text/plain": [
       "<Figure size 432x288 with 1 Axes>"
      ]
     },
     "metadata": {
      "needs_background": "light"
     },
     "output_type": "display_data"
    }
   ],
   "source": [
    "plt.plot(recent_values(y)[25:75])\n",
    "plt.show()"
   ]
  },
  {
   "cell_type": "code",
   "execution_count": 20,
   "metadata": {},
   "outputs": [],
   "source": [
    "from IoTPy.agent_types.basics import merge_w\n",
    "def bandpass_IIR(in_stream, out_stream, b, a):\n",
    "    \"\"\"\n",
    "    Creates an agent that executes a\n",
    "    IIR (Infinite Impulse Response) filter of\n",
    "    in_stream to produce out_stream using\n",
    "    filter parameters b, a.\n",
    "    Parameters\n",
    "    ----------\n",
    "       in_stream: Stream\n",
    "       out_stream: Stream\n",
    "       b: array\n",
    "       a: array\n",
    "    Note\n",
    "    ----\n",
    "       out_stream[n] = B - A where\n",
    "       B is sum of k over [0, .., M] of b[k]*in_stream[n-k]\n",
    "       A is sum of k over [1,..., M] of a[k]*out_stream[n-k]\n",
    "       We convert these equations to equations over windows\n",
    "       starting at the index n-M, by substituting M-k for k to get:\n",
    "       B is sum of k over [0, .., M] of b[M-k]*in_stream[n-M+k]\n",
    "       A is sum of k over [0,..., M-1] of a[M-k]*out_stream[n-M+k]\n",
    "       The window operations in function f implement these\n",
    "       equations.\n",
    "       \n",
    "    \"\"\"\n",
    "    reverse_b = np.flip(b)\n",
    "    reverse_a = np.flip(a[1:])\n",
    "    M = len(b)\n",
    "    # Initialize the streams so that windows of size M\n",
    "    # can be merged.\n",
    "    out_stream.extend(np.zeros(M))\n",
    "    in_stream.extend(np.zeros(M))\n",
    "\n",
    "    @merge_w\n",
    "    def f(windows, b, a):\n",
    "        # This function operates on two windows, x_window\n",
    "        # which is a window into the input stream, and\n",
    "        # y_window which is a window into the output stream.\n",
    "        # np.dot is the dot product.\n",
    "        x_window, y_window = windows\n",
    "        return np.dot(b, x_window) - np.dot(a, y_window[1:])\n",
    "\n",
    "    # Create the agent.\n",
    "    # Note that the output stream of the agent gets fed back as an\n",
    "    # input stream.\n",
    "    f(in_streams=[in_stream, out_stream], out_stream=out_stream,\n",
    "      window_size=M, step_size=1, b=reverse_b, a=reverse_a)"
   ]
  },
  {
   "cell_type": "code",
   "execution_count": 21,
   "metadata": {},
   "outputs": [],
   "source": [
    "x = StreamArray('x')\n",
    "y = StreamArray('y')\n",
    "\n",
    "b, a = butter_bandpass(lowcut, highcut, fs, order)\n",
    "bandpass_IIR(in_stream=x, out_stream=y, b=b, a=a)\n",
    "\n",
    "x.extend(wave_data_total)\n",
    "run()"
   ]
  },
  {
   "cell_type": "code",
   "execution_count": 22,
   "metadata": {},
   "outputs": [
    {
     "data": {
      "image/png": "[encoded data removed]",
      "text/plain": [
       "<Figure size 432x288 with 1 Axes>"
      ]
     },
     "metadata": {
      "needs_background": "light"
     },
     "output_type": "display_data"
    }
   ],
   "source": [
    "plt.plot(recent_values(y)[25:75])\n",
    "plt.show()"
   ]
  },
  {
   "cell_type": "code",
   "execution_count": null,
   "metadata": {},
   "outputs": [],
   "source": []
  }
 ],
 "metadata": {
  "kernelspec": {
   "display_name": "Python 3",
   "language": "python",
   "name": "python3"
  },
  "language_info": {
   "codemirror_mode": {
    "name": "ipython",
    "version": 3
   },
   "file_extension": ".py",
   "mimetype": "text/x-python",
   "name": "python",
   "nbconvert_exporter": "python",
   "pygments_lexer": "ipython3",
   "version": "3.7.3"
  }
 },
 "nbformat": 4,
 "nbformat_minor": 2
}

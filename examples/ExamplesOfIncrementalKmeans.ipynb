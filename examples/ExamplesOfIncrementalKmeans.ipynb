{
 "cells": [
  {
   "cell_type": "markdown",
   "metadata": {},
   "source": [
    "# Examples of Incremental AI: \n",
    "# Incremental k-means clustering\n",
    "Many AI algorithms compute local minima. If the dataset changes only a little then the local minimum computed for the previous dataset is often a good place to start a search for the local minimum for the slightly changed dataset. \n",
    "<br>\n",
    "<br>\n",
    "Incremental k-means is merely an application of the k-means algorithm when a set of data points changes slightly. The cluster centers computed for a set of data points are used as the starting points in searching for cluster centers when the points change a little.\n",
    "<br>\n",
    "<br>\n",
    "These examples have only one goal: show how to use programs in sklearn and other Python libraries with IoTPy to build streaming applications. So, the examples are very simple.\n",
    "<br>\n",
    "<br>\n",
    "This notebook is a tutorial into incremental clustering using k-means. The initial part of this notebook is about k-means in general, and does not use IoTPy. <i>To see how IoTPy uses k-means from the sklearn library jump to the heading <b>Part 2: IoTPy</b></i>."
   ]
  },
  {
   "cell_type": "code",
   "execution_count": 1,
   "metadata": {},
   "outputs": [],
   "source": [
    "%matplotlib inline\n",
    "import matplotlib.pyplot as plt\n",
    "import seaborn as sns; sns.set()  # for plot styling\n",
    "import numpy as np\n",
    "import threading\n",
    "import time\n",
    "from sklearn.datasets.samples_generator import make_blobs\n",
    "from sklearn.cluster import KMeans\n",
    "\n",
    "import sys\n",
    "sys.path.append(\"../\")\n",
    "from IoTPy.core.stream import Stream, StreamArray, run\n",
    "from IoTPy.agent_types.op import map_window, map_element\n",
    "from IoTPy.agent_types.sink import sink_element\n",
    "from examples.K_Means.kmeans import normally_distributed_points\n",
    "\n",
    "from IoTPy.concurrency.multicore import get_processes, get_processes_and_procs\n",
    "from IoTPy.concurrency.multicore import terminate_stream\n",
    "from IoTPy.concurrency.multicore import get_proc_that_inputs_source\n",
    "from IoTPy.concurrency.multicore import extend_stream"
   ]
  },
  {
   "cell_type": "markdown",
   "metadata": {},
   "source": [
    "# Part 1: Introduction to Random Points & Plots\n",
    "<b>To see incremental k-means in IoTPy jump to <i>Part 2: IoTPy.</i></b>\n",
    "<br>\n",
    "<br>\n",
    "This next section does not use IoTPy; it is a simple introduction to a program in the sklearn library for generating random points with a normal distribution with specified centers and standard deviations, and an introduction to clustering using k-means. You can skip the introduction and jump to Part 2.\n",
    "<br>\n",
    "<br>\n",
    "This section shows how we generate points around specified centers. Here we have four centers at the four corners of a square. [1.0, 1.0], [1.0, -1.0], [-1.0, -1.0], [-1.0, 1.0]\n",
    "<br>\n",
    "<br>\n",
    "When we compute the centers of clusters using <b>kmeans</b> we find that the centers determined by <b>kmeans</b> are different from the centers used to generate random points.\n",
    "<br>\n",
    "<br>\n",
    "Then we change the points a little, adding some points and taking some points out. The new points that we add are around the specified centers [1.0, 1.0], [1.0, -1.0], ... So the points change but are from the same distribution. We can then look at how the clusters change as points change.\n",
    "<br>\n",
    "<br>\n",
    "As you may expect, if the set of points change by adding a <i>single</i> point and taking out a <i>single</i> point, then the clusters change less than if several points are added and taken out.\n",
    "<br>\n",
    "<br>\n",
    "You can run these programs with different values of standard deviation and see how that impacts changing clusters."
   ]
  },
  {
   "cell_type": "markdown",
   "metadata": {},
   "source": [
    "# Parameters for creating random points around centers"
   ]
  },
  {
   "cell_type": "code",
   "execution_count": 2,
   "metadata": {},
   "outputs": [],
   "source": [
    "# CREATE POINTS IN BLOBS AROUND CENTERS\n",
    "# centers is the list of centers of the blobs.\n",
    "CENTERS = np.array([[1.0, 1.0], [1.0, -1.0], \n",
    "                    [-1.0, -1.0], [-1.0, 1.0]])\n",
    "# n_features is the number of features which is also the dimension \n",
    "# of the space.\n",
    "n_features=2\n",
    "# n_centers is the number of centers.\n",
    "n_centers = len(CENTERS)\n",
    "# n_samples is the number of points.\n",
    "n_samples=20\n",
    "# cluster_std is the standard deviation of points around the centers.\n",
    "stdev = 0.2"
   ]
  },
  {
   "cell_type": "markdown",
   "metadata": {},
   "source": [
    "# Sklearn function to generate random points"
   ]
  },
  {
   "cell_type": "code",
   "execution_count": 3,
   "metadata": {},
   "outputs": [],
   "source": [
    "# Create the points\n",
    "points, blob_cluster_ids = make_blobs(\n",
    "    n_samples, n_features, centers=CENTERS, \n",
    "    cluster_std=stdev, random_state=0)\n",
    "# random_state=0 starts random number generator from the same \n",
    "# initial value for every run.\n",
    "# points is the set of points in the blobs\n",
    "# centers[blob_cluster_ids[i]] is the center that generated points[i]"
   ]
  },
  {
   "cell_type": "code",
   "execution_count": 4,
   "metadata": {},
   "outputs": [],
   "source": [
    "# Use kmeans to cluster points into n_cluster clusters.\n",
    "n_clusters = 4\n",
    "kmeans = KMeans(n_clusters)"
   ]
  },
  {
   "cell_type": "markdown",
   "metadata": {},
   "source": [
    "# Function to compute kmeans and plot clusters."
   ]
  },
  {
   "cell_type": "code",
   "execution_count": 5,
   "metadata": {},
   "outputs": [],
   "source": [
    "# Function to compute k-means cluster, plot clusters and centers, and\n",
    "# return centers.\n",
    "def plot_clusters_and_return_centers(points):\n",
    "    kmeans.fit(points)\n",
    "    # cluster_ids[j] is the id of the cluster associated with points[j].\n",
    "    cluster_ids = kmeans.predict(points)\n",
    "    # Plot the points. The parameter c identifies colors of points.\n",
    "    plt.scatter(points[:, 0], points[:, 1], c=cluster_ids, \n",
    "                s=50, cmap='viridis')\n",
    "\n",
    "    # Plot the centers of the clusters computed by k-means.\n",
    "    # kmeans.cluster_centers_ is the list of computed centers\n",
    "    # of the clusters\n",
    "    centers = kmeans.cluster_centers_\n",
    "    plt.scatter(centers[:, 0], centers[:, 1], c='black', \n",
    "                s=50, alpha=0.5);\n",
    "    plt.show()\n",
    "    return centers"
   ]
  },
  {
   "cell_type": "markdown",
   "metadata": {},
   "source": [
    "# Function to change the point set by a few points"
   ]
  },
  {
   "cell_type": "code",
   "execution_count": 6,
   "metadata": {},
   "outputs": [],
   "source": [
    "# FUNCTION TO CHANGE THE POINT SET BY A FEW POINTS\n",
    "# Generate more points around the centers. The number of points\n",
    "# generated is n_more_points\n",
    "# Create a sliding window in which n_more_points are generated around\n",
    "# each center, and the previous n_more_points*n_clusters points are \n",
    "# removed.\n",
    "n_more_points=2\n",
    "def change_points(points, n_more_points, n_clusters):\n",
    "    for center in CENTERS:\n",
    "        # points_around_center is list of n_more_points points \n",
    "        # distributed normally around the theoretical centers.\n",
    "        # Create new points\n",
    "        new_points, new_blob_cluster_ids = make_blobs(\n",
    "            n_more_points, n_features, centers=CENTERS, \n",
    "            cluster_std=stdev, random_state=0)\n",
    "        #points_around_center = normally_distributed_points(\n",
    "            #center, stdev=stdev, num_points=n_more_points)\n",
    "        # Append these new points to the previous set of points.\n",
    "        points = np.append(points, new_points, axis=0)\n",
    "    # Remove earlier points from the set of points.\n",
    "    # Since we added n_more_points to each cluster, we remove\n",
    "    # n_more_points*n_clusters.\n",
    "    points = points[n_more_points*n_clusters:]\n",
    "    return points"
   ]
  },
  {
   "cell_type": "markdown",
   "metadata": {},
   "source": [
    "# Plot points and theoretical cluster centers"
   ]
  },
  {
   "cell_type": "code",
   "execution_count": 7,
   "metadata": {},
   "outputs": [
    {
     "data": {
      "image/png": "[encoded data removed]",
      "text/plain": [
       "<Figure size 432x288 with 1 Axes>"
      ]
     },
     "metadata": {
      "needs_background": "light"
     },
     "output_type": "display_data"
    }
   ],
   "source": [
    "# Plot points where color of a point is associated with \n",
    "# the cluster center that generated that point.\n",
    "plt.scatter(points[:, 0], points[:, 1], \n",
    "            c=blob_cluster_ids, s=50, cmap='viridis');\n",
    "# Plot the centers around which the blobs were generated.\n",
    "plt.scatter(CENTERS[:, 0], CENTERS[:, 1], c='black', s=200, alpha=0.5);"
   ]
  },
  {
   "cell_type": "markdown",
   "metadata": {},
   "source": [
    "# Plot points and k-means cluster centers"
   ]
  },
  {
   "cell_type": "code",
   "execution_count": 8,
   "metadata": {
    "scrolled": true
   },
   "outputs": [
    {
     "data": {
      "image/png": "[encoded data removed]",
      "text/plain": [
       "<Figure size 432x288 with 1 Axes>"
      ]
     },
     "metadata": {
      "needs_background": "light"
     },
     "output_type": "display_data"
    },
    {
     "data": {
      "text/plain": [
       "array([[-1.00951146,  0.97815168],\n",
       "       [ 1.21828872,  1.07692055],\n",
       "       [ 1.12624365, -0.96598525],\n",
       "       [-0.91361045, -1.01042949]])"
      ]
     },
     "execution_count": 8,
     "metadata": {},
     "output_type": "execute_result"
    }
   ],
   "source": [
    "# Plot points where color of a point is determined by \n",
    "# the kmeans cluster associated with that point.\n",
    "# Note that previously we associated the color of a point with \n",
    "# the center that generated the point. This is the theoretical center.\n",
    "# In this plot the color is associated with the cluster center computed \n",
    "# using kmeans. \n",
    "# The theoretical centers of the clusters are likely to be\n",
    "# different from the centers computed by kmeans.\n",
    "plot_clusters_and_return_centers(points)"
   ]
  },
  {
   "cell_type": "markdown",
   "metadata": {},
   "source": [
    "# Change points and recompute cluster centers."
   ]
  },
  {
   "cell_type": "code",
   "execution_count": 9,
   "metadata": {},
   "outputs": [
    {
     "data": {
      "image/png": "[encoded data removed]",
      "text/plain": [
       "<Figure size 432x288 with 1 Axes>"
      ]
     },
     "metadata": {
      "needs_background": "light"
     },
     "output_type": "display_data"
    },
    {
     "data": {
      "text/plain": [
       "array([[-0.91361045, -1.01042949],\n",
       "       [ 1.26343596,  1.06199567],\n",
       "       [-0.99449372,  0.96487216],\n",
       "       [ 1.18703959, -0.63659009]])"
      ]
     },
     "execution_count": 9,
     "metadata": {},
     "output_type": "execute_result"
    }
   ],
   "source": [
    "points = change_points(points, n_more_points, n_clusters)\n",
    "plot_clusters_and_return_centers(points)"
   ]
  },
  {
   "cell_type": "markdown",
   "metadata": {},
   "source": [
    "# Part 2: Incremental k-means in IoTPy\n",
    "We use a sliding window to see how clusters change as the set of points changes. We will first test windows and agents and later create a multiprocess program.\n",
    "## Part 2 a: Testing streams and agents."
   ]
  },
  {
   "cell_type": "code",
   "execution_count": 10,
   "metadata": {},
   "outputs": [],
   "source": [
    "def test_kmeans(n_steps, n_more_points, \n",
    "                n_samples, n_features, CENTERS, stdev):\n",
    "    # Create streams\n",
    "    stream_of_points = StreamArray(\n",
    "        name='stream_of_points', dimension=n_features)\n",
    "    stream_of_centers = Stream(name='stream_of_centers')\n",
    "\n",
    "    # Create agents\n",
    "    map_window(func=plot_clusters_and_return_centers,\n",
    "               in_stream=stream_of_points,\n",
    "               out_stream=stream_of_centers,\n",
    "               window_size=n_samples,\n",
    "               step_size=n_more_points);\n",
    "    sink_element(func=lambda v: print ('center: \\n', v), \n",
    "                 in_stream=stream_of_centers);\n",
    "\n",
    "    # Start the computation.\n",
    "    # First extend the stream with points around the true centers.\n",
    "    # Compute points around true centers.\n",
    "    points, blob_cluster_ids = make_blobs(\n",
    "        n_samples, n_features, \n",
    "        centers= CENTERS, cluster_std=stdev, random_state=0)\n",
    "    stream_of_points.extend(points)\n",
    "    # Sleep to mimic a stream coming from an external source.\n",
    "    time.sleep(0.001)\n",
    "    run()\n",
    "    # Extend the stream with n_more_points at each step.\n",
    "    for i in range(n_steps-1):\n",
    "        # Compute points to be added to the stream.\n",
    "        new_points, new_blob_cluster_ids = make_blobs(\n",
    "            n_more_points, n_features, centers=CENTERS, \n",
    "            cluster_std=stdev, random_state=0)\n",
    "        # Extend the stream with the new points and run.\n",
    "        stream_of_points.extend(new_points)\n",
    "        # Sleep to mimic a stream coming from an external source.\n",
    "        time.sleep(0.001)\n",
    "        run()"
   ]
  },
  {
   "cell_type": "code",
   "execution_count": 11,
   "metadata": {},
   "outputs": [
    {
     "data": {
      "image/png": "[encoded data removed]",
      "text/plain": [
       "<Figure size 432x288 with 1 Axes>"
      ]
     },
     "metadata": {
      "needs_background": "light"
     },
     "output_type": "display_data"
    },
    {
     "name": "stdout",
     "output_type": "stream",
     "text": [
      "center: \n",
      " [[ 1.06312183 -0.98299262]\n",
      " [-0.95680523  0.99478526]\n",
      " [-1.00475573 -1.01092416]\n",
      " [ 1.10914436  1.03846028]]\n"
     ]
    },
    {
     "data": {
      "image/png": "[encoded data removed]",
      "text/plain": [
       "<Figure size 432x288 with 1 Axes>"
      ]
     },
     "metadata": {
      "needs_background": "light"
     },
     "output_type": "display_data"
    },
    {
     "name": "stdout",
     "output_type": "stream",
     "text": [
      "center: \n",
      " [[ 1.07981571 -0.96726023]\n",
      " [ 1.1203545   1.03871952]\n",
      " [-0.95680523  0.99478526]\n",
      " [-0.99724686 -1.01756392]]\n"
     ]
    },
    {
     "data": {
      "image/png": "[encoded data removed]",
      "text/plain": [
       "<Figure size 432x288 with 1 Axes>"
      ]
     },
     "metadata": {
      "needs_background": "light"
     },
     "output_type": "display_data"
    },
    {
     "name": "stdout",
     "output_type": "stream",
     "text": [
      "center: \n",
      " [[-0.99724686 -1.01756392]\n",
      " [ 1.0828254  -0.93536864]\n",
      " [-0.95680523  0.99478526]\n",
      " [ 1.12278053  1.02919426]]\n"
     ]
    }
   ],
   "source": [
    "test_kmeans(n_steps=3, n_more_points=2, n_samples=20, n_features=2,\n",
    "            CENTERS= np.array(\n",
    "                [[1.0, 1.0], [1.0, -1.0], [-1.0, 1.0], [-1.0, -1.0]]), \n",
    "            stdev=0.1)"
   ]
  },
  {
   "cell_type": "markdown",
   "metadata": {},
   "source": [
    "# A Multiprocessor Implementation\n",
    "![alt text](ExamplesKMeans.jpg \"Multiprocessor Diagram\")"
   ]
  },
  {
   "cell_type": "code",
   "execution_count": 12,
   "metadata": {},
   "outputs": [],
   "source": [
    "# Step 0: Define agent functions, source threads \n",
    "# and actuator threads (if any).\n",
    "\n",
    "# Step 0.0: Define agent functions.\n",
    "# kmeans_agent is the agent for the process called ComputeKmeansProcess.\n",
    "def kmeans_agent(in_streams, out_streams):\n",
    "    def h(window):\n",
    "        print ('plot')\n",
    "        return plot_clusters_and_return_centers(np.array(window))\n",
    "    map_window(func=h,\n",
    "               in_stream=in_streams[0],\n",
    "               out_stream=out_streams[0],\n",
    "               window_size=n_samples,\n",
    "               step_size=n_more_points);\n",
    "\n",
    "# print_centers_agent is the agent for the process called\n",
    "# PrintCentersProcess.\n",
    "def print_centers_agent(in_streams, out_streams):\n",
    "    sink_element(func=lambda v: print ('center: \\n', v), \n",
    "                 in_stream=in_streams[0]);\n",
    "\n",
    "# Step 0.1: Define source thread target.\n",
    "n_steps = 2\n",
    "def generate_points_thread_target(procs):\n",
    "    # Create a set of random points around CENTERS\n",
    "    points, blob_cluster_ids = make_blobs(\n",
    "        n_samples, n_features, centers=CENTERS, \n",
    "        cluster_std=stdev, random_state=0)\n",
    "    \n",
    "    # Add points incrementally.\n",
    "    for _ in range(n_steps):\n",
    "\n",
    "        points_as_list_of_lists = list([\n",
    "            list(v) for v in points\n",
    "        ])\n",
    "        # Extend stream with these additional points\n",
    "        #extend_stream(procs, data=points_as_list_of_lists, \n",
    "                      #stream_name='stream_of_points')\n",
    "        extend_stream(procs, data=points, \n",
    "                      stream_name='stream_of_points')\n",
    "        time.sleep(0.001)\n",
    "\n",
    "        # Create additional random points around CENTERS\n",
    "        points, blob_cluster_ids = make_blobs(\n",
    "            n_more_points, n_features, centers=CENTERS, \n",
    "            cluster_std=stdev, random_state=0)\n",
    "\n",
    "    # Terminate stream because the stream will not be extended\n",
    "    # further.\n",
    "    terminate_stream(procs, stream_name='stream_of_points')\n",
    "    "
   ]
  },
  {
   "cell_type": "code",
   "execution_count": 13,
   "metadata": {},
   "outputs": [
    {
     "name": "stdout",
     "output_type": "stream",
     "text": [
      "plot\n"
     ]
    },
    {
     "data": {
      "image/png": "[encoded data removed]",
      "text/plain": [
       "<Figure size 432x288 with 1 Axes>"
      ]
     },
     "metadata": {
      "needs_background": "light"
     },
     "output_type": "display_data"
    },
    {
     "name": "stdout",
     "output_type": "stream",
     "text": [
      "plot\n",
      "center: \n",
      " [[-1.00951146  0.97815168]\n",
      " [ 1.12624365 -0.96598525]\n",
      " [ 1.21828872  1.07692055]\n",
      " [-0.91361045 -1.01042949]]\n"
     ]
    },
    {
     "data": {
      "image/png": "[encoded data removed]",
      "text/plain": [
       "<Figure size 432x288 with 1 Axes>"
      ]
     },
     "metadata": {
      "needs_background": "light"
     },
     "output_type": "display_data"
    },
    {
     "name": "stdout",
     "output_type": "stream",
     "text": [
      "center: \n",
      " [[-0.99449372  0.96487216]\n",
      " [ 1.15963143 -0.93452046]\n",
      " [ 1.24070901  1.07743903]\n",
      " [-0.91361045 -1.01042949]]\n"
     ]
    }
   ],
   "source": [
    "# Step 1: multicore_specification of streams and processes.\n",
    "# Specify Streams: list of pairs (stream_name, stream_type).\n",
    "# Specify Processes: name, agent function, \n",
    "#       lists of inputs and outputs and sources, additional arguments.\n",
    "multicore_specification = [\n",
    "    # Streams\n",
    "    [('stream_of_points', 'x'), ('stream_of_centers', 'x')],\n",
    "    # Processes\n",
    "    [{'name': 'ComputeKmeansProcess', 'agent': kmeans_agent, \n",
    "      'inputs':['stream_of_points'], 'sources':['stream_of_points'],\n",
    "      'outputs': ['stream_of_centers']},\n",
    "     {'name': 'PrintCentersProcess', 'agent': print_centers_agent, \n",
    "      'inputs':['stream_of_centers']},\n",
    "    ]]\n",
    "\n",
    "# Step 2: Create processes.\n",
    "processes, procs = get_processes_and_procs(multicore_specification)\n",
    "\n",
    "# Step 3: Create threads (if any)\n",
    "generate_points_thread = threading.Thread(\n",
    "    target=generate_points_thread_target, args=(procs,))\n",
    "\n",
    "# Step 4: Specify which process each thread runs in.\n",
    "# thread_0 runs in the process called 'coordinator'\n",
    "procs['Compute_kmeans'].threads = [generate_points_thread]\n",
    "\n",
    "# Step 5: Start, join and terminate processes.\n",
    "for process in processes: process.start()\n",
    "for process in processes: process.join()\n",
    "for process in processes: process.terminate()"
   ]
  },
  {
   "cell_type": "code",
   "execution_count": null,
   "metadata": {},
   "outputs": [],
   "source": []
  }
 ],
 "metadata": {
  "kernelspec": {
   "display_name": "Python 3",
   "language": "python",
   "name": "python3"
  },
  "language_info": {
   "codemirror_mode": {
    "name": "ipython",
    "version": 3
   },
   "file_extension": ".py",
   "mimetype": "text/x-python",
   "name": "python",
   "nbconvert_exporter": "python",
   "pygments_lexer": "ipython3",
   "version": "3.7.3"
  }
 },
 "nbformat": 4,
 "nbformat_minor": 2
}

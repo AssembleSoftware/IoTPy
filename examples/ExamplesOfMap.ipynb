{
 "cells": [
  {
   "cell_type": "markdown",
   "metadata": {},
   "source": [
    "# Examples of @map_e, @fmap_e and map_element\n",
    "This notebook had examples of map from IoTPy/IoTPy/agent_types/op.py\n",
    "You can create an agent that maps an input stream to an output stream using map_element, or the decorators @map_e or @fmap_e.\n",
    "Note: The function map_element and the decorators @map_e and @fmap_e are essentially equivalent. Use the form that you find convenient."
   ]
  },
  {
   "cell_type": "code",
   "execution_count": 1,
   "metadata": {},
   "outputs": [],
   "source": [
    "import sys\n",
    "sys.path.append(\"../\")"
   ]
  },
  {
   "cell_type": "code",
   "execution_count": 2,
   "metadata": {},
   "outputs": [],
   "source": [
    "from IoTPy.core.stream import Stream, run\n",
    "from IoTPy.agent_types.op import map_element\n",
    "from IoTPy.helper_functions.recent_values import recent_values"
   ]
  },
  {
   "cell_type": "markdown",
   "metadata": {},
   "source": [
    "## #Specify streams\n",
    "x = Stream('x') \n",
    "specifies a stream x called 'x'.\n",
    "### Specify terminating function that is wrapped to create non-terminating agent\n",
    "def f(v): return 2 * v\n",
    "takes a single input argument, returns a single value and terminates.\n",
    "### Create a non-terminating agent that wraps f and reads stream x and extends stream y.\n",
    "### y[n] = f(x[n]), all n\n",
    "map_element(func=f, in_stream=x, out_stream=y)"
   ]
  },
  {
   "cell_type": "code",
   "execution_count": 3,
   "metadata": {},
   "outputs": [
    {
     "name": "stdout",
     "output_type": "stream",
     "text": [
      "recent values of stream y are\n",
      "[10, 11, 12, 13, 14]\n"
     ]
    }
   ],
   "source": [
    "def simple_example_of_map_element():\n",
    "    # Specify streams\n",
    "    x = Stream('x')\n",
    "    y = Stream('y')\n",
    "    # Specify encapsulated functions\n",
    "    def f(v): return v+10\n",
    "    # Create agent with input stream x and output stream y.\n",
    "    map_element(func=f, in_stream=x, out_stream=y)\n",
    "    # y[n] = x[n]+10\n",
    "\n",
    "    # Put test values in the input streams.\n",
    "    x.extend(list(range(5)))\n",
    "    # Execute a step\n",
    "    run()\n",
    "    # Look at recent values of streams.\n",
    "    print ('recent values of stream y are')\n",
    "    print (recent_values(y))\n",
    "\n",
    "simple_example_of_map_element()"
   ]
  },
  {
   "cell_type": "markdown",
   "metadata": {},
   "source": [
    "## Example illustrating the decorator @map_e\n",
    "The undecorated function f takes a single argument and returns a single value.\n",
    "The decorated function f has two arguments, an in_stream and an out_stream, and may have additional keyword arguments."
   ]
  },
  {
   "cell_type": "code",
   "execution_count": 4,
   "metadata": {},
   "outputs": [
    {
     "name": "stdout",
     "output_type": "stream",
     "text": [
      "recent values of stream y are\n",
      "[10, 11, 12, 13, 14]\n"
     ]
    }
   ],
   "source": [
    "from IoTPy.agent_types.basics import map_e\n",
    "\n",
    "def simple_example_of_map_e():\n",
    "    # Specify streams\n",
    "    x = Stream('x')\n",
    "    y = Stream('y')\n",
    "\n",
    "    # Decorate terminating function to specify non-terminating agent.\n",
    "    @map_e\n",
    "    def f(v): return v + 10\n",
    "    # Create agent with input stream x and output stream y\n",
    "    f(in_stream=x, out_stream=y)\n",
    "    # y[n] = x[n]+10\n",
    "\n",
    "    # Put test values in the input streams.\n",
    "    x.extend(list(range(5)))\n",
    "    # Execute a step\n",
    "    run()\n",
    "    # Look at recent values of streams.\n",
    "    print ('recent values of stream y are')\n",
    "    print (recent_values(y))\n",
    "\n",
    "simple_example_of_map_e()"
   ]
  },
  {
   "cell_type": "markdown",
   "metadata": {},
   "source": [
    "## Example illustrating the decorator @fmap_e\n",
    "This is the functional form of @map_e\n",
    "The output stream y doesn't have to be declared. f(x) creates and returns a stream."
   ]
  },
  {
   "cell_type": "code",
   "execution_count": 5,
   "metadata": {},
   "outputs": [
    {
     "name": "stdout",
     "output_type": "stream",
     "text": [
      "recent values of stream y are\n",
      "[10, 11, 12, 13, 14]\n"
     ]
    }
   ],
   "source": [
    "from IoTPy.agent_types.basics import fmap_e\n",
    "\n",
    "def simple_example_of_fmap_e():\n",
    "    # Specify streams\n",
    "    x = Stream('x')\n",
    "\n",
    "    # Decorate terminating function to specify non-terminating agent.\n",
    "    @fmap_e\n",
    "    def f(v): return v+10\n",
    "    # Create agent with input stream x and output stream y\n",
    "    y=f(x)\n",
    "    # y[n] = x[n]+10\n",
    "\n",
    "    # Put test values in the input streams.\n",
    "    x.extend(list(range(5)))\n",
    "    # Execute a step\n",
    "    run()\n",
    "    # Look at recent values of streams.\n",
    "    print ('recent values of stream y are')\n",
    "    print (recent_values(y))\n",
    "\n",
    "simple_example_of_fmap_e()"
   ]
  },
  {
   "cell_type": "markdown",
   "metadata": {},
   "source": [
    "## Building Networks of Agents by Connecting Output Streams to Input Streams\n",
    "You can build networks of agents by connecting the output stream of agents to input streams of agents as shown in the next example. "
   ]
  },
  {
   "cell_type": "code",
   "execution_count": 6,
   "metadata": {},
   "outputs": [
    {
     "name": "stdout",
     "output_type": "stream",
     "text": [
      "recent values of stream y are\n",
      "[20, 22, 24, 26, 28]\n"
     ]
    }
   ],
   "source": [
    "def example_of_concatentation_with_map_element():\n",
    "    # Specify streams.\n",
    "    x = Stream('x')\n",
    "    y = Stream('y')\n",
    "    w = Stream('w')\n",
    "\n",
    "    # Specify encapsulated functions\n",
    "    def f(v): return v+10\n",
    "    def g(w): return w*2\n",
    "\n",
    "    # Create agent with input stream x and output stream w.\n",
    "    map_element(func=f, in_stream=x, out_stream=w)\n",
    "    # y[n] = x[n]+10\n",
    "    # Create agent with input stream w and output stream y\n",
    "    map_element(func=g, in_stream=w, out_stream=y)\n",
    "\n",
    "    # Put test values in the input streams.\n",
    "    x.extend(list(range(5)))\n",
    "    # Execute a step\n",
    "    run()\n",
    "    # Look at recent values of streams.\n",
    "    print ('recent values of stream y are')\n",
    "    print (recent_values(y))\n",
    "\n",
    "example_of_concatentation_with_map_element()"
   ]
  },
  {
   "cell_type": "markdown",
   "metadata": {},
   "source": [
    "## A Network of Agents is an Agent\n",
    "You can use functions, in the usual way, to specify a function consisting of a network of agents. This function is itself a persistent agent: It reads its input streams and extends its output streams.\n",
    "\n",
    "In the example below, we specify an agent h with two parameters, x and y, where x is an input stream and y is an output stream. Agent h is composed of two agents --- map_element(f, x, w) and map_element(g, w, y)."
   ]
  },
  {
   "cell_type": "code",
   "execution_count": 7,
   "metadata": {},
   "outputs": [
    {
     "name": "stdout",
     "output_type": "stream",
     "text": [
      "recent values of stream y are\n",
      "[20, 22, 24, 26, 28]\n"
     ]
    }
   ],
   "source": [
    "def example_of_network_of_agents_is_an_agent():\n",
    "\n",
    "    # Specify an agent h with is a network of two agents\n",
    "    # h has an input stream x, and an output stream y.\n",
    "    def h(x, y):\n",
    "        # Specify encapsulated functions local to h\n",
    "        def f(v): return v+10\n",
    "        def g(w): return w*2\n",
    "        # Specify an internal stream of h\n",
    "        w = Stream('w')\n",
    "        # Specify agents local to h\n",
    "        map_element(f, x, w)\n",
    "        map_element(g, w, y)\n",
    "\n",
    "    # Specify streams.\n",
    "    x = Stream('x')\n",
    "    y = Stream('y')\n",
    "\n",
    "    # Create agent h which is a network of agents\n",
    "    h(x, y)\n",
    "\n",
    "    # Put test values in the input streams.\n",
    "    x.extend(list(range(5)))\n",
    "    # Execute a step\n",
    "    run()\n",
    "    # Look at recent values of streams.\n",
    "    print ('recent values of stream y are')\n",
    "    print (recent_values(y))\n",
    "\n",
    "example_of_network_of_agents_is_an_agent()"
   ]
  },
  {
   "cell_type": "markdown",
   "metadata": {},
   "source": [
    "## Function Composition of Agents\n",
    "You can use fmap_e for a functional form, e.g., g(f(x)) in the exampe below."
   ]
  },
  {
   "cell_type": "code",
   "execution_count": 8,
   "metadata": {},
   "outputs": [
    {
     "name": "stdout",
     "output_type": "stream",
     "text": [
      "recent values of stream y are\n",
      "[20, 22, 24, 26, 28]\n"
     ]
    }
   ],
   "source": [
    "def example_of_concatenating_fmap_e():\n",
    "    # Specify streams\n",
    "    x = Stream('x')\n",
    "\n",
    "    # Decorate terminating function to specify non-terminating agent.\n",
    "    @fmap_e\n",
    "    def f(v): return v+10\n",
    "    @fmap_e\n",
    "    def g(w): return w * 2\n",
    "    # Create agent with input stream x and output stream y\n",
    "    y=g(f(x))\n",
    "    # y[n] = (v+10)*2\n",
    "\n",
    "    # Put test values in the input streams.\n",
    "    x.extend(list(range(5)))\n",
    "    # Execute a step\n",
    "    run()\n",
    "    # Look at recent values of streams.\n",
    "    print ('recent values of stream y are')\n",
    "    print (recent_values(y))\n",
    "\n",
    "example_of_concatenating_fmap_e()"
   ]
  },
  {
   "cell_type": "markdown",
   "metadata": {},
   "source": [
    "## Keyword arguments of an Agent\n",
    "(Note: You can also use a class to store keyword arguments and the state.)\n",
    "In the example below, the function add_constant has two parameters, v and ADDEND where v is an element of the input stream of the agent and ADDEND is a keyword parameter. The function returns a single value which is an element of the output stream of the agent. The call to map_element must have the keyword parameter, ADDEND."
   ]
  },
  {
   "cell_type": "code",
   "execution_count": 9,
   "metadata": {},
   "outputs": [
    {
     "name": "stdout",
     "output_type": "stream",
     "text": [
      "recent values of stream y are\n",
      "[10, 11, 12, 13, 14]\n"
     ]
    }
   ],
   "source": [
    "def example_of_keyword_arg_with_map_element():\n",
    "    # Specify streams\n",
    "    x = Stream('x')\n",
    "    y = Stream('y')\n",
    "    \n",
    "    # Specify encapsulated functions\n",
    "    # This function operates on a variable v and has an\n",
    "    # additional argument ADDEND which will be a keyword\n",
    "    # argument to specify the agent.\n",
    "    def add_constant(v, ADDEND): return v + ADDEND\n",
    "\n",
    "    # Specify agents with keyword arguments\n",
    "    map_element(func=add_constant, in_stream=x, out_stream=y,\n",
    "               ADDEND=10)\n",
    "    # y[n] = x[n] + 10\n",
    "\n",
    "    # Put test values in the input streams.\n",
    "    x.extend(list(range(5)))\n",
    "    # Execute a step\n",
    "    run()\n",
    "    # Look at recent values of streams.\n",
    "    print ('recent values of stream y are')\n",
    "    print (recent_values(y))\n",
    "\n",
    "example_of_keyword_arg_with_map_element()"
   ]
  },
  {
   "cell_type": "code",
   "execution_count": 10,
   "metadata": {},
   "outputs": [
    {
     "name": "stdout",
     "output_type": "stream",
     "text": [
      "recent values of stream y are\n",
      "[10, 11, 12, 13, 14]\n"
     ]
    }
   ],
   "source": [
    "def example_of_keyword_arg_with_map_e():\n",
    "    # Specify streams\n",
    "    x = Stream('x')\n",
    "    y = Stream('y')\n",
    "\n",
    "    # Decorate terminating function to specify non-terminating agent.\n",
    "    @map_e\n",
    "    def add_constant(v, ADDEND): return v + ADDEND\n",
    "    # Create agent with input stream x and output stream y with keyword\n",
    "    # argument\n",
    "    add_constant(in_stream=x, out_stream=y, ADDEND=10)\n",
    "    # y[n] = x[n] + 10\n",
    "\n",
    "    # Put test values in the input streams.\n",
    "    x.extend(list(range(5)))\n",
    "    # Execute a step\n",
    "    run()\n",
    "    # Look at recent values of streams.\n",
    "    print ('recent values of stream y are')\n",
    "    print (recent_values(y))\n",
    "\n",
    "example_of_keyword_arg_with_map_e()"
   ]
  },
  {
   "cell_type": "markdown",
   "metadata": {},
   "source": [
    "## State of an Agent\n",
    "The agent saves its state between successive calls to its wrapped function.\n",
    "\n",
    "In the next example, the function f has two arguments, an input element and the state. The function may have additional keyword arguments. The function returns an output element and the next state. The initial state is specified in the call to map_element. In this example, the initial state is 0 because of the call map_element(func=f, in_stream=x, out_stream=y, state=0). Note that the call to map_element must have the keyword argument 'state'."
   ]
  },
  {
   "cell_type": "code",
   "execution_count": 11,
   "metadata": {},
   "outputs": [
    {
     "name": "stdout",
     "output_type": "stream",
     "text": [
      "recent values of stream y are\n",
      "[10, 10, 20, 40]\n"
     ]
    }
   ],
   "source": [
    "def example_of_state_with_map_element():\n",
    "    # Specify streams\n",
    "    x = Stream('x')\n",
    "    y = Stream('y')\n",
    "    # Specify encapsulated functions\n",
    "    def f(input_element, state):\n",
    "        next_output = input_element - state\n",
    "        next_state = input_element\n",
    "        return next_output, next_state\n",
    "    # Create agents with input stream x and output stream y\n",
    "    # and initial state of 0\n",
    "    map_element(func=f, in_stream=x, out_stream=y, state=0)\n",
    "    # state[0] = 0, state[n+1] = x[n]\n",
    "    # y[0] = x[0], y[n+1] = x[n+1] - x[n]\n",
    "\n",
    "    # Put test values in the input streams.\n",
    "    x.extend([10, 20, 40, 80])\n",
    "    # Execute a step\n",
    "    run()\n",
    "    # Look at recent values of streams.\n",
    "    print ('recent values of stream y are')\n",
    "    print (recent_values(y))\n",
    "\n",
    "example_of_state_with_map_element()"
   ]
  },
  {
   "cell_type": "code",
   "execution_count": 12,
   "metadata": {},
   "outputs": [
    {
     "name": "stdout",
     "output_type": "stream",
     "text": [
      "recent values of stream y are\n",
      "[10, 10, 20, 40]\n"
     ]
    }
   ],
   "source": [
    "def example_of_state_with_map_e():\n",
    "    # Specify streams\n",
    "    x = Stream('x')\n",
    "    y = Stream('y')\n",
    "    # Decorate encapsulated functions\n",
    "    @map_e\n",
    "    def f(input_element, state):\n",
    "        next_output = input_element - state\n",
    "        next_state = input_element\n",
    "        return next_output, next_state\n",
    "    # Create agents with input stream x and output stream y\n",
    "    # and initial state of 0\n",
    "    f(in_stream=x, out_stream=y, state=0)\n",
    "    # state[0] = 0, state[n+1] = x[n] - state[n]\n",
    "    # y[0] = x[0], y[n+1] = x[n+1] - x[n]\n",
    "\n",
    "    # Put test values in the input streams.\n",
    "    x.extend([10, 20, 40, 80])\n",
    "    # Execute a step\n",
    "    run()\n",
    "    # Look at recent values of streams.\n",
    "    print ('recent values of stream y are')\n",
    "    print (recent_values(y))\n",
    "\n",
    "example_of_state_with_map_e()"
   ]
  },
  {
   "cell_type": "code",
   "execution_count": 13,
   "metadata": {},
   "outputs": [
    {
     "name": "stdout",
     "output_type": "stream",
     "text": [
      "recent values of stream y are\n",
      "[20, 20, 40, 80]\n"
     ]
    }
   ],
   "source": [
    "def example_of_state_with_concatenation_of_fmap_e():\n",
    "    # Specify streams\n",
    "    x = Stream('x')\n",
    "    # Decorate encapsulated functions\n",
    "    @fmap_e\n",
    "    def f(input_element, state):\n",
    "        next_output = input_element - state\n",
    "        next_state = input_element\n",
    "        return next_output, next_state\n",
    "    @fmap_e\n",
    "    def g(v): return v*2\n",
    "    # Create agents with input stream x and output stream y\n",
    "    # and initial state of 0\n",
    "    y = g(f(x, state=0))\n",
    "    # state[0] = 0, state[n+1] = x[n] - state[n]\n",
    "    # y[0] = x[0], y[n+1] = x[n+1] - x[n]\n",
    "\n",
    "    # Put test values in the input streams.\n",
    "    x.extend([10, 20, 40, 80])\n",
    "    # Execute a step\n",
    "    run()\n",
    "    # Look at recent values of streams.\n",
    "    print ('recent values of stream y are')\n",
    "    print (recent_values(y))\n",
    "\n",
    "example_of_state_with_concatenation_of_fmap_e()"
   ]
  },
  {
   "cell_type": "markdown",
   "metadata": {},
   "source": [
    "## Agents with both State and Keyword Arguments\n",
    "The function that is encapsulated can have both state and additional keyword arguments. Note that the call to map_element must have keyword arguments 'state' and the additional keywords. In the following example the call to map_element specifies the initial state (state=0) and the value of the keyword argument (POWER=2)."
   ]
  },
  {
   "cell_type": "code",
   "execution_count": 14,
   "metadata": {},
   "outputs": [
    {
     "name": "stdout",
     "output_type": "stream",
     "text": [
      "recent values of stream y are\n",
      "[0, 1, 5, 12, 22]\n"
     ]
    }
   ],
   "source": [
    "def example_of_state_with_keyword_arg_with_map_element():\n",
    "    # Specify streams\n",
    "    x = Stream('x')\n",
    "    y = Stream('y')\n",
    "    # Specify encapsulated functions\n",
    "    def f(input_element, state, POWER):\n",
    "        next_output = input_element**POWER + state\n",
    "        next_state = input_element + state\n",
    "        return next_output, next_state\n",
    "    # Create agents with input stream x and output stream y\n",
    "    # and initial state of 0, and keyword arg POWER with value 2.\n",
    "    map_element(func=f, in_stream=x, out_stream=y, state=0, POWER=2)\n",
    "    # state[0] = 0, state[n+1] = x[0] + ... + x[n]\n",
    "    # y[0] = x[0]**2,  y[n+1] = x[n+1]**2 + state[n]\n",
    "\n",
    "    # Put test values in the input streams.\n",
    "    x.extend(list(range(5)))\n",
    "    # Execute a step\n",
    "    run()\n",
    "    # Look at recent values of streams.\n",
    "    print ('recent values of stream y are')\n",
    "    print (recent_values(y))\n",
    "\n",
    "example_of_state_with_keyword_arg_with_map_element()"
   ]
  },
  {
   "cell_type": "code",
   "execution_count": 15,
   "metadata": {},
   "outputs": [
    {
     "name": "stdout",
     "output_type": "stream",
     "text": [
      "recent values of stream y are\n",
      "[0, 1, 5, 12, 22]\n"
     ]
    }
   ],
   "source": [
    "def example_of_state_with_keyword_arg_with_map_e():\n",
    "    # Specify streams\n",
    "    x = Stream('x')\n",
    "    y = Stream('y')\n",
    "    # Decorate encapsulated functions\n",
    "    @map_e\n",
    "    def f(input_element, state, POWER):\n",
    "        next_output = input_element**POWER + state\n",
    "        next_state = input_element + state\n",
    "        return next_output, next_state\n",
    "    # Create agents with input stream x and output stream y\n",
    "    # and initial state of 0, and keyword arg POWER with value 2.\n",
    "    f(in_stream=x, out_stream=y, state=0, POWER=2)\n",
    "    # state[0] = 0, state[n+1] = x[0] + ... + x[n]\n",
    "    # y[0] = x[0]**2,  y[n+1] = x[n+1]**2 + state[n]\n",
    "\n",
    "    # Put test values in the input streams.\n",
    "    x.extend(list(range(5)))\n",
    "    # Execute a step\n",
    "    run()\n",
    "    # Look at recent values of streams.\n",
    "    print ('recent values of stream y are')\n",
    "    print (recent_values(y))\n",
    "\n",
    "example_of_state_with_keyword_arg_with_map_e()"
   ]
  },
  {
   "cell_type": "code",
   "execution_count": 16,
   "metadata": {},
   "outputs": [
    {
     "name": "stdout",
     "output_type": "stream",
     "text": [
      "recent values of stream y are\n",
      "[0, 1, 5, 12, 22]\n"
     ]
    }
   ],
   "source": [
    "def example_of_state_with_keyword_arg_with_fmap_e():\n",
    "    # Specify streams\n",
    "    x = Stream('x')\n",
    "\n",
    "    # Decorate encapsulated functions\n",
    "    @fmap_e\n",
    "    def f(input_element, state, POWER):\n",
    "        next_output = input_element**POWER + state\n",
    "        next_state = input_element + state\n",
    "        return next_output, next_state\n",
    "    # Create agents with input stream x and output stream y\n",
    "    # and initial state of 0, and keyword arg POWER with value 2.\n",
    "    y = f(x, state=0, POWER=2)\n",
    "    # state[0] = 0, state[n+1] = x[0] + ... + x[n]\n",
    "    # y[0] = x[0]**2,  y[n+1] = x[n+1]**2 + state[n]\n",
    "\n",
    "    # Put test values in the input streams.\n",
    "    x.extend(list(range(5)))\n",
    "    # Execute a step\n",
    "    run()\n",
    "    # Look at recent values of streams.\n",
    "    print ('recent values of stream y are')\n",
    "    print (recent_values(y))\n",
    "\n",
    "example_of_state_with_keyword_arg_with_fmap_e()"
   ]
  },
  {
   "cell_type": "code",
   "execution_count": 17,
   "metadata": {},
   "outputs": [
    {
     "name": "stdout",
     "output_type": "stream",
     "text": [
      "recent values of stream y are\n",
      "[0, 1, 1, 2, 3, 5, 8, 13, 21, 34]\n"
     ]
    }
   ],
   "source": [
    "def example_of_saving_state_in_argument():\n",
    "    # y is the Fibonacci sequence\n",
    "    x = Stream('x')\n",
    "    y = Stream('y')\n",
    "    # Save state in s\n",
    "    s = {0:0, 1:1}\n",
    "\n",
    "    def f(v, s):\n",
    "        next = s[0]\n",
    "        s[0], s[1] = s[1], s[0]+s[1]\n",
    "        return next\n",
    "    map_element(f, x, y, s=s)\n",
    "\n",
    "    x.extend(list(range(10)))\n",
    "    run()\n",
    "    print ('recent values of stream y are')\n",
    "    print (recent_values(y))\n",
    "\n",
    "example_of_saving_state_in_argument()"
   ]
  },
  {
   "cell_type": "markdown",
   "metadata": {},
   "source": [
    "## Storing the State and Arguments of an Agent in a Class\n",
    "The next example shows how you can save the state and arguments in a class. In this example, the state is running_sum which is the sum of the values read on the input stream, and multiplicand is an argument."
   ]
  },
  {
   "cell_type": "code",
   "execution_count": 18,
   "metadata": {},
   "outputs": [
    {
     "name": "stdout",
     "output_type": "stream",
     "text": [
      "recent values of stream y are\n",
      "[0, 2, 5, 9, 14]\n"
     ]
    }
   ],
   "source": [
    "def example_class_to_save_state_and_args():\n",
    "    class example(object):\n",
    "        def __init__(self, multiplicand):\n",
    "            self.multiplicand = multiplicand\n",
    "            self.running_sum = 0\n",
    "        def step(self, v):\n",
    "            result = v * self.multiplicand + self.running_sum\n",
    "            self.running_sum += v\n",
    "            return result\n",
    "    x = Stream()\n",
    "    y = Stream()\n",
    "    eg = example(multiplicand=2)\n",
    "    map_element(func=eg.step, in_stream=x, out_stream=y)\n",
    "\n",
    "    x.extend(list(range(5)))\n",
    "    run()\n",
    "    print ('recent values of stream y are')\n",
    "    print (recent_values(y))\n",
    "\n",
    "example_class_to_save_state_and_args()  "
   ]
  }
 ],
 "metadata": {
  "kernelspec": {
   "display_name": "Python 3",
   "language": "python",
   "name": "python3"
  },
  "language_info": {
   "codemirror_mode": {
    "name": "ipython",
    "version": 3
   },
   "file_extension": ".py",
   "mimetype": "text/x-python",
   "name": "python",
   "nbconvert_exporter": "python",
   "pygments_lexer": "ipython3",
   "version": "3.7.3"
  }
 },
 "nbformat": 4,
 "nbformat_minor": 2
}

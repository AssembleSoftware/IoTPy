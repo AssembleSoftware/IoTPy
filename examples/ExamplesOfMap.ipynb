{
 "cells": [
  {
   "cell_type": "markdown",
   "metadata": {},
   "source": [
    "# Examples of @map_e, @fmap_e and map_element\n",
    "This notebook had examples of map from IoTPy/IoTPy/agent_types/op.py\n",
    "You can create an agent that maps an input stream to an output stream using map_element, or the decorators @map_e or @fmap_e.\n",
    "Note: The function map_element and the decorators @map_e and @fmap_e are essentially equivalent. Use the form that you find convenient."
   ]
  },
  {
   "cell_type": "code",
   "execution_count": 1,
   "metadata": {},
   "outputs": [],
   "source": [
    "import os\n",
    "import sys\n",
    "sys.path.append(\"../\")"
   ]
  },
  {
   "cell_type": "code",
   "execution_count": 2,
   "metadata": {},
   "outputs": [],
   "source": [
    "from IoTPy.core.stream import Stream, run\n",
    "from IoTPy.agent_types.op import map_element\n",
    "from IoTPy.helper_functions.recent_values import recent_values"
   ]
  },
  {
   "cell_type": "markdown",
   "metadata": {},
   "source": [
    "### Specify streams\n",
    "<b>x = Stream('x')</b>\n",
    "<br>\n",
    "specifies a stream x called 'x'.\n",
    "\n",
    "### Specify terminating function that is wrapped to create non-terminating agent\n",
    "<b>def f(v): return 2 * v </b>\n",
    "<br>\n",
    "takes a single input argument, <i>v</i> returns a single value --- <i>2*v</i> and terminates.\n",
    "\n",
    "### Create a non-terminating agent that wraps f and reads stream x and extends stream y.\n",
    "<b>y[n] = f(x[n]), all n</b>\n",
    "<br>\n",
    "<b>map_element(func=f, in_stream=x, out_stream=y)</b>"
   ]
  },
  {
   "cell_type": "markdown",
   "metadata": {},
   "source": [
    "# Example of map_element"
   ]
  },
  {
   "cell_type": "code",
   "execution_count": 3,
   "metadata": {},
   "outputs": [
    {
     "name": "stdout",
     "output_type": "stream",
     "text": [
      "recent values of stream y are\n",
      "[10, 11, 12, 13, 14]\n"
     ]
    }
   ],
   "source": [
    "def simple_example_of_map_element():\n",
    "    # Specify encapsulated functions\n",
    "    def f(v): return v+10\n",
    "    \n",
    "    # Specify streams\n",
    "    x = Stream('x')\n",
    "    y = Stream('y')\n",
    "    \n",
    "    # Create agent with input stream x and output stream y.\n",
    "    map_element(func=f, in_stream=x, out_stream=y)\n",
    "    # y[n] = f(x[n])\n",
    "\n",
    "    # Put test values in the input streams.\n",
    "    x.extend(list(range(5)))\n",
    "    # Execute a step\n",
    "    run()\n",
    "    # Look at recent values of streams.\n",
    "    print ('recent values of stream y are')\n",
    "    print (recent_values(y))\n",
    "simple_example_of_map_element()"
   ]
  },
  {
   "cell_type": "markdown",
   "metadata": {},
   "source": [
    "## Example illustrating the decorator @map_e\n",
    "The undecorated function f takes a single argument and returns a single value.\n",
    "The decorated function f has two arguments, an in_stream and an out_stream, and may have additional keyword arguments."
   ]
  },
  {
   "cell_type": "code",
   "execution_count": 4,
   "metadata": {},
   "outputs": [
    {
     "name": "stdout",
     "output_type": "stream",
     "text": [
      "recent values of stream y are\n",
      "[10, 11, 12, 13, 14]\n"
     ]
    }
   ],
   "source": [
    "from IoTPy.agent_types.basics import map_e\n",
    "\n",
    "def simple_example_of_map_e():\n",
    "\n",
    "    # Decorate terminating function to specify non-terminating agent.\n",
    "    @map_e\n",
    "    def f(v): return v + 10\n",
    "    \n",
    "    # Specify streams\n",
    "    x = Stream(name='x')\n",
    "    y = Stream(name='y')\n",
    "\n",
    "    # Create agent with input stream x and output stream y\n",
    "    f(in_stream=x, out_stream=y)\n",
    "    # y[n] = x[n]+10\n",
    "\n",
    "    # Put test values in the input streams.\n",
    "    x.extend(list(range(5)))\n",
    "    # Execute a step\n",
    "    run()\n",
    "    # Look at recent values of streams.\n",
    "    print ('recent values of stream y are')\n",
    "    print (recent_values(y))\n",
    "    \n",
    "simple_example_of_map_e()"
   ]
  },
  {
   "cell_type": "markdown",
   "metadata": {},
   "source": [
    "## Example illustrating the decorator @fmap_e\n",
    "This is the functional form of @map_e\n",
    "The output stream y doesn't have to be declared. f(x) creates and returns a stream."
   ]
  },
  {
   "cell_type": "code",
   "execution_count": 5,
   "metadata": {},
   "outputs": [
    {
     "name": "stdout",
     "output_type": "stream",
     "text": [
      "recent values of stream y are\n",
      "[10, 11, 12, 13, 14]\n"
     ]
    }
   ],
   "source": [
    "from IoTPy.agent_types.basics import fmap_e\n",
    "\n",
    "def simple_example_of_fmap_e():\n",
    "    # Specify streams\n",
    "    x = Stream('x')\n",
    "\n",
    "    # Decorate terminating function to specify non-terminating agent.\n",
    "    @fmap_e\n",
    "    def f(v): return v+10\n",
    "    # Create agent with input stream x and output stream y\n",
    "    y=f(x)\n",
    "    # y[n] = x[n]+10\n",
    "\n",
    "    # Put test values in the input streams.\n",
    "    x.extend(list(range(5)))\n",
    "    # Execute a step\n",
    "    run()\n",
    "    # Look at recent values of streams.\n",
    "    print ('recent values of stream y are')\n",
    "    print (recent_values(y))\n",
    "simple_example_of_fmap_e()"
   ]
  },
  {
   "cell_type": "markdown",
   "metadata": {},
   "source": [
    "## Building Networks of Agents by Connecting Output Streams to Input Streams\n",
    "You can build networks of agents by connecting the output stream of agents to input streams of agents as shown in the next example. "
   ]
  },
  {
   "cell_type": "code",
   "execution_count": 6,
   "metadata": {},
   "outputs": [
    {
     "name": "stdout",
     "output_type": "stream",
     "text": [
      "recent values of stream y are\n",
      "[20, 22, 24, 26, 28]\n"
     ]
    }
   ],
   "source": [
    "def example_of_concatentation_with_map_element():\n",
    "    # Specify streams.\n",
    "    x = Stream('x')\n",
    "    y = Stream('y')\n",
    "    w = Stream('w')\n",
    "\n",
    "    # Specify encapsulated functions\n",
    "    def f(v): return v+10\n",
    "    def g(w): return w*2\n",
    "\n",
    "    # Create agent with input stream x and output stream w.\n",
    "    map_element(func=f, in_stream=x, out_stream=w)\n",
    "    # y[n] = x[n]+10\n",
    "    # Create agent with input stream w and output stream y\n",
    "    map_element(func=g, in_stream=w, out_stream=y)\n",
    "\n",
    "    # Put test values in the input streams.\n",
    "    x.extend(list(range(5)))\n",
    "    # Execute a step\n",
    "    run()\n",
    "    # Look at recent values of streams.\n",
    "    print ('recent values of stream y are')\n",
    "    print (recent_values(y))\n",
    "example_of_concatentation_with_map_element()"
   ]
  },
  {
   "cell_type": "markdown",
   "metadata": {},
   "source": [
    "## A Network of Agents is an Agent\n",
    "You can use functions, in the usual way, to specify a function consisting of a network of agents. This function is itself a persistent agent: It reads its input streams and extends its output streams.\n",
    "\n",
    "In the example below, we specify an agent h with two parameters, x and y, where x is an input stream and y is an output stream. Agent h is composed of two agents --- map_element(f, x, w) and map_element(g, w, y)."
   ]
  },
  {
   "cell_type": "code",
   "execution_count": 7,
   "metadata": {},
   "outputs": [
    {
     "name": "stdout",
     "output_type": "stream",
     "text": [
      "recent values of stream y are\n",
      "[20, 22, 24, 26, 28]\n"
     ]
    }
   ],
   "source": [
    "def example_of_network_of_agents_is_an_agent():\n",
    "\n",
    "    # Specify an agent h with is a network of two agents\n",
    "    # h has an input stream x, and an output stream y.\n",
    "    def h(x, y):\n",
    "        # Specify encapsulated functions local to h\n",
    "        def f(v): return v+10\n",
    "        def g(w): return w*2\n",
    "        # Specify an internal stream of h\n",
    "        w = Stream('w')\n",
    "        # Specify agents local to h\n",
    "        map_element(f, x, w)\n",
    "        map_element(g, w, y)\n",
    "\n",
    "    # Specify streams.\n",
    "    x = Stream('x')\n",
    "    y = Stream('y')\n",
    "\n",
    "    # Create agent h which is a network of agents\n",
    "    h(x, y)\n",
    "\n",
    "    # Put test values in the input streams.\n",
    "    x.extend(list(range(5)))\n",
    "    # Execute a step\n",
    "    run()\n",
    "    # Look at recent values of streams.\n",
    "    print ('recent values of stream y are')\n",
    "    print (recent_values(y))\n",
    "example_of_network_of_agents_is_an_agent()"
   ]
  },
  {
   "cell_type": "markdown",
   "metadata": {},
   "source": [
    "## Function Composition of Agents\n",
    "You can use fmap_e for a functional form, e.g., g(f(x)) in the exampe below."
   ]
  },
  {
   "cell_type": "code",
   "execution_count": 8,
   "metadata": {},
   "outputs": [
    {
     "name": "stdout",
     "output_type": "stream",
     "text": [
      "recent values of stream y are\n",
      "[20, 22, 24, 26, 28]\n"
     ]
    }
   ],
   "source": [
    "def example_of_concatenating_fmap_e():\n",
    "    # Specify streams\n",
    "    x = Stream('x')\n",
    "\n",
    "    # Decorate terminating function to specify non-terminating agent.\n",
    "    @fmap_e\n",
    "    def f(v): return v+10\n",
    "    @fmap_e\n",
    "    def g(w): return w * 2\n",
    "    # Create agent with input stream x and output stream y\n",
    "    y=g(f(x))\n",
    "    # y[n] = (v+10)*2\n",
    "\n",
    "    # Put test values in the input streams.\n",
    "    x.extend(list(range(5)))\n",
    "    # Execute a step\n",
    "    run()\n",
    "    # Look at recent values of streams.\n",
    "    print ('recent values of stream y are')\n",
    "    print (recent_values(y))\n",
    "example_of_concatenating_fmap_e()"
   ]
  },
  {
   "cell_type": "markdown",
   "metadata": {},
   "source": [
    "## Keyword arguments of an Agent\n",
    "(Note: You can also use a class to store keyword arguments and the state.)\n",
    "In the example below, the function add_constant has two parameters, v and ADDEND where v is an element of the input stream of the agent and ADDEND is a keyword parameter. The function returns a single value which is an element of the output stream of the agent. The call to map_element must have the keyword parameter, ADDEND."
   ]
  },
  {
   "cell_type": "code",
   "execution_count": 9,
   "metadata": {},
   "outputs": [
    {
     "name": "stdout",
     "output_type": "stream",
     "text": [
      "recent values of stream y are\n",
      "[10, 11, 12, 13, 14]\n"
     ]
    }
   ],
   "source": [
    "def example_of_keyword_arg_with_map_element():\n",
    "    # Specify streams\n",
    "    x = Stream('x')\n",
    "    y = Stream('y')\n",
    "    \n",
    "    # Specify encapsulated functions\n",
    "    # This function operates on a variable v and has an\n",
    "    # additional argument ADDEND which will be a keyword\n",
    "    # argument to specify the agent.\n",
    "    def add_constant(v, ADDEND): return v + ADDEND\n",
    "\n",
    "    # Specify agents with keyword arguments\n",
    "    map_element(func=add_constant, in_stream=x, out_stream=y,\n",
    "               ADDEND=10)\n",
    "    # y[n] = x[n] + 10\n",
    "\n",
    "    # Put test values in the input streams.\n",
    "    x.extend(list(range(5)))\n",
    "    # Execute a step\n",
    "    run()\n",
    "    # Look at recent values of streams.\n",
    "    print ('recent values of stream y are')\n",
    "    print (recent_values(y))\n",
    "example_of_keyword_arg_with_map_element()"
   ]
  },
  {
   "cell_type": "code",
   "execution_count": 10,
   "metadata": {},
   "outputs": [
    {
     "name": "stdout",
     "output_type": "stream",
     "text": [
      "recent values of stream y are\n",
      "[10, 11, 12, 13, 14]\n"
     ]
    }
   ],
   "source": [
    "def example_of_keyword_arg_with_map_e():\n",
    "    # Specify streams\n",
    "    x = Stream('x')\n",
    "    y = Stream('y')\n",
    "\n",
    "    # Decorate terminating function to specify non-terminating agent.\n",
    "    @map_e\n",
    "    def add_constant(v, ADDEND): return v + ADDEND\n",
    "    # Create agent with input stream x and output stream y with keyword\n",
    "    # argument\n",
    "    add_constant(in_stream=x, out_stream=y, ADDEND=10)\n",
    "    # y[n] = x[n] + 10\n",
    "\n",
    "    # Put test values in the input streams.\n",
    "    x.extend(list(range(5)))\n",
    "    # Execute a step\n",
    "    run()\n",
    "    # Look at recent values of streams.\n",
    "    print ('recent values of stream y are')\n",
    "    print (recent_values(y))\n",
    "example_of_keyword_arg_with_map_e()"
   ]
  },
  {
   "cell_type": "markdown",
   "metadata": {},
   "source": [
    "## State of an Agent\n",
    "The agent saves its state between successive calls to its wrapped function.\n",
    "\n",
    "In the next example, the function f has two arguments, an input element and the state. The function may have additional keyword arguments. The function returns an output element and the next state. The initial state is specified in the call to map_element. In this example, the initial state is 0 because of the call map_element(func=f, in_stream=x, out_stream=y, state=0). Note that the call to map_element must have the keyword argument 'state'."
   ]
  },
  {
   "cell_type": "markdown",
   "metadata": {},
   "source": [
    "## Example: map_element with state"
   ]
  },
  {
   "cell_type": "code",
   "execution_count": 11,
   "metadata": {},
   "outputs": [
    {
     "name": "stdout",
     "output_type": "stream",
     "text": [
      "recent values of stream y are\n",
      "[10, 10, 20, 40]\n"
     ]
    }
   ],
   "source": [
    "def example_of_state_with_map_element():\n",
    "    # Specify encapsulated functions\n",
    "    def f(input_element, state):\n",
    "        next_output = input_element - state\n",
    "        next_state = input_element\n",
    "        return next_output, next_state\n",
    "    \n",
    "    # Specify streams\n",
    "    x = Stream(name='x')\n",
    "    y = Stream(name='y')\n",
    "    \n",
    "    # Create agents with input stream x and output stream y\n",
    "    # and initial state of 0\n",
    "    map_element(func=f, in_stream=x, out_stream=y, state=0)\n",
    "    # state[0] = 0, state[n+1] = x[n]\n",
    "    # y[0] = x[0], y[n+1] = x[n+1] - x[n]\n",
    "\n",
    "    # Put test values in the input streams.\n",
    "    x.extend([10, 20, 40, 80])\n",
    "    # Execute a step\n",
    "    run()\n",
    "    # Look at recent values of streams.\n",
    "    print ('recent values of stream y are')\n",
    "    print (recent_values(y))\n",
    "example_of_state_with_map_element()"
   ]
  },
  {
   "cell_type": "markdown",
   "metadata": {},
   "source": [
    "## Example of decorator @map_e with state"
   ]
  },
  {
   "cell_type": "code",
   "execution_count": 12,
   "metadata": {},
   "outputs": [
    {
     "name": "stdout",
     "output_type": "stream",
     "text": [
      "recent values of stream y are\n",
      "[10, 10, 20, 40]\n"
     ]
    }
   ],
   "source": [
    "def example_of_state_with_map_e():\n",
    "    # Decorate encapsulated functions\n",
    "    @map_e\n",
    "    def f(input_element, state):\n",
    "        next_output = input_element - state\n",
    "        next_state = input_element\n",
    "        return next_output, next_state\n",
    "    \n",
    "    # Specify streams\n",
    "    x = Stream(name='x')\n",
    "    y = Stream(name='y')\n",
    "    \n",
    "    # Create agents with input stream x and output stream y\n",
    "    # and initial state of 0\n",
    "    f(in_stream=x, out_stream=y, state=0)\n",
    "    # state[0] = 0, state[n+1] = x[n] - state[n]\n",
    "    # y[0] = x[0], y[n+1] = x[n+1] - x[n]\n",
    "\n",
    "    # Put test values in the input streams.\n",
    "    x.extend([10, 20, 40, 80])\n",
    "    # Execute a step\n",
    "    run()\n",
    "    # Look at recent values of streams.\n",
    "    print ('recent values of stream y are')\n",
    "    print (recent_values(y))\n",
    "example_of_state_with_map_e()"
   ]
  },
  {
   "cell_type": "markdown",
   "metadata": {},
   "source": [
    "## Example of function composition using decorator @fmap_e"
   ]
  },
  {
   "cell_type": "code",
   "execution_count": 20,
   "metadata": {},
   "outputs": [
    {
     "name": "stdout",
     "output_type": "stream",
     "text": [
      "recent values of stream y are\n",
      "[20, 20, 40, 80]\n"
     ]
    }
   ],
   "source": [
    "def example_of_state_with_concatenation_of_fmap_e():\n",
    "    # Decorate encapsulated functions\n",
    "    @fmap_e\n",
    "    def f(input_element, state):\n",
    "        next_output = input_element - state\n",
    "        next_state = input_element\n",
    "        return next_output, next_state\n",
    "    @fmap_e\n",
    "    def g(v): return v*2\n",
    "    \n",
    "    # Specify streams\n",
    "    x = Stream('x')\n",
    "    \n",
    "    # Create agents with input stream x and output stream y\n",
    "    # and initial state of 0\n",
    "    # Example of function composition\n",
    "    y = g(f(x, state=0))\n",
    "    # state[0] = 0, state[n+1] = x[n] - state[n]\n",
    "    # y[0] = x[0], y[n+1] = x[n+1] - x[n]\n",
    "\n",
    "    # Put test values in the input streams.\n",
    "    x.extend([10, 20, 40, 80])\n",
    "    # Execute a step\n",
    "    run()\n",
    "    # Look at recent values of streams.\n",
    "    print ('recent values of stream y are')\n",
    "    print (recent_values(y))\n",
    "example_of_state_with_concatenation_of_fmap_e()"
   ]
  },
  {
   "cell_type": "markdown",
   "metadata": {},
   "source": [
    "## Agents with both State and Keyword Arguments\n",
    "The function that is encapsulated can have both state and additional keyword arguments. Note that the call to map_element must have keyword arguments 'state' and the additional keywords. In the following example the call to map_element specifies the initial state (state=0) and the value of the keyword argument (POWER=2)."
   ]
  },
  {
   "cell_type": "code",
   "execution_count": 14,
   "metadata": {},
   "outputs": [
    {
     "name": "stdout",
     "output_type": "stream",
     "text": [
      "recent values of stream y are\n",
      "[0, 1, 5, 12, 22]\n"
     ]
    }
   ],
   "source": [
    "def example_of_state_with_keyword_arg_with_map_element():\n",
    "    # Specify streams\n",
    "    x = Stream(name='x')\n",
    "    y = Stream(name='y')\n",
    "    # Specify encapsulated functions\n",
    "    def f(input_element, state, POWER):\n",
    "        next_output = input_element**POWER + state\n",
    "        next_state = input_element + state\n",
    "        return next_output, next_state\n",
    "    # Create agents with input stream x and output stream y\n",
    "    # and initial state of 0, and keyword arg POWER with value 2.\n",
    "    map_element(func=f, in_stream=x, out_stream=y, state=0, POWER=2)\n",
    "    # state[0] = 0, state[n+1] = x[0] + ... + x[n]\n",
    "    # y[0] = x[0]**2,  y[n+1] = x[n+1]**2 + state[n]\n",
    "\n",
    "    # Put test values in the input streams.\n",
    "    x.extend(list(range(5)))\n",
    "    # Execute a step\n",
    "    run()\n",
    "    # Look at recent values of streams.\n",
    "    print ('recent values of stream y are')\n",
    "    print (recent_values(y))\n",
    "example_of_state_with_keyword_arg_with_map_element()"
   ]
  },
  {
   "cell_type": "code",
   "execution_count": 15,
   "metadata": {},
   "outputs": [
    {
     "name": "stdout",
     "output_type": "stream",
     "text": [
      "recent values of stream y are\n",
      "[0, 1, 5, 12, 22]\n"
     ]
    }
   ],
   "source": [
    "def example_of_state_with_keyword_arg_with_map_e():\n",
    "    # Specify streams\n",
    "    x = Stream(name='x')\n",
    "    y = Stream(name='y')\n",
    "    # Decorate encapsulated functions\n",
    "    @map_e\n",
    "    def f(input_element, state, POWER):\n",
    "        next_output = input_element**POWER + state\n",
    "        next_state = input_element + state\n",
    "        return next_output, next_state\n",
    "    # Create agents with input stream x and output stream y\n",
    "    # and initial state of 0, and keyword arg POWER with value 2.\n",
    "    f(in_stream=x, out_stream=y, state=0, POWER=2)\n",
    "    # state[0] = 0, state[n+1] = x[0] + ... + x[n]\n",
    "    # y[0] = x[0]**2,  y[n+1] = x[n+1]**2 + state[n]\n",
    "\n",
    "    # Put test values in the input streams.\n",
    "    x.extend(list(range(5)))\n",
    "    # Execute a step\n",
    "    run()\n",
    "    # Look at recent values of streams.\n",
    "    print ('recent values of stream y are')\n",
    "    print (recent_values(y))\n",
    "example_of_state_with_keyword_arg_with_map_e()"
   ]
  },
  {
   "cell_type": "code",
   "execution_count": 16,
   "metadata": {},
   "outputs": [
    {
     "name": "stdout",
     "output_type": "stream",
     "text": [
      "recent values of stream y are\n",
      "[0, 1, 5, 12, 22]\n"
     ]
    }
   ],
   "source": [
    "def example_of_state_with_keyword_arg_with_fmap_e():\n",
    "    # Specify streams\n",
    "    x = Stream('x')\n",
    "\n",
    "    # Decorate encapsulated functions\n",
    "    @fmap_e\n",
    "    def f(input_element, state, POWER):\n",
    "        next_output = input_element**POWER + state\n",
    "        next_state = input_element + state\n",
    "        return next_output, next_state\n",
    "    # Create agents with input stream x and output stream y\n",
    "    # and initial state of 0, and keyword arg POWER with value 2.\n",
    "    y = f(x, state=0, POWER=2)\n",
    "    # state[0] = 0, state[n+1] = x[0] + ... + x[n]\n",
    "    # y[0] = x[0]**2,  y[n+1] = x[n+1]**2 + state[n]\n",
    "\n",
    "    # Put test values in the input streams.\n",
    "    x.extend(list(range(5)))\n",
    "    # Execute a step\n",
    "    run()\n",
    "    # Look at recent values of streams.\n",
    "    print ('recent values of stream y are')\n",
    "    print (recent_values(y))\n",
    "example_of_state_with_keyword_arg_with_fmap_e()"
   ]
  },
  {
   "cell_type": "markdown",
   "metadata": {},
   "source": [
    "## Saving the State of an Agent in an Argument of the Function\n",
    "In the following example, the state of the agent is stored in a dict, s. The output of the example is the Fibonacci sequence. In this example, s[0] is the next output of the sequence and s[1] is the element following s[0]."
   ]
  },
  {
   "cell_type": "code",
   "execution_count": 17,
   "metadata": {},
   "outputs": [
    {
     "name": "stdout",
     "output_type": "stream",
     "text": [
      "recent values of stream y are\n",
      "[0, 1, 1, 2, 3, 5, 8, 13, 21, 34]\n"
     ]
    }
   ],
   "source": [
    "def example_of_saving_state_in_argument():\n",
    "    # Specify streams\n",
    "    x = Stream('x')\n",
    "    y = Stream('y')\n",
    "    \n",
    "    s = {'a':0, 'b':1}\n",
    "    # Specify encapsulated functions\n",
    "    def f(v, s):\n",
    "        final, prefinal = s['a'], s['b']\n",
    "        post_final = final + prefinal\n",
    "        # In the next state: prefinal becomes final\n",
    "        # final becomes next_output\n",
    "        s['a'], s['b'] = post_final, final\n",
    "        return final\n",
    "\n",
    "    # Create agent with input stream x and output stream y and\n",
    "    # keyword argument s\n",
    "    map_element(f, x, y, s=s)\n",
    "\n",
    "    # Put test values in the input stream.\n",
    "    # The values of x aren't relevant in this example\n",
    "    # because they merely drive the next step of the agent.\n",
    "    x.extend(list(range(10)))\n",
    "\n",
    "    # Execute a step\n",
    "    run()\n",
    "\n",
    "    # Look at recent values of streams.\n",
    "    print ('recent values of stream y are')\n",
    "    print (recent_values(y))\n",
    "    assert recent_values(y) == [0, 1, 1, 2, 3, 5, 8, 13, 21, 34]\n",
    "\n",
    "example_of_saving_state_in_argument()"
   ]
  },
  {
   "cell_type": "markdown",
   "metadata": {},
   "source": [
    "## Storing the State and Arguments of an Agent in a Class\n",
    "The next example shows how you can save the state and arguments in a class. In this example, the state is running_sum which is the sum of the values read on the input stream, and multiplicand is an argument."
   ]
  },
  {
   "cell_type": "code",
   "execution_count": 18,
   "metadata": {},
   "outputs": [
    {
     "name": "stdout",
     "output_type": "stream",
     "text": [
      "recent values of stream y are\n",
      "[0, 2, 5, 9, 14]\n"
     ]
    }
   ],
   "source": [
    "def example_class_to_save_state_and_args():\n",
    "    class example(object):\n",
    "        def __init__(self, multiplicand):\n",
    "            self.multiplicand = multiplicand\n",
    "            self.running_sum = 0\n",
    "        def step(self, v):\n",
    "            result = v * self.multiplicand + self.running_sum\n",
    "            self.running_sum += v\n",
    "            return result\n",
    "    x = Stream()\n",
    "    y = Stream()\n",
    "    eg = example(multiplicand=2)\n",
    "    map_element(func=eg.step, in_stream=x, out_stream=y)\n",
    "\n",
    "    x.extend(list(range(5)))\n",
    "    run()\n",
    "    print ('recent values of stream y are')\n",
    "    print (recent_values(y))\n",
    "example_class_to_save_state_and_args()"
   ]
  },
  {
   "cell_type": "code",
   "execution_count": 19,
   "metadata": {},
   "outputs": [
    {
     "name": "stdout",
     "output_type": "stream",
     "text": [
      "[-4, -2, 0, 2, 4]\n",
      "[-5, -3, -1, 1, 3]\n",
      "[0, 1, 2, 3, 4]\n",
      "[-5, -4, -3, -2, -1]\n",
      "[0, 2, 3]\n",
      "[2, 3, 3, 4, 7]\n",
      "[1, 2, 3, 4]\n"
     ]
    }
   ],
   "source": [
    "from IoTPy.agent_types.op import filter_element\n",
    "def examples_filter_element():\n",
    "    x = Stream('x')\n",
    "    #----------------------------------------------------------------    \n",
    "    # Filter to only have even numbers\n",
    "    #----------------------------------------------------------------\n",
    "    even = Stream()\n",
    "    filter_element(func=lambda v: not v%2, in_stream=x, out_stream=even)\n",
    "    # Example: If x = [0, 1, 2, 3, ... ] then y is [0, 2, 4, ...]\n",
    "\n",
    "    #----------------------------------------------------------------    \n",
    "    # Filter to only have odd numbers\n",
    "    #----------------------------------------------------------------\n",
    "    odd = Stream()\n",
    "    filter_element(func=lambda v: v%2, in_stream=x, out_stream=odd)\n",
    "\n",
    "    #----------------------------------------------------------------  \n",
    "     # Filter to only have negative numbers\n",
    "    #----------------------------------------------------------------\n",
    "    neg = Stream('negative')\n",
    "    filter_element(func=lambda v: v < 0, in_stream=x, out_stream=neg)\n",
    "\n",
    "    #----------------------------------------------------------------  \n",
    "     # Filter to only have non_negativenumbers\n",
    "    #----------------------------------------------------------------\n",
    "    non_neg = Stream('non_negative')\n",
    "    filter_element(func=lambda v: v >= 0, in_stream=x, out_stream=non_neg)\n",
    "\n",
    "    #----------------------------------------------------------------    \n",
    "    # filter_element with state and no additional arguments\n",
    "    #----------------------------------------------------------------\n",
    "    def less_than_n(v, state):\n",
    "        next_output_element = (v <= state)\n",
    "        next_state = state+1\n",
    "        return next_output_element, next_state\n",
    "    y = Stream('y')\n",
    "    less = Stream()\n",
    "    filter_element(func=less_than_n, in_stream=y, out_stream=less, state=0)\n",
    "    # State on j-th step is j.\n",
    "    # less_than_n(v, state) returns (v < j) on the j-th step.\n",
    "    # less filters out all elements v for which v > j\n",
    "    # So if y is [1, 5, 0, 2, 6, 3] then since states are [ 0, 1, 2, 3, 4,..]\n",
    "    # then since not(y[0] <= 0), not(y[1] <= 1),\n",
    "    # y[2] <= 2, y[3] <=3, .... the sequence of outputs of the function\n",
    "    # less_than_v are [(False, 0), (False, 1), (True, 2), (True, 3), ...]. So\n",
    "    # the output stream contains y[2], y[3], ... or [0, 2, ...]\n",
    "\n",
    "    #----------------------------------------------------------------    \n",
    "    # filter_element with state and with additional keyword arguments\n",
    "    #----------------------------------------------------------------\n",
    "    # The keyword argument is addend.\n",
    "    def less_than_n_plus_addend(v, state, addend):\n",
    "        # return pair: boolean filter, next state\n",
    "        return v <= state+addend, state+1\n",
    "    z = Stream('z')\n",
    "    less_addend = Stream()\n",
    "    filter_element(func=less_than_n_plus_addend, in_stream=z, \n",
    "                   out_stream=less_addend, state=0, addend=3)\n",
    "    # State on j-th step is j.\n",
    "    # Stream less contains z[j] if and only if z[j] <= j+3\n",
    "    # For example, if z = [2, 3, 3, 4, 10, 15, 7, .....] then the\n",
    "    # output stream is [2, 3, 3, 4, 7, ...]\n",
    "\n",
    "    #----------------------------------------------------------------    \n",
    "    # filter out numbers above the threshold\n",
    "    #----------------------------------------------------------------\n",
    "    def threshold(v, threshold): return v > threshold\n",
    "    above_threshold = Stream('above threshold')\n",
    "    filter_element(func=threshold, in_stream=x,\n",
    "                   out_stream=above_threshold, threshold=0)\n",
    "\n",
    "    # Put data into input streams and run.\n",
    "    DATA_x = list(range(-5, 5, 1))\n",
    "    x.extend(DATA_x)\n",
    "    DATA_y = [1, 5, 0, 2, 6, 3]\n",
    "    y.extend(DATA_y)\n",
    "    DATA_z = [2, 3, 3, 4, 10, 15, 7]\n",
    "    z.extend(DATA_z)\n",
    "    \n",
    "    run()\n",
    "\n",
    "    # Inspect output\n",
    "    assert recent_values(even) == [-4, -2, 0, 2, 4]\n",
    "    assert recent_values(odd) == [-5, -3, -1, 1, 3]\n",
    "    assert recent_values(non_neg) == [0, 1, 2, 3, 4]\n",
    "    assert recent_values(neg) == [-5, -4, -3, -2, -1]\n",
    "    assert recent_values(less) == [0, 2, 3]\n",
    "    assert recent_values(less_addend) == [2, 3, 3, 4, 7]\n",
    "    assert recent_values(above_threshold) == [1, 2, 3, 4]\n",
    "\n",
    "    print (recent_values(even))\n",
    "    print (recent_values(odd))\n",
    "    print (recent_values(non_neg))\n",
    "    print (recent_values(neg))\n",
    "    print (recent_values(less))\n",
    "    print (recent_values(less_addend))\n",
    "    print (recent_values(above_threshold))\n",
    "\n",
    "examples_filter_element()"
   ]
  },
  {
   "cell_type": "code",
   "execution_count": null,
   "metadata": {},
   "outputs": [],
   "source": []
  }
 ],
 "metadata": {
  "kernelspec": {
   "display_name": "Python 3 (ipykernel)",
   "language": "python",
   "name": "python3"
  },
  "language_info": {
   "codemirror_mode": {
    "name": "ipython",
    "version": 3
   },
   "file_extension": ".py",
   "mimetype": "text/x-python",
   "name": "python",
   "nbconvert_exporter": "python",
   "pygments_lexer": "ipython3",
   "version": "3.10.2"
  }
 },
 "nbformat": 4,
 "nbformat_minor": 2
}

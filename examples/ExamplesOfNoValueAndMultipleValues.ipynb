{
 "cells": [
  {
   "cell_type": "markdown",
   "metadata": {},
   "source": [
    "# Examples of returning no value and multiple values\n",
    "\n",
    "There are cases where you want to use map_element but you don't want the agent to append values to output streams in certain situations. You append _no_value in such situations. Note that you can append None to output streams.\n",
    "\n",
    "In some cases, you want to use map_element and you want the agent to output many elements in the output stream for each single element in the input stream; you use _multivalue in that case.\n",
    "\n",
    "The first example passes elements of the input stream to the output stream provided that the elements are not even."
   ]
  },
  {
   "cell_type": "code",
   "execution_count": 1,
   "metadata": {},
   "outputs": [],
   "source": [
    "import sys\n",
    "sys.path.append(\"../\")"
   ]
  },
  {
   "cell_type": "code",
   "execution_count": 2,
   "metadata": {},
   "outputs": [],
   "source": [
    "from IoTPy.core.stream import Stream, run,  _no_value, _multivalue\n",
    "from IoTPy.agent_types.op import map_element\n",
    "from IoTPy.helper_functions.recent_values import recent_values"
   ]
  },
  {
   "cell_type": "code",
   "execution_count": 3,
   "metadata": {},
   "outputs": [],
   "source": [
    "def example_of_no_value():\n",
    "    # Specify streams\n",
    "    x = Stream('x')\n",
    "    y = Stream('y')\n",
    "    # Specify encapsulated functions.\n",
    "    def f(v):\n",
    "        if v % 2 == 0: return _no_value\n",
    "        else: return v\n",
    "    # Create agent with input stream x and output stream y.\n",
    "    map_element(func=f, in_stream=x, out_stream=y)\n",
    "\n",
    "    # Put test values in the input streams.\n",
    "    x.extend(list(range(10)))\n",
    "    # Execute a step\n",
    "    run()\n",
    "    # Look at recent values of streams.\n",
    "    print ('recent values of stream y are')\n",
    "    print (recent_values(y))"
   ]
  },
  {
   "cell_type": "code",
   "execution_count": 4,
   "metadata": {},
   "outputs": [
    {
     "name": "stdout",
     "output_type": "stream",
     "text": [
      "recent values of stream y are\n",
      "[1, 3, 5, 7, 9]\n"
     ]
    }
   ],
   "source": [
    "example_of_no_value()"
   ]
  },
  {
   "cell_type": "markdown",
   "metadata": {},
   "source": [
    "### Example of multiple values\n",
    "In the following example, function f uses _multivalue whereas function g does not. Not that the call to _multivalue has parentheses around the list as in _multivalue([v, v+100]) and NOT _multivalue(v, v+100).\n",
    "\n",
    "The differences between the agents that wrap functions f and g illustrates the use of _multivalue."
   ]
  },
  {
   "cell_type": "code",
   "execution_count": 5,
   "metadata": {},
   "outputs": [],
   "source": [
    "def example_of_multivalue():\n",
    "    # Specify streams\n",
    "    x = Stream('x')\n",
    "    y = Stream('y')\n",
    "    w = Stream('w')\n",
    "    # Specify encapsulated functions.\n",
    "    def f(v): return _multivalue([v, v+100])\n",
    "    def g(v): return [v, v+100]\n",
    "    # Create agents\n",
    "    map_element(func=f, in_stream=x, out_stream=y)\n",
    "    map_element(func=g, in_stream=x, out_stream=w)\n",
    "\n",
    "    # Put test values in the input streams.\n",
    "    x.extend(list(range(5)))\n",
    "    # Execute a step\n",
    "    run()\n",
    "    # Look at recent values of streams.\n",
    "    print ('recent values of stream y are')\n",
    "    print (recent_values(y))\n",
    "    print ('recent values of stream w are')\n",
    "    print (recent_values(w))"
   ]
  },
  {
   "cell_type": "code",
   "execution_count": 6,
   "metadata": {},
   "outputs": [
    {
     "name": "stdout",
     "output_type": "stream",
     "text": [
      "recent values of stream y are\n",
      "[0, 100, 1, 101, 2, 102, 3, 103, 4, 104]\n",
      "recent values of stream w are\n",
      "[[0, 100], [1, 101], [2, 102], [3, 103], [4, 104]]\n"
     ]
    }
   ],
   "source": [
    "example_of_multivalue()"
   ]
  }
 ],
 "metadata": {
  "kernelspec": {
   "display_name": "Python 3",
   "language": "python",
   "name": "python3"
  },
  "language_info": {
   "codemirror_mode": {
    "name": "ipython",
    "version": 3
   },
   "file_extension": ".py",
   "mimetype": "text/x-python",
   "name": "python",
   "nbconvert_exporter": "python",
   "pygments_lexer": "ipython3",
   "version": "3.7.3"
  }
 },
 "nbformat": 4,
 "nbformat_minor": 2
}

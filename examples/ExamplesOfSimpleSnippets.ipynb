{
 "cells": [
  {
   "cell_type": "markdown",
   "metadata": {},
   "source": [
    "# Examples: Simple"
   ]
  },
  {
   "cell_type": "code",
   "execution_count": 1,
   "metadata": {},
   "outputs": [],
   "source": [
    "import numpy as np\n",
    "import sys\n",
    "sys.path.append(\"../\")\n",
    "from IoTPy.core.stream import Stream, StreamArray, run\n",
    "from IoTPy.agent_types.basics import map_e\n",
    "from IoTPy.helper_functions.recent_values import recent_values"
   ]
  },
  {
   "cell_type": "code",
   "execution_count": 2,
   "metadata": {},
   "outputs": [],
   "source": [
    "#--------------------------------------------------------\n",
    "# Agent that evaluates a polynomial on values in a stream\n",
    "#--------------------------------------------------------\n",
    "@map_e\n",
    "def evaluate_polynomial(number, polynomial):\n",
    "    return np.polyval(polynomial, number)\n"
   ]
  },
  {
   "cell_type": "code",
   "execution_count": 3,
   "metadata": {},
   "outputs": [
    {
     "name": "stdout",
     "output_type": "stream",
     "text": [
      "running\n",
      "[ 2. 17. 10.  1.]\n"
     ]
    }
   ],
   "source": [
    "def test_evaluate_polynomial():\n",
    "    # Declare streams\n",
    "    x = StreamArray('x')\n",
    "    y = StreamArray('y')\n",
    "\n",
    "    # Create agent\n",
    "    evaluate_polynomial(x, y, polynomial=[1, 0, 1])\n",
    "\n",
    "    # Put data in input streams\n",
    "    x.extend(np.array([1.0, 4.0, 3.0, 0.0]))\n",
    "\n",
    "    # Execute a step\n",
    "    print ('running')\n",
    "    run()\n",
    "\n",
    "    # Look at values of output streams\n",
    "    assert np.array_equal(\n",
    "        recent_values(y), np.array([2.0, 17.0, 10.0, 1.0]))\n",
    "    print (recent_values(y))\n",
    "    \n",
    "test_evaluate_polynomial()"
   ]
  },
  {
   "cell_type": "code",
   "execution_count": 4,
   "metadata": {},
   "outputs": [],
   "source": [
    "from IoTPy.agent_types.basics import merge_e\n",
    "#----------------------------------------------------\n",
    "# Agent that computes the magnitude of a vector\n",
    "#----------------------------------------------------\n",
    "@merge_e \n",
    "def magnitude_of_vector(coordinates):\n",
    "    return np.linalg.norm(coordinates)"
   ]
  },
  {
   "cell_type": "code",
   "execution_count": 5,
   "metadata": {},
   "outputs": [
    {
     "name": "stdout",
     "output_type": "stream",
     "text": [
      "[3. 6. 5.]\n"
     ]
    }
   ],
   "source": [
    "def test_magnitude_of_vector():\n",
    "    # Declare streams\n",
    "    x = StreamArray('x')\n",
    "    y = StreamArray('y')\n",
    "    z = StreamArray('z')\n",
    "    magnitude_stream = StreamArray('magnitudes')\n",
    "\n",
    "    # Create agent\n",
    "    magnitude_of_vector([x,y,z], magnitude_stream)\n",
    "\n",
    "    # Put data in streams\n",
    "    x.extend(np.array([1.0, 4.0, 3.0]))\n",
    "    y.extend(np.array([2.0, 4.0, 0.0]))\n",
    "    z.extend(np.array([2.0, 2.0, 4.0]))\n",
    "\n",
    "    # Execute a step\n",
    "    run()\n",
    "\n",
    "    # Look at values of output streams\n",
    "    assert np.array_equal(recent_values(magnitude_stream),\n",
    "                           np.array([3.0, 6.0, 5.0]))\n",
    "    print (recent_values(magnitude_stream))\n",
    "test_magnitude_of_vector()"
   ]
  },
  {
   "cell_type": "code",
   "execution_count": 6,
   "metadata": {},
   "outputs": [],
   "source": [
    "from IoTPy.agent_types.op import map_element\n",
    "def exponential_smoothing(in_stream, out_stream, smoothing_factor):\n",
    "    \"\"\"\n",
    "    With input stream x and output stream y:\n",
    "    y[0] = x[0]\n",
    "    y[n] = a*x[n] + (1-a)*y[n-1] for n > 0.\n",
    "    where a is smoothing_factor\n",
    "\n",
    "    \"\"\"\n",
    "    def f(in_stream_element, state, a):\n",
    "        if state is 'empty':\n",
    "            next_state = in_stream_element\n",
    "        else:\n",
    "            next_state = (1.0-a)*state+ a*in_stream_element\n",
    "            # return out_stream_element, next_state\n",
    "            # Note: out_stream_element = next_state\n",
    "            # So, return next_state, next_state\n",
    "        return next_state, next_state\n",
    "    # Create a map_element agent\n",
    "    map_element(f, in_stream, out_stream,\n",
    "                state='empty', a=smoothing_factor)"
   ]
  },
  {
   "cell_type": "code",
   "execution_count": 7,
   "metadata": {},
   "outputs": [
    {
     "name": "stdout",
     "output_type": "stream",
     "text": [
      "[1.         0.75       0.5625     0.421875   0.31640625 0.23730469]\n",
      "[0.         0.25       0.6875     1.265625   1.94921875]\n"
     ]
    }
   ],
   "source": [
    "def test_exponential_smoothing():\n",
    "    # Declare streams\n",
    "    x = StreamArray('x')\n",
    "    y = StreamArray('y')\n",
    "\n",
    "    # Create agent\n",
    "    exponential_smoothing(in_stream=x, out_stream=y, smoothing_factor=0.25)\n",
    "\n",
    "    # Put data in streams\n",
    "    x.extend([1.0]+[0.0]*5)\n",
    "\n",
    "    # Execute a step\n",
    "    run()\n",
    "\n",
    "    # Look at values of output streams\n",
    "    #assert np.array_equal(recent_values(magnitude_stream), np.array([3.0, 6.0, 5.0]))\n",
    "    print (recent_values(y))\n",
    "\n",
    "    x = StreamArray('x')\n",
    "    y = StreamArray('y')\n",
    "\n",
    "    exponential_smoothing(in_stream=x, out_stream=y, smoothing_factor=0.25)\n",
    "\n",
    "    x.extend(np.arange(5.0))\n",
    "\n",
    "    # Execute a step\n",
    "    run()\n",
    "\n",
    "    # Look at values of output streams\n",
    "    #assert np.array_equal(recent_values(magnitude_stream), np.array([3.0, 6.0, 5.0]))\n",
    "    print (recent_values(y))\n",
    "test_exponential_smoothing()"
   ]
  },
  {
   "cell_type": "code",
   "execution_count": 8,
   "metadata": {},
   "outputs": [],
   "source": [
    "def exponential_smooth_and_add(in_stream, out_stream, smoothing_factor):\n",
    "    \"\"\"\n",
    "    With input stream x and output stream y:\n",
    "    y[n] = x[n] + a*x[n-1] + .. + a^m * x[n-m] + ....\n",
    "    where a is smoothing_factor\n",
    "\n",
    "    \"\"\"\n",
    "    def f(in_stream_element, state, a):\n",
    "        next_state = state*a + in_stream_element\n",
    "        # return out_stream_element, next_state\n",
    "        # Note: out_stream_element = next_state\n",
    "        return next_state, next_state\n",
    "    # Create a map_element agent\n",
    "    map_element(f, in_stream, out_stream,\n",
    "                state=0.0, a=smoothing_factor)"
   ]
  },
  {
   "cell_type": "code",
   "execution_count": 9,
   "metadata": {},
   "outputs": [
    {
     "name": "stdout",
     "output_type": "stream",
     "text": [
      "[1.000000e+00 2.500000e-01 6.250000e-02 1.562500e-02 3.906250e-03\n",
      " 9.765625e-04]\n",
      "[0.       1.       2.25     3.5625   4.890625]\n"
     ]
    }
   ],
   "source": [
    "def test_exponential_smooth_and_add():\n",
    "    # Declare streams\n",
    "    x = StreamArray('x')\n",
    "    y = StreamArray('y')\n",
    "\n",
    "    # Create agent\n",
    "    exponential_smooth_and_add(in_stream=x, out_stream=y, smoothing_factor=0.25)\n",
    "\n",
    "    # Put data in streams\n",
    "    x.extend([1.0]+[0.0]*5)\n",
    "\n",
    "    # Execute a step\n",
    "    run()\n",
    "\n",
    "    # Look at values of output streams\n",
    "    #assert np.array_equal(recent_values(magnitude_stream), np.array([3.0, 6.0, 5.0]))\n",
    "    print (recent_values(y))\n",
    "\n",
    "    x = StreamArray('x')\n",
    "    y = StreamArray('y')\n",
    "\n",
    "    exponential_smooth_and_add(in_stream=x, out_stream=y, smoothing_factor=0.25)\n",
    "\n",
    "    x.extend(np.arange(5.0))\n",
    "\n",
    "    # Execute a step\n",
    "    run()\n",
    "\n",
    "    # Look at values of output streams\n",
    "    #assert np.array_equal(recent_values(magnitude_stream), np.array([3.0, 6.0, 5.0]))\n",
    "    print (recent_values(y))\n",
    "test_exponential_smooth_and_add()"
   ]
  },
  {
   "cell_type": "code",
   "execution_count": 10,
   "metadata": {},
   "outputs": [],
   "source": [
    "def add_value_to_stream_array(in_stream, out_stream, window_size, addend):\n",
    "    def f(an_array):\n",
    "        return _multivalue(an_array + addend)\n",
    "    map_window(f,in_stream_array, out_stream_array,\n",
    "        window_size=window_size,step_size=window_size)"
   ]
  },
  {
   "cell_type": "code",
   "execution_count": 11,
   "metadata": {},
   "outputs": [],
   "source": [
    "from IoTPy.agent_types.op import map_window\n",
    "def window_dot_product(in_stream, out_stream, multiplicand_vector, step_size=1):\n",
    "    def f(window, multiplicand_vector): return np.dot(window, multiplicand_vector)\n",
    "    map_window(f, in_stream, out_stream,\n",
    "               len(multiplicand_vector), step_size, multiplicand_vector=multiplicand_vector)"
   ]
  },
  {
   "cell_type": "code",
   "execution_count": 12,
   "metadata": {},
   "outputs": [
    {
     "name": "stdout",
     "output_type": "stream",
     "text": [
      "[100. 202. 304. 406. 508. 610. 712.]\n"
     ]
    }
   ],
   "source": [
    "def test_window_dot_product():\n",
    "    # Declare streams\n",
    "    x = StreamArray('x')\n",
    "    y = StreamArray('y')\n",
    "\n",
    "    # Create agent\n",
    "    window_dot_product(x, y, multiplicand_vector=[2, 100])\n",
    "\n",
    "    # Put data in streams\n",
    "    x.extend(np.arange(8.0))\n",
    "\n",
    "    # Execute a step\n",
    "    run()\n",
    "\n",
    "    # Look at values of output streams\n",
    "    assert np.array_equal(recent_values(y), \n",
    "                          np.array([100., 202., 304., 406., 508., 610., 712.]))\n",
    "    print (recent_values(y))\n",
    "\n",
    "test_window_dot_product()"
   ]
  },
  {
   "cell_type": "code",
   "execution_count": 13,
   "metadata": {},
   "outputs": [],
   "source": [
    "from IoTPy.agent_types.basics import map_w\n",
    "from IoTPy.agent_types.op import map_window\n",
    "#----------------------------------------------------\n",
    "# Agent that subtracts the mean in a stream\n",
    "#----------------------------------------------------\n",
    "@map_w\n",
    "def subtract_mean(window):\n",
    "    return window[0] - np.mean(window)"
   ]
  },
  {
   "cell_type": "code",
   "execution_count": 14,
   "metadata": {},
   "outputs": [
    {
     "data": {
      "text/plain": [
       "<Figure size 640x480 with 1 Axes>"
      ]
     },
     "metadata": {},
     "output_type": "display_data"
    }
   ],
   "source": [
    "import matplotlib.pyplot as plt\n",
    "NUM_CYCLES= 4\n",
    "NUM_POINTS_PER_CYCLE=18\n",
    "\n",
    "x = np.linspace(0, NUM_CYCLES*2*np.pi, num=NUM_CYCLES*NUM_POINTS_PER_CYCLE)\n",
    "y = np.sin(x) + 1.0\n",
    "\n",
    "plt.plot(x, y)\n",
    "plt.show()"
   ]
  },
  {
   "cell_type": "code",
   "execution_count": 15,
   "metadata": {},
   "outputs": [
    {
     "data": {
      "image/png": "[encoded data removed]",
      "text/plain": [
       "<Figure size 432x288 with 1 Axes>"
      ]
     },
     "metadata": {
      "needs_background": "light"
     },
     "output_type": "display_data"
    }
   ],
   "source": [
    "y_stream = StreamArray('y_stream')\n",
    "z = StreamArray('z')\n",
    "subtract_mean(in_stream=y_stream, out_stream=z, window_size=18, step_size=1)\n",
    "y_stream.extend(y)\n",
    "run()\n",
    "plt.plot(recent_values(z))\n",
    "plt.show()"
   ]
  },
  {
   "cell_type": "code",
   "execution_count": 16,
   "metadata": {},
   "outputs": [],
   "source": [
    "from IoTPy.core.stream import _multivalue\n",
    "#----------------------------------------------------\n",
    "# Agent that subtracts the mean in a stream in blocks\n",
    "#----------------------------------------------------\n",
    "@map_w\n",
    "def subtract_mean_block(window, block_size):\n",
    "    a = window - np.mean(window)\n",
    "    return _multivalue(a[:block_size])"
   ]
  },
  {
   "cell_type": "code",
   "execution_count": 17,
   "metadata": {},
   "outputs": [
    {
     "data": {
      "image/png": "[encoded data removed]",
      "text/plain": [
       "<Figure size 432x288 with 1 Axes>"
      ]
     },
     "metadata": {
      "needs_background": "light"
     },
     "output_type": "display_data"
    }
   ],
   "source": [
    "def test_subtract_mean_block():\n",
    "    NUM_CYCLES= 4\n",
    "    NUM_POINTS_PER_CYCLE=18\n",
    "\n",
    "    x = np.linspace(0, NUM_CYCLES*2*np.pi, num=NUM_CYCLES*NUM_POINTS_PER_CYCLE)\n",
    "    y = np.sin(x) + 1.0\n",
    "    # Declare streams\n",
    "    y_stream = StreamArray('y_stream')\n",
    "    z = StreamArray('z')\n",
    "    subtract_mean_block(in_stream=y_stream, out_stream=z, window_size=18, step_size=6,\n",
    "                       block_size=6)\n",
    "    y_stream.extend(y)\n",
    "    run()\n",
    "\n",
    "    plt.plot(recent_values(z))\n",
    "    plt.show()\n",
    "test_subtract_mean_block()"
   ]
  },
  {
   "cell_type": "code",
   "execution_count": 18,
   "metadata": {},
   "outputs": [],
   "source": [
    "def sum_window_incremental(in_stream, out_stream, window_size):\n",
    "    @map_w\n",
    "    def sum_window_incremental_func(window, state):\n",
    "        starting, total = state\n",
    "        if starting:\n",
    "            starting = False\n",
    "            total = sum(window)\n",
    "        else:\n",
    "            total += window[-1]\n",
    "        next_state = starting, total-window[0]\n",
    "        return total, next_state\n",
    "\n",
    "    # Create agent\n",
    "    sum_window_incremental_func(\n",
    "        in_stream, out_stream, window_size, step_size=1, state=(True, 0))"
   ]
  },
  {
   "cell_type": "code",
   "execution_count": 19,
   "metadata": {},
   "outputs": [
    {
     "name": "stdout",
     "output_type": "stream",
     "text": [
      "[10 15 20 25 30 35]\n"
     ]
    }
   ],
   "source": [
    "def test_sum_window_incremental():\n",
    "    # Declare streams\n",
    "    x = StreamArray('x', dtype='int')\n",
    "    y = StreamArray('y', dtype='int')\n",
    "\n",
    "    # Create agent\n",
    "    sum_window_incremental(in_stream=x, out_stream=y, window_size=5)\n",
    "\n",
    "    # Put data in streams\n",
    "    x.extend(list(range(10)))\n",
    "\n",
    "    # Execute a step\n",
    "    run()\n",
    "\n",
    "    # Look at values of output streams\n",
    "    print(recent_values(y))\n",
    "\n",
    "test_sum_window_incremental()"
   ]
  },
  {
   "cell_type": "code",
   "execution_count": 20,
   "metadata": {},
   "outputs": [],
   "source": [
    "from IoTPy.core.stream import _no_value\n",
    "@map_e\n",
    "def time_of_crossing_threshold(value, state, threshold):\n",
    "    return (state if abs(value) > threshold else _no_value, state+1)"
   ]
  },
  {
   "cell_type": "code",
   "execution_count": 21,
   "metadata": {},
   "outputs": [
    {
     "name": "stdout",
     "output_type": "stream",
     "text": [
      "[2 4 5 6 7 8 9]\n"
     ]
    }
   ],
   "source": [
    "def test_time_of_crossing_threshold():\n",
    "    # Declare streams\n",
    "    x = StreamArray('x', dtype='int')\n",
    "    y = StreamArray('y', dtype='int')\n",
    "\n",
    "    # Create agent\n",
    "    time_of_crossing_threshold(in_stream=x, out_stream=y, state=0, threshold=2.5)\n",
    "\n",
    "    # Put data in streams\n",
    "    x.extend([1, 2, 5, 0, 9, 10, 11, 10, 9, 5, 1, 0, 2])\n",
    "\n",
    "    # Execute a step\n",
    "    run()\n",
    "\n",
    "    # Look at values of output streams\n",
    "    print(recent_values(y))\n",
    "\n",
    "test_time_of_crossing_threshold()"
   ]
  },
  {
   "cell_type": "code",
   "execution_count": 22,
   "metadata": {},
   "outputs": [],
   "source": [
    "@map_e\n",
    "def quenched_time_of_crossing_threshold(\n",
    "        value, state, threshold, quench_duration):\n",
    "    current_time, last_quench_time = state\n",
    "    if ((current_time <= last_quench_time + quench_duration) or\n",
    "        (abs(value) <= threshold)):\n",
    "        signal = _no_value\n",
    "    else:\n",
    "        signal = (current_time, value)\n",
    "        last_quench_time = current_time\n",
    "    next_state = (current_time+1, last_quench_time)\n",
    "    return signal, next_state"
   ]
  },
  {
   "cell_type": "code",
   "execution_count": 23,
   "metadata": {},
   "outputs": [
    {
     "name": "stdout",
     "output_type": "stream",
     "text": [
      "[[ 4  9]\n",
      " [ 7 10]\n",
      " [13 10]\n",
      " [16 10]]\n"
     ]
    }
   ],
   "source": [
    "def test_quenched_time_of_crossing_threshold():\n",
    "    # Declare streams\n",
    "    x = StreamArray('x', dtype='int')\n",
    "    y = StreamArray('y', dimension=(2,), dtype='int')\n",
    "\n",
    "    # Create agent\n",
    "    quenched_time_of_crossing_threshold(\n",
    "        in_stream=x, out_stream=y, state=(0,0), threshold=2.5, quench_duration=2)\n",
    "\n",
    "    # Put data in streams\n",
    "    x.extend([1, 2, 5, 0, 9, 10, 11, 10, 9, 5, 1, 0, 2, 10, 10, 10, 10, 20, 1])\n",
    "\n",
    "    # Execute a step\n",
    "    run()\n",
    "\n",
    "    # Look at values of output streams\n",
    "    print(recent_values(y))\n",
    "\n",
    "test_quenched_time_of_crossing_threshold()\n",
    "    "
   ]
  }
 ],
 "metadata": {
  "kernelspec": {
   "display_name": "Python 3",
   "language": "python",
   "name": "python3"
  },
  "language_info": {
   "codemirror_mode": {
    "name": "ipython",
    "version": 3
   },
   "file_extension": ".py",
   "mimetype": "text/x-python",
   "name": "python",
   "nbconvert_exporter": "python",
   "pygments_lexer": "ipython3",
   "version": "3.7.3"
  }
 },
 "nbformat": 4,
 "nbformat_minor": 2
}

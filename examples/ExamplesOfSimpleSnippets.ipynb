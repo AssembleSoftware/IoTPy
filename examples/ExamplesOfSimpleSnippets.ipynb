{
 "cells": [
  {
   "cell_type": "markdown",
   "metadata": {},
   "source": [
    "# Examples: Simple"
   ]
  },
  {
   "cell_type": "code",
   "execution_count": 1,
   "metadata": {},
   "outputs": [],
   "source": [
    "import numpy as np\n",
    "import sys\n",
    "sys.path.append(\"../\")\n",
    "from IoTPy.core.stream import Stream, StreamArray, run\n",
    "from IoTPy.agent_types.basics import map_e\n",
    "from IoTPy.helper_functions.recent_values import recent_values"
   ]
  },
  {
   "cell_type": "code",
   "execution_count": 2,
   "metadata": {},
   "outputs": [],
   "source": [
    "#--------------------------------------------------------\n",
    "# Agent that evaluates a polynomial on values in a stream\n",
    "#--------------------------------------------------------\n",
    "@map_e\n",
    "def evaluate_polynomial(number, polynomial):\n",
    "    return np.polyval(polynomial, number)\n"
   ]
  },
  {
   "cell_type": "code",
   "execution_count": 3,
   "metadata": {},
   "outputs": [
    {
     "name": "stdout",
     "output_type": "stream",
     "text": [
      "running\n",
      "[ 2. 17. 10.  1.]\n"
     ]
    }
   ],
   "source": [
    "def test_evaluate_polynomial():\n",
    "    # Declare streams\n",
    "    x = StreamArray('x')\n",
    "    y = StreamArray('y')\n",
    "\n",
    "    # Create agent\n",
    "    evaluate_polynomial(x, y, polynomial=[1, 0, 1])\n",
    "\n",
    "    # Put data in input streams\n",
    "    x.extend(np.array([1.0, 4.0, 3.0, 0.0]))\n",
    "\n",
    "    # Execute a step\n",
    "    print ('running')\n",
    "    run()\n",
    "\n",
    "    # Look at values of output streams\n",
    "    assert np.array_equal(\n",
    "        recent_values(y), np.array([2.0, 17.0, 10.0, 1.0]))\n",
    "    print (recent_values(y))\n",
    "    \n",
    "test_evaluate_polynomial()"
   ]
  },
  {
   "cell_type": "code",
   "execution_count": 4,
   "metadata": {},
   "outputs": [],
   "source": [
    "from IoTPy.agent_types.basics import merge_e\n",
    "#----------------------------------------------------\n",
    "# Agent that computes the magnitude of a vector\n",
    "#----------------------------------------------------\n",
    "@merge_e \n",
    "def magnitude_of_vector(coordinates):\n",
    "    return np.linalg.norm(coordinates)"
   ]
  },
  {
   "cell_type": "code",
   "execution_count": 5,
   "metadata": {},
   "outputs": [
    {
     "name": "stdout",
     "output_type": "stream",
     "text": [
      "[3. 6. 5.]\n"
     ]
    }
   ],
   "source": [
    "def test_magnitude_of_vector():\n",
    "    # Declare streams\n",
    "    x = StreamArray('x')\n",
    "    y = StreamArray('y')\n",
    "    z = StreamArray('z')\n",
    "    magnitude_stream = StreamArray('magnitudes')\n",
    "\n",
    "    # Create agent\n",
    "    magnitude_of_vector([x,y,z], magnitude_stream)\n",
    "\n",
    "    # Put data in streams\n",
    "    x.extend(np.array([1.0, 4.0, 3.0]))\n",
    "    y.extend(np.array([2.0, 4.0, 0.0]))\n",
    "    z.extend(np.array([2.0, 2.0, 4.0]))\n",
    "\n",
    "    # Execute a step\n",
    "    run()\n",
    "\n",
    "    # Look at values of output streams\n",
    "    assert np.array_equal(recent_values(magnitude_stream),\n",
    "                           np.array([3.0, 6.0, 5.0]))\n",
    "    print (recent_values(magnitude_stream))\n",
    "test_magnitude_of_vector()"
   ]
  },
  {
   "cell_type": "code",
   "execution_count": 6,
   "metadata": {},
   "outputs": [],
   "source": [
    "from IoTPy.agent_types.basics import map_w\n",
    "from IoTPy.agent_types.op import map_window\n",
    "#----------------------------------------------------\n",
    "# Agent that subtracts the mean in a stream\n",
    "#----------------------------------------------------\n",
    "def subtract_mean(in_stream, window_size):\n",
    "    return_stream = StreamArray('return_stream_in_subtract_mean')\n",
    "    map_window(func= lambda window: window[0] - np.mean(window),\n",
    "               in_stream=in_stream, out_stream=return_stream, \n",
    "               window_size=window_size, step_size=1, name='subtract_mean')\n",
    "    return return_stream"
   ]
  },
  {
   "cell_type": "code",
   "execution_count": 7,
   "metadata": {},
   "outputs": [
    {
     "name": "stdout",
     "output_type": "stream",
     "text": [
      "[-1.5 -1.5 -1.5 -1.5 -1.5]\n"
     ]
    }
   ],
   "source": [
    "def test_subtract_mean():\n",
    "    # Declare streams\n",
    "    x = StreamArray('x')\n",
    "\n",
    "    # Create agent\n",
    "    y = subtract_mean(in_stream=x, window_size=4)\n",
    "\n",
    "    # Put data in input streams\n",
    "    x.extend(np.arange(8, dtype=float))\n",
    "\n",
    "    # Execute a step\n",
    "    run()\n",
    "\n",
    "    # Look at values of output streams\n",
    "    assert (np.array_equal(\n",
    "        recent_values(y),\n",
    "        np.array([-1.5, -1.5, -1.5, -1.5, -1.5])))\n",
    "    print (recent_values(y))\n",
    "test_subtract_mean()"
   ]
  },
  {
   "cell_type": "code",
   "execution_count": 8,
   "metadata": {},
   "outputs": [],
   "source": [
    "#----------------------------------------------------\n",
    "# Agent that subtracts the mean in a stream in blocks\n",
    "#----------------------------------------------------\n",
    "@map_w\n",
    "def subtract_mean_block(window, block_size):\n",
    "    a = window - np.mean(window)\n",
    "    print ('a is ', a)\n",
    "    return a[:block_size]"
   ]
  },
  {
   "cell_type": "code",
   "execution_count": 14,
   "metadata": {},
   "outputs": [
    {
     "data": {
      "image/png": "[encoded data removed]",
      "text/plain": [
       "<Figure size 432x288 with 1 Axes>"
      ]
     },
     "metadata": {
      "needs_background": "light"
     },
     "output_type": "display_data"
    }
   ],
   "source": [
    "import matplotlib.pyplot as plt\n",
    "NUM_CYCLES= 4\n",
    "NUM_POINTS_PER_CYCLE=18\n",
    "\n",
    "x = np.linspace(0, NUM_CYCLES*2*np.pi, num=NUM_CYCLES*NUM_POINTS_PER_CYCLE)\n",
    "y = np.sin(x) + 1.0\n",
    "\n",
    "plt.plot(x, y)\n",
    "plt.show()"
   ]
  },
  {
   "cell_type": "code",
   "execution_count": 23,
   "metadata": {},
   "outputs": [
    {
     "data": {
      "image/png": "[encoded data removed]",
      "text/plain": [
       "<Figure size 432x288 with 1 Axes>"
      ]
     },
     "metadata": {
      "needs_background": "light"
     },
     "output_type": "display_data"
    }
   ],
   "source": [
    "y_stream = StreamArray('y_stream')\n",
    "z = subtract_mean(y_stream, window_size=18)\n",
    "y_stream.extend(y)\n",
    "run()\n",
    "plt.plot(recent_values(z))\n",
    "plt.show()"
   ]
  },
  {
   "cell_type": "code",
   "execution_count": 12,
   "metadata": {},
   "outputs": [
    {
     "name": "stdout",
     "output_type": "stream",
     "text": [
      "a is  [-3.5 -2.5 -1.5 -0.5  0.5  1.5  2.5  3.5]\n",
      "a is  [-3.5 -2.5 -1.5 -0.5  0.5  1.5  2.5  3.5]\n",
      "a is  [-3.5 -2.5 -1.5 -0.5  0.5  1.5  2.5  3.5]\n",
      "a is  [-3.5 -2.5 -1.5 -0.5  0.5  1.5  2.5  3.5]\n",
      "a is  [-3.5 -2.5 -1.5 -0.5  0.5  1.5  2.5  3.5]\n",
      "a is  [-3.5 -2.5 -1.5 -0.5  0.5  1.5  2.5  3.5]\n",
      "a is  [-3.5 -2.5 -1.5 -0.5  0.5  1.5  2.5  3.5]\n",
      "a is  [-3.5 -2.5 -1.5 -0.5  0.5  1.5  2.5  3.5]\n",
      "a is  [-3.5 -2.5 -1.5 -0.5  0.5  1.5  2.5  3.5]\n",
      "a is  [-3.5 -2.5 -1.5 -0.5  0.5  1.5  2.5  3.5]\n",
      "a is  [-3.5 -2.5 -1.5 -0.5  0.5  1.5  2.5  3.5]\n",
      "a is  [-3.5 -2.5 -1.5 -0.5  0.5  1.5  2.5  3.5]\n",
      "a is  [-3.5 -2.5 -1.5 -0.5  0.5  1.5  2.5  3.5]\n"
     ]
    },
    {
     "ename": "AssertionError",
     "evalue": "Extending StreamArray y which has shape (i.e. dimension) 0 by an array with incompatible shape (2,)",
     "output_type": "error",
     "traceback": [
      "\u001b[0;31m---------------------------------------------------------------------------\u001b[0m",
      "\u001b[0;31mAssertionError\u001b[0m                            Traceback (most recent call last)",
      "\u001b[0;32m<ipython-input-12-b941dcd83d00>\u001b[0m in \u001b[0;36m<module>\u001b[0;34m\u001b[0m\n\u001b[1;32m     15\u001b[0m     \u001b[0;31m# Look at values in output streams\u001b[0m\u001b[0;34m\u001b[0m\u001b[0;34m\u001b[0m\u001b[0;34m\u001b[0m\u001b[0m\n\u001b[1;32m     16\u001b[0m     \u001b[0mprint\u001b[0m \u001b[0;34m(\u001b[0m\u001b[0mrecent_values\u001b[0m\u001b[0;34m(\u001b[0m\u001b[0my\u001b[0m\u001b[0;34m)\u001b[0m\u001b[0;34m)\u001b[0m\u001b[0;34m\u001b[0m\u001b[0;34m\u001b[0m\u001b[0m\n\u001b[0;32m---> 17\u001b[0;31m \u001b[0mtest_subtract_mean_block\u001b[0m\u001b[0;34m(\u001b[0m\u001b[0;34m)\u001b[0m\u001b[0;34m\u001b[0m\u001b[0;34m\u001b[0m\u001b[0m\n\u001b[0m",
      "\u001b[0;32m<ipython-input-12-b941dcd83d00>\u001b[0m in \u001b[0;36mtest_subtract_mean_block\u001b[0;34m()\u001b[0m\n\u001b[1;32m     11\u001b[0m \u001b[0;34m\u001b[0m\u001b[0m\n\u001b[1;32m     12\u001b[0m     \u001b[0;31m# Execute a step\u001b[0m\u001b[0;34m\u001b[0m\u001b[0;34m\u001b[0m\u001b[0;34m\u001b[0m\u001b[0m\n\u001b[0;32m---> 13\u001b[0;31m     \u001b[0mrun\u001b[0m\u001b[0;34m(\u001b[0m\u001b[0;34m)\u001b[0m\u001b[0;34m\u001b[0m\u001b[0;34m\u001b[0m\u001b[0m\n\u001b[0m\u001b[1;32m     14\u001b[0m \u001b[0;34m\u001b[0m\u001b[0m\n\u001b[1;32m     15\u001b[0m     \u001b[0;31m# Look at values in output streams\u001b[0m\u001b[0;34m\u001b[0m\u001b[0;34m\u001b[0m\u001b[0;34m\u001b[0m\u001b[0m\n",
      "\u001b[0;32m~/Documents/IoTPy/IoTPy/core/stream.py\u001b[0m in \u001b[0;36mrun\u001b[0;34m()\u001b[0m\n\u001b[1;32m    932\u001b[0m \u001b[0;34m\u001b[0m\u001b[0m\n\u001b[1;32m    933\u001b[0m \u001b[0;31m#------------------------------------------------------------------------------\u001b[0m\u001b[0;34m\u001b[0m\u001b[0;34m\u001b[0m\u001b[0;34m\u001b[0m\u001b[0m\n\u001b[0;32m--> 934\u001b[0;31m \u001b[0;32mdef\u001b[0m \u001b[0mrun\u001b[0m\u001b[0;34m(\u001b[0m\u001b[0;34m)\u001b[0m\u001b[0;34m:\u001b[0m \u001b[0mStream\u001b[0m\u001b[0;34m.\u001b[0m\u001b[0mscheduler\u001b[0m\u001b[0;34m.\u001b[0m\u001b[0mstep\u001b[0m\u001b[0;34m(\u001b[0m\u001b[0;34m)\u001b[0m\u001b[0;34m\u001b[0m\u001b[0;34m\u001b[0m\u001b[0m\n\u001b[0m\u001b[1;32m    935\u001b[0m \u001b[0;31m#------------------------------------------------------------------------------\u001b[0m\u001b[0;34m\u001b[0m\u001b[0;34m\u001b[0m\u001b[0;34m\u001b[0m\u001b[0m\n",
      "\u001b[0;32m~/Documents/IoTPy/IoTPy/core/compute_engine.py\u001b[0m in \u001b[0;36mstep\u001b[0;34m(self)\u001b[0m\n\u001b[1;32m    249\u001b[0m             \u001b[0ma\u001b[0m \u001b[0;34m=\u001b[0m \u001b[0mself\u001b[0m\u001b[0;34m.\u001b[0m\u001b[0mq_agents\u001b[0m\u001b[0;34m.\u001b[0m\u001b[0mget\u001b[0m\u001b[0;34m(\u001b[0m\u001b[0;34m)\u001b[0m\u001b[0;34m\u001b[0m\u001b[0;34m\u001b[0m\u001b[0m\n\u001b[1;32m    250\u001b[0m             \u001b[0mself\u001b[0m\u001b[0;34m.\u001b[0m\u001b[0mscheduled_agents\u001b[0m\u001b[0;34m.\u001b[0m\u001b[0mdiscard\u001b[0m\u001b[0;34m(\u001b[0m\u001b[0ma\u001b[0m\u001b[0;34m)\u001b[0m\u001b[0;34m\u001b[0m\u001b[0;34m\u001b[0m\u001b[0m\n\u001b[0;32m--> 251\u001b[0;31m             \u001b[0ma\u001b[0m\u001b[0;34m.\u001b[0m\u001b[0mnext\u001b[0m\u001b[0;34m(\u001b[0m\u001b[0;34m)\u001b[0m\u001b[0;34m\u001b[0m\u001b[0;34m\u001b[0m\u001b[0m\n\u001b[0m\u001b[1;32m    252\u001b[0m         \u001b[0;32mreturn\u001b[0m\u001b[0;34m\u001b[0m\u001b[0;34m\u001b[0m\u001b[0m\n\u001b[1;32m    253\u001b[0m \u001b[0;34m\u001b[0m\u001b[0m\n",
      "\u001b[0;32m~/Documents/IoTPy/IoTPy/core/agent.py\u001b[0m in \u001b[0;36mnext\u001b[0;34m(self, stream_name)\u001b[0m\n\u001b[1;32m    316\u001b[0m         \u001b[0;31m# transition into each of the output streams.\u001b[0m\u001b[0;34m\u001b[0m\u001b[0;34m\u001b[0m\u001b[0;34m\u001b[0m\u001b[0m\n\u001b[1;32m    317\u001b[0m         \u001b[0;32mfor\u001b[0m \u001b[0mj\u001b[0m \u001b[0;32min\u001b[0m \u001b[0mrange\u001b[0m\u001b[0;34m(\u001b[0m\u001b[0mlen\u001b[0m\u001b[0;34m(\u001b[0m\u001b[0mself\u001b[0m\u001b[0;34m.\u001b[0m\u001b[0mout_streams\u001b[0m\u001b[0;34m)\u001b[0m\u001b[0;34m)\u001b[0m\u001b[0;34m:\u001b[0m\u001b[0;34m\u001b[0m\u001b[0;34m\u001b[0m\u001b[0m\n\u001b[0;32m--> 318\u001b[0;31m             \u001b[0mself\u001b[0m\u001b[0;34m.\u001b[0m\u001b[0mout_streams\u001b[0m\u001b[0;34m[\u001b[0m\u001b[0mj\u001b[0m\u001b[0;34m]\u001b[0m\u001b[0;34m.\u001b[0m\u001b[0mextend\u001b[0m\u001b[0;34m(\u001b[0m\u001b[0mself\u001b[0m\u001b[0;34m.\u001b[0m\u001b[0m_out_lists\u001b[0m\u001b[0;34m[\u001b[0m\u001b[0mj\u001b[0m\u001b[0;34m]\u001b[0m\u001b[0;34m)\u001b[0m\u001b[0;34m\u001b[0m\u001b[0;34m\u001b[0m\u001b[0m\n\u001b[0m\u001b[1;32m    319\u001b[0m \u001b[0;34m\u001b[0m\u001b[0m\n\u001b[1;32m    320\u001b[0m \u001b[0;31m#-------------------------------------------------------------------------\u001b[0m\u001b[0;34m\u001b[0m\u001b[0;34m\u001b[0m\u001b[0;34m\u001b[0m\u001b[0m\n",
      "\u001b[0;32m~/Documents/IoTPy/IoTPy/core/stream.py\u001b[0m in \u001b[0;36mextend\u001b[0;34m(self, output_array)\u001b[0m\n\u001b[1;32m    840\u001b[0m               \u001b[0;34m'Extending StreamArray {0} which has shape (i.e. dimension) 0'\u001b[0m\u001b[0;31m \u001b[0m\u001b[0;31m\\\u001b[0m\u001b[0;34m\u001b[0m\u001b[0;34m\u001b[0m\u001b[0m\n\u001b[1;32m    841\u001b[0m               \u001b[0;34m' by an array with incompatible shape {1}'\u001b[0m\u001b[0;34m.\u001b[0m\u001b[0;31m\\\u001b[0m\u001b[0;34m\u001b[0m\u001b[0;34m\u001b[0m\u001b[0m\n\u001b[0;32m--> 842\u001b[0;31m               \u001b[0mformat\u001b[0m\u001b[0;34m(\u001b[0m\u001b[0mself\u001b[0m\u001b[0;34m.\u001b[0m\u001b[0mname\u001b[0m\u001b[0;34m,\u001b[0m \u001b[0moutput_array\u001b[0m\u001b[0;34m.\u001b[0m\u001b[0mshape\u001b[0m\u001b[0;34m[\u001b[0m\u001b[0;36m1\u001b[0m\u001b[0;34m:\u001b[0m\u001b[0;34m]\u001b[0m\u001b[0;34m)\u001b[0m\u001b[0;34m\u001b[0m\u001b[0;34m\u001b[0m\u001b[0m\n\u001b[0m\u001b[1;32m    843\u001b[0m \u001b[0;34m\u001b[0m\u001b[0m\n\u001b[1;32m    844\u001b[0m         \u001b[0;31m## If dimension is a positive integer, then output_array must be a 2-D\u001b[0m\u001b[0;34m\u001b[0m\u001b[0;34m\u001b[0m\u001b[0;34m\u001b[0m\u001b[0m\n",
      "\u001b[0;31mAssertionError\u001b[0m: Extending StreamArray y which has shape (i.e. dimension) 0 by an array with incompatible shape (2,)"
     ]
    }
   ],
   "source": [
    "def test_subtract_mean_block():\n",
    "    # Declare streams\n",
    "    x = StreamArray('x')\n",
    "    y = StreamArray('y')\n",
    "\n",
    "    # Create agent\n",
    "    subtract_mean_block(x, y, window_size=8, step_size=2, block_size=2)\n",
    "\n",
    "    # Put data in input streams\n",
    "    x.extend(np.arange(32, dtype=float))\n",
    "\n",
    "    # Execute a step\n",
    "    run()\n",
    "\n",
    "    # Look at values in output streams\n",
    "    print (recent_values(y))\n",
    "test_subtract_mean_block()"
   ]
  }
 ],
 "metadata": {
  "kernelspec": {
   "display_name": "Python 3",
   "language": "python",
   "name": "python3"
  },
  "language_info": {
   "codemirror_mode": {
    "name": "ipython",
    "version": 3
   },
   "file_extension": ".py",
   "mimetype": "text/x-python",
   "name": "python",
   "nbconvert_exporter": "python",
   "pygments_lexer": "ipython3",
   "version": "3.7.3"
  }
 },
 "nbformat": 4,
 "nbformat_minor": 2
}

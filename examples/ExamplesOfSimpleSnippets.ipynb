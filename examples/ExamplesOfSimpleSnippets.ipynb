{
 "cells": [
  {
   "cell_type": "markdown",
   "metadata": {},
   "source": [
    "# Examples: Simple Snippets"
   ]
  },
  {
   "cell_type": "code",
   "execution_count": 1,
   "metadata": {},
   "outputs": [],
   "source": [
    "import numpy as np\n",
    "import sys\n",
    "import matplotlib.pyplot as plt\n",
    "%matplotlib inline\n",
    "\n",
    "sys.path.append(\"../\")\n",
    "from IoTPy.core.stream import Stream, StreamArray, run\n",
    "from IoTPy.core.stream import _multivalue\n",
    "from IoTPy.agent_types.basics import map_e\n",
    "from IoTPy.helper_functions.recent_values import recent_values\n",
    "from IoTPy.agent_types.op import map_element, map_window\n",
    "from IoTPy.agent_types.basics import merge_e, map_w"
   ]
  },
  {
   "cell_type": "markdown",
   "metadata": {},
   "source": [
    "# Illustrates decorator: @map_e\n",
    "\n",
    "Define a function *f* which takes an input **x** and possibly additional keyword arguments and returns a single value. When you decorate *f* with @map_e, the function operates on an input stream with the additional keyword arguments, and outputs a stream in which the n-th element is *f* applied to the n-th element of the input stream."
   ]
  },
  {
   "cell_type": "markdown",
   "metadata": {},
   "source": [
    "# Example of @map_e\n",
    "\n",
    "The n-th element of the output stream is a polynomial function of the n-th element of the input stream.\n",
    "\n",
    "**evaluate_polynomial(number, polynomial)** has a parameter **number** which corresponds to an element of the input stream and a keyword argument **polynomial**. It returns a single value which is the element of the output stream."
   ]
  },
  {
   "cell_type": "code",
   "execution_count": 2,
   "metadata": {},
   "outputs": [],
   "source": [
    "\"\"\"\n",
    "Agent that outputs polynomial of each element of the input stream.\n",
    "\"\"\"\n",
    "@map_e\n",
    "def evaluate_polynomial(number, polynomial):\n",
    "    return np.polyval(polynomial, number)\n"
   ]
  },
  {
   "cell_type": "markdown",
   "metadata": {},
   "source": [
    "The decorated function **evaluate_polynomial** has an input stream, an output stream, and keyword arguments. '\n",
    "\n",
    "In this example *y[n]*, the *n*-th element of the output stream **y** is the undecorated function **evaluate_polynomial** applied to *x[n]*, the *n*-th element of the iput stream **x**."
   ]
  },
  {
   "cell_type": "code",
   "execution_count": 31,
   "metadata": {},
   "outputs": [
    {
     "name": "stdout",
     "output_type": "stream",
     "text": [
      "running\n",
      "[ 2. 17. 10.  1.]\n"
     ]
    }
   ],
   "source": [
    "def test_evaluate_polynomial():\n",
    "    \"\"\"\n",
    "    y[n] = f(x[n]) where f is the polynomial\n",
    "    \n",
    "    \"\"\"\n",
    "    # Declare streams\n",
    "    x = StreamArray(name='x')\n",
    "    y = StreamArray(name='y')\n",
    "\n",
    "    # Create agent\n",
    "    evaluate_polynomial(in_stream=x, out_stream=y, polynomial=[1, 0, 1])\n",
    "    \n",
    "\n",
    "    # Put data in input streams\n",
    "    x.extend(np.array([1.0, 4.0, 3.0, 0.0]))\n",
    "\n",
    "    # Execute a step\n",
    "    print ('running')\n",
    "    run()\n",
    "\n",
    "    # Look at values of output streams\n",
    "    assert np.array_equal(\n",
    "        recent_values(y), np.array([2.0, 17.0, 10.0, 1.0]))\n",
    "    print (recent_values(y))\n",
    "    \n",
    "test_evaluate_polynomial()"
   ]
  },
  {
   "cell_type": "markdown",
   "metadata": {},
   "source": [
    "# Illustrates decorator: @merge_e for merging multiple input streams\n",
    "## Magnitudes of vectors of inputs"
   ]
  },
  {
   "cell_type": "markdown",
   "metadata": {},
   "source": [
    "Create agent that takes one input stream for each coordinate of \n",
    "a vector and outputs a stream which is the magnitude of the vector.\n",
    "\n",
    "For example, if there are streams x, y, z where the coordinates of\n",
    "the n-th point are x[n], y[n], z[n], then the n-th element of the\n",
    "output stream is the magnitude of the vector [x[n], y[n], z[n]]."
   ]
  },
  {
   "cell_type": "markdown",
   "metadata": {},
   "source": [
    "<h3>Step 1: Define Function</h3>\n",
    "Define a terminating function, <i>magnitude_of_vector</i>, which takes an array of coordinates as its input and outputs the magnitude of a vector with these coordinates. For example magnitude_of_vector([3, 4]) = 5. The undecorated function has a single argument **coordinates** which is a list of coordinates of a vector, and it returns a single value which is the magnitude of the vector.\n",
    "\n",
    "When it is decorated with @merge_e, the function has two arguments: a list of input streams corresponding to the coordinates and a single output stream of the magnitudes."
   ]
  },
  {
   "cell_type": "markdown",
   "metadata": {},
   "source": [
    "<h3>Step 2: Create Agent</h3>\n",
    "   Decorate the function with <b>@merge_e</b> because we are creating an agent that merges multiple input streams into a single output stream."
   ]
  },
  {
   "cell_type": "code",
   "execution_count": 4,
   "metadata": {},
   "outputs": [],
   "source": [
    "@merge_e \n",
    "def magnitude_of_vector(coordinates):\n",
    "    return np.linalg.norm(coordinates)"
   ]
  },
  {
   "cell_type": "code",
   "execution_count": 5,
   "metadata": {},
   "outputs": [
    {
     "name": "stdout",
     "output_type": "stream",
     "text": [
      "[3. 6. 5.]\n"
     ]
    }
   ],
   "source": [
    "def test_magnitude_of_vector():\n",
    "    \"\"\"\n",
    "    magnitude_stream[n] = magnitude_of([x[n], y[n], z[n]])\n",
    "\n",
    "    \"\"\"\n",
    "    # Declare streams\n",
    "    x = StreamArray('x')\n",
    "    y = StreamArray('y')\n",
    "    z = StreamArray('z')\n",
    "    magnitude_stream = StreamArray('magnitudes')\n",
    "\n",
    "    # Create agent\n",
    "    magnitude_of_vector([x,y,z], magnitude_stream)\n",
    "\n",
    "    # Put data in streams\n",
    "    x.extend(np.array([1.0, 4.0, 3.0]))\n",
    "    y.extend(np.array([2.0, 4.0, 0.0]))\n",
    "    z.extend(np.array([2.0, 2.0, 4.0]))\n",
    "\n",
    "    # Execute a step\n",
    "    run()\n",
    "\n",
    "    # Look at values of output streams\n",
    "    assert np.array_equal(recent_values(magnitude_stream),\n",
    "                           np.array([3.0, 6.0, 5.0]))\n",
    "    print (recent_values(magnitude_stream))\n",
    "test_magnitude_of_vector()"
   ]
  },
  {
   "cell_type": "markdown",
   "metadata": {},
   "source": [
    "# Illustrates map_element with state and keyword argument\n",
    "\n",
    "# Outputs are exponential smoothing of inputs\n",
    "\n",
    "Function **f** has three arguments:\n",
    "1. in_stream_element which is an element of the input stream\n",
    "2. state which is the state of the agent. The initial value of state is specified in the call to f. Note that **state** is a keyword argument.\n",
    "3. smoothing_factor which is a keyword argument."
   ]
  },
  {
   "cell_type": "code",
   "execution_count": 33,
   "metadata": {},
   "outputs": [],
   "source": [
    "def exponential_smoothing(in_stream, out_stream, smoothing_factor):\n",
    "    \"\"\"\n",
    "    With input stream x and output stream y:\n",
    "    y[0] = x[0]\n",
    "    y[n] = a*x[n] + (1-a)*y[n-1] for n > 0.\n",
    "    where a is smoothing_factor\n",
    "\n",
    "    \"\"\"\n",
    "    def f(in_stream_element, state, a):\n",
    "        if state == 'empty':\n",
    "            next_state = in_stream_element\n",
    "        else:\n",
    "            next_state = (1.0-a)*state+ a*in_stream_element\n",
    "            # return out_stream_element, next_state\n",
    "            # Note: out_stream_element = next_state\n",
    "            # So, return next_state, next_state\n",
    "        return next_state, next_state\n",
    "    # Create a map_element agent\n",
    "    map_element(func=f, in_stream=in_stream, out_stream=out_stream,\n",
    "                state='empty', a=smoothing_factor)"
   ]
  },
  {
   "cell_type": "code",
   "execution_count": 7,
   "metadata": {},
   "outputs": [
    {
     "name": "stdout",
     "output_type": "stream",
     "text": [
      "[1.         0.75       0.5625     0.421875   0.31640625 0.23730469]\n",
      "[0.         0.25       0.6875     1.265625   1.94921875]\n"
     ]
    }
   ],
   "source": [
    "def test_exponential_smoothing():\n",
    "    # Declare streams\n",
    "    x = StreamArray('x')\n",
    "    y = StreamArray('y')\n",
    "\n",
    "    # Create agent\n",
    "    exponential_smoothing(in_stream=x, out_stream=y, smoothing_factor=0.25)\n",
    "\n",
    "    # Put data in streams\n",
    "    x.extend([1.0]+[0.0]*5)\n",
    "\n",
    "    # Execute a step\n",
    "    run()\n",
    "\n",
    "    # Look at values of output streams\n",
    "    #assert np.array_equal(recent_values(magnitude_stream), np.array([3.0, 6.0, 5.0]))\n",
    "    print (recent_values(y))\n",
    "\n",
    "    x = StreamArray('x')\n",
    "    y = StreamArray('y')\n",
    "\n",
    "    exponential_smoothing(in_stream=x, out_stream=y, smoothing_factor=0.25)\n",
    "\n",
    "    x.extend(np.arange(5.0))\n",
    "\n",
    "    # Execute a step\n",
    "    run()\n",
    "\n",
    "    # Look at values of output streams\n",
    "    #assert np.array_equal(recent_values(magnitude_stream), np.array([3.0, 6.0, 5.0]))\n",
    "    print (recent_values(y))\n",
    "test_exponential_smoothing()"
   ]
  },
  {
   "cell_type": "markdown",
   "metadata": {},
   "source": [
    "# Another example of exponential smoothing\n",
    "# Example of map_element with state and keyword parameter"
   ]
  },
  {
   "cell_type": "code",
   "execution_count": 8,
   "metadata": {},
   "outputs": [],
   "source": [
    "def exponential_smooth_and_add(in_stream, out_stream, smoothing_factor):\n",
    "    \"\"\"\n",
    "    With input stream x and output stream y:\n",
    "    y[n] = x[n] + a*x[n-1] + .. + a^m * x[n-m] + ....\n",
    "    where a is smoothing_factor\n",
    "\n",
    "    \"\"\"\n",
    "    def f(in_stream_element, state, a):\n",
    "        next_state = state*a + in_stream_element\n",
    "        # return out_stream_element, next_state\n",
    "        # Note: out_stream_element = next_state\n",
    "        return next_state, next_state\n",
    "    # Create a map_element agent\n",
    "    map_element(f, in_stream, out_stream,\n",
    "                state=0.0, a=smoothing_factor)"
   ]
  },
  {
   "cell_type": "code",
   "execution_count": 9,
   "metadata": {},
   "outputs": [
    {
     "name": "stdout",
     "output_type": "stream",
     "text": [
      "[1.000000e+00 2.500000e-01 6.250000e-02 1.562500e-02 3.906250e-03\n",
      " 9.765625e-04]\n",
      "[0.       1.       2.25     3.5625   4.890625]\n"
     ]
    }
   ],
   "source": [
    "def test_exponential_smooth_and_add():\n",
    "    # Declare streams\n",
    "    x = StreamArray('x')\n",
    "    y = StreamArray('y')\n",
    "\n",
    "    # Create agent\n",
    "    exponential_smooth_and_add(in_stream=x, out_stream=y, smoothing_factor=0.25)\n",
    "\n",
    "    # Put data in streams\n",
    "    x.extend([1.0]+[0.0]*5)\n",
    "\n",
    "    # Execute a step\n",
    "    run()\n",
    "\n",
    "    # Look at values of output streams\n",
    "    #assert np.array_equal(recent_values(magnitude_stream), np.array([3.0, 6.0, 5.0]))\n",
    "    print (recent_values(y))\n",
    "\n",
    "    x = StreamArray('x')\n",
    "    y = StreamArray('y')\n",
    "\n",
    "    exponential_smooth_and_add(in_stream=x, out_stream=y, smoothing_factor=0.25)\n",
    "\n",
    "    x.extend(np.arange(5.0))\n",
    "\n",
    "    # Execute a step\n",
    "    run()\n",
    "\n",
    "    # Look at values of output streams\n",
    "    #assert np.array_equal(recent_values(magnitude_stream), np.array([3.0, 6.0, 5.0]))\n",
    "    print (recent_values(y))\n",
    "test_exponential_smooth_and_add()"
   ]
  },
  {
   "cell_type": "markdown",
   "metadata": {},
   "source": [
    "# Illustrates map_window and StreamArray\n",
    "\n",
    "## Outputs are a constant value aded to the inputs."
   ]
  },
  {
   "cell_type": "code",
   "execution_count": 10,
   "metadata": {},
   "outputs": [],
   "source": [
    "def add_value_to_stream_array(in_stream, out_stream, window_size, addend):\n",
    "    \"\"\"\n",
    "    Each window is a NumPy array. Function f returns a numpy array of the same \n",
    "    size as the window. We need to put each element of the output numpy array as a \n",
    "    separate element of the output stream. So we use _multivalue which makes the \n",
    "    output stream a stream of numbers.\n",
    "    \n",
    "    If we didn't use _multivalue, the output stream would be a stream of numpy arrays\n",
    "    each of which had a size equal to the window size.\n",
    "    \n",
    "    \"\"\"\n",
    "    def f(an_array):\n",
    "        return _multivalue(an_array + addend)\n",
    "    map_window(f,in_stream, out_stream,\n",
    "        window_size=window_size,step_size=window_size)"
   ]
  },
  {
   "cell_type": "code",
   "execution_count": 11,
   "metadata": {},
   "outputs": [
    {
     "name": "stdout",
     "output_type": "stream",
     "text": [
      "[10 11 12 13 14 15 16 17 18 19]\n"
     ]
    }
   ],
   "source": [
    "def test_add_value_to_stream_array():\n",
    "    # Declare streams\n",
    "    x = StreamArray('x', dtype='int')\n",
    "    y = StreamArray('y', dtype='int')\n",
    "\n",
    "    # Create agent\n",
    "    add_value_to_stream_array(in_stream=x, out_stream=y, window_size=5, addend=10)\n",
    "    \n",
    "    # Put data in streams\n",
    "    x.extend(np.arange(10))\n",
    "\n",
    "    # Execute a step\n",
    "    run()\n",
    "\n",
    "    # Look at values of output streams\n",
    "    print (recent_values(y))\n",
    "\n",
    "test_add_value_to_stream_array()"
   ]
  },
  {
   "cell_type": "markdown",
   "metadata": {},
   "source": [
    "# Illustrates map_window\n",
    "\n",
    "## Outputs are dot products of constant vector and input windows."
   ]
  },
  {
   "cell_type": "code",
   "execution_count": 12,
   "metadata": {},
   "outputs": [],
   "source": [
    "def window_dot_product(in_stream, out_stream, multiplicand_vector, step_size=1):\n",
    "    \"\"\"\n",
    "    f is a function that outputs the dot product of the multiplicand vector with\n",
    "    a window of the input stream.\n",
    "    \n",
    "    The call to map_window makes out_stream a stream whose elements are f applied\n",
    "    to moving windows.\n",
    "    \n",
    "    \"\"\"\n",
    "    def f(window, multiplicand_vector): return np.dot(window, multiplicand_vector)\n",
    "    \n",
    "    map_window(func=f, in_stream=in_stream, out_stream=out_stream,\n",
    "               window_size=len(multiplicand_vector), step_size=step_size, \n",
    "               multiplicand_vector=multiplicand_vector)"
   ]
  },
  {
   "cell_type": "code",
   "execution_count": 13,
   "metadata": {},
   "outputs": [
    {
     "name": "stdout",
     "output_type": "stream",
     "text": [
      "[100. 202. 304. 406. 508. 610. 712.]\n"
     ]
    }
   ],
   "source": [
    "def test_window_dot_product():\n",
    "    # Declare streams\n",
    "    x = StreamArray('x')\n",
    "    y = StreamArray('y')\n",
    "\n",
    "    # Create agent\n",
    "    window_dot_product(in_stream=x, out_stream=y, multiplicand_vector=[2, 100])\n",
    "\n",
    "    # Put data in streams\n",
    "    x.extend(np.arange(8.0))\n",
    "\n",
    "    # Execute a step\n",
    "    run()\n",
    "\n",
    "    # Look at values of output streams\n",
    "    assert np.array_equal(recent_values(y), \n",
    "                          np.array([100., 202., 304., 406., 508., 610., 712.]))\n",
    "    print (recent_values(y))\n",
    "\n",
    "test_window_dot_product()"
   ]
  },
  {
   "cell_type": "markdown",
   "metadata": {},
   "source": [
    "# Illustrates decorator: @map_w for mapping windows.\n",
    "\n",
    "## Output is the input with the input mean subtracted.\n",
    "\n",
    "The undecorated function **subtract_mean** has a single argument **window** which is a list, and it returns the zero-th element minus the mean of the window.\n",
    "\n",
    "The function, decorated with **map_w** takes a single input stream, and subtracts the mean of elements from sliding windows."
   ]
  },
  {
   "cell_type": "code",
   "execution_count": 14,
   "metadata": {},
   "outputs": [],
   "source": [
    "\n",
    "\"\"\"\n",
    "Agent that subtracts the mean in a stream.\n",
    "There are many ways of subtracting the mean of a stream.\n",
    "This is the simplest though not the most efficient.\n",
    "More efficient examples are given below.\n",
    "\n",
    "\"\"\"\n",
    "@map_w\n",
    "def subtract_mean(window):\n",
    "    return window[0] - np.mean(window)"
   ]
  },
  {
   "cell_type": "markdown",
   "metadata": {},
   "source": [
    "## Example Plots\n",
    "The next plot is of a sine wave with a mean of 1.0, and the following plot shows the result of applying subtract_mean() to that sine wave.\n",
    "<br>\n",
    "<br>\n",
    "Note that the window size must be large compared to the wave length. For convenience, in these plots, the window size is a multiple of the wave length (measured in terms of number of points). In general, however, the window size should be much larger. "
   ]
  },
  {
   "cell_type": "code",
   "execution_count": 15,
   "metadata": {
    "scrolled": true
   },
   "outputs": [
    {
     "data": {
      "image/png": "[encoded data removed]",
      "text/plain": [
       "<Figure size 432x288 with 1 Axes>"
      ]
     },
     "metadata": {
      "needs_background": "light"
     },
     "output_type": "display_data"
    }
   ],
   "source": [
    "import matplotlib.pyplot as plt\n",
    "%matplotlib inline\n",
    "NUM_CYCLES= 3\n",
    "NUM_POINTS_PER_CYCLE=18\n",
    "\n",
    "x = np.linspace(0, NUM_CYCLES*2*np.pi, num=NUM_CYCLES*NUM_POINTS_PER_CYCLE)\n",
    "y = np.sin(x) + 1.0\n",
    "\n",
    "plt.plot(x, y)\n",
    "plt.show()"
   ]
  },
  {
   "cell_type": "markdown",
   "metadata": {},
   "source": [
    "# Apply sliding windows to subtract the mean"
   ]
  },
  {
   "cell_type": "code",
   "execution_count": 16,
   "metadata": {
    "scrolled": true
   },
   "outputs": [
    {
     "data": {
      "image/png": "[encoded data removed]",
      "text/plain": [
       "<Figure size 432x288 with 1 Axes>"
      ]
     },
     "metadata": {
      "needs_background": "light"
     },
     "output_type": "display_data"
    }
   ],
   "source": [
    "x = np.linspace(0, NUM_CYCLES*2*np.pi, num=NUM_CYCLES*NUM_POINTS_PER_CYCLE)\n",
    "y = np.sin(x) + 1.0\n",
    "\n",
    "y_stream = StreamArray('y_stream')\n",
    "z = StreamArray('z')\n",
    "subtract_mean(in_stream=y_stream, out_stream=z, window_size=18, step_size=1)\n",
    "y_stream.extend(y)\n",
    "run()\n",
    "plt.plot(recent_values(z))\n",
    "plt.show()"
   ]
  },
  {
   "cell_type": "markdown",
   "metadata": {},
   "source": [
    "# Illustrates decorator: @map_w\n",
    "\n",
    "## Efficient removal of mean from a stream using blocks."
   ]
  },
  {
   "cell_type": "code",
   "execution_count": 17,
   "metadata": {},
   "outputs": [],
   "source": [
    "\"\"\"\n",
    "Agent that subtracts the mean of a stream in blocks.\n",
    "\n",
    "The step size is made equal to the block size. The window size must be\n",
    "many times the length of the longest wave of\n",
    "\n",
    "Example: If the window size is 4 and the block size is 2, and \n",
    "the input stream is x and the output stream is y:\n",
    "y[0, 1] consists of the first two elements of \n",
    "     x[0, 1, 2, 3] - np.mean(x[0, 1, 2, 3])\n",
    "y[2, 3] consists of the first two elements of \n",
    "     x[2, 3, 4, 5] - np.mean(x[2, 3, 4, 5])\n",
    "\n",
    "\"\"\"\n",
    "@map_w\n",
    "def subtract_mean_block(window, block_size):\n",
    "    a = window - np.mean(window)\n",
    "    return _multivalue(a[:block_size])"
   ]
  },
  {
   "cell_type": "code",
   "execution_count": 18,
   "metadata": {},
   "outputs": [
    {
     "data": {
      "image/png": "[encoded data removed]",
      "text/plain": [
       "<Figure size 432x288 with 1 Axes>"
      ]
     },
     "metadata": {
      "needs_background": "light"
     },
     "output_type": "display_data"
    }
   ],
   "source": [
    "def test_subtract_mean_block():\n",
    "    NUM_CYCLES= 3\n",
    "    NUM_POINTS_PER_CYCLE=18\n",
    "\n",
    "    # Data for streams.\n",
    "    x = np.linspace(0, NUM_CYCLES*2*np.pi, num=NUM_CYCLES*NUM_POINTS_PER_CYCLE)\n",
    "    y = np.sin(x) + 1.0\n",
    "    # Declare streams\n",
    "    y_stream = StreamArray('y_stream')\n",
    "    z = StreamArray('z')\n",
    "    subtract_mean_block(in_stream=y_stream, out_stream=z, window_size=18, step_size=6,\n",
    "                       block_size=6)\n",
    "    y_stream.extend(y)\n",
    "    run()\n",
    "\n",
    "    plt.plot(recent_values(z))\n",
    "    plt.show()\n",
    "test_subtract_mean_block()"
   ]
  },
  {
   "cell_type": "markdown",
   "metadata": {},
   "source": [
    "# Illustrates decorator: @map_w\n",
    "\n",
    "## Illustrates incremental computation on sliding windows\n",
    "\n",
    "#### Outputs are sums of the values of sliding windows of the input."
   ]
  },
  {
   "cell_type": "code",
   "execution_count": 19,
   "metadata": {},
   "outputs": [],
   "source": [
    "def sum_window_incremental(in_stream, out_stream, window_size):\n",
    "    \"\"\"\n",
    "    An agent that outputs the sum of all the elements in a window\n",
    "    of the input stream. \n",
    "    out_stream[0] = in_stream[0]+in_stream[1]+...+in_stream[window_size-1]\n",
    "    out_stream[m] = in_stream[m]+in_stream[m+1]+...+in_stream[window_size+m-1]\n",
    "    The summation is carried out incrementally as a window moves.\n",
    "    It adds the last element of the window and subtracts the element that\n",
    "    drops out of the window at each step.\n",
    "\n",
    "    The state is (starting, total) where starting is a Boolean and total\n",
    "    is the sum of the last window excluding window[0].\n",
    "    starting is True initially and becomes False after the sum of the first\n",
    "    window is output.\n",
    "    \"\"\"\n",
    "    @map_w\n",
    "    def sum_window_incremental_func(window, state):\n",
    "        starting, total = state\n",
    "        if starting:\n",
    "            starting = False\n",
    "            total = sum(window)\n",
    "        else:\n",
    "            total += window[-1]\n",
    "        next_state = starting, total-window[0]\n",
    "        return total, next_state\n",
    "\n",
    "    # Create agent\n",
    "    sum_window_incremental_func(\n",
    "        in_stream, out_stream, window_size, step_size=1, state=(True, 0))"
   ]
  },
  {
   "cell_type": "code",
   "execution_count": 20,
   "metadata": {},
   "outputs": [
    {
     "name": "stdout",
     "output_type": "stream",
     "text": [
      "[10 15 20 25 30 35]\n"
     ]
    }
   ],
   "source": [
    "def test_sum_window_incremental():\n",
    "    # Declare streams\n",
    "    x = StreamArray('x', dtype='int')\n",
    "    y = StreamArray('y', dtype='int')\n",
    "\n",
    "    # Create agent\n",
    "    sum_window_incremental(in_stream=x, out_stream=y, window_size=5)\n",
    "\n",
    "    # Put data in streams\n",
    "    x.extend(list(range(10)))\n",
    "\n",
    "    # Execute a step\n",
    "    run()\n",
    "\n",
    "    # Look at values of output streams\n",
    "    print(recent_values(y))\n",
    "\n",
    "test_sum_window_incremental()"
   ]
  },
  {
   "cell_type": "code",
   "execution_count": 21,
   "metadata": {},
   "outputs": [],
   "source": [
    "def subtract_mean_incremental(in_stream, out_stream, window_size):\n",
    "    @map_w\n",
    "    def subtract_mean_incremental_func(window, state):\n",
    "        starting, total = state\n",
    "        if starting:\n",
    "            starting = False\n",
    "            total = sum(window)\n",
    "        else:\n",
    "            total += window[-1]\n",
    "        next_state = starting, total-window[0]\n",
    "        mean_of_window = total/float(len(window))\n",
    "        next_output = window[0] - mean_of_window\n",
    "        return next_output, next_state\n",
    "\n",
    "    # Create agent\n",
    "    subtract_mean_incremental_func(\n",
    "        in_stream, out_stream, window_size, step_size=1, state=(True, 0))"
   ]
  },
  {
   "cell_type": "code",
   "execution_count": 22,
   "metadata": {},
   "outputs": [
    {
     "data": {
      "image/png": "[encoded data removed]",
      "text/plain": [
       "<Figure size 432x288 with 1 Axes>"
      ]
     },
     "metadata": {
      "needs_background": "light"
     },
     "output_type": "display_data"
    }
   ],
   "source": [
    "def test_subtract_mean_incremental():\n",
    "    x_data = np.linspace(0, NUM_CYCLES*2*np.pi, num=NUM_CYCLES*NUM_POINTS_PER_CYCLE)\n",
    "    y_data = np.sin(x) + 1.0\n",
    "    \n",
    "    # Declare streams\n",
    "    y = StreamArray('y', dtype='float')\n",
    "    z = StreamArray('z', dtype='float')\n",
    "\n",
    "    # Create agent\n",
    "    subtract_mean_incremental(in_stream=y, out_stream=z, window_size=5)\n",
    "\n",
    "    # Put data in streams\n",
    "    y.extend(y_data)\n",
    "\n",
    "    # Execute a step\n",
    "    run()\n",
    "\n",
    "    plt.plot(recent_values(z))\n",
    "    plt.show()\n",
    "\n",
    "test_subtract_mean_incremental()"
   ]
  },
  {
   "cell_type": "markdown",
   "metadata": {},
   "source": [
    "# Illustrates \\_no\\_value and @map_e\n",
    "\n",
    "## Outputs are times at which the input crosses a threshold."
   ]
  },
  {
   "cell_type": "code",
   "execution_count": 23,
   "metadata": {},
   "outputs": [],
   "source": [
    "from IoTPy.core.stream import _no_value\n",
    "\"\"\"\n",
    "Agent outputs the time (indices) at which the absolute value of an element\n",
    "of the input stream exceeds a threshold.\n",
    "If the threshold is 2.5 and the input stream is\n",
    "[1, 2, 5, 0, 9, 10, 11, 10, 9, 5, 1, 0, 2]\n",
    "then the output stream is\n",
    "[2 4 5 6 7 8 9] because \n",
    "in_stream[2] > threshold, in_stream[4] > threshold, ....\n",
    "\n",
    "The state is the index of the next element of the input stream\n",
    "that is read by the agent. Initially the state is 0. The state\n",
    "is incremented by 1 at each step.\n",
    "\n",
    "The output is the state if the threshold is exceeded and is\n",
    "_no_value otherwise.\n",
    "\"\"\"\n",
    "@map_e\n",
    "def time_of_crossing_threshold(value, state, threshold):\n",
    "    return (state if abs(value) > threshold else _no_value, state+1)"
   ]
  },
  {
   "cell_type": "code",
   "execution_count": 24,
   "metadata": {},
   "outputs": [
    {
     "name": "stdout",
     "output_type": "stream",
     "text": [
      "[2 4 5 6 7 8 9]\n"
     ]
    }
   ],
   "source": [
    "def test_time_of_crossing_threshold():\n",
    "    # Declare streams\n",
    "    x = StreamArray('x', dtype='int')\n",
    "    y = StreamArray('y', dtype='int')\n",
    "\n",
    "    # Create agent\n",
    "    time_of_crossing_threshold(in_stream=x, out_stream=y, state=0, threshold=2.5)\n",
    "\n",
    "    # Put data in streams\n",
    "    x.extend([1, 2, 5, 0, 9, 10, 11, 10, 9, 5, 1, 0, 2])\n",
    "\n",
    "    # Execute a step\n",
    "    run()\n",
    "\n",
    "    # Look at values of output streams\n",
    "    print(recent_values(y))\n",
    "\n",
    "test_time_of_crossing_threshold()"
   ]
  },
  {
   "cell_type": "markdown",
   "metadata": {},
   "source": [
    "# Illustrates @map_e\n",
    "\n",
    "## Quenching rate of alerts.\n",
    "\n",
    "### Inputs are timed alerts and outputs are same as inputs with deletions of proximate alerts.\n"
   ]
  },
  {
   "cell_type": "code",
   "execution_count": 25,
   "metadata": {},
   "outputs": [],
   "source": [
    "@map_e\n",
    "def quenched_time_of_crossing_threshold(\n",
    "        value, state, threshold, quench_duration):\n",
    "    current_time, last_quench_time = state\n",
    "    if ((current_time <= last_quench_time + quench_duration) or\n",
    "        (abs(value) <= threshold)):\n",
    "        signal = _no_value\n",
    "    else:\n",
    "        signal = (current_time, value)\n",
    "        last_quench_time = current_time\n",
    "    next_state = (current_time+1, last_quench_time)\n",
    "    return signal, next_state"
   ]
  },
  {
   "cell_type": "code",
   "execution_count": 26,
   "metadata": {},
   "outputs": [
    {
     "name": "stdout",
     "output_type": "stream",
     "text": [
      "[[ 4  9]\n",
      " [ 7 10]\n",
      " [13 10]\n",
      " [16 10]]\n"
     ]
    }
   ],
   "source": [
    "def test_quenched_time_of_crossing_threshold():\n",
    "    # Declare streams\n",
    "    x = StreamArray('x', dtype='int')\n",
    "    y = StreamArray('y', dimension=(2,), dtype='int')\n",
    "\n",
    "    # Create agent\n",
    "    quenched_time_of_crossing_threshold(\n",
    "        in_stream=x, out_stream=y, state=(0,0), threshold=2.5, quench_duration=2)\n",
    "\n",
    "    # Put data in streams\n",
    "    x.extend([1, 2, 5, 0, 9, 10, 11, 10, 9, 5, 1, 0, 2, 10, 10, 10, 10, 20, 1])\n",
    "\n",
    "    # Execute a step\n",
    "    run()\n",
    "\n",
    "    # Look at values of output streams\n",
    "    print(recent_values(y))\n",
    "\n",
    "test_quenched_time_of_crossing_threshold()\n",
    "    "
   ]
  },
  {
   "cell_type": "markdown",
   "metadata": {},
   "source": [
    "# Illustrates StreamArray & NumPy library\n",
    "\n",
    "## Inputs are matrices and outputs are their inverses."
   ]
  },
  {
   "cell_type": "code",
   "execution_count": 27,
   "metadata": {},
   "outputs": [
    {
     "name": "stdout",
     "output_type": "stream",
     "text": [
      "[[[-2.   1. ]\n",
      "  [ 1.5 -0.5]]\n",
      "\n",
      " [[ 1.   0. ]\n",
      "  [ 0.   1. ]]]\n"
     ]
    }
   ],
   "source": [
    "def test_invert_matrix():\n",
    "    # Declare streams\n",
    "    x = StreamArray(dimension=(2,2), dtype=float, name='x')\n",
    "    y = StreamArray(dimension=(2, 2), dtype=float, name='y')\n",
    "\n",
    "    # Create agent\n",
    "    map_element(func=np.linalg.inv, in_stream=x, out_stream=y)\n",
    "\n",
    "    # Put data in streams\n",
    "    x.extend([np.array([[1.,2.],[3.,4.]]),\n",
    "              np.array([[1.,0.],[0.,1.]])])\n",
    "\n",
    "    # Execute a step\n",
    "    run()\n",
    "\n",
    "    # Look at values of output streams\n",
    "    print(recent_values(y))\n",
    "\n",
    "test_invert_matrix()"
   ]
  },
  {
   "cell_type": "markdown",
   "metadata": {},
   "source": [
    "# Prime Number Sieve: Illustrates sink agent\n",
    "A call to <i>sieve</i> creates a sink agent with an initial state of 0 and keyword parameters <i>prime_stream</i> and <i>out_stream</i>.\n",
    "<br>\n",
    "<b>prime_stream</b> is a stream of prime numbers.\n",
    "<br>\n",
    "The function <i>f</i> that is wrapped in <i>sink</i> does the following.\n",
    "<ol>\n",
    "    <li>For the first call, i.e., when <i>v</i> is the first element of the input stream, the state of the agent is set to this first element, and this value is appended to <i>prime_stream</i>, and then <i>f</i> calls <i>sieve</i> recursively with an empty <i>out_stream</i>.</li>\n",
    "    <li>For subsequent calls, the element <i>v</i> of the input stream is appended to <i>out_stream</i> if it is not a multiple of <i>state</i>. </li>\n",
    "    </ol>"
   ]
  },
  {
   "cell_type": "code",
   "execution_count": 28,
   "metadata": {},
   "outputs": [],
   "source": [
    "from IoTPy.agent_types.sink import sink\n",
    "def sieve(in_stream, prime_stream):\n",
    "    def f(v, state, prime_stream, out_stream):\n",
    "        if state == 0:\n",
    "            prime_stream.append(v)\n",
    "            state = v\n",
    "            sieve(out_stream, prime_stream)\n",
    "        else:\n",
    "            if v % state != 0: \n",
    "                out_stream.append(v)\n",
    "        return state\n",
    "    sink(func=f, in_stream=in_stream, state=0,\n",
    "         prime_stream=prime_stream, out_stream=Stream())"
   ]
  },
  {
   "cell_type": "code",
   "execution_count": 29,
   "metadata": {},
   "outputs": [],
   "source": [
    "def test_sieve():\n",
    "    x = Stream('x')\n",
    "    y = Stream('y')\n",
    "    sieve(x, y)\n",
    "    x.extend(list(range(2, 20)))\n",
    "    run()\n",
    "    assert recent_values(y) == [2, 3, 5, 7, 11, 13, 17, 19]"
   ]
  },
  {
   "cell_type": "code",
   "execution_count": 30,
   "metadata": {},
   "outputs": [
    {
     "name": "stdout",
     "output_type": "stream",
     "text": [
      "[2, 3, 5, 7, 11, 13, 17, 19, 23, 29]\n"
     ]
    }
   ],
   "source": [
    "def sieve_N(N, step_size):\n",
    "    x = Stream('x')\n",
    "    y = Stream('y')\n",
    "    sieve(x, y)\n",
    "    n = 2\n",
    "    finished = False\n",
    "    while not finished:\n",
    "        x.extend(list(range(n, n+step_size)))\n",
    "        n += step_size\n",
    "        run()\n",
    "        finished = (len(recent_values(y)) >= N)\n",
    "    return recent_values(y)[:N]\n",
    "# Sieve for N primes\n",
    "print (sieve_N(10, 5))"
   ]
  }
 ],
 "metadata": {
  "kernelspec": {
   "display_name": "Python 3 (ipykernel)",
   "language": "python",
   "name": "python3"
  },
  "language_info": {
   "codemirror_mode": {
    "name": "ipython",
    "version": 3
   },
   "file_extension": ".py",
   "mimetype": "text/x-python",
   "name": "python",
   "nbconvert_exporter": "python",
   "pygments_lexer": "ipython3",
   "version": "3.10.2"
  }
 },
 "nbformat": 4,
 "nbformat_minor": 2
}

{
 "cells": [
  {
   "cell_type": "markdown",
   "metadata": {},
   "source": [
    "# Examples of split\n",
    "A split agent has a single input stream and two or more output streams."
   ]
  },
  {
   "cell_type": "code",
   "execution_count": 1,
   "metadata": {},
   "outputs": [],
   "source": [
    "import sys\n",
    "sys.path.append(\"../\")"
   ]
  },
  {
   "cell_type": "code",
   "execution_count": 2,
   "metadata": {},
   "outputs": [],
   "source": [
    "from IoTPy.core.stream import Stream, run\n",
    "from IoTPy.agent_types.split import split_element, split_list, split_window\n",
    "from IoTPy.agent_types.split import unzip, separate, timed_unzip\n",
    "from IoTPy.agent_types.basics import split_e, fsplit_2e\n",
    "from IoTPy.helper_functions.recent_values import recent_values"
   ]
  },
  {
   "cell_type": "markdown",
   "metadata": {},
   "source": [
    "## split_element\n",
    "The encapsulated function has a single argument (apart from keyword arguments and state which are discussed later). The encapsulated function returns a list.\n",
    "<br>\n",
    "In the example below, <i>f</i> takes a single argument v and returns a list of two values.\n",
    "<br>\n",
    "The agent split_element has a single input stream and a list of output streams. The list of output streams correspond to the list of values returned by f. \n",
    "<br>\n",
    "<br>\n",
    "y[n], z[n] = f(x[n])\n",
    "<br>\n",
    "<br>\n",
    "In this example, y[n] = x[n]+100 and z[n] = x[n]*2"
   ]
  },
  {
   "cell_type": "code",
   "execution_count": 3,
   "metadata": {},
   "outputs": [
    {
     "name": "stdout",
     "output_type": "stream",
     "text": [
      "recent values of stream y are\n",
      "[100, 101, 102, 103, 104]\n",
      "recent values of stream z are\n",
      "[0, 2, 4, 6, 8]\n"
     ]
    }
   ],
   "source": [
    "def simple_example_of_split_element():\n",
    "    # Specify streams\n",
    "    x = Stream('x')\n",
    "    y = Stream('y')\n",
    "    z = Stream('z')\n",
    "\n",
    "    # Specify encapsulated functions\n",
    "    def f(v): return [v+100, v*2]\n",
    "\n",
    "    # Create agent with input stream x and output streams y, z.\n",
    "    split_element(func=f, in_stream=x, out_streams=[y,z])\n",
    "    \n",
    "    # Put test values in the input streams.\n",
    "    x.extend(list(range(5)))\n",
    "\n",
    "    # Execute a step\n",
    "    run()\n",
    "\n",
    "    # Look at recent values of streams.\n",
    "    print ('recent values of stream y are')\n",
    "    print (recent_values(y))\n",
    "    print ('recent values of stream z are')\n",
    "    print (recent_values(z))\n",
    "\n",
    "simple_example_of_split_element()"
   ]
  },
  {
   "cell_type": "markdown",
   "metadata": {},
   "source": [
    "## Example of the decorator @split_e\n",
    "The decorator <i>@split_e</i> operates the same as split_element, except that the agent is created by calling the decorated function.\n",
    "<br>\n",
    "Compare this example with the previous one which used split_element. The two examples are almost identical. The difference is in the way that the agent is created. In this example, the agent is created by calling (the decorated) function f whereas in the previous example, the agent was created by calling split_element."
   ]
  },
  {
   "cell_type": "code",
   "execution_count": 4,
   "metadata": {},
   "outputs": [
    {
     "name": "stdout",
     "output_type": "stream",
     "text": [
      "recent values of stream y are\n",
      "[100, 101, 102, 103, 104]\n",
      "recent values of stream z are\n",
      "[0, 2, 4, 6, 8]\n"
     ]
    }
   ],
   "source": [
    "def simple_example_of_split_e():\n",
    "    # Specify streams\n",
    "    x = Stream('x')\n",
    "    y = Stream('y')\n",
    "    z = Stream('z')\n",
    "\n",
    "    # Specify encapsulated functions\n",
    "    @split_e\n",
    "    def f(v): return [v+100, v*2]\n",
    "\n",
    "    # Create agent with input stream x and output streams y, z.\n",
    "    f(in_stream=x, out_streams=[y,z])\n",
    "    \n",
    "    # Put test values in the input streams.\n",
    "    x.extend(list(range(5)))\n",
    "\n",
    "    # Execute a step\n",
    "    run()\n",
    "\n",
    "    # Look at recent values of streams.\n",
    "    print ('recent values of stream y are')\n",
    "    print (recent_values(y))\n",
    "    print ('recent values of stream z are')\n",
    "    print (recent_values(z))\n",
    "\n",
    "simple_example_of_split_e()"
   ]
  },
  {
   "cell_type": "markdown",
   "metadata": {},
   "source": [
    "## Example of functional forms\n",
    "You may want to use a function that returns the streams resulting from a split instead of having the streams specified in out_streams, i.e. you may prefer to write:\n",
    "<br>\n",
    "<br>\n",
    "a, b, c = h(u)\n",
    "<br>\n",
    "<br>\n",
    "where <i>u</i> is a stream that is split into streams <i>a</i>, <i>b</i>, and <i>c</i>, \n",
    "instead of writing:\n",
    "<br>\n",
    "<br>\n",
    "h(in_stream=u, out_streams=[a, b, c])\n",
    "<br>\n",
    "<br>\n",
    "This example illustrates how a functional form can be specified and used. Function <i>h</i> creates and returns the three streams <i>x</i>, <i>y</i>, and <i>z</i>. Calling the function creates a <i>split_element</i> agent."
   ]
  },
  {
   "cell_type": "code",
   "execution_count": 5,
   "metadata": {},
   "outputs": [
    {
     "name": "stdout",
     "output_type": "stream",
     "text": [
      "recent values of stream a are\n",
      "[100, 101, 102, 103, 104]\n",
      "recent values of stream b are\n",
      "[0, 2, 4, 6, 8]\n",
      "recent values of stream c are\n",
      "[0, 1, 4, 9, 16]\n"
     ]
    }
   ],
   "source": [
    "def simple_example_of_functional_form():\n",
    "\n",
    "    # ------------------------------------------------------\n",
    "    # Specifying a functional form\n",
    "    # The functional form takes a single input stream and returns\n",
    "    # three streams.\n",
    "    def h(w):\n",
    "        # Specify streams\n",
    "        x = Stream('x')\n",
    "        y = Stream('y')\n",
    "        z = Stream('z')\n",
    "\n",
    "        # Specify encapsulated functions\n",
    "        def f(v): return [v+100, v*2, v**2]\n",
    "\n",
    "        # Create agent with input stream x and output streams y, z.\n",
    "        split_element(func=f, in_stream=w, out_streams=[x,y,z])\n",
    "\n",
    "        # Return streams created by this function.\n",
    "        return x, y, z\n",
    "    # ------------------------------------------------------\n",
    "\n",
    "    # Using the functional form.\n",
    "    # Specify streams\n",
    "    w = Stream('w')\n",
    "\n",
    "    # Create agent with input stream x and output streams a, b, c.\n",
    "    a, b, c = h(w)\n",
    "    \n",
    "    # Put test values in the input streams.\n",
    "    w.extend(list(range(5)))\n",
    "\n",
    "    # Execute a step\n",
    "    run()\n",
    "\n",
    "    # Look at recent values of streams.\n",
    "    print ('recent values of stream a are')\n",
    "    print (recent_values(a))\n",
    "    print ('recent values of stream b are')\n",
    "    print (recent_values(b))\n",
    "    print ('recent values of stream c are')\n",
    "    print (recent_values(c))\n",
    "\n",
    "simple_example_of_functional_form()"
   ]
  },
  {
   "cell_type": "code",
   "execution_count": 6,
   "metadata": {},
   "outputs": [
    {
     "name": "stdout",
     "output_type": "stream",
     "text": [
      "recent values of stream y are\n",
      "[100, 101, 102, 103, 104]\n",
      "recent values of stream z are\n",
      "[0, 2, 4, 6, 8]\n"
     ]
    }
   ],
   "source": [
    "def example_of_split_element_with_keyword_args():\n",
    "    # Specify streams\n",
    "    x = Stream('x')\n",
    "    y = Stream('y')\n",
    "    z = Stream('z')\n",
    "\n",
    "    # Specify encapsulated functions\n",
    "    def f(v, addend, multiplicand): \n",
    "        return [v+addend, v*multiplicand]\n",
    "\n",
    "    # Create agent with input stream x and output streams y, z.\n",
    "    split_element(func=f, in_stream=x, out_streams=[y,z], addend=100, multiplicand=2)\n",
    "    \n",
    "    # Put test values in the input streams.\n",
    "    x.extend(list(range(5)))\n",
    "\n",
    "    # Execute a step\n",
    "    run()\n",
    "\n",
    "    # Look at recent values of streams.\n",
    "    print ('recent values of stream y are')\n",
    "    print (recent_values(y))\n",
    "    print ('recent values of stream z are')\n",
    "    print (recent_values(z))\n",
    "\n",
    "example_of_split_element_with_keyword_args()"
   ]
  },
  {
   "cell_type": "code",
   "execution_count": 7,
   "metadata": {},
   "outputs": [
    {
     "name": "stdout",
     "output_type": "stream",
     "text": [
      "recent values of stream y are\n",
      "[0, 2, 4, 6, 8]\n",
      "recent values of stream z are\n",
      "[0, 1, 4, 9, 16]\n"
     ]
    }
   ],
   "source": [
    "def example_of_split_element_with_state():\n",
    "    # Specify streams\n",
    "    x = Stream('x')\n",
    "    y = Stream('y')\n",
    "    z = Stream('z')\n",
    "\n",
    "    # Specify encapsulated functions\n",
    "    def f(v, state):\n",
    "        next_state = state+1\n",
    "        return ([v+state, v*state], next_state)\n",
    "\n",
    "    # Create agent with input stream x and output streams y, z.\n",
    "    split_element(func=f, in_stream=x, out_streams=[y,z], state=0)\n",
    "    \n",
    "    # Put test values in the input streams.\n",
    "    x.extend(list(range(5)))\n",
    "\n",
    "    # Execute a step\n",
    "    run()\n",
    "\n",
    "    # Look at recent values of streams.\n",
    "    print ('recent values of stream y are')\n",
    "    print (recent_values(y))\n",
    "    print ('recent values of stream z are')\n",
    "    print (recent_values(z))\n",
    "\n",
    "example_of_split_element_with_state()"
   ]
  },
  {
   "cell_type": "code",
   "execution_count": 8,
   "metadata": {},
   "outputs": [
    {
     "name": "stdout",
     "output_type": "stream",
     "text": [
      "recent values of stream y are\n",
      "[0, 11, 22, 33, 44]\n",
      "recent values of stream z are\n",
      "[0, 10, 40, 90, 160]\n"
     ]
    }
   ],
   "source": [
    "def example_of_split_element_with_state_and_keyword_args():\n",
    "    # Specify streams\n",
    "    x = Stream('x')\n",
    "    y = Stream('y')\n",
    "    z = Stream('z')\n",
    "\n",
    "    # Specify encapsulated functions\n",
    "    def f(v, state, state_increment):\n",
    "        next_state = state + state_increment\n",
    "        return ([v+state, v*state], next_state)\n",
    "\n",
    "    # Create agent with input stream x and output streams y, z.\n",
    "    split_element(func=f, in_stream=x, out_streams=[y,z], state=0, state_increment=10)\n",
    "    \n",
    "    # Put test values in the input streams.\n",
    "    x.extend(list(range(5)))\n",
    "\n",
    "    # Execute a step\n",
    "    run()\n",
    "\n",
    "    # Look at recent values of streams.\n",
    "    print ('recent values of stream y are')\n",
    "    print (recent_values(y))\n",
    "    print ('recent values of stream z are')\n",
    "    print (recent_values(z))\n",
    "\n",
    "example_of_split_element_with_state_and_keyword_args()"
   ]
  },
  {
   "cell_type": "code",
   "execution_count": 9,
   "metadata": {},
   "outputs": [
    {
     "name": "stdout",
     "output_type": "stream",
     "text": [
      "recent values of stream y are\n",
      "[1. 2. 3. 4. 5.]\n",
      "recent values of stream z are\n",
      "[0. 2. 4. 6. 8.]\n"
     ]
    }
   ],
   "source": [
    "import numpy as np\n",
    "from IoTPy.core.stream import StreamArray\n",
    "\n",
    "def example_of_split_element_with_stream_array():\n",
    "    # Specify streams\n",
    "    x = StreamArray('x')\n",
    "    y = StreamArray('y')\n",
    "    z = StreamArray('z')\n",
    "\n",
    "    # Specify encapsulated functions\n",
    "    def f(v, addend, multiplier):\n",
    "        return [v+addend, v*multiplier]\n",
    "\n",
    "    # Create agent with input stream x and output streams y, z.\n",
    "    split_element(func=f, in_stream=x, out_streams=[y,z],\n",
    "                 addend=1.0, multiplier=2.0)\n",
    "    \n",
    "    # Put test values in the input streams.\n",
    "    A = np.linspace(0.0, 4.0, 5)\n",
    "    x.extend(A)\n",
    "\n",
    "    # Execute a step\n",
    "    run()\n",
    "\n",
    "    # Look at recent values of streams.\n",
    "    assert np.array_equal(recent_values(y), A + 1.0)\n",
    "    assert np.array_equal(recent_values(z), A * 2.0)\n",
    "    print ('recent values of stream y are')\n",
    "    print (recent_values(y))\n",
    "    print ('recent values of stream z are')\n",
    "    print (recent_values(z))\n",
    "\n",
    "example_of_split_element_with_stream_array()"
   ]
  },
  {
   "cell_type": "markdown",
   "metadata": {},
   "source": [
    "## Example of split list\n",
    "split_list is the same as split_element except that the encapsulated function operates on a <i>list</i> of elements of the input stream rather than on a single element. Operating on a list can be more efficient than operating sequentially on each of the elements of the list. This is especially important when working with arrays.\n",
    "<br>\n",
    "<br>\n",
    "In this example, f operates on a list, <i>lst</i> of elements, and has keyword arguments <i>addend</i> and <i>multiplier</i>. It returns two lists corresponding to two output streams of the agent."
   ]
  },
  {
   "cell_type": "code",
   "execution_count": 10,
   "metadata": {},
   "outputs": [
    {
     "name": "stdout",
     "output_type": "stream",
     "text": [
      "recent values of stream y are\n",
      "[100, 101, 102, 103, 104]\n",
      "recent values of stream z are\n",
      "[0, 2, 4, 6, 8]\n"
     ]
    }
   ],
   "source": [
    "def example_of_split_list():\n",
    "    # Specify streams\n",
    "    x = Stream('x')\n",
    "    y = Stream('y')\n",
    "    z = Stream('z')\n",
    "\n",
    "    # Specify encapsulated functions\n",
    "    def f(lst, addend, multiplier):\n",
    "        return ([v+addend for v in lst], [v*multiplier for v in lst])\n",
    "\n",
    "    # Create agent with input stream x and output streams y, z.\n",
    "    split_list(func=f, in_stream=x, out_streams=[y,z], addend=100, multiplier=2)\n",
    "    \n",
    "    # Put test values in the input streams.\n",
    "    x.extend(list(range(5)))\n",
    "\n",
    "    # Execute a step\n",
    "    run()\n",
    "\n",
    "    # Look at recent values of streams.\n",
    "    print ('recent values of stream y are')\n",
    "    print (recent_values(y))\n",
    "    print ('recent values of stream z are')\n",
    "    print (recent_values(z))\n",
    "\n",
    "example_of_split_list()"
   ]
  },
  {
   "cell_type": "markdown",
   "metadata": {},
   "source": [
    "## Example of split list with arrays\n",
    "In this example, the encapsulated function <i>f</i> operates on an array <i>a</i> which is a segment of the input stream array, <i>x</i>. The operations in <i>f</i> are array operations (not list operations). For example, the result of <i>a * multiplier </i> is specified by numpy multiplication of an array with a scalar."
   ]
  },
  {
   "cell_type": "code",
   "execution_count": 11,
   "metadata": {},
   "outputs": [
    {
     "name": "stdout",
     "output_type": "stream",
     "text": [
      "recent values of stream y are\n",
      "[100. 101. 102. 103. 104.]\n",
      "recent values of stream z are\n",
      "[0. 2. 4. 6. 8.]\n"
     ]
    }
   ],
   "source": [
    "def example_of_split_list_with_arrays():\n",
    "    # Specify streams\n",
    "    x = StreamArray('x')\n",
    "    y = StreamArray('y')\n",
    "    z = StreamArray('z')\n",
    "\n",
    "    # Specify encapsulated functions\n",
    "    def f(a, addend, multiplier):\n",
    "        # a is an array\n",
    "        # return two arrays.\n",
    "        return (a + addend, a * multiplier)\n",
    "\n",
    "    # Create agent with input stream x and output streams y, z.\n",
    "    split_list(func=f, in_stream=x, out_streams=[y,z], addend=100, multiplier=2)\n",
    "    \n",
    "    # Put test values in the input streams.\n",
    "    x.extend(np.arange(5.0))\n",
    "\n",
    "    # Execute a step\n",
    "    run()\n",
    "\n",
    "    # Look at recent values of streams.\n",
    "    print ('recent values of stream y are')\n",
    "    print (recent_values(y))\n",
    "    print ('recent values of stream z are')\n",
    "    print (recent_values(z))\n",
    "\n",
    "example_of_split_list_with_arrays()"
   ]
  },
  {
   "cell_type": "markdown",
   "metadata": {},
   "source": [
    "## Test of unzip\n",
    "unzip is the opposite of zip_stream.\n",
    "<br>\n",
    "<br>\n",
    "In this example, when the unzip agent receives the triple (1, 10, 100) on the input stream <i>w</i> it puts 1 on stream <i>x</i>, and 10 on stream <i>y</i>, and 100 on stream <i>z</i>."
   ]
  },
  {
   "cell_type": "code",
   "execution_count": 12,
   "metadata": {},
   "outputs": [
    {
     "name": "stdout",
     "output_type": "stream",
     "text": [
      "recent values of stream x are\n",
      "[1, 2, 3]\n",
      "recent values of stream y are\n",
      "[10, 20, 30]\n",
      "recent values of stream z are\n",
      "[100, 200, 300]\n"
     ]
    }
   ],
   "source": [
    "def simple_test_unzip():\n",
    "    # Specify streams\n",
    "    w = Stream('w')\n",
    "    x = Stream('x')\n",
    "    y = Stream('y')\n",
    "    z = Stream('z')\n",
    "\n",
    "    # Create agent with input stream x and output streams y, z.\n",
    "    unzip(in_stream=w, out_streams=[x,y,z])\n",
    "    \n",
    "    # Put test values in the input streams.\n",
    "    w.extend([(1, 10, 100), (2, 20, 200), (3, 30, 300)])\n",
    "\n",
    "    # Execute a step\n",
    "    run()\n",
    "\n",
    "    # Look at recent values of streams.\n",
    "    print ('recent values of stream x are')\n",
    "    print (recent_values(x))\n",
    "    print ('recent values of stream y are')\n",
    "    print (recent_values(y))\n",
    "    print ('recent values of stream z are')\n",
    "    print (recent_values(z))\n",
    "\n",
    "simple_test_unzip()"
   ]
  },
  {
   "cell_type": "markdown",
   "metadata": {},
   "source": [
    "## Example of separate\n",
    "separate is the opposite of mix.\n",
    "<br>\n",
    "The elements of the input stream are pairs (index, value). When a pair (i,v) arrives the value v is appended to the i-th output stream.\n",
    "<br>\n",
    "<br>\n",
    "In this example, when (0, 1) and (2, 100) arrive on the input stream <i>x</i>, the value 1 is appended to the 0-th output stream which is <i>y</i> and the value 100 is appended to output stream indexed 2 which is stream <i>w</i>."
   ]
  },
  {
   "cell_type": "code",
   "execution_count": 13,
   "metadata": {},
   "outputs": [
    {
     "name": "stdout",
     "output_type": "stream",
     "text": [
      "recent values of stream y are\n",
      "[1, 2]\n",
      "recent values of stream z are\n",
      "[10, 20]\n",
      "recent values of stream w are\n",
      "[100]\n"
     ]
    }
   ],
   "source": [
    "def simple_test_separate():\n",
    "    # Specify streams\n",
    "    x = Stream('x')\n",
    "    y = Stream('y')\n",
    "    z = Stream('z')\n",
    "    w = Stream('w')\n",
    "\n",
    "    # Create agent with input stream x and output streams y, z.\n",
    "    separate(in_stream=x, out_streams=[y,z,w])\n",
    "    \n",
    "    # Put test values in the input streams.\n",
    "    x.extend([(0,1), (2, 100), (0, 2), (1, 10), (1, 20)])\n",
    "\n",
    "    # Execute a step\n",
    "    run()\n",
    "\n",
    "    # Look at recent values of streams.\n",
    "    print ('recent values of stream y are')\n",
    "    print (recent_values(y))\n",
    "    print ('recent values of stream z are')\n",
    "    print (recent_values(z))\n",
    "    print ('recent values of stream w are')\n",
    "    print (recent_values(w))\n",
    "\n",
    "simple_test_separate()"
   ]
  },
  {
   "cell_type": "markdown",
   "metadata": {},
   "source": [
    "## Example of separate with stream arrays.\n",
    "This is the same example as the previous case. The only difference is that since the elements of the input stream are pairs, the dimension of <i>x</i> is 2."
   ]
  },
  {
   "cell_type": "code",
   "execution_count": 14,
   "metadata": {},
   "outputs": [
    {
     "name": "stdout",
     "output_type": "stream",
     "text": [
      "recent values of stream y are\n",
      "[2. 4.]\n",
      "recent values of stream z are\n",
      "[10. 20.]\n"
     ]
    }
   ],
   "source": [
    "def test_separate_with_stream_array():\n",
    "    # Specify streams\n",
    "    x = StreamArray('x', dimension=2)\n",
    "    y = StreamArray('y')\n",
    "    z = StreamArray('z')\n",
    "\n",
    "    # Create agent with input stream x and output streams y, z.\n",
    "    separate(in_stream=x, out_streams=[y,z])\n",
    "    \n",
    "    # Put test values in the input streams.\n",
    "    x.extend(np.array([[1.0, 10.0], [0.0, 2.0], [1.0, 20.0], [0.0, 4.0]]))\n",
    "\n",
    "    # Execute a step\n",
    "    run()\n",
    "\n",
    "    # Look at recent values of streams.\n",
    "    print ('recent values of stream y are')\n",
    "    print (recent_values(y))\n",
    "    print ('recent values of stream z are')\n",
    "    print (recent_values(z))\n",
    "\n",
    "test_separate_with_stream_array()"
   ]
  },
  {
   "cell_type": "markdown",
   "metadata": {},
   "source": [
    "## Example of split window\n",
    "The input stream is broken up into windows. In this example, with window_size=2 and step_size=2, the sequence of windows are x[0, 1], x[2, 3], x[4, 5], ....\n",
    "<br>\n",
    "The encapsulated function operates on a window and returns n values where n is the number of output streams. In this example, max(window) is appended to the output stream with index 0, i.e. stream <i>y</i>, and min(window) is appended to the output stream with index 1, i.e., stream <i>z</i>."
   ]
  },
  {
   "cell_type": "code",
   "execution_count": 15,
   "metadata": {},
   "outputs": [
    {
     "name": "stdout",
     "output_type": "stream",
     "text": [
      "recent values of stream y are\n",
      "[1, 3]\n",
      "recent values of stream z are\n",
      "[0, 2]\n"
     ]
    }
   ],
   "source": [
    "def simple_example_of_split_window():\n",
    "    # Specify streams\n",
    "    x = Stream('x')\n",
    "    y = Stream('y')\n",
    "    z = Stream('z')\n",
    "\n",
    "    # Specify encapsulated functions\n",
    "    def f(window): return (max(window), min(window))\n",
    "\n",
    "    # Create agent with input stream x and output streams y, z.\n",
    "    split_window(func=f, in_stream=x, out_streams=[y,z],\n",
    "                window_size=2, step_size=2)\n",
    "    \n",
    "    # Put test values in the input streams.\n",
    "    x.extend(list(range(5)))\n",
    "\n",
    "    # Execute a step\n",
    "    run()\n",
    "\n",
    "    # Look at recent values of streams.\n",
    "    print ('recent values of stream y are')\n",
    "    print (recent_values(y))\n",
    "    print ('recent values of stream z are')\n",
    "    print (recent_values(z))\n",
    "\n",
    "simple_example_of_split_window()"
   ]
  },
  {
   "cell_type": "markdown",
   "metadata": {},
   "source": [
    "## Example that illustrates zip followed by unzip is the identity.\n",
    "zip_stream followed by unzip returns the initial streams."
   ]
  },
  {
   "cell_type": "code",
   "execution_count": 16,
   "metadata": {},
   "outputs": [
    {
     "name": "stdout",
     "output_type": "stream",
     "text": [
      "recent values of stream u are\n",
      "['A', 'B', 'C']\n",
      "recent values of stream v are\n",
      "[100, 200, 300]\n"
     ]
    }
   ],
   "source": [
    "from IoTPy.agent_types.merge import zip_stream\n",
    "def example_zip_plus_unzip():\n",
    "    # Specify streams\n",
    "    x = Stream('x')\n",
    "    y = Stream('y')\n",
    "    z = Stream('z')\n",
    "    u = Stream('u')\n",
    "    v = Stream('v')\n",
    "\n",
    "    # Create agents\n",
    "    zip_stream(in_streams=[x,y], out_stream=z)\n",
    "    unzip(in_stream=z, out_streams=[u,v])\n",
    "    \n",
    "    # Put test values in the input streams.\n",
    "    x.extend(['A', 'B', 'C'])\n",
    "    y.extend(list(range(100, 1000, 100)))\n",
    "\n",
    "    # Execute a step\n",
    "    run()\n",
    "\n",
    "    # Look at recent values of streams.\n",
    "    print ('recent values of stream u are')\n",
    "    print (recent_values(u))\n",
    "    print ('recent values of stream v are')\n",
    "    print (recent_values(v))\n",
    "\n",
    "example_zip_plus_unzip()"
   ]
  },
  {
   "cell_type": "markdown",
   "metadata": {},
   "source": [
    "## Example that illustrates that mix followed by separate is the identity."
   ]
  },
  {
   "cell_type": "code",
   "execution_count": 17,
   "metadata": {},
   "outputs": [
    {
     "name": "stdout",
     "output_type": "stream",
     "text": [
      "recent values of stream u are\n",
      "['A', 'B', 'C']\n",
      "recent values of stream v are\n",
      "[100, 200, 300, 400, 500, 600, 700, 800, 900]\n"
     ]
    }
   ],
   "source": [
    "from IoTPy.agent_types.merge import mix\n",
    "def example_mix_plus_separate():\n",
    "    # Specify streams\n",
    "    x = Stream('x')\n",
    "    y = Stream('y')\n",
    "    z = Stream('z')\n",
    "    u = Stream('u')\n",
    "    v = Stream('v')\n",
    "\n",
    "    # Create agents\n",
    "    mix(in_streams=[x,y], out_stream=z)\n",
    "    separate(in_stream=z, out_streams=[u,v])\n",
    "    \n",
    "    # Put test values in the input streams.\n",
    "    x.extend(['A', 'B', 'C'])\n",
    "    y.extend(list(range(100, 1000, 100)))\n",
    "\n",
    "    # Execute a step\n",
    "    run()\n",
    "\n",
    "    # Look at recent values of streams.\n",
    "    print ('recent values of stream u are')\n",
    "    print (recent_values(u))\n",
    "    print ('recent values of stream v are')\n",
    "    print (recent_values(v))\n",
    "\n",
    "example_mix_plus_separate()"
   ]
  },
  {
   "cell_type": "markdown",
   "metadata": {},
   "source": [
    "## Simple example of timed_unzip\n",
    "An element of the input stream is a pair (timestamp, list). The sequence of timestamps must be increasing. The list has length n where n is the number of output streams. The m-th element of the list is the value of the m-th output stream associated with that timestamp. For example, if an element of the input stream <i>x</i> is (5, [\"B\", \"a\"]) then (5, \"B\") is appended to stream <i>y</i> and (5, \"a') is appended to stream <i>z</i>."
   ]
  },
  {
   "cell_type": "code",
   "execution_count": 18,
   "metadata": {},
   "outputs": [
    {
     "name": "stdout",
     "output_type": "stream",
     "text": [
      "recent values of stream y are\n",
      "[(1, 'A'), (5, 'B'), (9, 'C')]\n",
      "recent values of stream z are\n",
      "[(5, 'a'), (7, 'b'), (9, 'c'), (10, 'd')]\n"
     ]
    }
   ],
   "source": [
    "def test_timed_unzip():\n",
    "    # Specify streams\n",
    "    x = Stream('x')\n",
    "    y = Stream('y')\n",
    "    z = Stream('z')\n",
    "\n",
    "    # Create agent with input stream x and output streams y, z.\n",
    "    timed_unzip(in_stream=x, out_streams=[y,z])\n",
    "    \n",
    "    # Put test values in the input streams.\n",
    "    x.extend([(1, [\"A\", None]), (5, [\"B\", \"a\"]), (7, [None, \"b\"]),\n",
    "              (9, [\"C\", \"c\"]), (10, [None, \"d\"])])\n",
    "\n",
    "    # Execute a step\n",
    "    run()\n",
    "\n",
    "    # Look at recent values of streams.\n",
    "    print ('recent values of stream y are')\n",
    "    print (recent_values(y))\n",
    "    print ('recent values of stream z are')\n",
    "    print (recent_values(z))\n",
    "\n",
    "test_timed_unzip()"
   ]
  },
  {
   "cell_type": "markdown",
   "metadata": {},
   "source": [
    "## Example that illustrates that timed_zip followed by timed_unzip is the identity."
   ]
  },
  {
   "cell_type": "code",
   "execution_count": 19,
   "metadata": {},
   "outputs": [
    {
     "name": "stdout",
     "output_type": "stream",
     "text": [
      "recent values of stream u are\n",
      "[(1, 'a'), (3, 'b'), (10, 'd'), (15, 'e'), (17, 'f')]\n",
      "recent values of stream v are\n",
      "[(2, 'A'), (3, 'B'), (9, 'D')]\n"
     ]
    }
   ],
   "source": [
    "from IoTPy.agent_types.merge import timed_zip\n",
    "def test_timed_zip_plus_timed_unzip():\n",
    "    # Specify streams\n",
    "    x = Stream('x')\n",
    "    y = Stream('y')\n",
    "    z = Stream('z')\n",
    "    u = Stream('u')\n",
    "    v = Stream('v')\n",
    "\n",
    "    # Create agents\n",
    "    timed_zip(in_streams=[x,y], out_stream=z)\n",
    "    timed_unzip(in_stream=z, out_streams=[u,v])\n",
    "    \n",
    "    # Put test values in the input streams.\n",
    "    x.extend([[1, 'a'], [3, 'b'], [10, 'd'], [15, 'e'], [17, 'f']])\n",
    "    y.extend([[2, 'A'], [3, 'B'], [9, 'D'], [20, 'E']])\n",
    "\n",
    "    # Execute a step\n",
    "    run()\n",
    "\n",
    "    # Look at recent values of streams.\n",
    "    print ('recent values of stream u are')\n",
    "    print (recent_values(u))\n",
    "    print ('recent values of stream v are')\n",
    "    print (recent_values(v))\n",
    "\n",
    "test_timed_zip_plus_timed_unzip()"
   ]
  }
 ],
 "metadata": {
  "kernelspec": {
   "display_name": "Python 3",
   "language": "python",
   "name": "python3"
  },
  "language_info": {
   "codemirror_mode": {
    "name": "ipython",
    "version": 3
   },
   "file_extension": ".py",
   "mimetype": "text/x-python",
   "name": "python",
   "nbconvert_exporter": "python",
   "pygments_lexer": "ipython3",
   "version": "3.7.3"
  }
 },
 "nbformat": 4,
 "nbformat_minor": 2
}

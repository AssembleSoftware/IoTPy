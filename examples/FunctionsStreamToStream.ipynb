{
 "cells": [
  {
   "cell_type": "markdown",
   "id": "57413c52",
   "metadata": {},
   "source": [
    "# Functions from Stream to Stream\n",
    "\n",
    "This module describes one way of creating functions from a single stream to a single stream. Other ways of mapping a single input stream to a single output stream are described elsewhere."
   ]
  },
  {
   "cell_type": "markdown",
   "id": "87af57c9",
   "metadata": {},
   "source": [
    "# Mapping a single input element to a single output element\n",
    "## @fmap_e\n",
    "\n",
    "We use the decorator @fmap_e to convert a function that maps an element to an element into a function that maps a stream into a stream.\n",
    "\n",
    "@fmap_e\n",
    "def f(v): return v+10\n",
    "\n",
    "Creates a function f from a stream to a stream where the n-th element of the output stream is (undecorated) f applied to the n-th element of the input stream.\n",
    "\n",
    "If y = f(x) then y[n] = x + 10"
   ]
  },
  {
   "cell_type": "code",
   "execution_count": 1,
   "id": "e7f5bd83",
   "metadata": {},
   "outputs": [
    {
     "name": "stdout",
     "output_type": "stream",
     "text": [
      "recent values of stream y are\n",
      "[11, 12, 13, 14]\n"
     ]
    }
   ],
   "source": [
    "import os\n",
    "import sys\n",
    "sys.path.append(\"../\")\n",
    "\n",
    "from IoTPy.core.stream import Stream, run\n",
    "from IoTPy.agent_types.op import map_element\n",
    "from IoTPy.agent_types.basics import fmap_e\n",
    "from IoTPy.helper_functions.recent_values import recent_values\n",
    "\n",
    "@fmap_e\n",
    "def f(v): return v+10\n",
    "\n",
    "# f is a function that maps a stream to a stream\n",
    "\n",
    "def example():\n",
    "    x = Stream()\n",
    "    y = f(x)\n",
    "    \n",
    "    x.extend([1, 2, 3, 4])\n",
    "    \n",
    "    # Execute a step\n",
    "    run()\n",
    "    print ('recent values of stream y are')\n",
    "    print (recent_values(y))\n",
    "\n",
    "example()"
   ]
  },
  {
   "cell_type": "markdown",
   "id": "5f6c37e2",
   "metadata": {},
   "source": [
    "# map_element\n",
    "\n",
    "In some situations, you may not want to decorate a function. In these cases you can use *map_element* \n",
    "\n",
    "*map_element(func, in_stream, out_stream, state=None, name=None, **kwargs)*\n",
    "\n",
    "where *func* is the function applied to each element of the input stream. \n",
    "\n",
    "Next, we implement the previous example without using decorators. Note that you have to declare *x* **AND** *y* as streams, and specify the relation between *x* and *y* by calling *map_element* **before** extending stream *x*.\n"
   ]
  },
  {
   "cell_type": "code",
   "execution_count": 26,
   "id": "f3085878",
   "metadata": {},
   "outputs": [
    {
     "name": "stdout",
     "output_type": "stream",
     "text": [
      "recent values of stream y are\n",
      "[11, 12, 13, 14]\n"
     ]
    }
   ],
   "source": [
    "def example():\n",
    "    def f(v): return v+10\n",
    "    \n",
    "    x, y = Stream(), Stream()\n",
    "    map_element(func=f, in_stream=x, out_stream=y)\n",
    "    \n",
    "    x.extend([1, 2, 3, 4])\n",
    "    \n",
    "    # Execute a step\n",
    "    run()\n",
    "    print ('recent values of stream y are')\n",
    "    print (recent_values(y))\n",
    "\n",
    "example()"
   ]
  },
  {
   "cell_type": "markdown",
   "id": "3c7a767d",
   "metadata": {},
   "source": [
    "## Mapping element to element : function with keyword arguments\n",
    "The function \n",
    "\n",
    "*f(v, addend) = return v * multiplier + addend* \n",
    "\n",
    "maps *v* to the return value. The first parameter *v* is an element of an input stream, and the arguments *addend* and *multiplier* are keyword arguments of the function.\n",
    "\n",
    "Decorating the function with @fmap_e gives a function that maps a stream to a stream. "
   ]
  },
  {
   "cell_type": "code",
   "execution_count": 2,
   "id": "695f4367",
   "metadata": {},
   "outputs": [
    {
     "name": "stdout",
     "output_type": "stream",
     "text": [
      "recent values of stream y are\n",
      "[22, 24, 26, 28]\n"
     ]
    }
   ],
   "source": [
    "@fmap_e\n",
    "def f(v, addend, multiplier): return v * multiplier + addend\n",
    "\n",
    "# f is a function that maps a stream to a stream\n",
    "\n",
    "def example():\n",
    "    x = Stream()\n",
    "    # Specify the keyword argument: addend\n",
    "    y = f(x, addend=20, multiplier=2)\n",
    "    \n",
    "    x.extend([1, 2, 3, 4])\n",
    "    \n",
    "    # Execute a step\n",
    "    run()\n",
    "    print ('recent values of stream y are')\n",
    "    print (recent_values(y))\n",
    "\n",
    "example()"
   ]
  },
  {
   "cell_type": "markdown",
   "id": "8bc3d3de",
   "metadata": {},
   "source": [
    "## Mapping element to element: Function with state\n",
    "\n",
    "Strictly speaking a function cannot have state; however, we bend the definition here to allow functions with states that operate on streams.\n",
    "\n",
    "Look at this example: The input and output streams of a function are x and y, respectively; and we want:\n",
    "\n",
    "y[n] = (x[0] + x[1] + ... + x[n]) * multiplier\n",
    "\n",
    "where multiplier is an argument.\n",
    "\n",
    "We can implement a function where its state before the n-th application of the function is:\n",
    "\n",
    "x[0] + x[1] + ... + x[n-1], \n",
    "\n",
    "and its state after the n-th application is:\n",
    "\n",
    "x[0] + x[1] + ... + x[n-1] + x[n]\n",
    "\n",
    "The state is updated by adding x[n].\n",
    "\n",
    "We can capture the *state* of a function by specifying a special keyword argument **state** and specifying the initial state in the call to the function. The function must returns two values: the next output and the next state.\n",
    "\n",
    "In this example, the function has 3 values: the next element of the stream, state, and multiplier. The state and multiplier are keyword arguments.\n"
   ]
  },
  {
   "cell_type": "code",
   "execution_count": 3,
   "id": "a610f628",
   "metadata": {},
   "outputs": [
    {
     "name": "stdout",
     "output_type": "stream",
     "text": [
      "recent values of stream y are\n",
      "[2, 6, 12, 20]\n"
     ]
    }
   ],
   "source": [
    "@fmap_e\n",
    "def f(v, state, multiplier):\n",
    "    output = (v + state)*multiplier\n",
    "    next_state = v + state\n",
    "    return output, next_state\n",
    "\n",
    "# f is a function that maps a stream to a stream\n",
    "\n",
    "def example():\n",
    "    x = Stream()\n",
    "    # Specify the keyword argument: multiplier\n",
    "    y = f(x, state=0, multiplier=2)\n",
    "    \n",
    "    x.extend([1, 2, 3, 4])\n",
    "    \n",
    "    # Execute a step\n",
    "    run()\n",
    "    print ('recent values of stream y are')\n",
    "    print (recent_values(y))\n",
    "\n",
    "example()"
   ]
  },
  {
   "cell_type": "markdown",
   "id": "cb1d2766",
   "metadata": {},
   "source": [
    "## Same example using map_element instead of a decorator"
   ]
  },
  {
   "cell_type": "code",
   "execution_count": 29,
   "id": "a643f773",
   "metadata": {},
   "outputs": [
    {
     "name": "stdout",
     "output_type": "stream",
     "text": [
      "recent values of stream y are\n",
      "[2, 6, 12, 20]\n"
     ]
    }
   ],
   "source": [
    "def f(v, state, multiplier):\n",
    "    output = (v + state)*multiplier\n",
    "    next_state = v + state\n",
    "    return output, next_state\n",
    "\n",
    "\n",
    "def example():\n",
    "    x, y = Stream(), Stream()\n",
    "\n",
    "    map_element(func=f, in_stream=x, out_stream=y, state=0, multiplier=2)\n",
    "    \n",
    "    x.extend([1, 2, 3, 4])\n",
    "    \n",
    "    # Execute a step\n",
    "    run()\n",
    "    print ('recent values of stream y are')\n",
    "    print (recent_values(y))\n",
    "\n",
    "example()"
   ]
  },
  {
   "cell_type": "markdown",
   "id": "d4d53516",
   "metadata": {},
   "source": [
    "## Saving state in an object\n",
    "\n",
    "You can save the state of a stream in an object such as a **dict** as shown in the following example of the Fibonacci sequence."
   ]
  },
  {
   "cell_type": "code",
   "execution_count": 4,
   "id": "04f13bc6",
   "metadata": {},
   "outputs": [
    {
     "name": "stdout",
     "output_type": "stream",
     "text": [
      "recent values of stream y are\n",
      "[1, 1, 2, 3, 5, 8, 13]\n"
     ]
    }
   ],
   "source": [
    "def example():\n",
    "    x = Stream('x')\n",
    "    \n",
    "    # Object in which state is saved\n",
    "    s = {'a':0, 'b':1}\n",
    "    \n",
    "    @fmap_e\n",
    "    def fib(v, fib):\n",
    "        # Update state\n",
    "        fib['a'], fib['b'] = fib['a'] + fib['b'], fib['a']\n",
    "        return fib['a'] + v\n",
    "\n",
    "    # Declare stream y\n",
    "    y = fib(x, fib=s)\n",
    "    \n",
    "    \n",
    "    x.extend([0, 0, 0, 0, 0, 0, 0])\n",
    "\n",
    "    # Execute a step\n",
    "    run()\n",
    "    print ('recent values of stream y are')\n",
    "    print (recent_values(y))\n",
    "\n",
    "example()"
   ]
  },
  {
   "cell_type": "markdown",
   "id": "b619076c",
   "metadata": {},
   "source": [
    "## Filtering elements in a stream\n",
    "\n",
    "We are given a function *f* that returns a Boolean. We apply the decorator @filter_e to get a function that takes an input stream and returns an output stream consisting of those elements in the input stream for which *f* returns **True**.\n",
    "\n",
    "In the following example, *positive(v)* returns **True** exactly when *v* is positive. After we apply the decorator, *f* becomes a function that reads an input stream and returns a stream consisting of the input stream's positive values.\n"
   ]
  },
  {
   "cell_type": "code",
   "execution_count": 5,
   "id": "3708357b",
   "metadata": {},
   "outputs": [
    {
     "name": "stdout",
     "output_type": "stream",
     "text": [
      "recent values of stream y are\n",
      "[2, 4]\n"
     ]
    }
   ],
   "source": [
    "from IoTPy.agent_types.basics import filter_e\n",
    "\n",
    "@filter_e\n",
    "def positive(v, threshold): return v > threshold\n",
    "\n",
    "# f is a function that maps a stream to a stream\n",
    "\n",
    "def example():\n",
    "    x = Stream()\n",
    "    y = positive(x, threshold=0)\n",
    "    \n",
    "    x.extend([-1, 2, -3, 4])\n",
    "    \n",
    "    # Execute a step\n",
    "    run()\n",
    "    print ('recent values of stream y are')\n",
    "    print (recent_values(y))\n",
    "\n",
    "example()"
   ]
  },
  {
   "cell_type": "markdown",
   "id": "6094c319",
   "metadata": {},
   "source": [
    "## Using filter_element instead of a decorator\n",
    "\n",
    "Just as you may prefer to use map_element instead of the decorator fmap_e in some situations, you may also prefer to use filter_element instead of the decorator filter_e. The previous example, implemented without decorators, is given next."
   ]
  },
  {
   "cell_type": "code",
   "execution_count": 34,
   "id": "9928e704",
   "metadata": {},
   "outputs": [
    {
     "name": "stdout",
     "output_type": "stream",
     "text": [
      "recent values of stream y are\n",
      "[2, 4]\n"
     ]
    }
   ],
   "source": [
    "from IoTPy.agent_types.op import filter_element\n",
    "\n",
    "def example():\n",
    "    def positive(v, threshold): return v > threshold\n",
    "    \n",
    "    x, y = Stream(), Stream()\n",
    "    filter_element(func=positive, in_stream=x, out_stream=y, threshold=0)\n",
    "    \n",
    "    x.extend([-1, 2, -3, 4])\n",
    "    \n",
    "    # Execute a step\n",
    "    run()\n",
    "    print ('recent values of stream y are')\n",
    "    print (recent_values(y))\n",
    "\n",
    "example()"
   ]
  },
  {
   "cell_type": "markdown",
   "id": "6c37911f",
   "metadata": {},
   "source": [
    "## Function that maps list to list\n",
    "\n",
    "In some cases, using functions that map lists to lists is more convenient than functions that map element to element.\n",
    "When such a function is decorated with @fmap_l, the function becomes one that maps streams to streams.\n",
    "\n",
    "Example: Decorate the function *increment_odd_numbers*"
   ]
  },
  {
   "cell_type": "code",
   "execution_count": 6,
   "id": "48cf82f4",
   "metadata": {},
   "outputs": [],
   "source": [
    "from IoTPy.agent_types.basics import fmap_l"
   ]
  },
  {
   "cell_type": "code",
   "execution_count": 7,
   "id": "a80dd720",
   "metadata": {},
   "outputs": [
    {
     "name": "stdout",
     "output_type": "stream",
     "text": [
      "recent values of stream y are\n",
      "[0, 2, 2, 4, 4, 6, 6]\n"
     ]
    }
   ],
   "source": [
    "@fmap_l\n",
    "def increment_odd_numbers(the_list):\n",
    "    return [v+1 if v%2 else v for v in the_list]\n",
    "\n",
    "def example():\n",
    "    x = Stream()\n",
    "    y = increment_odd_numbers(x)\n",
    "    \n",
    "    x.extend([0, 1, 2, 3, 4, 5, 6])\n",
    "    \n",
    "    # Execute a step\n",
    "    run()\n",
    "    print ('recent values of stream y are')\n",
    "    print (recent_values(y))\n",
    "\n",
    "example()"
   ]
  },
  {
   "cell_type": "markdown",
   "id": "cffad0c8",
   "metadata": {},
   "source": [
    "## Example: incremental computations from list to list\n",
    "\n",
    "Given a list *x* we can generate list *y* where *y[j] = x[0] + .. + x[j]* by:\n",
    "\n",
    "* y = list(accumulate(x))*\n",
    "\n",
    "For example, if *x = [1, 2, 3]* then *y = [1, 3, 6]*\n",
    "\n",
    "Now suppose we extend *x* with the list *[4, 5, 6, 7]*, then we can get the desired *y = [1, 3, 6, 10, 15, 21, 28]* by calling *accumulate* again. We can also compute the new value of *y* **incrementally** by adding the last output from the previous computation (i.e., 6) to the accumulation of the extension, as shown next."
   ]
  },
  {
   "cell_type": "code",
   "execution_count": 8,
   "id": "c90c8a86",
   "metadata": {},
   "outputs": [
    {
     "name": "stdout",
     "output_type": "stream",
     "text": [
      "the_list  [1, 2, 3]\n",
      "y is  [1, 3, 6]\n",
      "the_list  [1, 2, 3, 4, 5, 6, 7]\n",
      "y is  [1, 3, 6, 10, 15, 21, 28]\n"
     ]
    }
   ],
   "source": [
    "from itertools import accumulate\n",
    "\n",
    "def incremental_accumulate(the_list, state):\n",
    "    print (\"the_list \", the_list)\n",
    "    output_list = [v + state for v in list(accumulate(the_list))]\n",
    "    next_state = output_list[-1]\n",
    "    return output_list, next_state\n",
    "\n",
    "def example():\n",
    "    x = [1, 2, 3]\n",
    "    y, state = incremental_accumulate(x, state=0)\n",
    "    print ('y is ', y)\n",
    "    x.extend([4, 5, 6, 7])\n",
    "    y, state = incremental_accumulate(x, state=0)\n",
    "    print ('y is ', y)\n",
    "    \n",
    "example()\n"
   ]
  },
  {
   "cell_type": "markdown",
   "id": "3100051b",
   "metadata": {},
   "source": [
    "## Incremental computations from stream to stream\n",
    "\n",
    "We can decorate the incremental computation from list to list to obtain a computation from stream to stream. This is illustrated in the next example."
   ]
  },
  {
   "cell_type": "code",
   "execution_count": 10,
   "id": "cec46319",
   "metadata": {},
   "outputs": [
    {
     "name": "stdout",
     "output_type": "stream",
     "text": [
      "recent values of stream y are\n",
      "[10, 30, 0, 50, 10]\n",
      "recent values of stream y are\n",
      "[10, 30, 0, 50, 10, 20, 40, 10]\n"
     ]
    }
   ],
   "source": [
    "from itertools import accumulate\n",
    "\n",
    "@fmap_l\n",
    "def incremental_accumulate(the_list, state):\n",
    "    output_list = [v + state for v in list(accumulate(the_list))]\n",
    "    next_state = output_list[-1]\n",
    "    return output_list, next_state\n",
    "\n",
    "def example():\n",
    "    x = Stream()\n",
    "    y = incremental_accumulate(x, state=0)\n",
    "    \n",
    "    x.extend([10, 20, -30, 50, -40])\n",
    "    \n",
    "    # Execute a step\n",
    "    run()\n",
    "    print ('recent values of stream y are')\n",
    "    print (recent_values(y))\n",
    "    \n",
    "    x.extend([10, 20, -30])\n",
    "    \n",
    "    # Execute a step\n",
    "    run()\n",
    "    print ('recent values of stream y are')\n",
    "    print (recent_values(y))\n",
    "\n",
    "example()"
   ]
  },
  {
   "cell_type": "markdown",
   "id": "2feb4dd8",
   "metadata": {},
   "source": [
    "## Example with state and keyword argument\n",
    "\n",
    "We want to output the elements of the accumulated stream that exceed a threshold. For example, if a stream x is [10, 20, -30, 50, -40] then the accumulation stream is [10, 30, 0, 50, 10] and the elements of the accumulated stream that exceed a threshold of 25 are [30, 50]."
   ]
  },
  {
   "cell_type": "code",
   "execution_count": 11,
   "id": "5f00833d",
   "metadata": {},
   "outputs": [
    {
     "name": "stdout",
     "output_type": "stream",
     "text": [
      "recent values of stream y are\n",
      "[30, 50]\n",
      "recent values of stream y are\n",
      "[30, 50, 40]\n"
     ]
    }
   ],
   "source": [
    "from itertools import accumulate\n",
    "\n",
    "@fmap_l\n",
    "def total_exceeds_threshold(the_list, state, threshold):\n",
    "    output_list = [v + state for v in list(accumulate(the_list)) if v + state > threshold]\n",
    "    state += sum(the_list)\n",
    "    return output_list, state\n",
    "\n",
    "def example():\n",
    "    x = Stream()\n",
    "    y = total_exceeds_threshold(x, state=0, threshold=25)\n",
    "    \n",
    "    x.extend([10, 20, -30, 50, -40])\n",
    "    \n",
    "    # Execute a step\n",
    "    run()\n",
    "    print ('recent values of stream y are')\n",
    "    print (recent_values(y))\n",
    "    \n",
    "    x.extend([10, 20, -30])\n",
    "    \n",
    "    # Execute a step\n",
    "    run()\n",
    "    print ('recent values of stream y are')\n",
    "    print (recent_values(y))\n",
    "\n",
    "example()"
   ]
  },
  {
   "cell_type": "markdown",
   "id": "e90a4bdb",
   "metadata": {},
   "source": [
    "## Example: function composition\n",
    "\n",
    "We can also solve the previous problem by concatenating the functions *positive* and *incremental_accumulate*."
   ]
  },
  {
   "cell_type": "code",
   "execution_count": 25,
   "id": "89cd42e8",
   "metadata": {},
   "outputs": [
    {
     "name": "stdout",
     "output_type": "stream",
     "text": [
      "recent values of stream y are\n",
      "[30, 50]\n",
      "recent values of stream y are\n",
      "[30, 50, 40]\n"
     ]
    }
   ],
   "source": [
    "def example():\n",
    "    x = Stream()\n",
    "    y = positive(incremental_accumulate(x, state=0), threshold=25)\n",
    "    x.extend([10, 20, -30, 50, -40])\n",
    "    \n",
    "    # Execute a step\n",
    "    run()\n",
    "    print ('recent values of stream y are')\n",
    "    print (recent_values(y))\n",
    "    \n",
    "    x.extend([10, 20, -30])\n",
    "    \n",
    "    # Execute a step\n",
    "    run()\n",
    "    print ('recent values of stream y are')\n",
    "    print (recent_values(y))\n",
    "\n",
    "\n",
    "example()"
   ]
  },
  {
   "cell_type": "markdown",
   "id": "dfb40442",
   "metadata": {},
   "source": [
    "## Using list_element instead of the decorator fmap_l\n",
    "\n",
    "The next example illustrates how map_element can be used with state and keyword arguments. It is the same as the previous example, except that it doesn't use decorators."
   ]
  },
  {
   "cell_type": "code",
   "execution_count": 37,
   "id": "ac269f9e",
   "metadata": {},
   "outputs": [
    {
     "name": "stdout",
     "output_type": "stream",
     "text": [
      "recent values of stream y are\n",
      "[30, 50]\n",
      "recent values of stream y are\n",
      "[30, 50, 40]\n"
     ]
    }
   ],
   "source": [
    "from IoTPy.agent_types.basics import map_list\n",
    "\n",
    "def total_exceeds_threshold(the_list, state, threshold):\n",
    "    output_list = [v + state for v in list(accumulate(the_list)) if v + state > threshold]\n",
    "    state += sum(the_list)\n",
    "    return output_list, state\n",
    "\n",
    "def example():\n",
    "    x, y = Stream(), Stream()\n",
    "    map_list(func=total_exceeds_threshold, in_stream=x, out_stream=y, state=0, threshold=25)\n",
    "    \n",
    "    x.extend([10, 20, -30, 50, -40])\n",
    "    \n",
    "    # Execute a step\n",
    "    run()\n",
    "    print ('recent values of stream y are')\n",
    "    print (recent_values(y))\n",
    "    \n",
    "    x.extend([10, 20, -30])\n",
    "    \n",
    "    # Execute a step\n",
    "    run()\n",
    "    print ('recent values of stream y are')\n",
    "    print (recent_values(y))\n",
    "\n",
    "example()"
   ]
  },
  {
   "cell_type": "code",
   "execution_count": null,
   "id": "1dd64cbc",
   "metadata": {},
   "outputs": [],
   "source": []
  }
 ],
 "metadata": {
  "kernelspec": {
   "display_name": "Python 3 (ipykernel)",
   "language": "python",
   "name": "python3"
  },
  "language_info": {
   "codemirror_mode": {
    "name": "ipython",
    "version": 3
   },
   "file_extension": ".py",
   "mimetype": "text/x-python",
   "name": "python",
   "nbconvert_exporter": "python",
   "pygments_lexer": "ipython3",
   "version": "3.10.2"
  }
 },
 "nbformat": 4,
 "nbformat_minor": 5
}

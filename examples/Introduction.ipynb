{
 "cells": [
  {
   "cell_type": "code",
   "execution_count": 1,
   "id": "091df4ee",
   "metadata": {},
   "outputs": [],
   "source": [
    "import os\n",
    "import sys\n",
    "sys.path.append(\"../\")\n",
    "\n",
    "from IoTPy.core.stream import Stream, run\n",
    "\n",
    "from IoTPy.helper_functions.recent_values import recent_values"
   ]
  },
  {
   "cell_type": "markdown",
   "id": "548cbc7c",
   "metadata": {},
   "source": [
    "# f_item(func, in_stream, keyword_arguments)\n",
    "\n",
    "### func: function \n",
    "  function that is called when a new element is appended to in_stream\n",
    "### func(item_of_stream, keyword_arguments)\n",
    "The keyword arguments are the same for func and f_item\n",
    "### in_stream: a Stream or StreamArray\n",
    "\n",
    "\n",
    "### Example\n",
    "Given a stream **x** of integers and empty streams **y** and **z** and an integer constant **M**. Put items that are multiples of **M** that appear in stream **x** into stream **y** and all other items into stream **Z**.\n",
    "\n",
    "## First step:  define func\n",
    "**func** operates on an *item* of a stream and keyword arguments. In this example, **func** is **f** and the keyword arguments of **f**, in addition to **item** are:\n",
    "**M, multiples_stream, non_multiples_stream.**\n",
    "\n",
    "*item* is an item of the **in_stream**."
   ]
  },
  {
   "cell_type": "code",
   "execution_count": 2,
   "id": "e61ea2e3",
   "metadata": {},
   "outputs": [],
   "source": [
    "from IoTPy.agent_types.simple import f_item\n",
    "\n",
    "def f(item, M, multiples_stream, non_multiples_stream):\n",
    "    if item%M:\n",
    "        multiples_stream.append(item)\n",
    "    else:\n",
    "        non_multiples_stream.append(item)"
   ]
  },
  {
   "cell_type": "markdown",
   "id": "41614af8",
   "metadata": {},
   "source": [
    "## Second step: define streams and call f_item( )\n",
    "The keyword arguments of **func** are passed as keyword arguments of **f_item**.\n",
    "\n",
    "The **item** argument of **func** is not passed as an argument to **f_item**; instead the input stream **x** is passed;\n",
    "\n",
    "So, the call to **f_item** is:\n",
    "\n",
    "**f_item(func=f, in_stream=x, M=2, multiples_stream=y, non_multiples_stream=z)**\n",
    "\n",
    "with the keyword arguments and their values \n",
    "\n",
    "**M=2, multiples_stream=y, non_multiples_stream=z**\n",
    "\n",
    "in **f** and also passed in the call to **f_item**.\n",
    "\n",
    "When a new item is appended to stream **x**, function **f** is called."
   ]
  },
  {
   "cell_type": "code",
   "execution_count": 14,
   "id": "ff7723bb",
   "metadata": {},
   "outputs": [],
   "source": [
    "x = Stream(name='input stream')\n",
    "y = Stream(name='even numbers in stream x')\n",
    "z = Stream(name='odd numbers in stream x')\n",
    "    \n",
    "f_item(func=f, in_stream=x, M=2, multiples_stream=y, non_multiples_stream=z)"
   ]
  },
  {
   "cell_type": "markdown",
   "id": "bdb14314",
   "metadata": {},
   "source": [
    "## Third step: Test the function\n",
    "\n",
    "### Put test values in the input streams.\n",
    "x.extend(list(range(5)))\n",
    "\n",
    "### Execute a step\n",
    "run()\n",
    "\n",
    "### Look at recent values of streams.\n",
    "\n",
    "print ('recent values of stream y are')\n",
    "\n",
    "print (recent_values(y))\n",
    "\n",
    "# Putting the steps together:"
   ]
  },
  {
   "cell_type": "code",
   "execution_count": 4,
   "id": "2144422b",
   "metadata": {},
   "outputs": [
    {
     "name": "stdout",
     "output_type": "stream",
     "text": [
      "recent values of stream y are\n",
      "[1, 3, 5, 7, 9]\n",
      "recent values of stream z are\n",
      "[0, 2, 4, 6, 8]\n"
     ]
    }
   ],
   "source": [
    "from IoTPy.agent_types.sink import sink_element\n",
    "from IoTPy.agent_types.simple import f_item\n",
    "\n",
    "# STEP 1: Define function\n",
    "def f(item, M, multiples_stream, non_multiples_stream):\n",
    "    if item%M:\n",
    "        multiples_stream.append(item)\n",
    "    else:\n",
    "        non_multiples_stream.append(item)\n",
    "\n",
    "# STEP 2: Declare streams and call f_item\n",
    "x = Stream(name='input stream')\n",
    "y = Stream(name='even numbers in stream x')\n",
    "z = Stream(name='odd numbers in stream x')\n",
    "    \n",
    "f_item(func=f, in_stream=x, M=2, multiples_stream=y, non_multiples_stream=z)\n",
    "\n",
    "# STEP 3: test f_item()\n",
    "# Put test values in the input streams.\n",
    "x.extend(list(range(10)))\n",
    "\n",
    "# Execute a step\n",
    "run()\n",
    "\n",
    "# Look at recent values of streams.\n",
    "print ('recent values of stream y are')\n",
    "print (recent_values(y))\n",
    "print ('recent values of stream z are')\n",
    "print (recent_values(z))"
   ]
  },
  {
   "cell_type": "markdown",
   "id": "30d62e81",
   "metadata": {},
   "source": [
    "# ANOTHER EXAMPLE of f_item\n",
    "\n",
    "#### Problem\n",
    "If an item on stream **x** is greater than the maximum (positive) item seen so far on **x** then put the item on stream **y**, and \n",
    "\n",
    "iff an item on stream **x** is less than the minimum (negative) item seen so far on **x** then put the item on stream **z**\n",
    "\n",
    "## First step:  define func\n",
    "**func** operates on an *item* of a stream and keyword arguments. In this example, **func** is **g** and the keyword arguments of **g** (in addition to **item**) are:\n",
    "\n",
    "**max_and_min, max_stream, min_stream.**\n",
    "\n",
    "## Second step: define streams and call f_item( )\n",
    "The keyword arguments of **func** are passed as keyword arguments of **f_item**.\n",
    "\n",
    "\n",
    "## Third step: Test the function\n",
    "\n",
    "Put items in the input streams, run(), and look at the recent values of the output streams."
   ]
  },
  {
   "cell_type": "code",
   "execution_count": 5,
   "id": "4fc50968",
   "metadata": {},
   "outputs": [
    {
     "name": "stdout",
     "output_type": "stream",
     "text": [
      "recent values of stream y are\n",
      "[5, 8, 10, 20]\n",
      "recent values of stream z are\n",
      "[-3, -5, -12]\n"
     ]
    }
   ],
   "source": [
    "max_and_min = [0, 0]\n",
    "\n",
    "# STEP 1: Define function\n",
    "def g(item, max_and_min, max_stream, min_stream):\n",
    "    if item > max_and_min[0]:\n",
    "        max_and_min[0] = item\n",
    "        max_stream.append(item)\n",
    "    if item < max_and_min[1]:\n",
    "        max_and_min[1] = item\n",
    "        min_stream.append(item)\n",
    "\n",
    "\n",
    "# STEP 2: Declare streams and call f_item\n",
    "x = Stream(name='input stream')\n",
    "y = Stream(name='new maxima')\n",
    "z = Stream(name='new minima')\n",
    "\n",
    "f_item(func=g, in_stream=x, max_and_min=max_and_min, max_stream=y, min_stream=z)\n",
    "\n",
    "# STEP 3: test f_item()\n",
    "# Put test values in the input streams.\n",
    "x.extend([5, 4, 8, -3, -1, 10, -5, 6, 20, -12])\n",
    "# Execute a step\n",
    "run()\n",
    "# Look at recent values of streams.\n",
    "print ('recent values of stream y are')\n",
    "print (recent_values(y))\n",
    "print ('recent values of stream z are')\n",
    "print (recent_values(z))"
   ]
  },
  {
   "cell_type": "markdown",
   "id": "9690ceae",
   "metadata": {},
   "source": [
    "# SLIDING WINDOWS OF STREAMS\n",
    "\n",
    "**f_item** operates on the next item in a stream. **f_window** operates on the next sliding window of the input stream. \n",
    "\n",
    "A sliding window is specified by:\n",
    "1. **window_size** and\n",
    "2. **step_size**\n",
    "both of which are positive integers.\n",
    "\n",
    "If the input stream is **x** then the sequence of windows are:\n",
    "\n",
    "**x[0:window_size], x[step_size: step_size+window_size], ... , x[n * step_size : n * step_size + window_size]**\n",
    "\n",
    "For example, if **window_size = 2** and **step_size = 1** then the sequence of windows are:\n",
    "\n",
    "**x[0,1], x[1, 2], x[2, 3], x[3, 4], ..**"
   ]
  },
  {
   "cell_type": "markdown",
   "id": "9f94c593",
   "metadata": {},
   "source": [
    "# Example of sliding windows\n",
    "The call to **f_window** has arguments **func**, **in_stream**, **window_size**, and **step_size**, and other keyword arguments.\n",
    "\n",
    "The arguments in **func** are *window* which is a list or array, and the same keyword arguments.\n",
    "\n",
    "In this example the items of stream **y** are the sums of the sliding windows multiplied by **multiplier**. **func** is **g** which has a first argument, **window** which is a list, and keyword arguments **out_stream** and **multiplier**.\n",
    "\n",
    "The call to **f_window** has the arguments **func, in_stream, window_size, step_size** and the same keyword arguments **out_stream** and **multiplier** as in **g**. "
   ]
  },
  {
   "cell_type": "code",
   "execution_count": 15,
   "id": "8ffc8911",
   "metadata": {},
   "outputs": [
    {
     "name": "stdout",
     "output_type": "stream",
     "text": [
      "recent values of stream y are\n",
      "[1, 3, 5, 7, 9, 11, 13, 15, 17]\n"
     ]
    }
   ],
   "source": [
    "from IoTPy.agent_types.simple import f_window\n",
    "\n",
    "x = Stream('x')\n",
    "y = Stream('y')\n",
    "\n",
    "def g(window, out_stream):\n",
    "    out_stream.append(sum(window))\n",
    "f_window(func=g, in_stream=x, window_size=2, step_size=1, out_stream=y)\n",
    "\n",
    "# Put test values in the input streams.\n",
    "x.extend(list(range(10)))\n",
    "# Execute a step\n",
    "run()\n",
    "# Look at recent values of streams.\n",
    "print ('recent values of stream y are')\n",
    "print (recent_values(y))"
   ]
  },
  {
   "cell_type": "markdown",
   "id": "021aba44",
   "metadata": {},
   "source": [
    "# Synchronous Join\n",
    "\n",
    "**in_streams** stands for a list of streams (whereas **in_stream** represents a single stream). A synchronous join applies a function **func** to the list **in_streams[0][i], in_streams[1][i], in_streams[2][i],...** for all **i**.\n",
    "\n",
    "For example, suppose **x** is the stream of nonnegative integers, [0, 1, 2, 3, ...] and **y** is the stream of letters of the alphabet repeated forever, i.e. **y** is ['A', 'B', 'C', .....'Z', 'A', 'B', ..]. Then **join_synch** applies function **func** to the lists [0, 'A'], [1, 'B'], [2, 'C'], ....\n",
    "\n",
    "The arguments of **join_synch** are **func**, **in_streams**, and additional keyword arguments. The arguments of **func** are a list of joined items from the streams of **in_streams** and the same additional keyword arguments as in **join_synch**.\n"
   ]
  },
  {
   "cell_type": "markdown",
   "id": "a08c034b",
   "metadata": {},
   "source": [
    "# Example of join_synch\n",
    "\n",
    "Given streams **w, x, y, z** we want to set **z[i] = sum([w[i], x[i], y[i])**."
   ]
  },
  {
   "cell_type": "code",
   "execution_count": 7,
   "id": "8a07ff07",
   "metadata": {},
   "outputs": [
    {
     "name": "stdout",
     "output_type": "stream",
     "text": [
      "recent values of stream w are\n",
      "[100, 101, 102, 103, 104, 105, 106, 107, 108, 109]\n",
      "recent values of stream x are\n",
      "[0, 2, 4, 6, 8, 10, 12, 14, 16, 18]\n",
      "recent values of stream y are\n",
      "[0, 1, 2, 3, 4]\n",
      "recent values of stream z are\n",
      "[100, 104, 108, 112, 116]\n"
     ]
    }
   ],
   "source": [
    "from IoTPy.agent_types.simple import join_synch\n",
    "\n",
    "w = Stream(name='w')\n",
    "x = Stream(name='x')\n",
    "y = Stream(name='y')\n",
    "z = Stream(name='z')\n",
    "\n",
    "def h(alist, out_stream): out_stream.append(sum(alist))\n",
    "\n",
    "join_synch(func=h, in_streams=[w, x, y], out_stream=z)\n",
    "\n",
    "# Put test values in the input streams.\n",
    "w.extend(list(range(100, 110)))\n",
    "x.extend(list(range(0, 20, 2)))\n",
    "y.extend(list(range(5)))\n",
    "\n",
    "# Execute a step\n",
    "run()\n",
    "# Look at recent values of streams.\n",
    "print ('recent values of stream w are')\n",
    "print (recent_values(w))\n",
    "print ('recent values of stream x are')\n",
    "print (recent_values(x))\n",
    "print ('recent values of stream y are')\n",
    "print (recent_values(y))\n",
    "print ('recent values of stream z are')\n",
    "print (recent_values(z))"
   ]
  },
  {
   "cell_type": "markdown",
   "id": "5a44c130",
   "metadata": {},
   "source": [
    "# Asynchronous Join\n",
    "\n",
    "The function **join_asynch** has arguments **func**, **in_streams** - a list of streams, and additional keyword arguments.\n",
    "\n",
    "When an item **v** is appended to the **i**-th stream of **in_streams**, **func** is applied to the tuple **[i, v]**. The first element of the tuple indicates the stream along which the item arrived, and the second element is the item itself.\n",
    "\n",
    "Different runs of **join_asynch** may produce different results because items from the different streams arrive in different orders.\n",
    "\n",
    "The arguments of **func** are **index_item** and additional keyword arguments. **index_item** is a tuple of the stream index and the item value, \n",
    "\n",
    "## Example of asynchronous join\n",
    "Print items as they arrive in streams **x** and **y** and put the items in stream **z**.\n",
    "\n",
    "In this example **func** is **h**. Function **h** has an argument **index_item** and keyword argument **out_stream** which is also used in the call to **join_asynch**."
   ]
  },
  {
   "cell_type": "code",
   "execution_count": 8,
   "id": "33074809",
   "metadata": {},
   "outputs": [
    {
     "name": "stdout",
     "output_type": "stream",
     "text": [
      "0 :  10\n",
      "0 :  11\n",
      "1 :  0\n",
      "1 :  1\n",
      "1 :  2\n",
      "recent values of stream z are\n",
      "[10, 11, 0, 1, 2]\n",
      "0 :  12\n",
      "0 :  13\n",
      "0 :  14\n",
      "1 :  3\n",
      "recent values of stream z are\n",
      "[10, 11, 0, 1, 2, 12, 13, 14, 3]\n"
     ]
    }
   ],
   "source": [
    "from IoTPy.agent_types.simple import join_asynch\n",
    "\n",
    "def h(index_item, out_stream):\n",
    "    index, item = index_item\n",
    "    print (index,': ', item)\n",
    "    out_stream.append(item)\n",
    "\n",
    "x = Stream('x')\n",
    "y = Stream('y')\n",
    "z = Stream('z')\n",
    "\n",
    "join_asynch(func=h, in_streams=[x, y], out_stream=z)\n",
    "\n",
    "# Put test values in the input streams.\n",
    "x.extend([10, 11])\n",
    "y.extend([0, 1, 2])\n",
    "# Execute a step\n",
    "run()\n",
    "# Look at recent values of streams.\n",
    "print ('recent values of stream z are')\n",
    "print (recent_values(z))\n",
    "\n",
    "# Put test values in the input streams.\n",
    "x.extend([12, 13, 14])\n",
    "y.extend([3])\n",
    "# Execute a step\n",
    "run()\n",
    "# Look at recent values of streams.\n",
    "print ('recent values of stream z are')\n",
    "print (recent_values(z))"
   ]
  },
  {
   "cell_type": "markdown",
   "id": "d5c4fe45",
   "metadata": {},
   "source": [
    "# Time-based Join\n",
    "\n",
    "This function operates on streams in which items are timestamped. Elements in each stream consist of pairs (timestamp, item). The timestamps on each stream are monotone increasing, i.e. the timestamp of a later element on a stream must be greater than the timestamp of an earlier element on the *same* stream.\n",
    "\n",
    "The following situation can arise. An element **[t, v]** of one input stream arrives *before* an element **[t', v']** of a different input stream, where **t > t'**.\n",
    "\n",
    "The arguments of **join_timed** are **func** and **in_streams** - a list of streams, and additional keyword arguments which appear in **func**.\n",
    "\n",
    "The function **func** operates on a tuple of the form **[timestamp, list_of_items]** where **list_of_items** is a list of **N** values where **N** is the number of streams in **in_streams**.\n",
    "\n",
    "Consider a tuple **[T, L]** where **T** is the timestamp and **L** is the list of items. If there is no element with timestamp **T** on stream **k** then **L[k]** is **None**. If there is an element **[T, v]** in the **k**-th stream then **L[k]** is **v**.\n"
   ]
  },
  {
   "cell_type": "code",
   "execution_count": 12,
   "id": "93f24292",
   "metadata": {},
   "outputs": [
    {
     "name": "stdout",
     "output_type": "stream",
     "text": [
      "[1, ['x[0]', None]]\n",
      "[3, ['x[1]', 'y[0]']]\n",
      "[4, ['x[2]', None]]\n",
      "[5, ['x[3]', 'y[2]']]\n"
     ]
    }
   ],
   "source": [
    "from IoTPy.agent_types.simple import join_timed\n",
    "\n",
    "def f(timestamped_list):\n",
    "    print (timestamped_list)\n",
    "\n",
    "x = Stream(name='x')\n",
    "y = Stream(name='y')\n",
    "\n",
    "join_timed(func=f, in_streams=[x, y])\n",
    "\n",
    "# Put test values in the input streams.\n",
    "x.extend([[1, 'x[0]'], [3, 'x[1]']])\n",
    "y.extend([[3, 'y[0]'], [5, 'y[2]'], [5, 'y[3]']])\n",
    "# Execute a step\n",
    "run()\n",
    "\n",
    "# Put test values in the input streams.\n",
    "x.append([4, 'x[2]'])\n",
    "run()\n",
    "x.append([5, 'x[3]'])\n",
    "run()\n"
   ]
  },
  {
   "cell_type": "code",
   "execution_count": null,
   "id": "1ca94da6",
   "metadata": {},
   "outputs": [],
   "source": []
  }
 ],
 "metadata": {
  "kernelspec": {
   "display_name": "Python 3 (ipykernel)",
   "language": "python",
   "name": "python3"
  },
  "language_info": {
   "codemirror_mode": {
    "name": "ipython",
    "version": 3
   },
   "file_extension": ".py",
   "mimetype": "text/x-python",
   "name": "python",
   "nbconvert_exporter": "python",
   "pygments_lexer": "ipython3",
   "version": "3.10.2"
  }
 },
 "nbformat": 4,
 "nbformat_minor": 5
}

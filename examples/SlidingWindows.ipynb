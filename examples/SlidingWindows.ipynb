{
 "cells": [
  {
   "cell_type": "markdown",
   "id": "a5025450",
   "metadata": {},
   "source": [
    "# Sliding Windows\n",
    "\n",
    "Many applications require computations on sliding windows of streams. A sliding window is specified by a window size and a step size, both of which are positive integers. Sliding windows generate a sequence of lists from a stream. For a stream x, the the n-th window is the list x[n*step_size: n*step_size + window_size]. For example if the step_size is 4 and the window size is 2, the sequence of windows is x[0:2], x[4:6], x[8:10], ...\n",
    "\n",
    "**map_window** applies a specified function to each window of a stream and the returned value is an element of the ouput stream\n",
    "\n",
    "**map_window(func, in_stream, out_stream, window_size, step_size, state=None, name=None, **kwargs)**\n",
    "\n",
    "In the next example, *y[n] = sum(x[3*n: 3*n + 2])*"
   ]
  },
  {
   "cell_type": "code",
   "execution_count": 38,
   "id": "796a6ee6",
   "metadata": {},
   "outputs": [
    {
     "name": "stdout",
     "output_type": "stream",
     "text": [
      "(x, y=0, *args, **kwargs)\n",
      "odict_items([('x', <Parameter \"x\">), ('y', <Parameter \"y=0\">), ('args', <Parameter \"*args\">), ('kwargs', <Parameter \"**kwargs\">)])\n",
      "{'y': 0}\n"
     ]
    }
   ],
   "source": [
    "import inspect\n",
    "\n",
    "def f(x, y=0, *args, **kwargs):\n",
    "    x = y\n",
    "\n",
    "sig = signature(f)\n",
    "print (sig)\n",
    "\n",
    "print (sig.parameters.items())\n",
    "\n",
    "lst = {k: v.default for k, v in sig.parameters.items() if v.default is not inspect.Parameter.empty}\n",
    "\n",
    "print (lst)"
   ]
  },
  {
   "cell_type": "code",
   "execution_count": 1,
   "id": "03b1bfb6",
   "metadata": {},
   "outputs": [
    {
     "name": "stdout",
     "output_type": "stream",
     "text": [
      "recent values of stream y are\n",
      "[1, 7, 13, 19]\n"
     ]
    }
   ],
   "source": [
    "import os\n",
    "import sys\n",
    "sys.path.append(\"../\")\n",
    "\n",
    "from IoTPy.core.stream import Stream, run\n",
    "from IoTPy.agent_types.op import map_window\n",
    "from IoTPy.helper_functions.recent_values import recent_values\n",
    "\n",
    "def example():\n",
    "    x, y = Stream(), Stream()\n",
    "\n",
    "    map_window(func=sum, in_stream=x, out_stream=y, window_size=2, step_size=3)\n",
    "\n",
    "    x.extend([0, 1, 2, 3, 4, 5, 6, 7, 8, 9, 10])\n",
    "    \n",
    "    # Execute a step\n",
    "    run()\n",
    "    print ('recent values of stream y are')\n",
    "    print (recent_values(y))\n",
    "\n",
    "example()"
   ]
  },
  {
   "cell_type": "markdown",
   "id": "90ac779e",
   "metadata": {},
   "source": [
    "## Sliding Windows with State and Keyword Arguments\n",
    "\n",
    "You can specify a state using the keyword **state** and giving the state an initial value. The function can also use keyword arguments as illustrated in the following example in which the keyword is *threshold*.\n",
    "\n",
    "This example computes *mean_of_this_window* which is the mean of the current window, and it computes *max_of_window_mean* which is the maxium of *mean_of_this_window* over all windows seen so far. It computes *deviation* which is the deviation of the mean of the current window from the max seen so far, and it sets the deviation to 0.0 if it is below a threshold."
   ]
  },
  {
   "cell_type": "code",
   "execution_count": 16,
   "id": "1229e3a1",
   "metadata": {},
   "outputs": [
    {
     "name": "stdout",
     "output_type": "stream",
     "text": [
      "recent values of stream y are\n",
      "[0.0, 0.0, 0.0, 4.0, 0.0, 0.0, 18.0]\n"
     ]
    }
   ],
   "source": [
    "import numpy as np\n",
    "\n",
    "def example():\n",
    "    \n",
    "    def deviation_from_max(window, max_of_window_mean, threshold):\n",
    "        mean_of_this_window = np.mean(window)\n",
    "        max_of_window_mean = max(max_of_window_mean, mean_of_this_window)\n",
    "        deviation = max_of_window_mean - mean_of_this_window\n",
    "        if deviation < threshold: deviation = 0.0\n",
    "        return deviation, max_of_window_mean\n",
    "        \n",
    "        \n",
    "    x, y = Stream(), Stream()\n",
    "\n",
    "    map_window(func=deviation_from_max, in_stream=x, out_stream=y, \n",
    "               window_size=2, step_size=1, state=0, threshold=4)\n",
    "\n",
    "    x.extend([0, 10, 2, 4, 0, 40, 20, 4])\n",
    "    \n",
    "    # Execute a step\n",
    "    run()\n",
    "    print ('recent values of stream y are')\n",
    "    print (recent_values(y))\n",
    "\n",
    "example()"
   ]
  },
  {
   "cell_type": "code",
   "execution_count": 39,
   "id": "9455add8",
   "metadata": {},
   "outputs": [
    {
     "name": "stdout",
     "output_type": "stream",
     "text": [
      "input_list  [[1, 100], [3, 250]]\n",
      "total  350\n",
      "input_list  [[5, 400], [5.5, 100], [7, 300]]\n",
      "total  800\n",
      "recent values of stream y are\n",
      "[(4, []), (8, [])]\n"
     ]
    }
   ],
   "source": [
    "from IoTPy.agent_types.op import timed_window\n",
    "def example():\n",
    "    def f(input_list):\n",
    "        print ('input_list ', input_list)\n",
    "        total = sum([v[1] for v in input_list])\n",
    "        print ('total ', total)\n",
    "        return []\n",
    "    \n",
    "    x, y = Stream(), Stream()\n",
    "    \n",
    "    timed_window(f, x, y, window_duration=4, step_time=4)\n",
    "    \n",
    "    x.extend([[1, 100], [3, 250], [5, 400], [5.5, 100], [7, 300], [11.0, 250]])\n",
    "    \n",
    "    # Execute a step\n",
    "    run()\n",
    "    print ('recent values of stream y are')\n",
    "    print (recent_values(y))\n",
    "\n",
    "example()\n",
    "    "
   ]
  },
  {
   "cell_type": "code",
   "execution_count": null,
   "id": "ae727127",
   "metadata": {},
   "outputs": [],
   "source": []
  }
 ],
 "metadata": {
  "kernelspec": {
   "display_name": "Python 3 (ipykernel)",
   "language": "python",
   "name": "python3"
  },
  "language_info": {
   "codemirror_mode": {
    "name": "ipython",
    "version": 3
   },
   "file_extension": ".py",
   "mimetype": "text/x-python",
   "name": "python",
   "nbconvert_exporter": "python",
   "pygments_lexer": "ipython3",
   "version": "3.10.2"
  }
 },
 "nbformat": 4,
 "nbformat_minor": 5
}

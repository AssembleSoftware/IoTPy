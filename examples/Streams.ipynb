{
 "cells": [
  {
   "cell_type": "markdown",
   "id": "bfd9f02b",
   "metadata": {},
   "source": [
    "# Streams"
   ]
  },
  {
   "cell_type": "markdown",
   "id": "171653d3",
   "metadata": {},
   "source": [
    "A **Stream** is a list of arbitrary length which can be modified only by appending values to the tail of the list. A **StreamArray** is a NumPy array of arbitrary length to which rows can be appended at the end.\n",
    "<br>\n",
    "The most recent elements of a stream are stored in main memory. Older elements can be stored in files. The amount that is stored in main memory can be specified or left as a default value. We discuss this later. For a Stream *x* the most recent values of *x* are in a list *recent_values(x)*. For a StreamArray *x*: *recent_values(x)* is an array."
   ]
  },
  {
   "cell_type": "markdown",
   "id": "6c0a1542",
   "metadata": {},
   "source": [
    "## Creating a Stream\n",
    "\n",
    "*s = Stream(name=‘temperature’, initial_value=[20, 21, 20])*\n",
    "\n",
    "creates a stream with the specified name and initial value. Both the name and initial value can be omitted.\n",
    "The default initial value is the empty stream."
   ]
  },
  {
   "cell_type": "markdown",
   "id": "7fd5af6e",
   "metadata": {},
   "source": [
    "## Example of creating a stream"
   ]
  },
  {
   "cell_type": "code",
   "execution_count": 1,
   "id": "af073a68",
   "metadata": {},
   "outputs": [],
   "source": [
    "import os\n",
    "import sys\n",
    "sys.path.append(\"../\")"
   ]
  },
  {
   "cell_type": "code",
   "execution_count": 2,
   "id": "3918f2d9",
   "metadata": {},
   "outputs": [],
   "source": [
    "from IoTPy.core.stream import Stream, run\n",
    "from IoTPy.helper_functions.recent_values import recent_values"
   ]
  },
  {
   "cell_type": "code",
   "execution_count": 3,
   "id": "4a6f3d9c",
   "metadata": {},
   "outputs": [],
   "source": [
    "def example():\n",
    "    s = Stream(name='temperature', initial_value=[20, 21, 20])"
   ]
  },
  {
   "cell_type": "markdown",
   "id": "df89c0e4",
   "metadata": {},
   "source": [
    "## Appending an element to a Stream\n",
    "You append an element to a Stream in the same way as for a list.\n",
    "<br>\n",
    "Example:\n",
    "*s.append(22)* appends the value 22 to the tail of stream *s*."
   ]
  },
  {
   "cell_type": "code",
   "execution_count": 4,
   "id": "07517d6c",
   "metadata": {},
   "outputs": [],
   "source": [
    "def example():\n",
    "    s = Stream(name='temperature', initial_value=[20, 21, 20])\n",
    "    s.append(22)"
   ]
  },
  {
   "cell_type": "markdown",
   "id": "3fb4946d",
   "metadata": {},
   "source": [
    "## Extending a Stream with a list of elements\n",
    "You can extend a stream in the same way that you extend a list. \n",
    "<br>\n",
    "Example:\n",
    "\n",
    "*s.extend([22, 21])* extends stream *s* with the elements of the list [22, 21] appended to its tail."
   ]
  },
  {
   "cell_type": "code",
   "execution_count": 5,
   "id": "3614b38c",
   "metadata": {},
   "outputs": [],
   "source": [
    "def example():\n",
    "    s = Stream(name='temperature', initial_value=[20, 21, 20])\n",
    "    s.extend([22, 21])"
   ]
  },
  {
   "cell_type": "markdown",
   "id": "14eec5f1",
   "metadata": {},
   "source": [
    "# Examples\n",
    "While you are testing the system you call the function *run()* to execute a single step in processing the stream. We will discuss starting networks of streams later.\n",
    "\n",
    "The next blocks show how to use *run()* to inspect the most recent values of a stream."
   ]
  },
  {
   "cell_type": "code",
   "execution_count": 6,
   "id": "9638d9a6",
   "metadata": {},
   "outputs": [
    {
     "name": "stdout",
     "output_type": "stream",
     "text": [
      "[20, 21, 20]\n"
     ]
    }
   ],
   "source": [
    "# Example of declaring a stream\n",
    "def example():\n",
    "    s = Stream(name='temperature', initial_value=[20, 21, 20])\n",
    "    # run a step\n",
    "    run()\n",
    "    print (recent_values(s))\n",
    "\n",
    "example()"
   ]
  },
  {
   "cell_type": "code",
   "execution_count": 7,
   "id": "20af8d45",
   "metadata": {},
   "outputs": [
    {
     "name": "stdout",
     "output_type": "stream",
     "text": [
      "[20, 21, 20, 22]\n"
     ]
    }
   ],
   "source": [
    "# Example of appending an element to a stream\n",
    "def example():\n",
    "    s = Stream(name='temperature', initial_value=[20, 21, 20])\n",
    "    s.append(22)\n",
    "\n",
    "    # run a step\n",
    "    run()\n",
    "    print (recent_values(s))\n",
    "\n",
    "example()"
   ]
  },
  {
   "cell_type": "code",
   "execution_count": 8,
   "id": "c3fffed4",
   "metadata": {},
   "outputs": [
    {
     "name": "stdout",
     "output_type": "stream",
     "text": [
      "[20, 21, 20, 22, 21]\n"
     ]
    }
   ],
   "source": [
    "# Example of extending a stream\n",
    "def example():\n",
    "    s = Stream(name='temperature', initial_value=[20, 21, 20])\n",
    "    s.extend([22, 21])\n",
    "\n",
    "    # run a step\n",
    "    run()\n",
    "    print (recent_values(s))\n",
    "\n",
    "example()"
   ]
  },
  {
   "cell_type": "markdown",
   "id": "d4ce0078",
   "metadata": {},
   "source": [
    "# Standard operators on streams\n",
    "You can use standard operators:\n",
    "\n",
    "<br>\n",
    "** +, -, *, /, //, <, <=, ==, !=, >, >= **\n",
    "\n",
    "<br>\n",
    "to merge streams to return a stream.\n",
    "\n",
    "<br>\n",
    "Example:\n",
    "<br>\n",
    "v = s + t - u\n",
    "<br>\n",
    "declares a stream *v* where *v[n] = s[n] + t[n] - u[n]* for all *n*.\n"
   ]
  },
  {
   "cell_type": "code",
   "execution_count": 9,
   "id": "9534f8f4",
   "metadata": {},
   "outputs": [
    {
     "name": "stdout",
     "output_type": "stream",
     "text": [
      "s is:  [22, 21]\n",
      "t is:  [10, 20, 30]\n",
      "u is:  [1, 2, 3, 4]\n",
      "v is:  [31, 39]\n"
     ]
    }
   ],
   "source": [
    "# Example of operators on a stream\n",
    "def example():\n",
    "    s = Stream()\n",
    "    t = Stream()\n",
    "    u = Stream()\n",
    "    # Declare the composed stream\n",
    "    v = s + t - u\n",
    "    \n",
    "    s.extend([22, 21])\n",
    "    t.extend([10, 20, 30])\n",
    "    u.extend([1, 2, 3, 4])\n",
    "    # run a step\n",
    "    run()\n",
    "    \n",
    "    print (\"s is: \", recent_values(s))\n",
    "    print (\"t is: \", recent_values(t))\n",
    "    print (\"u is: \", recent_values(u))\n",
    "    print (\"v is: \", recent_values(v))\n",
    "\n",
    "example()"
   ]
  },
  {
   "cell_type": "markdown",
   "id": "fb4179cb",
   "metadata": {},
   "source": [
    "# StreamArray\n",
    "The statement:\n",
    "\n",
    "*s = StreamArray(name='s', dimension=3, dtype=int)*\n",
    "\n",
    "creates a stream *s* where *s[n]* is a NumPy array consisting of an unbounded number of rows and 3 (i.e. dimension) columns and where the elements of the array are of type *int*. An item appended to this stream must be an array consisting of 3 integers; appending such a 3-element array appends a single row containing the 3 integers to the tail of s."
   ]
  },
  {
   "cell_type": "markdown",
   "id": "c4dc3117",
   "metadata": {},
   "source": [
    "The parameters of **StreamArray** are: **name, dimension, dtype, initial_value,** and **num_in_memory**\n",
    "\n",
    "1. **name** is optional and is a string. The default is ‘no_name’.\n",
    "\n",
    "2. **dimension** is optional and is the dimension of elements of the stream array. The default is 0.\n",
    "\n",
    "3. **dtype** is optional and the type of the rows of the stream array. The default is float.\n",
    "\n",
    "4. **initial_value** is optional and is the initial value of the stream array. The default is None.\n",
    "\n",
    "1. **num_in_memory** is optional and can be ignored for the time being. It is used for memory management."
   ]
  },
  {
   "cell_type": "markdown",
   "id": "879b7308",
   "metadata": {},
   "source": [
    "## StreamArray with dimension = 0\n",
    "\n",
    "The **dimension** parameter can be a non-negative integer or a tuple or list. If dimension is 0 then each element of the stream array belongs to type dtype. In this case, think of the stream array as a 1-D array of unbounded length with elements of type dtype. \n",
    "\n",
    "For example:\n",
    "\n",
    "*t = StreamArray()*\n",
    "\n",
    "makes *t* a stream array where *t* is effectively an array of unbounded size where each element of *t* is a float."
   ]
  },
  {
   "cell_type": "markdown",
   "id": "baf9a068",
   "metadata": {},
   "source": [
    "## StreamArray where dimension is a positive integer\n",
    "\n",
    "If **dimension** is a positive integer then each element of the stream is a 1-D array whose length is **dimension**. For example:\n",
    "\n",
    "*u = StreamArray(name='pressure', dimension=2, dtype=float)*\n",
    "\n",
    "makes *u* a stream array called pressure. Think of *u* as an array with an unbounded number of rows where each row of *u* is an array consisting of 2 floats.\n"
   ]
  },
  {
   "cell_type": "markdown",
   "id": "0200ced2",
   "metadata": {},
   "source": [
    "## StreamArray where dimension is a tuple or list\n",
    "\n",
    "**dimension** can be a tuple or list. Each element of the tuple must be a positive integer. Think of the stream array as having an unbounded number of rows where each row is an N-dimensional array where N is the length of the tuple. The lengths of the N-dimensional array are given by the tuple. For example, \n",
    "\n",
    "*v = StreamArray(dimension=(3,4), dtype=int)*\n",
    "\n",
    "makes *v* a stream array where each row of *v* is a 3 x 4 array of integers."
   ]
  },
  {
   "cell_type": "markdown",
   "id": "05492bfa",
   "metadata": {},
   "source": [
    "## Appending an element to a StreamArray\n",
    "\n",
    "Next, let's look at examples of appending an element to a stream array for the cases where the **dimension** parameter is 0, a positive integer, and a tuple."
   ]
  },
  {
   "cell_type": "markdown",
   "id": "83a0f8d4",
   "metadata": {},
   "source": [
    "## Example: Default dimension of 0"
   ]
  },
  {
   "cell_type": "code",
   "execution_count": 10,
   "id": "ff72b9d5",
   "metadata": {},
   "outputs": [
    {
     "name": "stdout",
     "output_type": "stream",
     "text": [
      "t is : [1.]\n",
      "t is : [1. 2.]\n"
     ]
    }
   ],
   "source": [
    "import numpy as np\n",
    "from IoTPy.core.stream import StreamArray\n",
    "\n",
    "def example():\n",
    "    t = StreamArray()\n",
    "    t.append(np.array(1.0))\n",
    "    \n",
    "    # run a step and print\n",
    "    run()\n",
    "    print (\"t is :\", recent_values(t))\n",
    "    \n",
    "    t.append(np.array(2.0))\n",
    "    \n",
    "    # run a step and print\n",
    "    run()\n",
    "    print (\"t is :\", recent_values(t))\n",
    "\n",
    "\n",
    "example()"
   ]
  },
  {
   "cell_type": "markdown",
   "id": "6640c6c2",
   "metadata": {},
   "source": [
    "## Example: Dimension is a positive integer\n",
    "### StreamArray of int"
   ]
  },
  {
   "cell_type": "code",
   "execution_count": 11,
   "id": "78d092aa",
   "metadata": {},
   "outputs": [
    {
     "name": "stdout",
     "output_type": "stream",
     "text": [
      "s is :\n",
      "[[0 0 0]]\n",
      "s is :\n",
      "[[0 0 0]\n",
      " [1 2 3]]\n"
     ]
    }
   ],
   "source": [
    "def example():\n",
    "    s = StreamArray(name='temperatures', dimension=3, dtype=int)\n",
    "    \n",
    "    s.append(np.zeros(3, dtype=int))\n",
    "    \n",
    "    # run a step and print\n",
    "    run()\n",
    "    print (\"s is :\")\n",
    "    print (recent_values(s))\n",
    "    \n",
    "    s.append(np.array([1, 2, 3]))\n",
    "    \n",
    "    # run a step and print\n",
    "    run()\n",
    "    print (\"s is :\")\n",
    "    print (recent_values(s))\n",
    "\n",
    "example()"
   ]
  },
  {
   "cell_type": "markdown",
   "id": "cb4fcf69",
   "metadata": {},
   "source": [
    "## Example: Dimension is a positive integer\n",
    "### StreamArray of float"
   ]
  },
  {
   "cell_type": "code",
   "execution_count": 12,
   "id": "72d8f8dd",
   "metadata": {},
   "outputs": [
    {
     "name": "stdout",
     "output_type": "stream",
     "text": [
      "u is :\n",
      "[[0. 0. 0.]]\n",
      "u is :\n",
      "[[0. 0. 0.]\n",
      " [1. 2. 3.]]\n"
     ]
    }
   ],
   "source": [
    "def example():\n",
    "    u = StreamArray(name='pressure', dimension=3, dtype=float)\n",
    "    \n",
    "    u.append(np.array([0.0, 0.0, 0.0]))\n",
    "    \n",
    "    # run a step and print\n",
    "    run()\n",
    "    print (\"u is :\")\n",
    "    print (recent_values(u))\n",
    "    \n",
    "    u.append(np.array([1.0, 2.0, 3.0]))\n",
    "    \n",
    "    # run a step and print\n",
    "    run()\n",
    "    print (\"u is :\")\n",
    "    print (recent_values(u))\n",
    "\n",
    "example()"
   ]
  },
  {
   "cell_type": "markdown",
   "id": "f5acfd00",
   "metadata": {},
   "source": [
    "## Example: Dimension is a tuple"
   ]
  },
  {
   "cell_type": "markdown",
   "id": "8d6acc55",
   "metadata": {},
   "source": [
    "def example():\n",
    "    v = StreamArray(name=\"prices\", dimension=(3,4), dtype=int)\n",
    "    \n",
    "    v.append(np.array([\n",
    "        [0, 1, 2, 3],\n",
    "        [4, 5, 6, 7],\n",
    "        [8, 9, 10, 11]]))\n",
    "    \n",
    "    # run a step and print\n",
    "    run()\n",
    "    print (\"v is :\")\n",
    "    print (recent_values(v))\n",
    "    \n",
    "    v.append(np.array([\n",
    "        [12, 13, 14, 15],\n",
    "        [16, 17, 18, 19],\n",
    "        [20, 21, 22, 23]]))\n",
    "    \n",
    "    # run a step and print\n",
    "    run()\n",
    "    print (\"v is :\")\n",
    "    print (recent_values(v))\n",
    "\n",
    "example()"
   ]
  },
  {
   "cell_type": "markdown",
   "id": "63a83e6b",
   "metadata": {},
   "source": [
    "# Extending StreamArray\n",
    "\n",
    "You can extend a **StreamArray** by an array consisting of multiple rows where the dimensions of rows of the array and the **StreamArray** are identical."
   ]
  },
  {
   "cell_type": "markdown",
   "id": "9970865a",
   "metadata": {},
   "source": [
    "## Example: Extend a StreamArray of float"
   ]
  },
  {
   "cell_type": "code",
   "execution_count": 13,
   "id": "e72af7df",
   "metadata": {},
   "outputs": [
    {
     "name": "stdout",
     "output_type": "stream",
     "text": [
      "t is : [1. 2.]\n",
      "t is : [1. 2. 3. 4.]\n"
     ]
    }
   ],
   "source": [
    "def example():\n",
    "    t = StreamArray()\n",
    "    t.extend(np.array([1.0, 2.0]))\n",
    "    \n",
    "    # run a step and print\n",
    "    run()\n",
    "    print (\"t is :\", recent_values(t))\n",
    "    \n",
    "    t.extend(np.array([3.0, 4.0]))\n",
    "    \n",
    "    # run a step and print\n",
    "    run()\n",
    "    print (\"t is :\", recent_values(t))\n",
    "\n",
    "\n",
    "example()"
   ]
  },
  {
   "cell_type": "markdown",
   "id": "51c0ac52",
   "metadata": {},
   "source": [
    "## Example: Extend StreamArray when dimension is a positive integer\n",
    "### StreamArray of int"
   ]
  },
  {
   "cell_type": "code",
   "execution_count": 14,
   "id": "0f26fb28",
   "metadata": {},
   "outputs": [
    {
     "name": "stdout",
     "output_type": "stream",
     "text": [
      "s is :\n",
      "[[0 1 2]\n",
      " [3 4 5]]\n",
      "s is :\n",
      "[[ 0  1  2]\n",
      " [ 3  4  5]\n",
      " [ 6  7  8]\n",
      " [ 9 10 11]]\n"
     ]
    }
   ],
   "source": [
    "def example():\n",
    "    s = StreamArray(name='temperatures', dimension=3, dtype=int)\n",
    "    \n",
    "    s.extend(np.array(\n",
    "        [[0, 1, 2],\n",
    "        [3, 4, 5]]\n",
    "    ))\n",
    "    \n",
    "    # run a step and print\n",
    "    run()\n",
    "    print (\"s is :\")\n",
    "    print (recent_values(s))\n",
    "    \n",
    "    s.extend(np.array(\n",
    "        [[6, 7, 8],\n",
    "        [9, 10, 11]]\n",
    "    ))\n",
    "    \n",
    "    # run a step and print\n",
    "    run()\n",
    "    print (\"s is :\")\n",
    "    print (recent_values(s))\n",
    "             \n",
    "example()\n",
    "\n"
   ]
  },
  {
   "cell_type": "markdown",
   "id": "2a42ce17",
   "metadata": {},
   "source": [
    "## Example: Extend StreamArray where dimension is a tuple"
   ]
  },
  {
   "cell_type": "code",
   "execution_count": 15,
   "id": "4da83e40",
   "metadata": {},
   "outputs": [
    {
     "name": "stdout",
     "output_type": "stream",
     "text": [
      "v is :\n",
      "[[[12 13 14 15]\n",
      "  [16 17 18 19]\n",
      "  [20 21 22 23]]\n",
      "\n",
      " [[24 25 26 27]\n",
      "  [28 29 30 31]\n",
      "  [32 33 34 35]]]\n",
      "v is :\n",
      "[[[12 13 14 15]\n",
      "  [16 17 18 19]\n",
      "  [20 21 22 23]]\n",
      "\n",
      " [[24 25 26 27]\n",
      "  [28 29 30 31]\n",
      "  [32 33 34 35]]\n",
      "\n",
      " [[12 13 14 15]\n",
      "  [16 17 18 19]\n",
      "  [20 21 22 23]]]\n"
     ]
    }
   ],
   "source": [
    "def example():\n",
    "    v = StreamArray(name=\"prices\", dimension=(3,4), dtype=int)\n",
    "    \n",
    "    v.extend(np.array([\n",
    "        [[12, 13, 14, 15],[16, 17, 18, 19], [20, 21, 22, 23]],\n",
    "        [[24, 25, 26, 27], [28, 29, 30, 31], [32, 33, 34, 35]]]))\n",
    "    \n",
    "    # run a step and print\n",
    "    run()\n",
    "    print (\"v is :\")\n",
    "    print (recent_values(v))\n",
    "    \n",
    "    v.append(np.array([\n",
    "        [12, 13, 14, 15],\n",
    "        [16, 17, 18, 19],\n",
    "        [20, 21, 22, 23]]))\n",
    "    \n",
    "    # run a step and print\n",
    "    run()\n",
    "    print (\"v is :\")\n",
    "    print (recent_values(v))\n",
    "\n",
    "example()"
   ]
  },
  {
   "cell_type": "markdown",
   "id": "d7997c07",
   "metadata": {},
   "source": [
    "# StreamArray with user-defined types\n",
    "\n",
    "\n",
    "An example of a user-defined type is:\n",
    "\n",
    "*txyz_dtype = np.dtype([('time','int'), ('data', '3float')])*\n",
    "\n",
    "An example of an object, *c*, of this type is created by:\n",
    "\n",
    "*c = np.array((1, [0.0, 1.0, 2.0]), dtype=txyz_dtype)*\n",
    "\n",
    "Then, *c[‘time’]* has type *np.array(1)*, and *c['data']* has type *np.array([ 0.,  1.,  2.]*"
   ]
  },
  {
   "cell_type": "markdown",
   "id": "d6a672bf",
   "metadata": {},
   "source": [
    "## Creating a StreamArray with user-defined types\n",
    "\n",
    "*y = StreamArray(dimension=0, dtype=txyz_dtype)*\n",
    "\n",
    "creates a stream array, *y*, whose elements are of type *txyz_dtype*. Think of *y* as an array with an arbitrary number of rows where each row is an array of type *txyz_dtype*.\n",
    "\n",
    "### Examples of appending and extending a StreamArray with user-defined types"
   ]
  },
  {
   "cell_type": "code",
   "execution_count": 16,
   "id": "2c47608a",
   "metadata": {},
   "outputs": [
    {
     "name": "stdout",
     "output_type": "stream",
     "text": [
      "y is :\n",
      "[(1, [0., 1., 2.])]\n",
      "y is :\n",
      "[(1, [0., 1., 2.]) (2, [3., 4., 5.]) (3, [6., 7., 8.])]\n"
     ]
    }
   ],
   "source": [
    "def example():\n",
    "    \n",
    "    txyz_dtype = np.dtype([('time','int'), ('data', '3float')])\n",
    "    \n",
    "    y = StreamArray(dimension=0, dtype=txyz_dtype)\n",
    "    \n",
    "    y.append(\n",
    "        np.array((1, [0.0, 1.0, 2.0]), dtype=txyz_dtype)\n",
    "    )\n",
    "    \n",
    "    # run a step and print\n",
    "    run()\n",
    "    print (\"y is :\")\n",
    "    print (recent_values(y))\n",
    "    \n",
    "    y.extend(\n",
    "        np.array([\n",
    "            (2, [3., 4., 5.]), \n",
    "            (3, [6., 7., 8.])], \n",
    "            dtype=txyz_dtype)\n",
    "    )\n",
    "    \n",
    "    # run a step and print\n",
    "    run()\n",
    "    print (\"y is :\")\n",
    "    print (recent_values(y))\n",
    "\n",
    "example()"
   ]
  },
  {
   "cell_type": "markdown",
   "id": "eb1041ac",
   "metadata": {},
   "source": [
    "## Example: Operators on StreamArrays\n",
    "\n",
    "Operations such as + and * can be carried out on **StreamArrays** of the same dimensions."
   ]
  },
  {
   "cell_type": "code",
   "execution_count": 17,
   "id": "acab5bc2",
   "metadata": {},
   "outputs": [
    {
     "name": "stdout",
     "output_type": "stream",
     "text": [
      "t is : [1. 2.]\n",
      "u is : [10. 20.]\n",
      "v is : [10. 40.]\n",
      "t is : [1. 2. 3. 4.]\n",
      "u is : [10. 20. 30. 40.]\n",
      "v is : [ 10.  40.  90. 160.]\n"
     ]
    }
   ],
   "source": [
    "def example():\n",
    "    t = StreamArray()\n",
    "    u = StreamArray()\n",
    "    v = t*u\n",
    "    \n",
    "    t.extend(np.array([1.0, 2.0]))\n",
    "    u.extend(np.array([10.0, 20.0]))\n",
    "    \n",
    "    \n",
    "    # run a step and print\n",
    "    run()\n",
    "    print (\"t is :\", recent_values(t))\n",
    "    print (\"u is :\", recent_values(u))\n",
    "    print (\"v is :\", recent_values(v))\n",
    "    \n",
    "    \n",
    "    t.extend(np.array([3.0, 4.0]))\n",
    "    u.extend(np.array([30.0, 40.0]))\n",
    "    \n",
    "    # run a step and print\n",
    "    run()\n",
    "    print (\"t is :\", recent_values(t))\n",
    "    print (\"u is :\", recent_values(u))\n",
    "    print (\"v is :\", recent_values(v))\n",
    "\n",
    "\n",
    "example()"
   ]
  },
  {
   "cell_type": "code",
   "execution_count": null,
   "id": "a0088c7c",
   "metadata": {},
   "outputs": [],
   "source": []
  }
 ],
 "metadata": {
  "kernelspec": {
   "display_name": "Python 3 (ipykernel)",
   "language": "python",
   "name": "python3"
  },
  "language_info": {
   "codemirror_mode": {
    "name": "ipython",
    "version": 3
   },
   "file_extension": ".py",
   "mimetype": "text/x-python",
   "name": "python",
   "nbconvert_exporter": "python",
   "pygments_lexer": "ipython3",
   "version": "3.10.2"
  }
 },
 "nbformat": 4,
 "nbformat_minor": 5
}

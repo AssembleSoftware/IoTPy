{
 "cells": [
  {
   "cell_type": "code",
   "execution_count": 1,
   "id": "5c3b664f",
   "metadata": {},
   "outputs": [],
   "source": [
    "import os\n",
    "import sys\n",
    "sys.path.append(\"../..\")"
   ]
  },
  {
   "cell_type": "code",
   "execution_count": 9,
   "id": "524208ba",
   "metadata": {},
   "outputs": [
    {
     "ename": "ImportError",
     "evalue": "cannot import name 'IoTPy' from 'IoTPy' (/Users/manichandy/Documents/AssembleSoftware/IoTPy/examples/../IoTPy/__init__.py)",
     "output_type": "error",
     "traceback": [
      "\u001b[0;31m---------------------------------------------------------------------------\u001b[0m",
      "\u001b[0;31mImportError\u001b[0m                               Traceback (most recent call last)",
      "Input \u001b[0;32mIn [9]\u001b[0m, in \u001b[0;36m<module>\u001b[0;34m\u001b[0m\n\u001b[0;32m----> 1\u001b[0m \u001b[38;5;28;01mfrom\u001b[39;00m \u001b[38;5;21;01mIoTPy\u001b[39;00m \u001b[38;5;28;01mimport\u001b[39;00m IoTPy\n",
      "\u001b[0;31mImportError\u001b[0m: cannot import name 'IoTPy' from 'IoTPy' (/Users/manichandy/Documents/AssembleSoftware/IoTPy/examples/../IoTPy/__init__.py)"
     ]
    }
   ],
   "source": [
    "from IoTPy import IoTPy"
   ]
  },
  {
   "cell_type": "code",
   "execution_count": null,
   "id": "5d699646",
   "metadata": {},
   "outputs": [],
   "source": []
  }
 ],
 "metadata": {
  "kernelspec": {
   "display_name": "Python 3 (ipykernel)",
   "language": "python",
   "name": "python3"
  },
  "language_info": {
   "codemirror_mode": {
    "name": "ipython",
    "version": 3
   },
   "file_extension": ".py",
   "mimetype": "text/x-python",
   "name": "python",
   "nbconvert_exporter": "python",
   "pygments_lexer": "ipython3",
   "version": "3.10.2"
  }
 },
 "nbformat": 4,
 "nbformat_minor": 5
}

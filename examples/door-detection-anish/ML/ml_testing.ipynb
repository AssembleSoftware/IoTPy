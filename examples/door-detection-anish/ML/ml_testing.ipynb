{
 "cells": [
  {
   "cell_type": "code",
   "execution_count": 4,
   "id": "0d3fdf27-3bc7-414f-949f-0e569c234a26",
   "metadata": {},
   "outputs": [],
   "source": [
    "import numpy as np\n",
    "import os\n",
    "import pickle\n",
    "from sktime.classification.distance_based import KNeighborsTimeSeriesClassifier\n",
    "from sklearn.utils import shuffle\n",
    "from sktime.transformations.panel.compose import ColumnConcatenator\n",
    "from sktime.classification.compose import ColumnEnsembleClassifier\n",
    "from sklearn.metrics import mean_squared_error\n",
    "from sklearn.model_selection import LeaveOneOut"
   ]
  },
  {
   "cell_type": "code",
   "execution_count": null,
   "id": "70275c08-732d-4b4e-abe5-fe8c1b93e2a1",
   "metadata": {},
   "outputs": [],
   "source": [
    "# TODO: Try LOO CV"
   ]
  },
  {
   "cell_type": "code",
   "execution_count": 7,
   "id": "46f791d8-0958-4fa8-9fc9-66c71beab46d",
   "metadata": {},
   "outputs": [],
   "source": [
    "anish = []\n",
    "directory = './data_live/data/anish'\n",
    "for filename in os.listdir(directory):\n",
    "    f = os.path.join(directory, filename)\n",
    "    # checking if it is a file\n",
    "    if os.path.isfile(f):\n",
    "        anish.append(np.load(f))"
   ]
  },
  {
   "cell_type": "code",
   "execution_count": 8,
   "id": "49989698-1b56-4d17-a8cd-ded74ed83cfc",
   "metadata": {},
   "outputs": [],
   "source": [
    "kevin = []\n",
    "directory = './data_live/data/kevin'\n",
    "for filename in os.listdir(directory):\n",
    "    f = os.path.join(directory, filename)\n",
    "    # checking if it is a file\n",
    "    if os.path.isfile(f):\n",
    "        kevin.append(np.load(f))"
   ]
  },
  {
   "cell_type": "code",
   "execution_count": 9,
   "id": "7c17fa7a-34d1-47c8-9b49-4617c2eb63de",
   "metadata": {},
   "outputs": [],
   "source": [
    "anish = np.array(anish)\n",
    "kevin = np.array(kevin)"
   ]
  },
  {
   "cell_type": "code",
   "execution_count": 10,
   "id": "d9fc22a5-59e9-4108-aab4-58bc561d8998",
   "metadata": {},
   "outputs": [
    {
     "data": {
      "text/plain": [
       "(21, 500, 12)"
      ]
     },
     "execution_count": 10,
     "metadata": {},
     "output_type": "execute_result"
    }
   ],
   "source": [
    "anish.shape"
   ]
  },
  {
   "cell_type": "code",
   "execution_count": 11,
   "id": "fa228959-c8b1-4f13-ab70-058a5190912b",
   "metadata": {},
   "outputs": [
    {
     "data": {
      "text/plain": [
       "(14, 500, 12)"
      ]
     },
     "execution_count": 11,
     "metadata": {},
     "output_type": "execute_result"
    }
   ],
   "source": [
    "kevin.shape"
   ]
  },
  {
   "cell_type": "code",
   "execution_count": null,
   "id": "e1520987-1f4c-4e64-b6e1-16c9309afa10",
   "metadata": {},
   "outputs": [],
   "source": [
    "# First 21 is anish, next 14 are kevin\n",
    "X = np.concatenate((np.array(anish), np.array(kevin)))\n",
    "y = np.array([1,1,1,1,1,1,1,1,1,1,1,1,1,1,1,1,1,1,1,1,1,0,0,0,0,0,0,0,0,0,0,0,0,0,0])\n",
    "X, y = shuffle(X, y)\n",
    "print(X.shape)\n",
    "print(y.shape)"
   ]
  },
  {
   "cell_type": "code",
   "execution_count": null,
   "id": "1fd4dfb3-3f73-4e55-860d-61afaa2212b8",
   "metadata": {},
   "outputs": [],
   "source": [
    "loo = LeaveOneOut()\n",
    "loo.get_n_splits(X)"
   ]
  },
  {
   "cell_type": "code",
   "execution_count": null,
   "id": "a85644bb-f966-4a6b-803c-e9f737f676f5",
   "metadata": {},
   "outputs": [],
   "source": [
    "# Two ways to deal with multivariate: concatenate or ensemble. \n",
    "# Conclusion: concatenator scores slightly higher, but is much slower\n",
    "\n",
    "knn = KNeighborsTimeSeriesClassifier(distance=\"dtw\", n_neighbors=3)\n",
    "# knn = TimeSeriesForestClassifier(n_estimators=2)\n",
    "X_con = ColumnConcatenator().fit_transform(X)\n",
    "\n",
    "scores = []\n",
    "for train_index, test_index in loo.split(X_con):\n",
    "    print(\"TRAIN:\", train_index, \"TEST:\", test_index)\n",
    "    X_train, X_test = X_con[train_index], X_con[test_index]\n",
    "    y_train, y_test = y[train_index], y[test_index]\n",
    "    \n",
    "    knn.fit(X_train, y_train)\n",
    "    y_pred = knn.predict(X_test)[0]\n",
    "    scores.append(y_pred == y_test)"
   ]
  },
  {
   "cell_type": "code",
   "execution_count": null,
   "id": "4cdfa8d9-f31b-4623-abe0-4d4feb9a17cf",
   "metadata": {},
   "outputs": [],
   "source": [
    "print(np.mean(scores))"
   ]
  },
  {
   "cell_type": "code",
   "execution_count": null,
   "id": "eb5b0b80-9506-465b-8e45-80be10556f39",
   "metadata": {},
   "outputs": [],
   "source": [
    "# clf = KNeighborsTimeSeriesClassifier(distance=\"dtw\", n_neighbors=2)\n",
    "estimators = [(f\"knn_{i}\", KNeighborsTimeSeriesClassifier(distance=\"dtw\", n_neighbors=2), i) for i in range(12)]\n",
    "col_ens = ColumnEnsembleClassifier(estimators=estimators)\n",
    "\n",
    "scores = []\n",
    "for train_index, test_index in loo.split(X):\n",
    "    print(\"TRAIN:\", train_index, \"TEST:\", test_index)\n",
    "    X_train, X_test = X[train_index], X[test_index]\n",
    "    y_train, y_test = y[train_index], y[test_index]\n",
    "    \n",
    "    col_ens.fit(X_train, y_train)\n",
    "    y_pred = col_ens.predict(X_test)\n",
    "    # print(y_pred[0], y_test[0])\n",
    "    scores.append(y_pred[0] == y_test[0])"
   ]
  },
  {
   "cell_type": "code",
   "execution_count": null,
   "id": "880ae7db-6c9c-4969-9284-9f7a0da12784",
   "metadata": {},
   "outputs": [],
   "source": [
    "print(np.mean(scores))"
   ]
  },
  {
   "cell_type": "code",
   "execution_count": null,
   "id": "14f1c2c3-fa57-4d8e-8857-c9033da35465",
   "metadata": {},
   "outputs": [],
   "source": [
    "from sktime.classification.interval_based import TimeSeriesForestClassifier\n",
    "\n",
    "clf = TimeSeriesForestClassifier(n_estimators=10)\n",
    "estimators = [(f\"tsf_{i}\", clf, i) for i in range(12)]\n",
    "col_ens = ColumnEnsembleClassifier(estimators=estimators)\n",
    "\n",
    "scores = []\n",
    "for train_index, test_index in loo.split(X):\n",
    "    print(\"TRAIN:\", train_index, \"TEST:\", test_index)\n",
    "    X_train, X_test = X[train_index], X[test_index]\n",
    "    y_train, y_test = y[train_index], y[test_index]\n",
    "    \n",
    "    col_ens.fit(X_train, y_train)\n",
    "    y_pred = col_ens.predict(X_test)[0]\n",
    "    scores.append(y_pred == y_test)"
   ]
  },
  {
   "cell_type": "code",
   "execution_count": null,
   "id": "0043207c-814e-44a8-a23a-15f7edfb1380",
   "metadata": {},
   "outputs": [],
   "source": [
    "print(np.mean(scores))"
   ]
  },
  {
   "cell_type": "code",
   "execution_count": null,
   "id": "e991cd59-f9b2-4978-a6b9-d111ae45f51b",
   "metadata": {},
   "outputs": [],
   "source": [
    "# Save model\n",
    "estimators = [(f\"knn_{i}\", KNeighborsTimeSeriesClassifier(distance=\"dtw\", n_neighbors=2), i) for i in range(12)]\n",
    "col_ens = ColumnEnsembleClassifier(estimators=estimators)\n",
    "\n",
    "# Sanity check, predict on entire set\n",
    "col_ens.fit(X, y)\n",
    "y_pred = col_ens.predict(X)\n",
    "print(y_pred.shape)\n",
    "sum(y_pred == y)/35"
   ]
  },
  {
   "cell_type": "code",
   "execution_count": null,
   "id": "69247fde-517d-4ff4-9728-17b994d00945",
   "metadata": {},
   "outputs": [],
   "source": [
    "# save\n",
    "with open('model.pkl','wb') as f:\n",
    "    pickle.dump(col_ens, f)"
   ]
  },
  {
   "cell_type": "code",
   "execution_count": 5,
   "id": "b7c1a9ba-31eb-4b02-9ca6-e6af1b12a895",
   "metadata": {},
   "outputs": [],
   "source": [
    "# load\n",
    "with open('model.pkl', 'rb') as f:\n",
    "    clf2 = pickle.load(f)"
   ]
  },
  {
   "cell_type": "code",
   "execution_count": 16,
   "id": "adc4e5d7-61bd-4c2d-9418-964b515422cf",
   "metadata": {},
   "outputs": [
    {
     "data": {
      "text/plain": [
       "(500, 12)"
      ]
     },
     "execution_count": 16,
     "metadata": {},
     "output_type": "execute_result"
    }
   ],
   "source": [
    "anish[0].shape"
   ]
  },
  {
   "cell_type": "code",
   "execution_count": 26,
   "id": "15d5e024-d93c-4fc2-92b2-d7d284ba4552",
   "metadata": {},
   "outputs": [
    {
     "data": {
      "text/plain": [
       "array([1])"
      ]
     },
     "execution_count": 26,
     "metadata": {},
     "output_type": "execute_result"
    }
   ],
   "source": [
    "clf2.predict(np.expand_dims(anish[0], 0))"
   ]
  },
  {
   "cell_type": "code",
   "execution_count": null,
   "id": "b6443799-c86d-45c7-8d72-95c03f5ea479",
   "metadata": {},
   "outputs": [],
   "source": []
  }
 ],
 "metadata": {
  "kernelspec": {
   "display_name": "Python 3 (ipykernel)",
   "language": "python",
   "name": "python3"
  },
  "language_info": {
   "codemirror_mode": {
    "name": "ipython",
    "version": 3
   },
   "file_extension": ".py",
   "mimetype": "text/x-python",
   "name": "python",
   "nbconvert_exporter": "python",
   "pygments_lexer": "ipython3",
   "version": "3.9.7"
  }
 },
 "nbformat": 4,
 "nbformat_minor": 5
}
